{
 "cells": [
  {
   "cell_type": "markdown",
   "metadata": {},
   "source": [
    "\n",
    "1. **Project and App Setup**:\n",
    "   - Creating a new Django project and apps\n",
    "   - Project settings and configurations\n",
    "   - Application structure and organization\n",
    "\n",
    "2. **Models and Databases**:\n",
    "   - Model fields and types\n",
    "   - Database migrations and schema changes\n",
    "   - Relationships (OneToOne, ForeignKey, ManyToMany)\n",
    "   - Model inheritance\n",
    "   - Model methods and properties\n",
    "\n",
    "3. **Querysets and Managers**:\n",
    "   - Querying the database using the ORM\n",
    "   - Filtering, ordering, and limiting data\n",
    "   - Aggregation and annotation\n",
    "   - Custom model managers\n",
    "\n",
    "4. **Views and Templates**:\n",
    "   - Creating views and mapping URLs\n",
    "   - Class-based views vs. function-based views\n",
    "   - Template rendering and context\n",
    "   - Template tags and filters\n",
    "\n",
    "5. **Forms and Validation**:\n",
    "   - Building and handling HTML forms\n",
    "   - Form fields and widgets\n",
    "   - Form validation and error handling\n",
    "   - Model forms and formsets\n",
    "\n",
    "6. **Authentication and Authorization**:\n",
    "   - User authentication and registration\n",
    "   - Login and logout views\n",
    "   - User permissions and groups\n",
    "   - Custom authentication backends\n",
    "\n",
    "7. **Admin Interface**:\n",
    "   - Customizing the admin panel\n",
    "   - Model admin classes\n",
    "   - Inline models in admin\n",
    "   - Admin actions and filters\n",
    "\n",
    "8. **URLs and Routing**:\n",
    "   - URL patterns and regular expressions\n",
    "   - Path converters and named groups\n",
    "   - URL reversing and namespaces\n",
    "   - URL namespaces and includes\n",
    "\n",
    "9. **Middleware and Signals**:\n",
    "   - Creating custom middleware\n",
    "   - Middleware order and usage\n",
    "   - Using built-in middleware\n",
    "   - Django signals and event handling\n",
    "\n",
    "10. **Static and Media Files**:\n",
    "    - Serving static assets (CSS, JS, images)\n",
    "    - Configuring static and media URLs\n",
    "    - Handling file uploads and storage\n",
    "\n",
    "11. **Internationalization and Localization**:\n",
    "    - Translating text and formatting dates/numbers\n",
    "    - Managing translation catalogs\n",
    "    - Locale and timezone settings\n",
    "\n",
    "12. **Caching**:\n",
    "    - Caching data and views\n",
    "    - Cache backends and settings\n",
    "    - Using the cache API\n",
    "\n",
    "13. **Testing and Debugging**:\n",
    "    - Writing unit tests and test cases\n",
    "    - Debugging techniques and tools\n",
    "    - Django Debug Toolbar\n",
    "\n",
    "14. **RESTful APIs**:\n",
    "    - Building APIs using Django REST framework\n",
    "    - Serializers and viewsets\n",
    "    - Authentication and permissions\n",
    "\n",
    "15. **Asynchronous Programming**:\n",
    "    - Asynchronous views and tasks\n",
    "    - Using channels for real-time communication\n",
    "    - Integrating with async libraries\n",
    "\n",
    "16. **Deployment and Hosting**:\n",
    "    - Deploying Django applications to servers\n",
    "    - Web server configurations (e.g., Apache, Nginx)\n",
    "    - Hosting options and considerations\n",
    "\n",
    "17. **Security**:\n",
    "    - Protecting against common security vulnerabilities\n",
    "    - Cross-Site Scripting (XSS) and Cross-Site Request Forgery (CSRF) protection\n",
    "    - Authentication mechanisms and best practices\n",
    "\n",
    "18. **Background Tasks**:\n",
    "    - Handling asynchronous tasks using Celery\n",
    "    - Periodic tasks and scheduling\n",
    "\n",
    "19. **Custom Management Commands**:\n",
    "    - Writing custom scripts using Django's management command framework\n",
    "    - Automating tasks using the command line\n",
    "\n",
    "20. **Third-Party Libraries**:\n",
    "    - Integration with third-party packages (e.g., Django REST framework, Celery, Django Channels)\n",
    "    - Using and extending third-party functionality\n",
    "\n",
    "21. **Performance Optimization**:\n",
    "    - Database optimization techniques\n",
    "    - Caching strategies for improved performance\n",
    "    - Profiling and identifying bottlenecks\n",
    "\n",
    "Remember that Django's official documentation and community resources are invaluable for diving deeper into these topics."
   ]
  },
  {
   "cell_type": "markdown",
   "metadata": {},
   "source": [
    "# Project and App Setup"
   ]
  },
  {
   "cell_type": "raw",
   "metadata": {},
   "source": [
    "**1. Creating a New Django Project and Apps**\n",
    "    **How to Create a New Django Project**\\\n",
    "    A Django project is a collection of configurations and applications for a web application. To create a project:\\\n",
    "    **Create a Project:**\n",
    "        Use the django-admin startproject command.   \n",
    "    **Project Structure**: After creating the project, the structure will look like this:\n",
    "    myproject/\n",
    "        manage.py\n",
    "        myproject/\n",
    "            __init__.py\n",
    "            settings.py\n",
    "            urls.py\n",
    "            asgi.py\n",
    "            wsgi.py\n",
    "**manage.py:** A command-line utility to interact with the project.\n",
    "**settings.py:** The file to configure project settings.\n",
    "**urls.py:** The URL configuration file.\n",
    "**wsgi.py and asgi.py**: Interface files for deployment."
   ]
  },
  {
   "cell_type": "markdown",
   "metadata": {},
   "source": [
    "**Creating a New App**\n",
    "\n",
    "An app is a module within a project that handles specific functionality.\n",
    "\n",
    "**Command to Create an App:**\n",
    "\n",
    "python manage.py startapp app_name\n"
   ]
  },
  {
   "cell_type": "raw",
   "metadata": {},
   "source": [
    "App Structure: After creating an app, the structure will look like this:\n",
    "\n",
    "blog/\n",
    "    migrations/\n",
    "        __init__.py\n",
    "    __init__.py\n",
    "    admin.py\n",
    "    apps.py\n",
    "    models.py\n",
    "    tests.py\n",
    "    views.py\n",
    "\n",
    "models.py: Defines the database structure.\n",
    "views.py: Contains the logic for handling requests.\n",
    "admin.py: Customizes the admin panel for the app.\n",
    "apps.py: Configuration for the app.\n",
    "migrations/: Tracks database changes"
   ]
  },
  {
   "cell_type": "raw",
   "metadata": {},
   "source": [
    "Registering the App\n",
    "INSTALLED_APPS = [\n",
    "    'django.contrib.admin',\n",
    "    'django.contrib.auth',\n",
    "    ...\n",
    "    'blog',  # Add your app here\n",
    "]\n"
   ]
  },
  {
   "cell_type": "markdown",
   "metadata": {},
   "source": [
    "**2. Project Settings and Configurations**\n",
    "\n",
    "Key Settings in settings.py\n"
   ]
  },
  {
   "cell_type": "markdown",
   "metadata": {},
   "source": [
    "DEBUG:\n",
    "Determines whether debugging mode is on.\\\n",
    "ALLOWED_HOSTS:\n",
    "List of domains that can access the app.\\\n",
    "INSTALLED_APPS:\n",
    "Includes built-in apps and user-created apps.\\\n",
    "Database Configuration:\n",
    "Default database is SQLite. To use PostgreSQL, MySQL, etc.,\\\n",
    "Static and Media Files:\n",
    "Configure paths for static (CSS, JS) and media (uploaded) files:\\\n",
    "Middleware:\n",
    "Handles requests and responses.\\"
   ]
  },
  {
   "cell_type": "markdown",
   "metadata": {},
   "source": [
    "# Models and Databases in Django\n"
   ]
  },
  {
   "cell_type": "markdown",
   "metadata": {},
   "source": [
    "Django's ORM (Object-Relational Mapping) makes it easier to work with databases by defining data models in Python and automatically handling database operations."
   ]
  },
  {
   "cell_type": "markdown",
   "metadata": {},
   "source": [
    "**1. Model Fields and Types**\\\n",
    "Django provides a variety of field types to define model attributes, which correspond to database columns."
   ]
  },
  {
   "cell_type": "raw",
   "metadata": {},
   "source": [
    "Common Field Types\n",
    "\n",
    "CharField: Fixed-length strings. Requires max_length.\n",
    "Example: name = models.CharField(max_length=100)\n",
    "TextField: For large texts.\n",
    "Example: description = models.TextField()\n",
    "Numeric Fields:\n",
    "\n",
    "IntegerField: Stores integers.\n",
    "Example: quantity = models.IntegerField()\n",
    "DecimalField: Stores precise decimal values.\n",
    "Example: price = models.DecimalField(max_digits=10, decimal_places=2)\n",
    "FloatField: For floating-point numbers.\n",
    "Example: rating = models.FloatField()\n",
    "Date and Time Fields:\n",
    "\n",
    "DateField: Stores dates.\n",
    "Example: birth_date = models.DateField()\n",
    "DateTimeField: Stores timestamps.\n",
    "Example: created_at = models.DateTimeField(auto_now_add=True)\n",
    "Boolean and Choice Fields:\n",
    "\n",
    "BooleanField: Stores True/False.\n",
    "Example: is_active = models.BooleanField(default=True)\n",
    "ChoiceField: Stores predefined choices.\n",
    "Example:\n",
    "status = models.CharField(\n",
    "    max_length=10,\n",
    "    choices=[('PENDING', 'Pending'), ('DONE', 'Done')]\n",
    ")\n"
   ]
  },
  {
   "cell_type": "markdown",
   "metadata": {},
   "source": [
    "**2. Database Migrations and Schema Changes**\\\n",
    "**What are Migrations?**\\\n",
    "Migrations are Django's way of propagating model changes (e.g., adding fields, altering types) to the database schema.\\\n",
    "\n",
    "Create Migration Files:\\\n",
    "python manage.py makemigrations\n",
    "\n",
    "Apply Migrations:\\\n",
    "python manage.py migrate\n"
   ]
  },
  {
   "cell_type": "markdown",
   "metadata": {},
   "source": [
    "**3. Relationships (OneToOne, ForeignKey, ManyToMany)**\\\n",
    "**One-to-One Relationship**\\\n",
    "Used when one instance of a model must be related to one instance of another model.\n",
    "\n"
   ]
  },
  {
   "cell_type": "raw",
   "metadata": {},
   "source": [
    "Bidirectional Access:\n",
    "\n",
    "profile = UserProfile.objects.get(user=user)\n",
    "user = profile.user\n",
    "\n",
    "user.userprofile\n",
    "\n",
    "\n",
    "Access related objects\n",
    "print(profile.user.username)  # Output: johndoe\n",
    "print(user.userprofile.bio)   # Output: Hello, world!"
   ]
  },
  {
   "cell_type": "raw",
   "metadata": {},
   "source": [
    "class User(AbstractUser):\n",
    "    name = models.CharField(max_length=100)\n",
    "\n",
    "class Profile(User):\n",
    "    user = models.OneToOneField('User' on_delete=models.CASCADE)\n",
    "    bio = models.TextField()\n"
   ]
  },
  {
   "cell_type": "markdown",
   "metadata": {},
   "source": [
    "**ForeignKey (One-to-Many Relationship)**\n",
    "Used when one model relates to multiple instances of another.\n",
    "\n"
   ]
  },
  {
   "cell_type": "raw",
   "metadata": {},
   "source": [
    "class Book(models.Model):\n",
    "    title = models.CharField(max_length=200)\n",
    "    author = models.ForeignKey('Author', on_delete=models.CASCADE)\n",
    "    \n",
    "# Each Book has one Author, but an Author can have multiple Books.\n"
   ]
  },
  {
   "cell_type": "markdown",
   "metadata": {},
   "source": [
    "**Many-to-Many Relationship**\n",
    "Used when multiple instances of a model relate to multiple instances of another model.\n"
   ]
  },
  {
   "cell_type": "raw",
   "metadata": {},
   "source": [
    "\n",
    "class Student(models.Model):\n",
    "    name = models.CharField(max_length=100)\n",
    "\n",
    "class Course(models.Model):\n",
    "    title = models.CharField(max_length=100)\n",
    "    students = models.ManyToManyField(Student)\n",
    "\n",
    "#A Student can enroll in multiple Courses, and a Course can have multiple Students.\n"
   ]
  },
  {
   "cell_type": "code",
   "execution_count": null,
   "metadata": {},
   "outputs": [],
   "source": []
  }
 ],
 "metadata": {
  "kernelspec": {
   "display_name": "Python 3",
   "language": "python",
   "name": "python3"
  },
  "language_info": {
   "codemirror_mode": {
    "name": "ipython",
    "version": 3
   },
   "file_extension": ".py",
   "mimetype": "text/x-python",
   "name": "python",
   "nbconvert_exporter": "python",
   "pygments_lexer": "ipython3",
   "version": "3.8.10"
  }
 },
 "nbformat": 4,
 "nbformat_minor": 5
}
