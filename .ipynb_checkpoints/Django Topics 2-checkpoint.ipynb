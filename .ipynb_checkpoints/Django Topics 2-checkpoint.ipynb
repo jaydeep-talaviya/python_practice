{
 "cells": [
  {
   "cell_type": "markdown",
   "metadata": {},
   "source": [
    "\n",
    "1. **Project and App Setup**:\n",
    "   - Creating a new Django project and apps\n",
    "   - Project settings and configurations\n",
    "   - Application structure and organization\n",
    "\n",
    "2. **Models and Databases**:\n",
    "   - Model fields and types\n",
    "   - Database migrations and schema changes\n",
    "   - Relationships (OneToOne, ForeignKey, ManyToMany)\n",
    "   - Model inheritance\n",
    "   - Model methods and properties\n",
    "\n",
    "3. **Querysets and Managers**:\n",
    "   - Querying the database using the ORM\n",
    "   - Filtering, ordering, and limiting data\n",
    "   - Aggregation and annotation\n",
    "   - Custom model managers\n",
    "\n",
    "4. **Views and Templates**:\n",
    "   - Creating views and mapping URLs\n",
    "   - Class-based views vs. function-based views\n",
    "   - Template rendering and context\n",
    "   - Template tags and filters\n",
    "\n",
    "5. **Forms and Validation**:\n",
    "   - Building and handling HTML forms\n",
    "   - Form fields and widgets\n",
    "   - Form validation and error handling\n",
    "   - Model forms and formsets\n",
    "\n",
    "6. **Authentication and Authorization**:\n",
    "   - User authentication and registration\n",
    "   - Login and logout views\n",
    "   - User permissions and groups\n",
    "   - Custom authentication backends\n",
    "\n",
    "7. **Admin Interface**:\n",
    "   - Customizing the admin panel\n",
    "   - Model admin classes\n",
    "   - Inline models in admin\n",
    "   - Admin actions and filters\n",
    "\n",
    "8. **URLs and Routing**:\n",
    "   - URL patterns and regular expressions\n",
    "   - Path converters and named groups\n",
    "   - URL reversing and namespaces\n",
    "   - URL namespaces and includes\n",
    "\n",
    "9. **Middleware and Signals**:\n",
    "   - Creating custom middleware\n",
    "   - Middleware order and usage\n",
    "   - Using built-in middleware\n",
    "   - Django signals and event handling\n",
    "\n",
    "10. **Static and Media Files**:\n",
    "    - Serving static assets (CSS, JS, images)\n",
    "    - Configuring static and media URLs\n",
    "    - Handling file uploads and storage\n",
    "\n",
    "11. **Internationalization and Localization**:\n",
    "    - Translating text and formatting dates/numbers\n",
    "    - Managing translation catalogs\n",
    "    - Locale and timezone settings\n",
    "\n",
    "12. **Caching**:\n",
    "    - Caching data and views\n",
    "    - Cache backends and settings\n",
    "    - Using the cache API\n",
    "\n",
    "13. **Testing and Debugging**:\n",
    "    - Writing unit tests and test cases\n",
    "    - Debugging techniques and tools\n",
    "    - Django Debug Toolbar\n",
    "\n",
    "14. **RESTful APIs**:\n",
    "    - Building APIs using Django REST framework\n",
    "    - Serializers and viewsets\n",
    "    - Authentication and permissions\n",
    "\n",
    "15. **Asynchronous Programming**:\n",
    "    - Asynchronous views and tasks\n",
    "    - Using channels for real-time communication\n",
    "    - Integrating with async libraries\n",
    "\n",
    "16. **Deployment and Hosting**:\n",
    "    - Deploying Django applications to servers\n",
    "    - Web server configurations (e.g., Apache, Nginx)\n",
    "    - Hosting options and considerations\n",
    "\n",
    "17. **Security**:\n",
    "    - Protecting against common security vulnerabilities\n",
    "    - Cross-Site Scripting (XSS) and Cross-Site Request Forgery (CSRF) protection\n",
    "    - Authentication mechanisms and best practices\n",
    "\n",
    "18. **Background Tasks**:\n",
    "    - Handling asynchronous tasks using Celery\n",
    "    - Periodic tasks and scheduling\n",
    "\n",
    "19. **Custom Management Commands**:\n",
    "    - Writing custom scripts using Django's management command framework\n",
    "    - Automating tasks using the command line\n",
    "\n",
    "20. **Third-Party Libraries**:\n",
    "    - Integration with third-party packages (e.g., Django REST framework, Celery, Django Channels)\n",
    "    - Using and extending third-party functionality\n",
    "\n",
    "21. **Performance Optimization**:\n",
    "    - Database optimization techniques\n",
    "    - Caching strategies for improved performance\n",
    "    - Profiling and identifying bottlenecks\n",
    "\n",
    "Remember that Django's official documentation and community resources are invaluable for diving deeper into these topics."
   ]
  },
  {
   "cell_type": "markdown",
   "metadata": {},
   "source": [
    "# Project and App Setup"
   ]
  },
  {
   "cell_type": "raw",
   "metadata": {},
   "source": [
    "**1. Creating a New Django Project and Apps**\n",
    "    **How to Create a New Django Project**\\\n",
    "    A Django project is a collection of configurations and applications for a web application. To create a project:\\\n",
    "    **Create a Project:**\n",
    "        Use the django-admin startproject command.   \n",
    "    **Project Structure**: After creating the project, the structure will look like this:\n",
    "    myproject/\n",
    "        manage.py\n",
    "        myproject/\n",
    "            __init__.py\n",
    "            settings.py\n",
    "            urls.py\n",
    "            asgi.py\n",
    "            wsgi.py\n",
    "**manage.py:** A command-line utility to interact with the project.\n",
    "**settings.py:** The file to configure project settings.\n",
    "**urls.py:** The URL configuration file.\n",
    "**wsgi.py and asgi.py**: Interface files for deployment."
   ]
  },
  {
   "cell_type": "markdown",
   "metadata": {},
   "source": [
    "**Creating a New App**\n",
    "\n",
    "An app is a module within a project that handles specific functionality.\n",
    "\n",
    "**Command to Create an App:**\n",
    "\n",
    "python manage.py startapp app_name\n"
   ]
  },
  {
   "cell_type": "raw",
   "metadata": {},
   "source": [
    "App Structure: After creating an app, the structure will look like this:\n",
    "\n",
    "blog/\n",
    "    migrations/\n",
    "        __init__.py\n",
    "    __init__.py\n",
    "    admin.py\n",
    "    apps.py\n",
    "    models.py\n",
    "    tests.py\n",
    "    views.py\n",
    "\n",
    "models.py: Defines the database structure.\n",
    "views.py: Contains the logic for handling requests.\n",
    "admin.py: Customizes the admin panel for the app.\n",
    "apps.py: Configuration for the app.\n",
    "migrations/: Tracks database changes"
   ]
  },
  {
   "cell_type": "raw",
   "metadata": {},
   "source": [
    "Registering the App\n",
    "INSTALLED_APPS = [\n",
    "    'django.contrib.admin',\n",
    "    'django.contrib.auth',\n",
    "    ...\n",
    "    'blog',  # Add your app here\n",
    "]\n"
   ]
  },
  {
   "cell_type": "markdown",
   "metadata": {},
   "source": [
    "**2. Project Settings and Configurations**\n",
    "\n",
    "Key Settings in settings.py\n"
   ]
  },
  {
   "cell_type": "markdown",
   "metadata": {},
   "source": [
    "DEBUG:\n",
    "Determines whether debugging mode is on.\\\n",
    "ALLOWED_HOSTS:\n",
    "List of domains that can access the app.\\\n",
    "INSTALLED_APPS:\n",
    "Includes built-in apps and user-created apps.\\\n",
    "Database Configuration:\n",
    "Default database is SQLite. To use PostgreSQL, MySQL, etc.,\\\n",
    "Static and Media Files:\n",
    "Configure paths for static (CSS, JS) and media (uploaded) files:\\\n",
    "Middleware:\n",
    "Handles requests and responses.\\"
   ]
  },
  {
   "cell_type": "markdown",
   "metadata": {},
   "source": [
    "# Models and Databases in Django\n"
   ]
  },
  {
   "cell_type": "markdown",
   "metadata": {},
   "source": [
    "Django's ORM (Object-Relational Mapping) makes it easier to work with databases by defining data models in Python and automatically handling database operations."
   ]
  },
  {
   "cell_type": "markdown",
   "metadata": {},
   "source": [
    "**1. Model Fields and Types**\\\n",
    "Django provides a variety of field types to define model attributes, which correspond to database columns."
   ]
  },
  {
   "cell_type": "raw",
   "metadata": {},
   "source": [
    "Common Field Types\n",
    "\n",
    "CharField: Fixed-length strings. Requires max_length.\n",
    "Example: name = models.CharField(max_length=100)\n",
    "TextField: For large texts.\n",
    "Example: description = models.TextField()\n",
    "Numeric Fields:\n",
    "\n",
    "IntegerField: Stores integers.\n",
    "Example: quantity = models.IntegerField()\n",
    "DecimalField: Stores precise decimal values.\n",
    "Example: price = models.DecimalField(max_digits=10, decimal_places=2)\n",
    "FloatField: For floating-point numbers.\n",
    "Example: rating = models.FloatField()\n",
    "Date and Time Fields:\n",
    "\n",
    "DateField: Stores dates.\n",
    "Example: birth_date = models.DateField()\n",
    "DateTimeField: Stores timestamps.\n",
    "Example: created_at = models.DateTimeField(auto_now_add=True)\n",
    "Boolean and Choice Fields:\n",
    "\n",
    "BooleanField: Stores True/False.\n",
    "Example: is_active = models.BooleanField(default=True)\n",
    "ChoiceField: Stores predefined choices.\n",
    "Example:\n",
    "status = models.CharField(\n",
    "    max_length=10,\n",
    "    choices=[('PENDING', 'Pending'), ('DONE', 'Done')]\n",
    ")\n"
   ]
  },
  {
   "cell_type": "markdown",
   "metadata": {},
   "source": [
    "**2. Database Migrations and Schema Changes**\\\n",
    "**What are Migrations?**\\\n",
    "Migrations are Django's way of propagating model changes (e.g., adding fields, altering types) to the database schema.\\\n",
    "\n",
    "Create Migration Files:\\\n",
    "python manage.py makemigrations\n",
    "\n",
    "Apply Migrations:\\\n",
    "python manage.py migrate\n"
   ]
  },
  {
   "cell_type": "markdown",
   "metadata": {},
   "source": [
    "**3. Relationships (OneToOne, ForeignKey, ManyToMany)**\\\n",
    "**One-to-One Relationship**\\\n",
    "Used when one instance of a model must be related to one instance of another model.\n",
    "\n"
   ]
  },
  {
   "cell_type": "raw",
   "metadata": {},
   "source": [
    "Bidirectional Access:\n",
    "\n",
    "profile = UserProfile.objects.get(user=user)\n",
    "user = profile.user\n",
    "\n",
    "user.userprofile\n",
    "\n",
    "\n",
    "Access related objects\n",
    "print(profile.user.username)  # Output: johndoe\n",
    "print(user.userprofile.bio)   # Output: Hello, world!"
   ]
  },
  {
   "cell_type": "raw",
   "metadata": {},
   "source": [
    "class User(AbstractUser):\n",
    "    name = models.CharField(max_length=100)\n",
    "\n",
    "class Profile(User):\n",
    "    user = models.OneToOneField('User' on_delete=models.CASCADE)\n",
    "    bio = models.TextField()\n"
   ]
  },
  {
   "cell_type": "markdown",
   "metadata": {},
   "source": [
    "**Forward Access:**\n",
    "\n",
    "Access the related model directly:\n",
    "\n",
    "profile = UserProfile.objects.get(user=user)\n",
    "\n",
    "**Reverse Access:**\n",
    "Access the related model in reverse:\n",
    "\n",
    "user = profile.user\n",
    "\n",
    "**Joining in Queries:**\n",
    "\n",
    "Use select_related for efficient lookups:\n",
    "\n",
    "profiles = UserProfile.objects.select_related('user').all()"
   ]
  },
  {
   "cell_type": "code",
   "execution_count": null,
   "metadata": {},
   "outputs": [],
   "source": []
  },
  {
   "cell_type": "markdown",
   "metadata": {},
   "source": [
    "**ForeignKey (One-to-Many Relationship)**\n",
    "Used when one model relates to multiple instances of another.\n",
    "\n"
   ]
  },
  {
   "cell_type": "raw",
   "metadata": {},
   "source": [
    "class Book(models.Model):\n",
    "    title = models.CharField(max_length=200)\n",
    "    author = models.ForeignKey('Author', on_delete=models.CASCADE)\n",
    "    \n",
    "# Each Book has one Author, but an Author can have multiple Books.\n"
   ]
  },
  {
   "cell_type": "markdown",
   "metadata": {},
   "source": [
    "**Many-to-Many Relationship**\n",
    "Used when multiple instances of a model relate to multiple instances of another model.\n"
   ]
  },
  {
   "cell_type": "raw",
   "metadata": {},
   "source": [
    "\n",
    "class Student(models.Model):\n",
    "    name = models.CharField(max_length=100)\n",
    "\n",
    "class Course(models.Model):\n",
    "    title = models.CharField(max_length=100)\n",
    "    students = models.ManyToManyField(Student)\n",
    "\n",
    "#A Student can enroll in multiple Courses, and a Course can have multiple Students.\n"
   ]
  },
  {
   "cell_type": "markdown",
   "metadata": {},
   "source": [
    "**select related vs prefetched related**\n",
    "\n",
    "**select_related**: when the object that you're going to be selecting is a single object, so OneToOneField or a ForeignKey\n",
    "\n",
    "can reduce multiple SELECT queries to only 1 SELECT query with Forward Foreign Key and Reverse Foreign Key in one-to-one relationship and with Forward Foreign Key in one-to-many and many-to-many relationships.\n",
    "\n",
    "cannot be used with Reverse Foreign Key in one-to-many and many-to-many relationships.\n",
    "\n",
    "\n",
    "\n",
    "**prefetch_related**: when you're going to get a \"set\" of things, so ManyToManyFields as you stated or reverse ForeignKeys.\n",
    "\n",
    "can reduce multiple SELECT queries to 2 SELECT queries as a minimum with Forward Foreign Key and Reverse Foreign Key in one-to-one, one-to-many and many-to-many relationships.\n"
   ]
  },
  {
   "cell_type": "raw",
   "metadata": {},
   "source": [
    "class ModelA(models.Model):\n",
    "    pass\n",
    "\n",
    "class ModelB(models.Model):\n",
    "    a = ForeignKey(ModelA)\n",
    "\n",
    "# Forward ForeignKey relationship\n",
    "ModelB.objects.select_related('a').all()\n",
    "\n",
    "# Reverse ForeignKey relationship\n",
    "ModelA.objects.prefetch_related('modelb_set').all() \n",
    "\n",
    "You may use prefetch_related for anything that you can use select_related for.\n",
    "\n"
   ]
  },
  {
   "cell_type": "markdown",
   "metadata": {},
   "source": [
    "# Model Inheritance in Django\n",
    "**1. Abstract Base Classes**\n",
    "**2. Multi-Table Inheritance**\n",
    "**3. Proxy Models**\n",
    "\n"
   ]
  },
  {
   "cell_type": "markdown",
   "metadata": {},
   "source": [
    "**1. Abstract Base Classes**\n",
    "\n",
    "Abstract base classes allow you to define common fields and methods in a parent class. The parent class itself does not create a table in the database, but its fields and methods are inherited by its child classes."
   ]
  },
  {
   "cell_type": "raw",
   "metadata": {},
   "source": [
    "class CommonInfo(models.Model):\n",
    "    created_at = models.DateTimeField(auto_now_add=True)\n",
    "    updated_at = models.DateTimeField(auto_now=True)\n",
    "\n",
    "    class Meta:\n",
    "        abstract = True\n",
    "\n",
    "class Article(CommonInfo):\n",
    "    title = models.CharField(max_length=100)\n",
    "    content = models.TextField()\n",
    "\n",
    "class Comment(CommonInfo):\n",
    "    article = models.ForeignKey(Article, on_delete=models.CASCADE)\n",
    "    text = models.TextField()\n"
   ]
  },
  {
   "cell_type": "markdown",
   "metadata": {},
   "source": [
    "When to Use:\n",
    "    \n",
    "When you want to share fields and methods between models without creating a table for the parent class."
   ]
  },
  {
   "cell_type": "markdown",
   "metadata": {},
   "source": [
    "**2. Multi-Table Inheritance**\n",
    "\n",
    "With multi-table inheritance, both the parent and child classes create separate tables. A one-to-one relationship is established between them."
   ]
  },
  {
   "cell_type": "raw",
   "metadata": {},
   "source": [
    "class Person(models.Model):\n",
    "    name = models.CharField(max_length=100)\n",
    "    age = models.IntegerField()\n",
    "\n",
    "class Employee(Person):\n",
    "    job_title = models.CharField(max_length=100)\n",
    "    salary = models.DecimalField(max_digits=10, decimal_places=2)\n",
    "\n",
    "\n",
    "employee = Employee.objects.get(id=1)\n",
    "print(employee.name)  # Retrieves name from the Person table"
   ]
  },
  {
   "cell_type": "markdown",
   "metadata": {},
   "source": [
    "When you want each class to have its own table but maintain a one-to-one link."
   ]
  },
  {
   "cell_type": "markdown",
   "metadata": {},
   "source": [
    "**3. Proxy Models**\n",
    "\n",
    "Proxy models don’t add new fields or create new tables. Instead, they change the behavior (e.g., default ordering) of an existing model."
   ]
  },
  {
   "cell_type": "raw",
   "metadata": {},
   "source": [
    "class Person(models.Model):\n",
    "    name = models.CharField(max_length=100)\n",
    "    age = models.IntegerField()\n",
    "\n",
    "class Adult(Person):\n",
    "    class Meta:\n",
    "        proxy = True\n",
    "\n",
    "    def is_adult(self):\n",
    "        return self.age >= 18\n"
   ]
  },
  {
   "cell_type": "markdown",
   "metadata": {},
   "source": [
    "When you want to add custom methods or modify behavior without altering the schema."
   ]
  },
  {
   "cell_type": "markdown",
   "metadata": {},
   "source": [
    "# Model Methods and Properties\n",
    "\n",
    "**Instance Methods**\n",
    "\n",
    "Instance methods operate on individual model instances. These methods often encapsulate business logic.\n",
    "\n"
   ]
  },
  {
   "cell_type": "raw",
   "metadata": {},
   "source": [
    "class Product(models.Model):\n",
    "    name = models.CharField(max_length=100)\n",
    "    price = models.DecimalField(max_digits=10, decimal_places=2)\n",
    "\n",
    "    def discounted_price(self, discount_rate):\n",
    "        return self.price * (1 - discount_rate)\n",
    "\n",
    "product = Product.objects.get(id=1)\n",
    "print(product.discounted_price(0.1))  # 10% discount\n"
   ]
  },
  {
   "cell_type": "markdown",
   "metadata": {},
   "source": [
    "Keeps logic related to the model within the model.\n",
    "\n",
    "Makes the code easier to read and maintain."
   ]
  },
  {
   "cell_type": "markdown",
   "metadata": {},
   "source": [
    "**Class Methods**\n",
    "\n",
    "Class methods are used for operations that apply to the entire model class rather than individual instances."
   ]
  },
  {
   "cell_type": "raw",
   "metadata": {},
   "source": [
    "class Product(models.Model):\n",
    "    name = models.CharField(max_length=100)\n",
    "\n",
    "    @classmethod\n",
    "    def total_products(cls):\n",
    "        return cls.objects.count()\n",
    "\n",
    "total = Product.total_products()\n",
    "print(f\"Total products: {total}\")\n",
    "\n"
   ]
  },
  {
   "cell_type": "markdown",
   "metadata": {},
   "source": [
    "Useful for aggregate or utility operations.\n"
   ]
  },
  {
   "cell_type": "markdown",
   "metadata": {},
   "source": [
    "**Static Methods**\n",
    "\n",
    "Static methods don't operate on instances or the class directly. They provide utility functions related to the model.\n",
    "\n"
   ]
  },
  {
   "cell_type": "raw",
   "metadata": {},
   "source": [
    "class Product(models.Model):\n",
    "    name = models.CharField(max_length=100)\n",
    "\n",
    "    @staticmethod\n",
    "    def format_currency(amount):\n",
    "        return f\"${amount:.2f}\"\n",
    "\n",
    "formatted_price = Product.format_currency(49.99)\n",
    "print(formatted_price)  # $49.99\n"
   ]
  },
  {
   "cell_type": "markdown",
   "metadata": {},
   "source": [
    "**Properties**\n",
    "\n",
    "Properties let you define dynamic fields that are computed based on other fields. They are accessed like attributes."
   ]
  },
  {
   "cell_type": "raw",
   "metadata": {},
   "source": [
    "class Product(models.Model):\n",
    "    name = models.CharField(max_length=100)\n",
    "    price = models.DecimalField(max_digits=10, decimal_places=2)\n",
    "    discount_rate = models.FloatField()\n",
    "\n",
    "    @property\n",
    "    def discounted_price(self):\n",
    "        return self.price * (1 - self.discount_rate)\n",
    "\n",
    "product = Product.objects.get(id=1)\n",
    "print(product.discounted_price)  # Access like a field\n"
   ]
  },
  {
   "cell_type": "markdown",
   "metadata": {},
   "source": [
    "Cleaner syntax compared to defining methods.\n",
    "\n",
    "Read-only by default, avoiding unintended changes."
   ]
  },
  {
   "cell_type": "markdown",
   "metadata": {},
   "source": [
    "# Querysets and Managers in Django\n",
    "\n",
    "Django's ORM provides a high-level interface to interact with the database through QuerySets. QuerySets are used to retrieve, filter, and manipulate data, while managers are interfaces to create and control QuerySets."
   ]
  },
  {
   "cell_type": "markdown",
   "metadata": {},
   "source": [
    "**1. Querying the Database Using the ORM**\n",
    "\n",
    "QuerySets represent collections of objects retrieved from the database. They are lazy, meaning no query is executed until the data is evaluated.\n",
    "\n"
   ]
  },
  {
   "cell_type": "raw",
   "metadata": {},
   "source": [
    "Examples of Querying the Database:\n",
    "\n",
    "Retrieving All Objects:\n",
    "\n",
    "from myapp.models import Product\n",
    "products = Product.objects.all()\n",
    "\n",
    "\n",
    "Retrieving a Single Object:\n",
    "\n",
    "product = Product.objects.get(id=1)\n",
    "\n",
    "\n",
    "Checking for Existence:\n",
    "\n",
    "exists = Product.objects.filter(name=\"Laptop\").exists()\n",
    "\n",
    "\n",
    "Retrieving Specific Fields:\n",
    "\n",
    "product_names = Product.objects.values('name')\n"
   ]
  },
  {
   "cell_type": "markdown",
   "metadata": {},
   "source": [
    "**2. Filtering, Ordering, and Limiting Data**\n"
   ]
  },
  {
   "cell_type": "raw",
   "metadata": {},
   "source": [
    "\n",
    "Filtering Data:\n",
    "Use .filter() or .exclude() to refine QuerySets.\n",
    "\n",
    "\n",
    "# Filter products with price greater than 100\n",
    "expensive_products = Product.objects.filter(price__gt=100)\n",
    "\n",
    "# Exclude products named 'Tablet'\n",
    "non_tablet_products = Product.objects.exclude(name=\"Tablet\")\n",
    "Field Lookups (used in .filter() and .exclude()):\n",
    "\n",
    "__gt, __lt, __gte, __lte → Greater than, less than, etc.\n",
    "__icontains → Case-insensitive substring match.\n",
    "__isnull → Check for NULL values.\n",
    "Ordering Data:\n",
    "Use .order_by() to sort results.\n",
    "\n",
    "\n",
    "# Order by price ascending\n",
    "products = Product.objects.order_by('price')\n",
    "\n",
    "# Order by price descending\n",
    "products = Product.objects.order_by('-price')\n",
    "Limiting Results:\n",
    "Use slicing to limit results.\n",
    "\n",
    "\n",
    "# Get the first 5 products\n",
    "top_5_products = Product.objects.all()[:5]\n"
   ]
  },
  {
   "cell_type": "markdown",
   "metadata": {},
   "source": [
    "**3. Aggregation and Annotation**\n"
   ]
  },
  {
   "cell_type": "raw",
   "metadata": {},
   "source": [
    "Aggregation:\n",
    "Aggregation is used to calculate summary values like counts, sums, and averages.\n",
    "\n",
    "\n",
    "from django.db.models import Avg, Count, Max, Min\n",
    "\n",
    "# Calculate average price\n",
    "average_price = Product.objects.aggregate(Avg('price'))\n",
    "\n",
    "# Count the number of products\n",
    "product_count = Product.objects.aggregate(Count('id'))\n",
    "\n",
    "\n",
    "\n",
    "Annotation:\n",
    "Annotation adds computed values to each object in the QuerySet.\n",
    "\n",
    "from django.db.models import F, Sum\n",
    "\n",
    "# Annotate each product with the total revenue (price * quantity_sold)\n",
    "products = Product.objects.annotate(total_revenue=F('price') * F('quantity_sold'))\n",
    "\n",
    "# Aggregate sum of revenue for all products\n",
    "total_revenue = products.aggregate(Sum('total_revenue'))\n"
   ]
  },
  {
   "cell_type": "markdown",
   "metadata": {},
   "source": [
    "**aggregate()**: This method performs aggregation over the entire queryset and returns a dictionary with the aggregated values. It's used when you want to compute a summary value for the entire dataset.\n",
    "\n",
    "When to Use aggregate()\\\n",
    "Use aggregate() when you want to perform calculations on the entire dataset and return a single result, such as calculating the total number of records, the average value of a field, or the sum of a column.\n",
    "\n",
    "\n",
    "**annotate()**: This method adds a new field to each record in the queryset based on an aggregate function. It's useful when you need to include aggregated data at the individual record level in your query results.\n",
    "\n",
    "When to Use annotate()\\\n",
    "Use annotate() when you need to perform calculations for each individual record and include those calculations as part of the queryset results. This is useful for adding calculated fields to each record based on related data.\n"
   ]
  },
  {
   "cell_type": "markdown",
   "metadata": {},
   "source": [
    "**4. Custom Model Managers**\n",
    "Managers are interfaces through which Django models interact with the database. By default, every model has a manager called objects. You can create custom managers to define reusable query logic."
   ]
  },
  {
   "cell_type": "raw",
   "metadata": {},
   "source": [
    "class ActiveProductManager(models.Manager):\n",
    "    def get_queryset(self):\n",
    "        return super().get_queryset().filter(is_active=True)\n",
    "\n",
    "class Product(models.Model):\n",
    "    name = models.CharField(max_length=100)\n",
    "    price = models.DecimalField(max_digits=10, decimal_places=2)\n",
    "    is_active = models.BooleanField(default=True)\n",
    "\n",
    "    # Add the custom manager\n",
    "    objects = models.Manager()  # Default manager\n",
    "    active_objects = ActiveProductManager()  # Custom manager\n",
    "\n",
    "# Use the custom manager to get only active products\n",
    "active_products = Product.active_objects.all()\n"
   ]
  },
  {
   "cell_type": "markdown",
   "metadata": {},
   "source": [
    "**Adding Methods to Managers:**\n",
    "    \n",
    "Custom managers can have additional methods for complex queries."
   ]
  },
  {
   "cell_type": "raw",
   "metadata": {},
   "source": [
    "class ProductManager(models.Manager):\n",
    "    def expensive_products(self):\n",
    "        return self.filter(price__gt=100)\n",
    "\n",
    "class Product(models.Model):\n",
    "    name = models.CharField(max_length=100)\n",
    "    price = models.DecimalField(max_digits=10, decimal_places=2)\n",
    "\n",
    "    objects = ProductManager()\n",
    "\n",
    "expensive_products = Product.objects.expensive_products()\n"
   ]
  },
  {
   "cell_type": "markdown",
   "metadata": {},
   "source": [
    "# Views and Templates in Django\n",
    "\n",
    "Django's views handle the logic for processing requests and returning responses, while templates define how the content is presented to the user."
   ]
  },
  {
   "cell_type": "markdown",
   "metadata": {},
   "source": [
    "**1. Creating Views and Mapping URLs**\n",
    "\n",
    "**Function-Based Views (FBVs):**\n",
    "    \n",
    "FBVs are Python functions that take a request object and return a response.\n"
   ]
  },
  {
   "cell_type": "raw",
   "metadata": {},
   "source": [
    "from django.http import HttpResponse\n",
    "\n",
    "def home(request):\n",
    "    return HttpResponse(\"Welcome to the Home Page!\")\n"
   ]
  },
  {
   "cell_type": "raw",
   "metadata": {},
   "source": [
    "# urls.py\n",
    "from django.urls import path\n",
    "from .views import home\n",
    "\n",
    "urlpatterns = [\n",
    "    path('', home, name='home'),\n",
    "]\n"
   ]
  },
  {
   "cell_type": "markdown",
   "metadata": {},
   "source": [
    "**Class-Based Views (CBVs):**\n",
    "\n",
    "CBVs are Python classes that provide a more modular way to define views by using Django's built-in generic classes"
   ]
  },
  {
   "cell_type": "raw",
   "metadata": {},
   "source": [
    "# views.py\n",
    "from django.views import View\n",
    "from django.http import HttpResponse\n",
    "\n",
    "class HomeView(View):\n",
    "    def get(self, request):\n",
    "        return HttpResponse(\"Welcome to the Home Page!\")"
   ]
  },
  {
   "cell_type": "markdown",
   "metadata": {},
   "source": [
    "**3. Template Rendering and Context**\n",
    "\n",
    "Django uses templates to separate business logic from presentation. Templates are rendered using the render() function."
   ]
  },
  {
   "cell_type": "raw",
   "metadata": {},
   "source": [
    "# views.py\n",
    "from django.shortcuts import render\n",
    "\n",
    "def home(request):\n",
    "    context = {'title': 'Home', 'message': 'Welcome to Django!'}\n",
    "    return render(request, 'home.html', context)\n",
    "\n",
    "\n",
    "<!DOCTYPE html>\n",
    "<html>\n",
    "<head>\n",
    "    <title>{{ title }}</title>\n",
    "</head>\n",
    "<body>\n",
    "    <h1>{{ message }}</h1>\n",
    "</body>\n",
    "</html>\n"
   ]
  },
  {
   "cell_type": "markdown",
   "metadata": {},
   "source": [
    "**4. Template Tags and Filters**\n",
    "\n",
    "Template Tags:\n",
    "Special syntax used in templates to add dynamic content or control logic.\n",
    "\n",
    "Common Template Tags:\n",
    "\n",
    "{% for %}: Loop through items.\\\n",
    "{% if %}: Conditional rendering.\\\n",
    "{% block %}: Define template blocks for extending templates.\\\n",
    "{% include %}: Include another template."
   ]
  },
  {
   "cell_type": "raw",
   "metadata": {},
   "source": [
    "{% if user.is_authenticated %}\n",
    "    <p>Welcome, {{ user.username }}!</p>\n",
    "{% else %}\n",
    "    <p>Welcome, Guest!</p>\n",
    "{% endif %}\n"
   ]
  },
  {
   "cell_type": "raw",
   "metadata": {},
   "source": [
    "Template Filters:\n",
    "Used to modify or format variables in templates.\n",
    "\n",
    "Common Filters:\n",
    "\n",
    "date: Formats dates.\n",
    "\n",
    "{{ user.date_joined|date:\"F j, Y\" }}\n",
    "\n",
    "length: Returns the length of a list.\n",
    "\n",
    "List contains {{ items|length }} items.\n",
    "\n",
    "lower, upper: Convert strings to lowercase or uppercase.\n",
    "default: Provide a default value if the variable is undefined.\n",
    "\n",
    "    \n",
    "Example:\n",
    "\n",
    "<p>First Name: {{ user.first_name|default:\"Unknown\" }}</p>\n"
   ]
  },
  {
   "cell_type": "markdown",
   "metadata": {},
   "source": [
    "# Types of Custom Template Tags in Django\n"
   ]
  },
  {
   "cell_type": "markdown",
   "metadata": {},
   "source": [
    "**Simple Tags**\n",
    "Simple tags are used to execute a function and return a value directly. They are the easiest to create and are suitable for straightforward use cases.\n",
    "\n"
   ]
  },
  {
   "cell_type": "raw",
   "metadata": {},
   "source": [
    "# templatetags/custom_tags.py\n",
    "from django import template\n",
    "\n",
    "register = template.Library()\n",
    "\n",
    "@register.simple_tag\n",
    "def multiply(a, b):\n",
    "    return a * b\n",
    "\n",
    "\n",
    "Use in Templates:\n",
    "\n",
    "{% load custom_tags %}\n",
    "{% multiply 4 5 %}\n"
   ]
  },
  {
   "cell_type": "markdown",
   "metadata": {},
   "source": [
    "**2. Inclusion Tags**\n",
    "Inclusion tags return an entire HTML snippet or render another template. They are used for more complex scenarios where additional data or logic is required for rendering a part of the page."
   ]
  },
  {
   "cell_type": "raw",
   "metadata": {},
   "source": [
    "# templatetags/custom_tags.py\n",
    "from django import template\n",
    "\n",
    "register = template.Library()\n",
    "\n",
    "@register.inclusion_tag('tags/navbar.html')\n",
    "def render_navbar(user):\n",
    "    return {'user': user}\n",
    "\n",
    "\n",
    " Create a tags/navbar.html file:\n",
    " \n",
    "<nav>\n",
    "    {% if user.is_authenticated %}\n",
    "        <p>Welcome, {{ user.username }}!</p>\n",
    "    {% else %}\n",
    "        <p>Please log in.</p>\n",
    "    {% endif %}\n",
    "</nav>\n"
   ]
  },
  {
   "cell_type": "markdown",
   "metadata": {},
   "source": [
    "**Custom Filter Tags**\n",
    "In addition to template tags, you can create custom filters that act as tags but are designed to modify data."
   ]
  },
  {
   "cell_type": "raw",
   "metadata": {},
   "source": [
    "# templatetags/custom_filters.py\n",
    "from django import template\n",
    "\n",
    "register = template.Library()\n",
    "\n",
    "@register.filter\n",
    "def to_uppercase(value):\n",
    "    return value.upper()\n",
    "\n",
    "{% load custom_filters %}\n",
    "<p>{{ name|to_uppercase }}</p>\n"
   ]
  },
  {
   "cell_type": "markdown",
   "metadata": {},
   "source": [
    "# Forms and Validation in Django\n",
    "\n",
    "Django provides a robust system for creating and validating forms, making it easy to handle user input and ensure data consistency."
   ]
  },
  {
   "cell_type": "markdown",
   "metadata": {},
   "source": [
    "**1. Building and Handling HTML Forms**\n",
    "\n",
    "**Django Form Classes**\n",
    "\n",
    "Django's forms module provides tools to create forms programmatically, which abstract much of the manual work required for HTML forms."
   ]
  },
  {
   "cell_type": "raw",
   "metadata": {},
   "source": [
    "from django import forms\n",
    "\n",
    "class ContactForm(forms.Form):\n",
    "    name = forms.CharField(max_length=100)\n",
    "    email = forms.EmailField()\n",
    "    message = forms.CharField(widget=forms.Textarea)\n",
    "\n",
    "\n",
    "<form method=\"post\">\n",
    "    {% csrf_token %}\n",
    "    {{ form.as_p }}\n",
    "    <button type=\"submit\">Submit</button>\n",
    "</form>\n",
    "\n",
    "\n",
    "from django.shortcuts import render\n",
    "from .forms import ContactForm\n",
    "\n",
    "def contact_view(request):\n",
    "    if request.method == \"POST\":\n",
    "        form = ContactForm(request.POST)\n",
    "        if form.is_valid():\n",
    "            # Process form data\n",
    "            print(form.cleaned_data)\n",
    "    else:\n",
    "        form = ContactForm()\n",
    "    return render(request, 'contact.html', {'form': form})\n"
   ]
  },
  {
   "cell_type": "markdown",
   "metadata": {},
   "source": [
    "**2. Form Fields and Widgets**\n",
    "\n",
    "Form Fields\n",
    "\n",
    "Fields define the type of data a form accepts, like CharField, EmailField, IntegerField, etc. \\\n",
    "Each field can have attributes like required, max_length, and initial.\n",
    "\n",
    "Widget\n",
    "\n",
    "Widgets determine how a field is rendered as HTML. For example, Textarea, Select,"
   ]
  },
  {
   "cell_type": "raw",
   "metadata": {},
   "source": [
    "class CustomForm(forms.Form):\n",
    "    name = forms.CharField(widget=forms.TextInput(attrs={'class': 'form-control'}))\n",
    "    message = forms.CharField(widget=forms.Textarea(attrs={'rows': 5, 'cols': 20}))\n"
   ]
  },
  {
   "cell_type": "markdown",
   "metadata": {},
   "source": [
    "**3. Form Validation and Error Handling**\n",
    "\n",
    "Built-in Validation\n",
    "\n",
    "Django provides built-in validation for fields, such as checking email formats or max/min lengths."
   ]
  },
  {
   "cell_type": "raw",
   "metadata": {},
   "source": [
    "class SignupForm(forms.Form):\n",
    "    email = forms.EmailField()\n",
    "    password = forms.CharField(min_length=8)\n"
   ]
  },
  {
   "cell_type": "markdown",
   "metadata": {},
   "source": [
    "**Custom Validation**\\\n",
    "Custom validation can be added at the field level or form level"
   ]
  },
  {
   "cell_type": "markdown",
   "metadata": {},
   "source": [
    "**Field-Level Validation:**\n"
   ]
  },
  {
   "cell_type": "raw",
   "metadata": {},
   "source": [
    "\n",
    "class ContactForm(forms.Form):\n",
    "    email = forms.EmailField()\n",
    "\n",
    "    def clean_email(self):\n",
    "        email = self.cleaned_data['email']\n",
    "        if not email.endswith('@example.com'):\n",
    "            raise forms.ValidationError(\"Email must end with @example.com\")\n",
    "        return email"
   ]
  },
  {
   "cell_type": "markdown",
   "metadata": {},
   "source": [
    "**Form-Level Validation:**\n"
   ]
  },
  {
   "cell_type": "raw",
   "metadata": {},
   "source": [
    "\n",
    "class SignupForm(forms.Form):\n",
    "    password = forms.CharField(min_length=8)\n",
    "    confirm_password = forms.CharField(min_length=8)\\\n",
    "    \n",
    "\n",
    "    def clean(self):\n",
    "        cleaned_data = super().clean()\n",
    "        password = cleaned_data.get(\"password\")\n",
    "        confirm_password = cleaned_data.get(\"confirm_password\")\n",
    "        if password != confirm_password:\n",
    "            raise forms.ValidationError(\"Passwords do not match\")"
   ]
  },
  {
   "cell_type": "markdown",
   "metadata": {},
   "source": [
    "**Displaying Errors in Templates**\n",
    "\n",
    "Errors are stored in form.errors and can be displayed using:\n"
   ]
  },
  {
   "cell_type": "raw",
   "metadata": {},
   "source": [
    "\n",
    "{% for field in form %}\n",
    "    {% for error in field.errors %}\n",
    "        <p style=\"color: red;\">{{ error }}</p>\n",
    "    {% endfor %}\n",
    "{% endfor %}\n"
   ]
  },
  {
   "cell_type": "markdown",
   "metadata": {},
   "source": [
    "**4. Model Forms and Formsets**\n",
    "\n",
    "**Model Forms**\n",
    "\n",
    "Model forms automatically generate form fields based on a model's fields, reducing boilerplate."
   ]
  },
  {
   "cell_type": "raw",
   "metadata": {},
   "source": [
    "from django import forms\n",
    "from .models import Post\n",
    "\n",
    "class PostForm(forms.ModelForm):\n",
    "    class Meta:\n",
    "        model = Post\n",
    "        fields = ['title', 'content']\n",
    "\n",
    "        \n",
    "def post_view(request):\n",
    "    if request.method == \"POST\":\n",
    "        form = PostForm(request.POST)\n",
    "        if form.is_valid():\n",
    "            form.save()  # Automatically saves the model instance\n",
    "    else:\n",
    "        form = PostForm()\n",
    "    return render(request, 'post.html', {'form': form})\n"
   ]
  },
  {
   "cell_type": "markdown",
   "metadata": {},
   "source": [
    "**Formsets**\n",
    "\n",
    "Formsets allow you to manage multiple forms on a single page.\n",
    "\n"
   ]
  },
  {
   "cell_type": "raw",
   "metadata": {},
   "source": [
    "from django.forms import formset_factory\n",
    "\n",
    "ContactFormSet = formset_factory(ContactForm, extra=2)\n",
    "\n",
    "\n",
    "def formset_view(request):\n",
    "    formset = ContactFormSet(request.POST or None)\n",
    "    if formset.is_valid():\n",
    "        for form in formset:\n",
    "            print(form.cleaned_data)\n",
    "    return render(request, 'formset.html', {'formset': formset})\n",
    "\n",
    "\n",
    "<form method=\"post\">\n",
    "    {% csrf_token %}\n",
    "    {{ formset.management_form }}\n",
    "    {% for form in formset %}\n",
    "        {{ form.as_p }}\n",
    "    {% endfor %}\n",
    "    <button type=\"submit\">Submit</button>\n",
    "</form>\n"
   ]
  },
  {
   "cell_type": "code",
   "execution_count": null,
   "metadata": {},
   "outputs": [],
   "source": []
  },
  {
   "cell_type": "markdown",
   "metadata": {},
   "source": [
    "# Authentication and Authorization"
   ]
  },
  {
   "cell_type": "markdown",
   "metadata": {},
   "source": [
    "**1. Authentication**\n",
    "\n",
    "Authentication is the process of verifying the identity of a user. It ensures that the user is who they claim to be.\n",
    "\n",
    "**2. Authorization**\n",
    "\n",
    "Authorization is the process of determining whether an authenticated user has permission to access a specific resource or perform an action."
   ]
  },
  {
   "cell_type": "markdown",
   "metadata": {},
   "source": [
    "**Key Steps for User Authentication:**\n",
    "\n",
    "**Authenticating a User**\n",
    "\n",
    "Use the authenticate() function to verify credentials.\n",
    "\n",
    "user = authenticate(username='john', password='secret')\n",
    "\n",
    "**Logging a User In**\n",
    "\n",
    "Use the login() function to create a session for the authenticated user.\n",
    "\n",
    "login(request, user)\n",
    "\n",
    "**logout a user**\n",
    "\n",
    "Use the logout() function to terminate the user’s session.\n",
    "\n",
    "logout(request)\n"
   ]
  },
  {
   "cell_type": "markdown",
   "metadata": {},
   "source": [
    "**2. User Registration**\n",
    "\n",
    "Create a Registration Form\\\n",
    "-> Use Django forms to capture user data.\n",
    "\n",
    "Handle User Registration in a View\\\n",
    "-> Process form data and save the new user.\n",
    "\n",
    "Design the Registration Template\\\n",
    "-> Use a simple HTML form to display the fields.\n"
   ]
  },
  {
   "cell_type": "markdown",
   "metadata": {},
   "source": [
    "**3. Built-in Authentication Views**\n",
    "\n",
    "Django also provides pre-built views for common authentication tasks:\\\n",
    "\n",
    "Login: django.contrib.auth.views.LoginView\\\n",
    "Logout: django.contrib.auth.views.LogoutView\\\n",
    "Password Change: django.contrib.auth.views.PasswordChangeView\\\n",
    "Password Reset: django.contrib.auth.views.PasswordResetView"
   ]
  },
  {
   "cell_type": "markdown",
   "metadata": {},
   "source": [
    "# Types of User model"
   ]
  },
  {
   "cell_type": "markdown",
   "metadata": {},
   "source": [
    "**1. Default User Model (django.contrib.auth.models.User)**\n",
    "\n",
    "Includes common fields like username, email, password, first_name, last_name, and user-related functionality like authentication and permissions.\n",
    "\n",
    "**Usage:**\n",
    "Suitable for projects where the default fields and functionality meet requirements."
   ]
  },
  {
   "cell_type": "raw",
   "metadata": {},
   "source": [
    "user = User.objects.create_user(username='john_doe', password='securepass123')\n",
    "user.email = 'john@example.com'\n",
    "user.save()\n"
   ]
  },
  {
   "cell_type": "markdown",
   "metadata": {},
   "source": [
    "**2. Custom User Model (Using AbstractUser)**\n",
    "\n",
    "Extends the default user model by subclassing AbstractUser.\\\n",
    "Retains all fields and functionality of the default user model but allows adding custom fields.\n",
    "\n",
    "**Usage**\\\n",
    "Use when additional fields (e.g., phone_number, profile_picture) are needed.\n"
   ]
  },
  {
   "cell_type": "raw",
   "metadata": {},
   "source": [
    "from django.contrib.auth.models import AbstractUser\n",
    "from django.db import models\n",
    "\n",
    "class CustomUser(AbstractUser):\n",
    "    phone_number = models.CharField(max_length=15, blank=True, null=True)\n",
    "\n",
    "    \n",
    "Set AUTH_USER_MODEL in settings.py:\n",
    "\n",
    "AUTH_USER_MODEL = 'myapp.CustomUser'\n",
    "\n",
    "\n",
    "Use get_user_model() instead of directly importing User:\n",
    "\n",
    "from django.contrib.auth import get_user_model\n",
    "User = get_user_model()\n"
   ]
  },
  {
   "cell_type": "markdown",
   "metadata": {},
   "source": [
    "**3. Fully Custom User Model (Using AbstractBaseUser)**\n",
    "\n",
    "**Description:**\n",
    "Build a user model from scratch by subclassing AbstractBaseUser and PermissionsMixin.\n",
    "Gives complete control over fields and functionality.\n",
    "\n",
    "**Usage:**\n",
    "Use when the default fields or structure do not fit the project’s requirements.\n",
    "For example, creating a system where email is used as the username instead of a username field."
   ]
  },
  {
   "cell_type": "raw",
   "metadata": {},
   "source": [
    "**step 1:**\n",
    "from django.contrib.auth.models import AbstractBaseUser, BaseUserManager, PermissionsMixin\n",
    "from django.db import models\n",
    "\n",
    "class CustomUserManager(BaseUserManager):\n",
    "    def create_user(self, email, password=None, **extra_fields):\n",
    "        if not email:\n",
    "            raise ValueError(\"Email is required\")\n",
    "        email = self.normalize_email(email)\n",
    "        user = self.model(email=email, **extra_fields)\n",
    "        user.set_password(password)\n",
    "        user.save(using=self._db)\n",
    "        return user\n",
    "\n",
    "    def create_superuser(self, email, password=None, **extra_fields):\n",
    "        extra_fields.setdefault('is_staff', True)\n",
    "        extra_fields.setdefault('is_superuser', True)\n",
    "        return self.create_user(email, password, **extra_fields)\n",
    "\n",
    "class CustomUser(AbstractBaseUser, PermissionsMixin):\n",
    "    email = models.EmailField(unique=True)\n",
    "    first_name = models.CharField(max_length=30)\n",
    "    last_name = models.CharField(max_length=30)\n",
    "    is_active = models.BooleanField(default=True)\n",
    "    is_staff = models.BooleanField(default=False)\n",
    "\n",
    "    objects = CustomUserManager()\n",
    "\n",
    "    USERNAME_FIELD = 'email'\n",
    "    REQUIRED_FIELDS = ['first_name', 'last_name']\n",
    "\n",
    "    \n",
    "    \n",
    "**step 2:**\n",
    "AUTH_USER_MODEL = 'myapp.CustomUser'\n",
    "\n",
    "**step 3:**\n",
    "python manage.py makemigrations\n",
    "python manage.py migrate\n"
   ]
  },
  {
   "cell_type": "markdown",
   "metadata": {},
   "source": [
    "# User permissions and groups\n",
    "\n",
    "**Permissions**\n",
    "\n",
    "Permissions are rules that control access to specific actions or resources.\\\n",
    "In Django, permissions are associated with models and can define what a user is allowed to do with a particular model.\n",
    "\n",
    "**Default Permissions**\n",
    "\n",
    "Django automatically creates three permissions for each model:\\\n",
    "\n",
    "Add: Permission to add objects.\\\n",
    "Change: Permission to modify objects.\\\n",
    "Delete: Permission to delete objects.\\\n",
    "(For certain setups) View: Permission to view objects (added if DEFAULT_PERMISSION_CLASSES includes it)."
   ]
  },
  {
   "cell_type": "raw",
   "metadata": {},
   "source": [
    "from django.contrib.auth.models import User, Permission\n",
    "\n",
    "# Get a user instance\n",
    "user = User.objects.get(username='john')\n",
    "\n",
    "# Get a permission instance\n",
    "permission = Permission.objects.get(codename='add_book')  # Replace 'add_book' with the specific codename\n",
    "\n",
    "# Assign the permission to the user\n",
    "user.user_permissions.add(permission)\n",
    "\n",
    "# Check if a user has a permission\n",
    "user.has_perm('app_name.add_book')  # Returns True or False\n"
   ]
  },
  {
   "cell_type": "markdown",
   "metadata": {},
   "source": [
    "**Creating Custom Permissions**\\\n",
    "Custom permissions can be added to models using the permissions attribute in the Meta class."
   ]
  },
  {
   "cell_type": "raw",
   "metadata": {},
   "source": [
    "from django.db import models\n",
    "\n",
    "class Book(models.Model):\n",
    "    title = models.CharField(max_length=100)\n",
    "\n",
    "    class Meta:\n",
    "        permissions = [\n",
    "            (\"can_publish\", \"Can publish books\"),\n",
    "        ]\n",
    "\n",
    "        \n",
    "# Assign the custom permission\n",
    "permission = Permission.objects.get(codename='can_publish')\n",
    "user.user_permissions.add(permission)\n",
    "\n",
    "# Check for the custom permission\n",
    "user.has_perm('app_name.can_publish')\n"
   ]
  },
  {
   "cell_type": "markdown",
   "metadata": {},
   "source": [
    "**2. Groups**\n",
    "\n",
    "Groups are a way to bundle multiple permissions and assign them to users collectively.\\\n",
    "They simplify permission management when you have multiple users needing the same set of permissions."
   ]
  },
  {
   "cell_type": "raw",
   "metadata": {},
   "source": [
    "from django.contrib.auth.models import Group, Permission\n",
    "\n",
    "# Create a group\n",
    "group = Group.objects.create(name='Editors')\n",
    "\n",
    "# Add permissions to the group\n",
    "permission = Permission.objects.get(codename='change_book')\n",
    "group.permissions.add(permission)\n",
    "\n",
    "# Add a user to the group\n",
    "user = User.objects.get(username='john')\n",
    "user.groups.add(group)\n",
    "\n",
    "# Check if a user belongs to a group\n",
    "user.groups.filter(name='Editors').exists()  # Returns True if the user is in the group\n"
   ]
  },
  {
   "cell_type": "markdown",
   "metadata": {},
   "source": [
    "**Benefits of Using Groups**\\\n",
    "Simplifies managing permissions for users with similar roles.\\\n",
    "Reduces redundancy in assigning permissions individually.\n",
    "\n",
    "\n",
    "**3. Checking Permissions**\n",
    "\n",
    "has_perm('app_name.permission_codename'): Checks if the user has a specific permission.\\\n",
    "has_perms(['app_name.permission1', 'app_name.permission2']): Checks multiple permissions.\\\n",
    "has_module_perms('app_name'): Checks if the user has any permissions for a specific app.\n",
    "\n",
    "Check if a user can add books\\\n",
    "if user.has_perm('app_name.add_book'):\\\n",
    "    print(\"User can add books!\")"
   ]
  },
  {
   "cell_type": "markdown",
   "metadata": {},
   "source": [
    "# Custom Authentication Backends in Django\n",
    "\n",
    "Django’s authentication system uses authentication backends to determine how user authentication and permission checks are performed."
   ]
  },
  {
   "cell_type": "markdown",
   "metadata": {},
   "source": [
    "**1. Why Use Custom Authentication Backends?**\n",
    "\n",
    "Custom authentication backends are used when:\\\n",
    "\n",
    "You need to authenticate users against an external service (e.g., LDAP, OAuth, or an API).\\\n",
    "You want to allow multiple ways of logging in, such as username, email, or phone number.\\\n",
    "You need to define custom permission logic."
   ]
  },
  {
   "cell_type": "markdown",
   "metadata": {},
   "source": [
    "**2. Creating a Custom Authentication Backend**\n",
    "\n",
    "A custom authentication backend is a Python class that implements the BaseBackend class. It should define the following methods:\\\n",
    "\n",
    "authenticate(self, request, username=None, password=None, **kwargs)\n",
    "\n",
    "Authenticates a user with the given credentials.\\\n",
    "Returns a User object if authentication succeeds or None if it fails.\\\n",
    "get_user(self, user_id)\\\n",
    "\n",
    "Retrieves a user object based on their user_id."
   ]
  },
  {
   "cell_type": "raw",
   "metadata": {},
   "source": [
    "from django.contrib.auth.backends import BaseBackend\n",
    "from django.contrib.auth.models import User\n",
    "\n",
    "class EmailBackend(BaseBackend):\n",
    "    def authenticate(self, request, username=None, password=None, **kwargs):\n",
    "        try:\n",
    "            # Find the user with the provided email\n",
    "            user = User.objects.get(email=username)  # username here is used as email\n",
    "            if user.check_password(password):  # Check if the password is correct\n",
    "                return user\n",
    "        except User.DoesNotExist:\n",
    "            return None\n",
    "\n",
    "    def get_user(self, user_id):\n",
    "        try:\n",
    "            return User.objects.get(pk=user_id)\n",
    "        except User.DoesNotExist:\n",
    "            return None\n"
   ]
  },
  {
   "cell_type": "markdown",
   "metadata": {},
   "source": [
    "**3. Using the Custom Backend**\n",
    "\n",
    "Once the backend is created, update the AUTHENTICATION_BACKENDS setting in your settings.py file to include your custom backend.\n",
    "\n"
   ]
  },
  {
   "cell_type": "raw",
   "metadata": {},
   "source": [
    "\n",
    "AUTHENTICATION_BACKENDS = [\n",
    "    'django.contrib.auth.backends.ModelBackend',  # Default backend\n",
    "    'myapp.backends.EmailBackend',               # Custom backend\n",
    "]"
   ]
  },
  {
   "cell_type": "markdown",
   "metadata": {},
   "source": [
    "**4. Advanced Customization**\\\n",
    "**Custom Permission Handling**\\\n",
    "You can override the has_perm() method to implement custom permission logic."
   ]
  },
  {
   "cell_type": "raw",
   "metadata": {},
   "source": [
    "class CustomPermissionBackend(BaseBackend):\n",
    "    def has_perm(self, user_obj, perm, obj=None):\n",
    "        # Custom permission logic\n",
    "        if user_obj.is_superuser:\n",
    "            return True\n",
    "        if perm == \"app_name.custom_permission\" and user_obj.groups.filter(name=\"CustomGroup\").exists():\n",
    "            return True\n",
    "        return False\n"
   ]
  },
  {
   "cell_type": "markdown",
   "metadata": {},
   "source": [
    "Authenticating Against an External Service\\\n",
    "You can authenticate users by validating their credentials with an external API.\n"
   ]
  },
  {
   "cell_type": "raw",
   "metadata": {},
   "source": [
    "\n",
    "import requests\n",
    "\n",
    "class ExternalAPIBackend(BaseBackend):\n",
    "    def authenticate(self, request, username=None, password=None, **kwargs):\n",
    "        # Call an external API to validate credentials\n",
    "        response = requests.post(\"https://api.example.com/authenticate\", data={\n",
    "            'username': username,\n",
    "            'password': password,\n",
    "        })\n",
    "        if response.status_code == 200 and response.json().get(\"authenticated\"):\n",
    "            user, created = User.objects.get_or_create(username=username)\n",
    "            return user\n",
    "        return None\n",
    "\n",
    "    def get_user(self, user_id):\n",
    "        try:\n",
    "            return User.objects.get(pk=user_id)\n",
    "        except User.DoesNotExist:\n",
    "            return None"
   ]
  },
  {
   "cell_type": "markdown",
   "metadata": {},
   "source": [
    "# Admin Interface:\n",
    "\n",
    "**1. Model Admin Classes**\\\n",
    "Django's ModelAdmin class provides an interface to manage models in the admin panel. You can customize its behavior and appearance.\n",
    "\n",
    "\n",
    "**Displaying Fields in Admin List View** ->  Use list_display to specify fields to show in the list view."
   ]
  },
  {
   "cell_type": "raw",
   "metadata": {},
   "source": [
    "@admin.register(Book)\n",
    "class BookAdmin(admin.ModelAdmin):\n",
    "    list_display = ('title', 'author', 'published_date')"
   ]
  },
  {
   "cell_type": "markdown",
   "metadata": {},
   "source": [
    "**Adding Search Functionality** Use search_fields to enable search functionality for specific fields."
   ]
  },
  {
   "cell_type": "raw",
   "metadata": {},
   "source": [
    "search_fields = ('title', 'author__name')  # Allows search by book title and author's name\n"
   ]
  },
  {
   "cell_type": "markdown",
   "metadata": {},
   "source": [
    "**Filtering by Field Values** Use list_filter to add filters to the sidebar.\n"
   ]
  },
  {
   "cell_type": "raw",
   "metadata": {},
   "source": [
    "list_filter = ('published_date', 'genre')\n"
   ]
  },
  {
   "cell_type": "markdown",
   "metadata": {},
   "source": [
    "**Editable Fields in List View** Use list_editable to make fields editable directly in the list view."
   ]
  },
  {
   "cell_type": "code",
   "execution_count": 2,
   "metadata": {},
   "outputs": [],
   "source": [
    "list_editable = ('published_date',)"
   ]
  },
  {
   "cell_type": "markdown",
   "metadata": {},
   "source": [
    "**Ordering Entries** Use ordering to define the default ordering of entries."
   ]
  },
  {
   "cell_type": "raw",
   "metadata": {},
   "source": [
    "ordering = ('-published_date',)  # Descending order\n"
   ]
  },
  {
   "cell_type": "markdown",
   "metadata": {},
   "source": [
    "**2. Inline Models in Admin**\\\n",
    "Inline models allow you to manage related objects directly from the parent object's admin page.\n",
    "\n",
    "**TabularInline:** Displays related objects in a table format.\\\n",
    "**StackedInline:** Displays related objects in a stacked format."
   ]
  },
  {
   "cell_type": "raw",
   "metadata": {},
   "source": [
    "from .models import Book, Chapter\n",
    "\n",
    "class ChapterInline(admin.TabularInline):  # or StackedInline\n",
    "    model = Chapter\n",
    "    extra = 1  # Number of extra empty forms\n",
    "\n",
    "@admin.register(Book)\n",
    "class BookAdmin(admin.ModelAdmin):\n",
    "    inlines = [ChapterInline]\n"
   ]
  },
  {
   "cell_type": "markdown",
   "metadata": {},
   "source": [
    "**3. Admin Actions**\n",
    "\n",
    "Admin actions let you apply bulk operations to selected items.\n",
    "\n",
    "Default Actions ->\\\n",
    "Delete Selected Items: Available by default unless explicitly disabled.\\\n",
    "Disabling Actions->\\\n",
    "Disable all actions by setting actions = None.\n"
   ]
  },
  {
   "cell_type": "raw",
   "metadata": {},
   "source": [
    "\n",
    "from django.contrib import admin\n",
    "from django.http import HttpResponse\n",
    "\n",
    "@admin.action(description=\"Mark selected books as published\")\n",
    "def mark_as_published(modeladmin, request, queryset):\n",
    "    queryset.update(status='published')\n",
    "    modeladmin.message_user(request, \"Selected books marked as published.\")\n",
    "\n",
    "@admin.register(Book)\n",
    "class BookAdmin(admin.ModelAdmin):\n",
    "    actions = [mark_as_published]\n"
   ]
  },
  {
   "cell_type": "markdown",
   "metadata": {},
   "source": [
    "**4. Admin Filters**\n",
    "\n",
    "**Custom Filters**\\\n",
    "Create custom filters for advanced use cases."
   ]
  },
  {
   "cell_type": "raw",
   "metadata": {},
   "source": [
    "from django.contrib.admin import SimpleListFilter\n",
    "\n",
    "class PublishedYearFilter(SimpleListFilter):\n",
    "    title = 'published year'\n",
    "    parameter_name = 'published_year'\n",
    "\n",
    "    def lookups(self, request, model_admin):\n",
    "        return [\n",
    "            ('2023', '2023'),\n",
    "            ('2024', '2024'),\n",
    "        ]\n",
    "\n",
    "    def queryset(self, request, queryset):\n",
    "        if self.value():\n",
    "            return queryset.filter(published_date__year=self.value())\n",
    "\n",
    "class BookAdmin(admin.ModelAdmin):\n",
    "    list_filter = (PublishedYearFilter,)\n"
   ]
  },
  {
   "cell_type": "markdown",
   "metadata": {},
   "source": [
    "# URLs and Routing:\n",
    "\n",
    "Django’s URL routing system maps requested URLs to views. It provides flexibility to define clean, descriptive, and organized URL patterns."
   ]
  },
  {
   "cell_type": "markdown",
   "metadata": {},
   "source": [
    "**1. URL Patterns and Regular Expressions**\n",
    "\n",
    "**Defining URL Patterns**\\\n",
    "URL patterns are defined in a Python list called urlpatterns in the urls.py file."
   ]
  },
  {
   "cell_type": "raw",
   "metadata": {},
   "source": [
    "from django.urls import path\n",
    "from . import views\n",
    "\n",
    "urlpatterns = [\n",
    "    path('home/', views.home, name='home'),\n",
    "    path('about/', views.about, name='about'),\n",
    "]\n"
   ]
  },
  {
   "cell_type": "markdown",
   "metadata": {},
   "source": [
    "**2.Path Converters**\\\n",
    "Path converters are used to capture dynamic parts of the URL and pass them as arguments to the view.\n",
    "\n"
   ]
  },
  {
   "cell_type": "raw",
   "metadata": {},
   "source": [
    "str\t    Matches any non-slash string\t/hello/\t       'hello'\n",
    "int\t    Matches an integer\t            /42/\t        42\n",
    "slug\tMatches a slug string\t        /my-title/\t   'my-title'\n",
    "uuid\tMatches a UUID\t/uuid/\t         UUID           object\n",
    "path\tMatches any string including \t/nested/path/\t'nested/path/'\n",
    "\n",
    "path('article/<int:year>/', views.article_by_year, name='article_by_year'),"
   ]
  },
  {
   "cell_type": "markdown",
   "metadata": {},
   "source": [
    "**3. URL Reversing and Namespaces**\n",
    "\n",
    "**Reversing URLs**\n",
    "\n",
    "Django allows you to reverse URLs using their name, avoiding hardcoding URLs in templates and views.\\\n",
    "This is done using the reverse function or {% url %} template tag."
   ]
  },
  {
   "cell_type": "raw",
   "metadata": {},
   "source": [
    "# from django.urls import reverse\n",
    "\n",
    "# Reverse a URL in Python code\n",
    "url = reverse('article_by_year', args=[2023])\n",
    "# Output: '/article/2023/'\n",
    "\n",
    "# Reverse a URL in templates\n",
    "<a href=\"{% url 'article_by_year' 2023 %}\">2023 Articles</a>\n"
   ]
  },
  {
   "cell_type": "markdown",
   "metadata": {},
   "source": [
    "# Middleware and Signals in Django\n",
    "\n",
    "Middleware acts as a pipeline for request and response modifications, \\\n",
    "while signals facilitate communication between decoupled parts of the application."
   ]
  },
  {
   "cell_type": "markdown",
   "metadata": {},
   "source": [
    "**Middleware in Django**\\\n",
    "Middleware is a lightweight, hook-based system for globally altering requests and responses in Django."
   ]
  },
  {
   "cell_type": "markdown",
   "metadata": {},
   "source": [
    "**1. Creating Custom Middleware**\n",
    "\n",
    "Custom middleware allows you to add specific behavior to requests or responses.\n",
    "\n",
    "Steps to Create Custom Middleware:\n",
    "\n",
    "Create a Python class with at least one of the middleware methods.\\\n",
    "Add the middleware class to the MIDDLEWARE setting.\n"
   ]
  },
  {
   "cell_type": "raw",
   "metadata": {},
   "source": [
    "# myapp/middleware.py\n",
    "class LogRequestMiddleware:\n",
    "    def __init__(self, get_response):\n",
    "        self.get_response = get_response\n",
    "\n",
    "    def __call__(self, request):\n",
    "        # Code executed before the view is called\n",
    "        print(f\"Request Path: {request.path}\")\n",
    "\n",
    "        response = self.get_response(request)\n",
    "\n",
    "        # Code executed after the view is called\n",
    "        return response\n",
    "\n",
    "    \n",
    "# settings.py\n",
    "MIDDLEWARE = [\n",
    "    'django.middleware.security.SecurityMiddleware',\n",
    "    # other middleware\n",
    "    'myapp.middleware.LogRequestMiddleware',\n",
    "]"
   ]
  },
  {
   "cell_type": "markdown",
   "metadata": {},
   "source": [
    "**2. Middleware Order and Usage**\n",
    "\n",
    "\n",
    "The order of middleware in the MIDDLEWARE list is critical as Django processes middleware in sequence:\n",
    "\n",
    "**On request:** Processed from top to bottom.\\\n",
    "**On response:** Processed from bottom to top.\n",
    "        \n",
    "**Example:**\n",
    "\n",
    "Security middleware should always be first.\\\n",
    "Custom middleware dependent on session or authentication should be placed after the corresponding middleware."
   ]
  },
  {
   "cell_type": "markdown",
   "metadata": {},
   "source": [
    "**3. Using Built-in Middleware**\\\n",
    "Django provides several built-in middleware classes for common tasks.\n",
    "\n",
    "Middleware\tPurpose\\\n",
    "**SecurityMiddleware**\tAdds security headers like HTTPS enforcement.\\\n",
    "**SessionMiddleware**\tEnables session support.\\\n",
    "**AuthenticationMiddleware**\tAssociates users with requests using sessions.\\\n",
    "**CsrfViewMiddleware**\tProtects against Cross-Site Request Forgery (CSRF).\\\n",
    "**CommonMiddleware**\tAdds common functionalities like URL normalization and ETags.\\\n",
    "**XFrameOptionsMiddleware**\tPrevents clickjacking by setting X-Frame-Options header."
   ]
  },
  {
   "cell_type": "markdown",
   "metadata": {},
   "source": [
    "# Signals in Django\n",
    "\n",
    "Signals provide a way to allow decoupled components to get notified when certain actions occur.\n",
    "\n",
    "**1. Built-in Signals**\\\n",
    "Django has several built-in signals to track application events. Examples include:\n",
    "\n",
    "**Signal**\t**Purpose**\\\n",
    "**pre_save**\tTriggered before a model’s save() method is called.\\\n",
    "**post_save**\tTriggered after a model’s save() method is called.\\\n",
    "**pre_delete**\tTriggered before a model instance is deleted.\\\n",
    "**post_delete**\tTriggered after a model instance is deleted.\\\n",
    "**request_started**\tTriggered when the server starts processing a request.\\\n",
    "**request_finished**\tTriggered when the server finishes processing a request.\\\n",
    "**user_logged_in**\tTriggered when a user logs in."
   ]
  },
  {
   "cell_type": "markdown",
   "metadata": {},
   "source": [
    "**2. Connecting Signals**\\\n",
    "You can connect signals to specific functions using @receiver or signal.connect().\n",
    "\n"
   ]
  },
  {
   "cell_type": "raw",
   "metadata": {},
   "source": [
    "from django.contrib.auth.signals import user_logged_in\n",
    "from django.dispatch import receiver\n",
    "\n",
    "@receiver(user_logged_in)\n",
    "def log_login(sender, request, user, **kwargs):\n",
    "    print(f\"User {user.username} logged in!\")\n"
   ]
  },
  {
   "cell_type": "markdown",
   "metadata": {},
   "source": [
    "**3. Custom Signals**\n",
    "\n",
    "Custom signals are user-defined events that can be triggered and handled.\n",
    "\n",
    "Steps to Create a Custom Signal:\n",
    "\n",
    "Define the signal.\\\n",
    "Create a receiver to handle the signal.\\\n",
    "Trigger the signal."
   ]
  },
  {
   "cell_type": "raw",
   "metadata": {},
   "source": [
    "# signals.py\n",
    "from django.dispatch import Signal, receiver\n",
    "\n",
    "# Define a custom signal\n",
    "user_registered = Signal()\n",
    "\n",
    "# Create a receiver\n",
    "@receiver(user_registered)\n",
    "def send_welcome_email(sender, **kwargs):\n",
    "    user = kwargs['user']\n",
    "    print(f\"Sending welcome email to {user.email}\")\n",
    "\n",
    "# Trigger the signal\n",
    "# views.py\n",
    "from .signals import user_registered\n",
    "\n",
    "def register_user(request):\n",
    "    user = User.objects.create_user(username='test', email='test@example.com')\n",
    "    user_registered.send(sender=User, user=user)\n"
   ]
  },
  {
   "cell_type": "markdown",
   "metadata": {},
   "source": [
    "# Static and Media Files in Django\n",
    "\n",
    "\n",
    "Django provides a built-in mechanism to manage static assets (CSS, JavaScript, images) and media files (user-uploaded content). Proper configuration ensures these files are accessible during development and production."
   ]
  },
  {
   "cell_type": "markdown",
   "metadata": {},
   "source": [
    "**1. Serving Static Assets (CSS, JS, Images)**\n",
    "\n",
    "**Static Files**\n",
    "Static files include stylesheets, JavaScript files, images, and other assets used in your web app.\n",
    "\n",
    "**Static File Directory Structure**\n",
    "You typically store static files in an app-specific static/ directory or a global directory.\n",
    "\n"
   ]
  },
  {
   "cell_type": "raw",
   "metadata": {},
   "source": [
    "Example structure:\n",
    "\n",
    "myproject/\n",
    "    ├── myapp/\n",
    "    │   ├── static/\n",
    "    │   │   ├── myapp/\n",
    "    │   │   │   ├── css/\n",
    "    │   │   │   │   └── styles.css\n",
    "    │   │   │   ├── js/\n",
    "    │   │   │   │   └── script.js\n",
    "    │   │   │   ├── images/\n",
    "    │   │   │   │   └── logo.png\n"
   ]
  },
  {
   "cell_type": "raw",
   "metadata": {},
   "source": [
    "In settings.py, configure the STATIC_URL and STATICFILES_DIRS.\n",
    "\n",
    "# settings.py\n",
    "STATIC_URL = '/static/'  # URL to access static files\n",
    "STATICFILES_DIRS = [     # Additional directories for static files\n",
    "    BASE_DIR / \"static\",\n",
    "]\n"
   ]
  },
  {
   "cell_type": "markdown",
   "metadata": {},
   "source": [
    "**Using Static Files in Templates**\n"
   ]
  },
  {
   "cell_type": "raw",
   "metadata": {},
   "source": [
    "\n",
    "<!DOCTYPE html>\n",
    "<html>\n",
    "<head>\n",
    "    <link rel=\"stylesheet\" href=\"{% static 'myapp/css/styles.css' %}\">\n",
    "</head>\n",
    "<body>\n",
    "    <img src=\"{% static 'myapp/images/logo.png' %}\" alt=\"Logo\">\n",
    "</body>\n",
    "</html>\n"
   ]
  },
  {
   "cell_type": "markdown",
   "metadata": {},
   "source": [
    "**2. Configuring Static and Media URLs**\n",
    "\n",
    "**Media Files**\\\n",
    "Media files are user-uploaded content such as profile pictures or documents.\n",
    "\n",
    "**Settings for Media Files**\\\n",
    "Configure the MEDIA_URL and MEDIA_ROOT in settings.py:\n",
    "\n",
    "\n",
    "**settings.py**\n",
    "\n",
    "MEDIA_URL = '/media/'                # URL to access media files\\\n",
    "MEDIA_ROOT = BASE_DIR / 'media/'     # Directory to store uploaded files"
   ]
  },
  {
   "cell_type": "markdown",
   "metadata": {},
   "source": [
    "**Serving Media Files in Development**\n",
    "\n",
    "Django does not serve media files by default. During development, use the django.views.static.serve view by adding this to urls.py"
   ]
  },
  {
   "cell_type": "raw",
   "metadata": {},
   "source": [
    "# urls.py\n",
    "from django.conf import settings\n",
    "from django.conf.urls.static import static\n",
    "\n",
    "urlpatterns = [\n",
    "    # Other URLs...\n",
    "]\n",
    "\n",
    "if settings.DEBUG:\n",
    "    urlpatterns += static(settings.MEDIA_URL, document_root=settings.MEDIA_ROOT)\n"
   ]
  },
  {
   "cell_type": "markdown",
   "metadata": {},
   "source": [
    "**3. Handling File Uploads and Storage**\n",
    "\n",
    "Django provides the FileField and ImageField for handling file uploads.\n"
   ]
  },
  {
   "cell_type": "raw",
   "metadata": {},
   "source": [
    "# models.py\n",
    "from django.db import models\n",
    "\n",
    "class Profile(models.Model):\n",
    "    name = models.CharField(max_length=100)\n",
    "    profile_picture = models.ImageField(upload_to='profile_pics/')  # File will be saved in MEDIA_ROOT/profile_pics/\n",
    "    resume = models.FileField(upload_to='resumes/')\n"
   ]
  },
  {
   "cell_type": "markdown",
   "metadata": {},
   "source": [
    "**Handling Uploads in Forms**\n",
    "\n",
    "Use the form’s enctype attribute and include the request.FILES in the view.\n"
   ]
  },
  {
   "cell_type": "raw",
   "metadata": {},
   "source": [
    "# forms.py\n",
    "from django import forms\n",
    "from .models import Profile\n",
    "\n",
    "class ProfileForm(forms.ModelForm):\n",
    "    class Meta:\n",
    "        model = Profile\n",
    "        fields = ['name', 'profile_picture', 'resume']\n"
   ]
  },
  {
   "cell_type": "raw",
   "metadata": {},
   "source": [
    "# views.py\n",
    "from django.shortcuts import render\n",
    "from .forms import ProfileForm\n",
    "\n",
    "def upload_profile(request):\n",
    "    if request.method == 'POST':\n",
    "        form = ProfileForm(request.POST, request.FILES)\n",
    "        if form.is_valid():\n",
    "            form.save()\n",
    "            return HttpResponse(\"Profile Uploaded!\")\n",
    "    else:\n",
    "        form = ProfileForm()\n",
    "    return render(request, 'upload.html', {'form': form})\n"
   ]
  },
  {
   "cell_type": "raw",
   "metadata": {},
   "source": [
    "<!-- upload.html -->\n",
    "<form method=\"post\" enctype=\"multipart/form-data\">\n",
    "    {% csrf_token %}\n",
    "    {{ form.as_p }}\n",
    "    <button type=\"submit\">Upload</button>\n",
    "</form>\n"
   ]
  },
  {
   "cell_type": "markdown",
   "metadata": {},
   "source": [
    "# Internationalization and Localization in Django\n",
    "\n",
    "Django supports building multilingual websites through internationalization (i18n) and localization (l10n).\n",
    "\n",
    "These features allow your application to support different languages and formats for dates, times, numbers, etc., based on the user's locale.\n",
    "\n",
    "**1. Internationalization (i18n)**\\\n",
    "Internationalization refers to preparing your application to support multiple languages and regional formats.\n",
    "\n",
    "**Steps for Internationalization in Django**\n",
    "\n",
    "**1.Mark Strings for Translation:** Use the gettext functions or template tags to mark strings for translation.\n",
    "\n",
    "\n"
   ]
  },
  {
   "cell_type": "raw",
   "metadata": {},
   "source": [
    "from django.utils.translation import gettext as _\n",
    "\n",
    "def greet():\n",
    "    message = _(\"Hello, world!\")\n",
    "    return message\n",
    "\n",
    "<p>{% trans \"Welcome to our website!\" %}</p>\n"
   ]
  },
  {
   "cell_type": "markdown",
   "metadata": {},
   "source": [
    "**2.Extract Translation Strings:** Use the makemessages command to extract marked strings into .po files.\n"
   ]
  },
  {
   "cell_type": "markdown",
   "metadata": {},
   "source": [
    "django-admin makemessages -l <language_code>\n",
    "\n",
    "**Example**\n",
    "\n",
    "django-admin makemessages -l fr\n",
    "\n",
    "This creates a django.po file in the locale/fr/LC_MESSAGES/ directory for French translations.\n",
    "\n"
   ]
  },
  {
   "cell_type": "markdown",
   "metadata": {},
   "source": [
    "**3.Provide Translations:** Open the generated .po file and add translations for the marked strings."
   ]
  },
  {
   "cell_type": "raw",
   "metadata": {},
   "source": [
    "msgid \"Hello, world!\"\n",
    "msgstr \"Bonjour, le monde!\"\n"
   ]
  },
  {
   "cell_type": "markdown",
   "metadata": {},
   "source": [
    "**4.Compile Translations:** Compile .po files into .mo files, which Django uses for translations.\n"
   ]
  },
  {
   "cell_type": "markdown",
   "metadata": {},
   "source": [
    "django-admin compilemessages\n"
   ]
  },
  {
   "cell_type": "markdown",
   "metadata": {},
   "source": [
    "**5.Enable Localization Middleware:** Add django.middleware.locale.LocaleMiddleware to MIDDLEWARE in settings.py.\n"
   ]
  },
  {
   "cell_type": "markdown",
   "metadata": {},
   "source": [
    "MIDDLEWARE = [\n",
    "    'django.middleware.common.CommonMiddleware',\n",
    "    'django.middleware.locale.LocaleMiddleware',\n",
    "    'django.middleware.csrf.CsrfViewMiddleware',\n",
    "]\n"
   ]
  },
  {
   "cell_type": "markdown",
   "metadata": {},
   "source": [
    "**6.Configure Language Settings:**\n",
    "\n",
    "Set the default language and available languages in settings.py.\n"
   ]
  },
  {
   "cell_type": "raw",
   "metadata": {},
   "source": [
    "LANGUAGE_CODE = 'en-us'  # Default language\n",
    "LANGUAGES = [\n",
    "    ('en', 'English'),\n",
    "    ('fr', 'French'),\n",
    "    ('es', 'Spanish'),\n",
    "]\n",
    "LOCALE_PATHS = [\n",
    "    BASE_DIR / 'locale/',  # Path to translation files\n",
    "]\n"
   ]
  },
  {
   "cell_type": "markdown",
   "metadata": {},
   "source": [
    "**2. Localization (l10n)**\n",
    "\n",
    "Localization is adapting the application to a specific locale by formatting dates, numbers, and currencies based on regional settings.\n",
    "\n"
   ]
  },
  {
   "cell_type": "markdown",
   "metadata": {},
   "source": [
    "**Steps for Localization in Django**\n",
    "\n",
    "**Enable Localization:** Add USE_L10N and USE_TZ settings in settings.py.\n"
   ]
  },
  {
   "cell_type": "markdown",
   "metadata": {},
   "source": [
    "USE_L10N = True  # Enable localization\\\n",
    "USE_TZ = True    # Enable time zone support\n"
   ]
  },
  {
   "cell_type": "markdown",
   "metadata": {},
   "source": [
    "**Format Data:** Django automatically formats data such as dates and numbers based on the current locale. For instance:\n"
   ]
  },
  {
   "cell_type": "raw",
   "metadata": {},
   "source": [
    "from django.utils.formats import date_format\n",
    "from datetime import date\n",
    "\n",
    "today = date.today()\n",
    "print(date_format(today, format='DATE_FORMAT'))  # Outputs in the user's locale\n"
   ]
  },
  {
   "cell_type": "markdown",
   "metadata": {},
   "source": [
    "**3.Handle Time Zones:** Use Django's time zone utilities to manage time zone conversions.\n"
   ]
  },
  {
   "cell_type": "markdown",
   "metadata": {},
   "source": [
    "from django.utils.timezone import activate\n",
    "\n",
    "activate('Europe/Paris')  # Set time zone for the current request\n"
   ]
  },
  {
   "cell_type": "markdown",
   "metadata": {},
   "source": [
    "**3. Example Use Case**\n",
    "\n",
    "Imagine a blog application that supports English, French, and Spanish. The steps would be:\\\n",
    "\n",
    "Mark all user-facing strings for translation using _() or {% trans %}.\\\n",
    "Create translations using makemessages for fr and es.\\\n",
    "Populate the .po files with translations.\\\n",
    "Compile messages and test the application by changing the Accept-Language header in your browser or using Django's language switcher."
   ]
  },
  {
   "cell_type": "markdown",
   "metadata": {},
   "source": [
    "**4. URL-Based Language Switching**\n",
    "\n",
    "You can allow users to switch languages via URLs by using the set_language view provided by Django.\n"
   ]
  },
  {
   "cell_type": "raw",
   "metadata": {},
   "source": [
    "# urls.py\n",
    "from django.conf import settings\n",
    "from django.conf.urls.i18n import i18n_patterns\n",
    "from django.urls import path\n",
    "from django.views.i18n import set_language\n",
    "\n",
    "urlpatterns = [\n",
    "    path('i18n/', set_language, name='set_language'),\n",
    "]\n",
    "\n",
    "urlpatterns += i18n_patterns(\n",
    "    path('', include('myapp.urls')),\n",
    ")\n",
    "\n",
    "\n",
    "\n",
    "<form method=\"post\" action=\"{% url 'set_language' %}\">\n",
    "    {% csrf_token %}\n",
    "    <select name=\"language\">\n",
    "        <option value=\"en\">English</option>\n",
    "        <option value=\"fr\">French</option>\n",
    "        <option value=\"es\">Spanish</option>\n",
    "    </select>\n",
    "    <button type=\"submit\">Switch</button>\n",
    "</form>\n"
   ]
  },
  {
   "cell_type": "markdown",
   "metadata": {},
   "source": [
    "# Caching in Django\n",
    "\n",
    "Caching is a technique to store frequently accessed data temporarily to reduce the load on the database or computation resources, improving performance. Django provides robust caching support for data and views, as well as integrations with various cache backends.\n",
    "\n",
    "**1. Caching Data and Views**\n",
    "\n",
    "**View-Level Caching**\n",
    "\n",
    "Django provides decorators to cache entire views.\n",
    "\n",
    "**cache_page Decorator:** Caches the output of a view for a specified amount of time.\n",
    "\n"
   ]
  },
  {
   "cell_type": "raw",
   "metadata": {},
   "source": [
    "from django.views.decorators.cache import cache_page\n",
    "\n",
    "@cache_page(60 * 15)  # Cache for 15 minutes\n",
    "def my_view(request):\n",
    "    return HttpResponse(\"This is a cached response!\")\n"
   ]
  },
  {
   "cell_type": "markdown",
   "metadata": {},
   "source": [
    "**vary_on_headers Decorator:** Allows varying cached responses based on HTTP headers.\n",
    "\n"
   ]
  },
  {
   "cell_type": "raw",
   "metadata": {},
   "source": [
    "from django.views.decorators.vary import vary_on_headers\n",
    "\n",
    "@cache_page(60 * 15)\n",
    "@vary_on_headers('User-Agent')\n",
    "def my_view(request):\n",
    "    return HttpResponse(\"This response varies by User-Agent.\")\n"
   ]
  },
  {
   "cell_type": "markdown",
   "metadata": {},
   "source": [
    "**Template Fragment Caching**\n",
    "\n",
    "You can cache specific parts of a template using the {% cache %} tag.\n",
    "\n"
   ]
  },
  {
   "cell_type": "raw",
   "metadata": {},
   "source": [
    "{% load cache %}\n",
    "\n",
    "{% cache 300 sidebar %}\n",
    "    <!-- Sidebar content that is expensive to generate -->\n",
    "{% endcache %}\n",
    "\n",
    "Caches the content of the block for 300 seconds.\n"
   ]
  },
  {
   "cell_type": "markdown",
   "metadata": {},
   "source": [
    "**Low-Level Data Caching**\n",
    "\n",
    "Use the cache API to cache arbitrary data, like query results or computed values.\n",
    "\n"
   ]
  },
  {
   "cell_type": "raw",
   "metadata": {},
   "source": [
    "from django.core.cache import cache\n",
    "\n",
    "# Store data in the cache\n",
    "cache.set('my_key', 'my_value', timeout=60)  # Cache for 60 seconds\n",
    "\n",
    "# Retrieve data from the cache\n",
    "value = cache.get('my_key', 'default_value')  # Returns 'default_value' if key doesn't exist\n"
   ]
  },
  {
   "cell_type": "markdown",
   "metadata": {},
   "source": [
    "**2. Cache Backends and Settings**\n",
    "\n",
    "\n",
    "Django supports multiple cache backends. You can configure the cache in settings.py.\n",
    "\n",
    "**Common Cache Backends**\n",
    "\n",
    "**Backend**\t**Description**\\\n",
    "**Memcached**\tHigh-performance, distributed memory caching system.\\\n",
    "**Redis**\tIn-memory key-value store supporting advanced features like persistence.\\\n",
    "**Database**\tStores cached data in a database table.\\\n",
    "**File-Based**\tStores cached data as files on the disk.\\\n",
    "**Local Memory**\tStores cached data in local memory (default backend for development).\n"
   ]
  },
  {
   "cell_type": "markdown",
   "metadata": {},
   "source": [
    "**Configuring Cache Settings**\n",
    "\n",
    "**Default Cache:**\n"
   ]
  },
  {
   "cell_type": "raw",
   "metadata": {},
   "source": [
    "\n",
    "CACHES = {\n",
    "    'default': {\n",
    "        'BACKEND': 'django.core.cache.backends.locmem.LocMemCache',\n",
    "        'LOCATION': 'unique-snowflake',\n",
    "    }\n",
    "}\n"
   ]
  },
  {
   "cell_type": "raw",
   "metadata": {},
   "source": [
    "Memcached:\n",
    "\n",
    "CACHES = {\n",
    "    'default': {\n",
    "        'BACKEND': 'django.core.cache.backends.memcached.MemcachedCache',\n",
    "        'LOCATION': '127.0.0.1:11211',\n",
    "    }\n",
    "}\n",
    "\n",
    "\n",
    "same for others"
   ]
  },
  {
   "cell_type": "markdown",
   "metadata": {},
   "source": [
    "**3. Using the Cache API**\n",
    "\n",
    "Django’s cache API provides low-level operations for storing, retrieving, and deleting cached data.\n",
    "\n"
   ]
  },
  {
   "cell_type": "markdown",
   "metadata": {},
   "source": [
    "**Basic Operations**\n"
   ]
  },
  {
   "cell_type": "raw",
   "metadata": {},
   "source": [
    "cache.set('key', 'value', timeout=300)  # Cache for 300 seconds\n",
    "value = cache.get('key')  # Returns None if key doesn't exist\n",
    "cache.delete('key')\n",
    "value = cache.setdefault('key', 'default_value')  # Sets the key if it doesn't exist\n",
    "\n",
    "advance operations\n",
    "\n",
    "cache.set('counter', 1)\n",
    "cache.incr('counter', delta=2)  # Increment by 2\n",
    "cache.decr('counter', delta=1)\n",
    "cache.clear()\n"
   ]
  },
  {
   "cell_type": "markdown",
   "metadata": {},
   "source": [
    "# Background Tasks in Django\n",
    "\n",
    "Django itself is synchronous, meaning tasks are executed sequentially. For long-running or asynchronous tasks, you can use tools like Celery, a distributed task queue.\n",
    "\n",
    "**1. Handling Asynchronous Tasks Using Celery**\n",
    "\n",
    "Celery is an asynchronous task queue/job queue that works well with Django for handling background tasks, such as sending emails, processing images, or data synchronization.\n",
    "\n",
    "**Key Components of Celery:**\n",
    "    \n",
    "Broker: Manages the message queue (e.g., RabbitMQ, Redis).\n",
    "Worker: Executes the tasks.\n",
    "Task: The function you want to execute asynchronously."
   ]
  },
  {
   "cell_type": "raw",
   "metadata": {},
   "source": [
    "Step 1: Install Celery and a Broker\n",
    "\n",
    "pip install celery[redis]\n",
    "\n",
    "\n",
    "Step 2: Configure Celery in Your Django Project\n",
    "\n",
    "Create a celery.py file in the same directory as settings.py:\n",
    "\n",
    "from __future__ import absolute_import, unicode_literals\n",
    "import os\n",
    "from celery import Celery\n",
    "\n",
    "# Set the default Django settings module for the 'celery' program.\n",
    "os.environ.setdefault('DJANGO_SETTINGS_MODULE', 'myproject.settings')\n",
    "\n",
    "app = Celery('myproject')\n",
    "\n",
    "# Using a string here means the worker doesn't have to serialize\n",
    "# the configuration object to child processes.\n",
    "app.config_from_object('django.conf:settings', namespace='CELERY')\n",
    "\n",
    "# Autodiscover tasks defined in `tasks.py` files across apps\n",
    "app.autodiscover_tasks()\n",
    "\n",
    "@app.task(bind=True)\n",
    "def debug_task(self):\n",
    "    print(f'Request: {self.request!r}')\n",
    "\n",
    "    \n",
    "Step 3: Update settings.py Add the broker configuration:\n",
    "\n",
    "\n",
    "CELERY_BROKER_URL = 'redis://localhost:6379/0'  # Redis as a broker\n",
    "CELERY_ACCEPT_CONTENT = ['json']               # Accept content formats\n",
    "CELERY_TASK_SERIALIZER = 'json'                # Serialize tasks as JSON\n",
    "\n",
    "\n",
    "Step 4: Create a Task\n",
    "\n",
    "In any app, create a tasks.py file:\n",
    "\n",
    "from celery import shared_task\n",
    "import time\n",
    "\n",
    "@shared_task\n",
    "def add(x, y):\n",
    "    time.sleep(5)  # Simulate a long-running task\n",
    "    return x + y\n",
    "\n",
    "\n",
    "Step 5: Running Celery Start the Celery worker:\n",
    "\n",
    "celery -A myproject worker --loglevel=info\n",
    "Using the Task Call the task asynchronously:\n",
    "\n",
    "python\n",
    "Copy code\n",
    "from myapp.tasks import add\n",
    "\n",
    "# Asynchronous execution\n",
    "add.delay(5, 7)  # Returns a task ID\n"
   ]
  },
  {
   "cell_type": "markdown",
   "metadata": {},
   "source": [
    "**2. Periodic Tasks and Scheduling**\n",
    "\n",
    "For periodic tasks, you can use Celery Beat, which integrates with Celery to schedule tasks at specific intervals.\n",
    "\n",
    "Steps to Set Up Periodic Tasks\\\n",
    "\n",
    "**Step 1: Install Celery Beat**\n",
    "\n",
    "pip install django-celery-beat\n",
    "\n",
    "**Step 2: Add django-celery-beat to INSTALLED_APPS**\n",
    "\n",
    "INSTALLED_APPS += [ \\\n",
    "    'django_celery_beat',\\\n",
    "]\n",
    "\n",
    "**Step 3: Run Migrations**\n",
    "\n",
    "python manage.py migrate\n",
    "\n",
    "\n",
    "**Step 4: Register Periodic Tasks In the Django admin panel, you can create periodic tasks:**\n",
    "\n",
    "Add an interval schedule (e.g., every 5 minutes).\n",
    "Link the schedule to a task (e.g., myapp.tasks.add).\n",
    "Alternatively, you can do it programmatically:\n",
    "\n",
    "from django_celery_beat.models import PeriodicTask, IntervalSchedule\n",
    "\n",
    "Create a schedule for every 10 seconds\n",
    "\n",
    "schedule, _ = IntervalSchedule.objects.get_or_create(\\\n",
    "    every=10,\\\n",
    "    period=IntervalSchedule.SECONDS,\\\n",
    ")\n",
    "\n",
    "\n",
    "Create the periodic task\n",
    "\n",
    "PeriodicTask.objects.create(\\\n",
    "    interval=schedule,\\\n",
    "    name='Add two numbers periodically',\\\n",
    "    task='myapp.tasks.add',\\\n",
    "    args='[1, 2]',\\\n",
    ")\n",
    "\n",
    "Common Use Cases\n",
    "\n",
    "Sending Emails: Send emails asynchronously to improve response time.\\\n",
    "Generating Reports: Process and generate reports in the background.\\\n",
    "Database Cleanup: Run periodic cleanup tasks.\\\n",
    "Notifications: Send push notifications or SMS messages.\n"
   ]
  },
  {
   "cell_type": "markdown",
   "metadata": {},
   "source": [
    "# Custom Management Commands in Django\n",
    "\n",
    "Django provides a framework for creating custom management commands, allowing you to execute custom scripts directly from the command line using the manage.py utility."
   ]
  },
  {
   "cell_type": "markdown",
   "metadata": {},
   "source": [
    "**1. Writing Custom Scripts Using Django’s Management Command Framework**\n",
    "\n",
    "Steps to Create a Custom Management Command\n",
    "\n",
    "**Step 1:** Create a management/commands Directory Inside your Django app, create the following folder structure:"
   ]
  },
  {
   "cell_type": "raw",
   "metadata": {},
   "source": [
    "myapp/\n",
    "    management/\n",
    "        commands/\n",
    "            __init__.py\n",
    "            mycommand.py\n"
   ]
  },
  {
   "cell_type": "markdown",
   "metadata": {},
   "source": [
    "**Step 2:** \n",
    "    \n",
    "Define the Command in mycommand.py Write the logic for your custom command in the .py file. \\\n",
    "The file should define a class Command that inherits from BaseCommand:"
   ]
  },
  {
   "cell_type": "raw",
   "metadata": {},
   "source": [
    "from django.core.management.base import BaseCommand\n",
    "\n",
    "class Command(BaseCommand):\n",
    "    help = 'This is a custom management command'\n",
    "\n",
    "    def add_arguments(self, parser):\n",
    "        # Adding command-line arguments (optional)\n",
    "        parser.add_argument('name', type=str, help='Name of the user')\n",
    "        parser.add_argument('--greet', action='store_true', help='Send a greeting')\n",
    "\n",
    "    def handle(self, *args, **kwargs):\n",
    "        name = kwargs['name']\n",
    "        if kwargs['greet']:\n",
    "            self.stdout.write(f\"Hello, {name}!\")\n",
    "        else:\n",
    "            self.stdout.write(f\"Processing data for {name}...\")\n"
   ]
  },
  {
   "cell_type": "markdown",
   "metadata": {},
   "source": [
    "**Step 3:** Run the Command Execute the command using the manage.py script:\n",
    "\n",
    "python manage.py mycommand John --greet\n"
   ]
  },
  {
   "cell_type": "code",
   "execution_count": null,
   "metadata": {},
   "outputs": [],
   "source": []
  }
 ],
 "metadata": {
  "kernelspec": {
   "display_name": "Python 3",
   "language": "python",
   "name": "python3"
  },
  "language_info": {
   "codemirror_mode": {
    "name": "ipython",
    "version": 3
   },
   "file_extension": ".py",
   "mimetype": "text/x-python",
   "name": "python",
   "nbconvert_exporter": "python",
   "pygments_lexer": "ipython3",
   "version": "3.8.10"
  }
 },
 "nbformat": 4,
 "nbformat_minor": 5
}
