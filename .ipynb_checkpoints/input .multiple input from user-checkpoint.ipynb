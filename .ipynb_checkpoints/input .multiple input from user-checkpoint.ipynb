{
 "cells": [
  {
   "cell_type": "markdown",
   "id": "9f23ba25",
   "metadata": {},
   "source": [
    "# Input"
   ]
  },
  {
   "cell_type": "code",
   "execution_count": null,
   "id": "68fc9ba6",
   "metadata": {},
   "outputs": [],
   "source": [
    "a= input(\"Enter Your name \")"
   ]
  },
  {
   "cell_type": "code",
   "execution_count": 6,
   "id": "d320776b",
   "metadata": {},
   "outputs": [
    {
     "name": "stdout",
     "output_type": "stream",
     "text": [
      "sdf\n"
     ]
    }
   ],
   "source": [
    "print(a)"
   ]
  },
  {
   "cell_type": "markdown",
   "id": "47faf316",
   "metadata": {},
   "source": [
    "# Multiple input"
   ]
  },
  {
   "cell_type": "code",
   "execution_count": 7,
   "id": "6846451d",
   "metadata": {},
   "outputs": [],
   "source": [
    "# syntax\n",
    "# input().split(separator, maxsplit)\n"
   ]
  },
  {
   "cell_type": "code",
   "execution_count": 8,
   "id": "18f97627",
   "metadata": {},
   "outputs": [
    {
     "name": "stdout",
     "output_type": "stream",
     "text": [
      "a b c\n"
     ]
    }
   ],
   "source": [
    "li = input().split(\" \")"
   ]
  },
  {
   "cell_type": "code",
   "execution_count": 10,
   "id": "a390ac94",
   "metadata": {},
   "outputs": [
    {
     "name": "stdout",
     "output_type": "stream",
     "text": [
      "Enter two values: 2 3\n",
      "Number of boys:  2\n",
      "Number of girls:  3\n",
      "Enter three values: 3 4 5\n",
      "Total number of students:  3\n",
      "Number of boys is :  4\n",
      "Number of girls is :  5\n",
      "Enter two values: 3 6\n",
      "First number is 3 and second number is 6\n",
      "Enter multiple values: 2 3 4 5 6 7 8 9 10\n",
      "List of students:  [2, 3, 4, 5, 6, 7, 8, 9, 10]\n"
     ]
    }
   ],
   "source": [
    "# Python program showing how to\n",
    "# multiple input using split\n",
    " \n",
    "# taking two inputs at a time\n",
    "x, y = input(\"Enter two values: \").split()\n",
    "print(\"Number of boys: \", x)\n",
    "print(\"Number of girls: \", y)\n",
    " \n",
    "# taking three inputs at a time\n",
    "x, y, z = input(\"Enter three values: \").split()\n",
    "print(\"Total number of students: \", x)\n",
    "print(\"Number of boys is : \", y)\n",
    "print(\"Number of girls is : \", z)\n",
    " \n",
    "# taking two inputs at a time\n",
    "a, b = input(\"Enter two values: \").split()\n",
    "print(\"First number is {} and second number is {}\".format(a, b))\n",
    " \n",
    "# taking multiple inputs at a time\n",
    "# and type casting using list() function\n",
    "x = list(map(int, input(\"Enter multiple values: \").split()))\n",
    "print(\"List of students: \", x)\n"
   ]
  },
  {
   "cell_type": "code",
   "execution_count": null,
   "id": "2cf65247",
   "metadata": {},
   "outputs": [],
   "source": []
  }
 ],
 "metadata": {
  "kernelspec": {
   "display_name": "Python 3 (ipykernel)",
   "language": "python",
   "name": "python3"
  },
  "language_info": {
   "codemirror_mode": {
    "name": "ipython",
    "version": 3
   },
   "file_extension": ".py",
   "mimetype": "text/x-python",
   "name": "python",
   "nbconvert_exporter": "python",
   "pygments_lexer": "ipython3",
   "version": "3.8.10"
  }
 },
 "nbformat": 4,
 "nbformat_minor": 5
}
