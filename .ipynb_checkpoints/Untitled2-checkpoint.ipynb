{
 "cells": [
  {
   "cell_type": "code",
   "execution_count": 22,
   "metadata": {},
   "outputs": [],
   "source": [
    "def decryptPassword(s):\n",
    "    # Write your code here\n",
    "    for i in range(0,len(s)-1):\n",
    "        if s[i] == s[i].lower() and s[i+1] ==s[i+1].upper():\n",
    "            s.replace(s[i],s[i+1])\n",
    "            s.replace(s[i+1],s[i])\n",
    "            temp=s[i]+s[i+1]+'*'\n",
    "            print(temp)\n",
    "            s.replace(s[i+2],temp)\n",
    "    print(s)"
   ]
  },
  {
   "cell_type": "code",
   "execution_count": 23,
   "metadata": {},
   "outputs": [
    {
     "name": "stdout",
     "output_type": "stream",
     "text": [
      "aK*\n",
      "HaKer\n"
     ]
    }
   ],
   "source": [
    "decryptPassword('HaKer')"
   ]
  },
  {
   "cell_type": "code",
   "execution_count": 3,
   "metadata": {},
   "outputs": [],
   "source": [
    "s=\"HaKer\"\n"
   ]
  },
  {
   "cell_type": "code",
   "execution_count": 9,
   "metadata": {},
   "outputs": [
    {
     "ename": "TypeError",
     "evalue": "'str' object does not support item assignment",
     "output_type": "error",
     "traceback": [
      "\u001b[0;31m---------------------------------------------------------------------------\u001b[0m",
      "\u001b[0;31mTypeError\u001b[0m                                 Traceback (most recent call last)",
      "\u001b[0;32m<ipython-input-9-1fc4eb99e73b>\u001b[0m in \u001b[0;36m<module>\u001b[0;34m\u001b[0m\n\u001b[0;32m----> 1\u001b[0;31m \u001b[0ms\u001b[0m\u001b[0;34m[\u001b[0m\u001b[0;36m0\u001b[0m\u001b[0;34m]\u001b[0m\u001b[0;34m,\u001b[0m\u001b[0ms\u001b[0m\u001b[0;34m[\u001b[0m\u001b[0;36m1\u001b[0m\u001b[0;34m]\u001b[0m\u001b[0;34m=\u001b[0m\u001b[0ms\u001b[0m\u001b[0;34m[\u001b[0m\u001b[0;36m1\u001b[0m\u001b[0;34m]\u001b[0m\u001b[0;34m,\u001b[0m\u001b[0ms\u001b[0m\u001b[0;34m[\u001b[0m\u001b[0;36m0\u001b[0m\u001b[0;34m]\u001b[0m\u001b[0;34m\u001b[0m\u001b[0;34m\u001b[0m\u001b[0m\n\u001b[0m",
      "\u001b[0;31mTypeError\u001b[0m: 'str' object does not support item assignment"
     ]
    }
   ],
   "source": [
    "s[0],s[1]=s[1],s[0]"
   ]
  },
  {
   "cell_type": "code",
   "execution_count": 4,
   "metadata": {},
   "outputs": [],
   "source": [
    "a=[{'id': 10, 'a_value': 'Black', 'a_name_id': 7}, {'id': 11, 'a_value': 'blue', 'a_name_id': 7}, {'id': 12, 'a_value': 'pink', 'a_name_id': 7}, {'id': 13, 'a_value': '5ft', 'a_name_id': 8}]"
   ]
  },
  {
   "cell_type": "code",
   "execution_count": 5,
   "metadata": {},
   "outputs": [],
   "source": [
    "d={}\n",
    "values=[i['a_value'] for i in a]\n",
    "names=['Colors', 'Colors', 'Colors', 'size']\n"
   ]
  },
  {
   "cell_type": "code",
   "execution_count": 88,
   "metadata": {},
   "outputs": [
    {
     "name": "stdout",
     "output_type": "stream",
     "text": [
      "{'Colors': ['Black']}\n",
      "{'Colors': ['Black', 'blue']}\n",
      "{'Colors': ['Black', 'blue', 'pink']}\n",
      "{'Colors': ['Black', 'blue', 'pink'], 'size': ['5ft']}\n"
     ]
    }
   ],
   "source": [
    "li=[]\n",
    "d={}\n",
    "for i in range(len(names)):\n",
    "    if names[i] not in d.keys():\n",
    "        d[names[i]]=[values[i]]\n",
    "    else:\n",
    "        vals=d.get(names[i])\n",
    "        vals.append(values[i])\n",
    "        d[names[i]]=vals\n",
    "    print(d)"
   ]
  },
  {
   "cell_type": "code",
   "execution_count": 108,
   "metadata": {},
   "outputs": [],
   "source": [
    "li=[]\n",
    "for i in d.items():\n",
    "    dd={}\n",
    "    dd[i[0]]=\",\".join(i[1])\n",
    "    \n",
    "    li.append(dd)"
   ]
  },
  {
   "cell_type": "code",
   "execution_count": 124,
   "metadata": {},
   "outputs": [
    {
     "name": "stdout",
     "output_type": "stream",
     "text": [
      "Colors\n",
      "Black,blue,pink\n",
      "size\n",
      "5ft\n"
     ]
    }
   ],
   "source": [
    "for i in li:\n",
    "    for k,v in i.items():\n",
    "        print(k)\n",
    "        print(v)"
   ]
  },
  {
   "cell_type": "code",
   "execution_count": 75,
   "metadata": {},
   "outputs": [],
   "source": [
    " dd={}"
   ]
  },
  {
   "cell_type": "code",
   "execution_count": 76,
   "metadata": {},
   "outputs": [
    {
     "name": "stdout",
     "output_type": "stream",
     "text": [
      "size\n"
     ]
    }
   ],
   "source": [
    "for i in d.keys():\n",
    "    print(i)"
   ]
  },
  {
   "cell_type": "code",
   "execution_count": 77,
   "metadata": {},
   "outputs": [
    {
     "name": "stdout",
     "output_type": "stream",
     "text": [
      "['5ft']\n"
     ]
    }
   ],
   "source": [
    "for i in d.values():\n",
    "    print(i)"
   ]
  },
  {
   "cell_type": "code",
   "execution_count": 82,
   "metadata": {},
   "outputs": [
    {
     "name": "stdout",
     "output_type": "stream",
     "text": [
      "dict_keys(['Colors'])\n",
      "dict_values([['Black']])\n",
      "dict_keys(['Colors'])\n",
      "dict_values([['blue']])\n",
      "dict_keys(['Colors'])\n",
      "dict_values([['pink']])\n",
      "dict_keys(['size'])\n",
      "dict_values([['5ft']])\n"
     ]
    }
   ],
   "source": [
    "for i in li:\n",
    "    print(i.keys())\n",
    "    print(i.values())"
   ]
  },
  {
   "cell_type": "code",
   "execution_count": 1,
   "metadata": {},
   "outputs": [],
   "source": [
    "a=[{'id': 2, 'comment': 'this is great Camara', 'user_id': 1, 'p_id_id': 1},\n",
    " {'id': 3, 'comment': 'this is great product', 'user_id': 2, 'p_id_id': 1}]"
   ]
  },
  {
   "cell_type": "code",
   "execution_count": 2,
   "metadata": {},
   "outputs": [
    {
     "data": {
      "text/plain": [
       "[{'id': 2, 'comment': 'this is great Camara', 'user_id': 1, 'p_id_id': 1},\n",
       " {'id': 3, 'comment': 'this is great product', 'user_id': 2, 'p_id_id': 1}]"
      ]
     },
     "execution_count": 2,
     "metadata": {},
     "output_type": "execute_result"
    }
   ],
   "source": [
    "a"
   ]
  },
  {
   "cell_type": "code",
   "execution_count": 7,
   "metadata": {},
   "outputs": [],
   "source": [
    "for i in a:\n",
    "    i['user_id']=2"
   ]
  },
  {
   "cell_type": "code",
   "execution_count": 8,
   "metadata": {},
   "outputs": [
    {
     "data": {
      "text/plain": [
       "[{'id': 2, 'comment': 'this is great Camara', 'user_id': 2, 'p_id_id': 1},\n",
       " {'id': 3, 'comment': 'this is great product', 'user_id': 2, 'p_id_id': 1}]"
      ]
     },
     "execution_count": 8,
     "metadata": {},
     "output_type": "execute_result"
    }
   ],
   "source": [
    "a"
   ]
  },
  {
   "cell_type": "code",
   "execution_count": 9,
   "metadata": {},
   "outputs": [],
   "source": [
    "b=[]"
   ]
  },
  {
   "cell_type": "code",
   "execution_count": 1,
   "metadata": {},
   "outputs": [],
   "source": [
    "a=[{'id': 1, 'a_value': 'Black', 'a_name_id': 1},\n",
    " {'id': 2, 'a_value': 'Blue', 'a_name_id': 1},\n",
    " {'id': 3, 'a_value': 'pink', 'a_name_id': 1},\n",
    " {'id': 4, 'a_value': 'plastic', 'a_name_id': 2},\n",
    " {'id': 8, 'a_value': '6', 'a_name_id': 3},\n",
    " {'id': 9, 'a_value': '7', 'a_name_id': 3},\n",
    " {'id': 10, 'a_value': '8', 'a_name_id': 3}]"
   ]
  },
  {
   "cell_type": "code",
   "execution_count": 6,
   "metadata": {},
   "outputs": [],
   "source": [
    "names=['Colors', 'Colors', 'Colors', 'material', 'size', 'size', 'size']\n",
    "values=['Black', 'Blue', 'pink', 'plastic', '6', '7', '8']"
   ]
  },
  {
   "cell_type": "code",
   "execution_count": 47,
   "metadata": {},
   "outputs": [],
   "source": [
    "d={}\n",
    "for i in range(len(names)):\n",
    "    if names[i] not in d.keys():\n",
    "        d[names[i]]=[values[i]]\n",
    "    else:\n",
    "        vals=d.get(names[i])\n",
    "        vals.append(values[i])\n",
    "        d[names[i]]=vals\n",
    "li=[]\n",
    "if d !={}:\n",
    "    for i in d.items():\n",
    "        dd={}\n",
    "        dd[i[0]]=i[1]\n",
    "        if len(d[i[0]])>1:\n",
    "            li.append(dd)"
   ]
  },
  {
   "cell_type": "code",
   "execution_count": 48,
   "metadata": {},
   "outputs": [
    {
     "data": {
      "text/plain": [
       "[{'Colors': ['Black', 'Blue', 'pink']}, {'size': ['6', '7', '8']}]"
      ]
     },
     "execution_count": 48,
     "metadata": {},
     "output_type": "execute_result"
    }
   ],
   "source": [
    "[i for i in li]"
   ]
  },
  {
   "cell_type": "code",
   "execution_count": 30,
   "metadata": {},
   "outputs": [
    {
     "data": {
      "text/plain": [
       "1"
      ]
     },
     "execution_count": 30,
     "metadata": {},
     "output_type": "execute_result"
    }
   ],
   "source": [
    "len(li[1].values())"
   ]
  },
  {
   "cell_type": "code",
   "execution_count": 37,
   "metadata": {},
   "outputs": [
    {
     "name": "stdout",
     "output_type": "stream",
     "text": [
      "3\n"
     ]
    }
   ],
   "source": [
    "for i,v in li[2].items():\n",
    "    print(len(v))"
   ]
  },
  {
   "cell_type": "code",
   "execution_count": 9,
   "metadata": {},
   "outputs": [],
   "source": [
    "# Importing Required Module\n",
    "from reportlab.pdfgen import canvas\n",
    "\n",
    "# Creating Canvas\n",
    "c = canvas.Canvas(\"Receipt.pdf\",pagesize=(200,250),bottomup=0)\n",
    "\n",
    "# Logo Section\n",
    "# Setting th origin to (10,40)\n",
    "c.translate(10,40)\n",
    "# Inverting the scale for getting mirror Image of logo\n",
    "c.scale(1,-1)\n",
    "# Inserting Logo into the Canvas at required position\n",
    "c.drawImage(\"123451.png\",0,0,width=50,height=30)\n",
    "\n",
    "# Title Section\n",
    "# Again Inverting Scale For strings insertion\n",
    "c.scale(1,-1)\n",
    "# Again Setting the origin back to (0,0) of top-left\n",
    "c.translate(-10,-40)\n",
    "# Setting the font for Name title of company\n",
    "c.setFont(\"Helvetica-Bold\",10)\n",
    "# Inserting the name of the company\n",
    "c.drawCentredString(125,20,\"Blink The Ecommerce\")\n",
    "# For under lining the title\n",
    "c.line(70,22,180,22)\n",
    "# Changing the font size for Specifying Address\n",
    "c.setFont(\"Helvetica-Bold\",5)\n",
    "c.drawCentredString(125,30,\"The Test of Your Choice\")\n",
    "# c.drawCentredString(125,35,\"New Delhi - 110034, India\")\n",
    "# Changing the font size for Specifying GST Number of firm\n",
    "# c.setFont(\"Helvetica-Bold\",6)\n",
    "# c.drawCentredString(125,42,\"GSTIN : 07AABCS1429B1Z\")\n",
    "\n",
    "# Line Seprating the page header from the body\n",
    "# c.line(5,45,195,45)\n",
    "\n",
    "# Document Information\n",
    "# Changing the font for Document title\n",
    "c.setFont(\"Courier-Bold\",8)\n",
    "c.drawCentredString(100,55,\"TAX-BILL\")\n",
    "\n",
    "# This Block Consist of Costumer Details\n",
    "c.roundRect(15,63,170,40,10,stroke=1,fill=0)\n",
    "c.setFont(\"Times-Bold\",5)\n",
    "c.drawRightString(70,70,\"BILL No. :\")\n",
    "# c.drawRightString(70,100,\"32r3 fs asda sdsfd\")\n",
    "c.drawRightString(70,80,\"DATE :\")\n",
    "c.drawRightString(70,90,\"CUSTOMER NAME :\")\n",
    "c.drawRightString(70,100,\"PHONE No. :\")\n",
    "\n",
    "# This Block Consist of Item Description\n",
    "c.roundRect(15,108,170,130,10,15,stroke=1,fill=0)\n",
    "c.line(15,120,185,120,125)\n",
    "c.drawCentredString(25,118,\"SR No.\")\n",
    "c.drawCentredString(75,118,\"GOODS DESCRIPTION\")\n",
    "c.drawCentredString(125,118,\"RATE\")\n",
    "c.drawCentredString(148,118,\"QTY\")\n",
    "c.drawCentredString(173,118,\"TOTAL\")\n",
    "c.drawCentredString(173,118,\"TOTAL\")\n",
    "\n",
    "# Drawing table for Item Description\n",
    "c.line(15,210,185,210)\n",
    "c.line(35,108,35,220)\n",
    "c.line(115,108,115,220)\n",
    "c.line(135,108,135,220)\n",
    "c.line(160,108,160,220)\n",
    "\n",
    "# Declaration and Signature\n",
    "c.line(15,220,185,220)\n",
    "c.line(100,220,100,238)\n",
    "c.drawString(20,225,\"We declare that above mentioned\")\n",
    "c.drawString(20,230,\"information is true.\")\n",
    "c.drawString(20,235,\"(This is system generated invoive)\")\n",
    "c.drawRightString(180,235,\"Authorised Signatory\")\n",
    "\n",
    "# End the Page and Start with new\n",
    "c.showPage()\n",
    "# Saving the PDF\n",
    "c.save()"
   ]
  },
  {
   "cell_type": "code",
   "execution_count": null,
   "metadata": {},
   "outputs": [],
   "source": []
  }
 ],
 "metadata": {
  "kernelspec": {
   "display_name": "Python 3",
   "language": "python",
   "name": "python3"
  },
  "language_info": {
   "codemirror_mode": {
    "name": "ipython",
    "version": 3
   },
   "file_extension": ".py",
   "mimetype": "text/x-python",
   "name": "python",
   "nbconvert_exporter": "python",
   "pygments_lexer": "ipython3",
   "version": "3.8.5"
  }
 },
 "nbformat": 4,
 "nbformat_minor": 4
}
