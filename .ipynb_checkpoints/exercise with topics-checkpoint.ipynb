{
 "cells": [
  {
   "cell_type": "markdown",
   "id": "794f0f1d",
   "metadata": {},
   "source": [
    "I apologize for the oversight. Here are at least 10 questions per topic for the specified Python topics:\n",
    "\n",
    "### Variables and Data Types:\n",
    "\n",
    "1. Declare a variable `num` with the value 5. What is the type of the variable?\n",
    "2. Create a variable `price` with the value 29.99. Print the price with a dollar sign.\n",
    "3. Assign a string \"Hello\" to a variable `greeting`. Print the greeting.\n",
    "4. Define a boolean variable `is_true` with the value True.\n",
    "5. Create a variable `pi` with the value 3.14159. Round it to two decimal places and print the result.\n",
    "6. Declare an integer variable `count` and increment it by 1. Print the updated count.\n",
    "7. Combine two strings, \"Python\" and \"Programming\", into a single variable and print it.\n",
    "8. Define a variable `is_weekend` and assign a boolean value based on whether today is a weekend day.\n",
    "9. Create a variable `temperature` and assign a float value. Convert it to an integer and print the result.\n",
    "10. Declare a variable `is_raining` and assign a boolean value. Print a message based on the value (e.g., \"Take an umbrella\" if it's raining).\n",
    "\n",
    "### Basic Input and Output:\n",
    "\n",
    "11. Take user input for their favorite color and print a message using that input.\n",
    "12. Prompt the user for their age and print a message addressing them by their age.\n",
    "13. Ask the user to enter two numbers, add them, and print the result.\n",
    "14. Get the user's name and print a personalized greeting.\n",
    "15. Request the user's birth year, calculate their age, and print a message with their age.\n",
    "16. Take two numbers as input and print their product.\n",
    "17. Accept a string input from the user and print it in uppercase.\n",
    "18. Ask the user for the length and width of a rectangle, calculate the area, and print it.\n",
    "19. Prompt the user for their favorite food and print it in a sentence.\n",
    "20. Get the user's height in centimeters and convert it to meters before printing.\n",
    "\n",
    "### Arithmetic Operators:\n",
    "\n",
    "21. Calculate the square of a number and print the result.\n",
    "22. Find the average of three numbers using the appropriate arithmetic operators.\n",
    "23. Calculate the remainder when 15 is divided by 7.\n",
    "24. Take two numbers and perform exponentiation (a^b) on them.\n",
    "25. Create a variable `num` with an initial value, then increment it by 3 and print the result.\n",
    "26. Calculate the area of a circle given its radius (use 3.14 as the value of pi).\n",
    "27. Convert a temperature from Celsius to Fahrenheit using the formula (C * 9/5) + 32.\n",
    "28. Given the base and height of a triangle, calculate its area.\n",
    "29. Implement a program that calculates the total cost of items with different prices.\n",
    "30. Use the floor division operator to find how many times 15 goes into 100.\n",
    "\n",
    "### Comparison Operators:\n",
    "\n",
    "31. Compare two numbers and print whether they are equal.\n",
    "32. Check if a given value is greater than or equal to 100.\n",
    "33. Compare the lengths of two strings and print the result.\n",
    "34. Check if a variable `is_positive` is True and print a message accordingly.\n",
    "35. Compare the values of two variables and print whether they are not equal.\n",
    "36. Determine if a student's score is above 90 and print a congratulatory message.\n",
    "37. Check if the length of a list is less than 5.\n",
    "38. Compare two boolean values and print whether they are both True.\n",
    "39. Use the not operator to check if a variable is False.\n",
    "40. Compare the sum of two numbers with another number.\n",
    "\n",
    "### Logical Operators:\n",
    "\n",
    "41. Combine two boolean variables using the AND operator and print the result.\n",
    "42. Use the OR operator to check if at least one of two conditions is True.\n",
    "43. Check if a number is both greater than 10 and less than 20.\n",
    "44. Use the NOT operator to negate a boolean variable.\n",
    "45. Combine multiple conditions using AND and OR to determine if a person is eligible for a discount.\n",
    "46. Check if a person is a teenager (between 13 and 19 years old) using logical operators.\n",
    "47. Use logical operators to determine if a number is outside the range of 30 to 50.\n",
    "48. Combine boolean variables to check if a user has both admin privileges and is logged in.\n",
    "49. Check if a student's score is either greater than 90 or less than 60.\n",
    "50. Combine conditions to check if a number is positive and even.\n",
    "\n",
    "### Conditional Statements (if, elif, else):\n",
    "\n",
    "51. Implement a program that determines if a number is positive, negative, or zero.\n",
    "52. Write a program that categorizes a person as a child, teenager, or adult based on their age.\n",
    "53. Check if a given year is a leap year or not.\n",
    "54. Determine the type of a triangle (equilateral, isosceles, or scalene) based on its sides.\n",
    "55. Write a program that checks if a person is eligible to vote based on their age.\n",
    "56. Determine if a number is odd or even and print the result.\n",
    "57. Check if a given character is a vowel or a consonant.\n",
    "58. Implement a program that recommends activities based on the weather (sunny, rainy, or snowy).\n",
    "59. Write a program that compares three numbers and prints the largest one.\n",
    "60. Check if a number is a multiple of both 3 and 5.\n",
    "\n",
    "### Loops (for, while):\n",
    "\n",
    "61. Use a for loop to print the first 5 multiples of 3.\n",
    "62. Implement a while loop to print the squares of numbers from 1 to 5.\n",
    "63. Write a program that adds the numbers from 1 to 10 using a for loop.\n",
    "64. Use a while loop to find the factorial of a given number.\n",
    "65. Print the elements of a list using a for loop.\n",
    "66. Create a program that prints the Fibonacci sequence up to the 10th term.\n",
    "67. Sum the odd numbers from 1 to 20 using a for loop.\n",
    "68. Use a while loop to find the square root of a given number.\n",
    "69. Print the characters of a string in reverse order using a loop.\n",
    "70. Write a program that counts down from 10 to 1 using a for loop.\n",
    "\n",
    "### Strings and String Manipulation:\n",
    "\n",
    "71. Concatenate two strings and print the result.\n",
    "72. Extract and print the first two characters from a string.\n",
    "73. Check if a given word is a palindrome.\n",
    "74. Replace a specific word in a sentence with another word.\n",
    "75. Convert a string to lowercase and print the result.\n",
    "76. Capitalize the first letter of each word in a sentence.\n",
    "77. Count the number of occurrences of a specific character in a string.\n",
    "78. Remove leading and trailing whitespaces from a string.\n",
    "79. Check if a string contains a particular substring.\n",
    "80. Split a sentence into a list of words.\n",
    "\n",
    "### Lists:\n",
    "\n",
    "81. Create a list of five integers and print the sum of the elements.\n",
    "82. Add a new element to the list created in question 81.\n",
    "83. Replace the second element of the list with a new value.\n",
    "84. Check if a specific element is present in the list.\n",
    "85. Use list slicing to print the first three elements of the list.\n",
    "86.\n",
    "\n",
    " Remove an element from the list and print the updated list.\n",
    "87. Create a list of strings and concatenate them into a single string.\n",
    "88. Sort the list of integers in ascending order.\n",
    "89. Find the maximum and minimum values in a list of numbers.\n",
    "90. Use list comprehension to create a new list of squares from a given list of numbers.\n",
    "\n",
    "### List Methods:\n",
    "\n",
    "91. Add a new element to the end of a list.\n",
    "92. Insert a new element at a specific position in the list.\n",
    "93. Remove an element from the list by value.\n",
    "94. Count the number of occurrences of a specific element in the list.\n",
    "95. Reverse the order of elements in the list.\n",
    "96. Create a copy of a list and modify the original, observing the changes.\n",
    "97. Extend the list by adding elements from another list.\n",
    "98. Clear all elements from a list.\n",
    "99. Use the pop method to remove and print the last element of a list.\n",
    "100. Check if a list is empty and print a message.\n",
    "\n",
    "These questions cover a variety of scenarios and challenges within each topic. Feel free to adapt them further to suit your learning objectives."
   ]
  },
  {
   "cell_type": "code",
   "execution_count": 1,
   "id": "64edb10d",
   "metadata": {},
   "outputs": [],
   "source": [
    "# Declare a variable num with the value 5. What is the type of the variable?"
   ]
  },
  {
   "cell_type": "code",
   "execution_count": 2,
   "id": "a88f089f",
   "metadata": {},
   "outputs": [
    {
     "data": {
      "text/plain": [
       "int"
      ]
     },
     "execution_count": 2,
     "metadata": {},
     "output_type": "execute_result"
    }
   ],
   "source": [
    "x=5\n",
    "type(x)"
   ]
  },
  {
   "cell_type": "code",
   "execution_count": 12,
   "id": "57ee149f",
   "metadata": {},
   "outputs": [
    {
     "name": "stdout",
     "output_type": "stream",
     "text": [
      "29.99$\n"
     ]
    }
   ],
   "source": [
    "# Create a variable price with the value 29.99. Print the price with a dollar sign.\n",
    "price = 29.99\n",
    "print('%s$' % price)"
   ]
  },
  {
   "cell_type": "code",
   "execution_count": 14,
   "id": "e3e24c87",
   "metadata": {},
   "outputs": [
    {
     "name": "stdout",
     "output_type": "stream",
     "text": [
      "Hello\n"
     ]
    }
   ],
   "source": [
    "# Assign a string \"Hello\" to a variable greeting. Print the greeting.\n",
    "print(\"Hello\")"
   ]
  },
  {
   "cell_type": "code",
   "execution_count": 15,
   "id": "0cbddf5b",
   "metadata": {},
   "outputs": [],
   "source": [
    "# Define a boolean variable is_true with the value True.\n",
    "is_true = True"
   ]
  },
  {
   "cell_type": "code",
   "execution_count": 19,
   "id": "a45a3e14",
   "metadata": {},
   "outputs": [
    {
     "name": "stdout",
     "output_type": "stream",
     "text": [
      "3.14\n"
     ]
    }
   ],
   "source": [
    "# Create a variable pi with the value 3.14159. Round it to two decimal places and print the result.\n",
    "pi=3.14159\n",
    "print(round(pi,2))"
   ]
  },
  {
   "cell_type": "code",
   "execution_count": 21,
   "id": "31349519",
   "metadata": {},
   "outputs": [
    {
     "name": "stdout",
     "output_type": "stream",
     "text": [
      "2\n"
     ]
    }
   ],
   "source": [
    "# Declare an integer variable count and increment it by 1. Print the updated count.\n",
    "a=1\n",
    "print(a+1)"
   ]
  },
  {
   "cell_type": "code",
   "execution_count": 22,
   "id": "ac84efa7",
   "metadata": {},
   "outputs": [
    {
     "name": "stdout",
     "output_type": "stream",
     "text": [
      "Python Programming\n"
     ]
    }
   ],
   "source": [
    "# Combine two strings, \"Python\" and \"Programming\", into a single variable and print it.\n",
    "print(\"Python\"+\" \"+\"Programming\")"
   ]
  },
  {
   "cell_type": "code",
   "execution_count": 33,
   "id": "0bd7b3ac",
   "metadata": {},
   "outputs": [
    {
     "data": {
      "text/plain": [
       "False"
      ]
     },
     "execution_count": 33,
     "metadata": {},
     "output_type": "execute_result"
    }
   ],
   "source": [
    "# Define a variable is_weekend and assign a boolean value based on whether today is a weekend day.\n",
    "from datetime import datetime\n",
    "is_weekend = True if datetime.now().weekday() in [5,6] else False\n",
    "is_weekend"
   ]
  },
  {
   "cell_type": "code",
   "execution_count": 34,
   "id": "27f964d2",
   "metadata": {},
   "outputs": [
    {
     "name": "stdout",
     "output_type": "stream",
     "text": [
      "21\n"
     ]
    }
   ],
   "source": [
    "# Create a variable temperature and assign a float value. Convert it to an integer and print the result.\n",
    "temperature=21.3\n",
    "print(int(temperature))"
   ]
  },
  {
   "cell_type": "code",
   "execution_count": 35,
   "id": "590d9916",
   "metadata": {},
   "outputs": [
    {
     "name": "stdout",
     "output_type": "stream",
     "text": [
      "Take an umbrella\n"
     ]
    }
   ],
   "source": [
    "# Declare a variable is_raining and assign a boolean value. Print a message based on the value (e.g., \"Take an umbrella\" if it's raining).\n",
    "is_raining=True\n",
    "if is_raining:\n",
    "    print(\"Take an umbrella\")"
   ]
  },
  {
   "cell_type": "markdown",
   "id": "a4abc2c3",
   "metadata": {},
   "source": [
    "# Basic Input and Output:\n"
   ]
  },
  {
   "cell_type": "code",
   "execution_count": 46,
   "id": "4a084c72",
   "metadata": {},
   "outputs": [
    {
     "name": "stdout",
     "output_type": "stream",
     "text": [
      "What is your favorite color?black\n",
      "black\n"
     ]
    }
   ],
   "source": [
    "# Take user input for their favorite color and print a message using that input.\n",
    "favorite_color = input(\"What is your favorite color?\")\n",
    "print(favorite_color)"
   ]
  },
  {
   "cell_type": "code",
   "execution_count": 48,
   "id": "50b4d4d2",
   "metadata": {},
   "outputs": [
    {
     "name": "stdout",
     "output_type": "stream",
     "text": [
      "What is your age?19\n",
      "You are Older\n"
     ]
    }
   ],
   "source": [
    "# Prompt the user for their age and print a message addressing them by their age.\n",
    "age = int(input(\"What is your age?\"))\n",
    "if age > 18:\n",
    "    print(\"You are Older\")\n",
    "else:\n",
    "    print(\"You are younger\")"
   ]
  },
  {
   "cell_type": "code",
   "execution_count": 49,
   "id": "ee839326",
   "metadata": {},
   "outputs": [
    {
     "name": "stdout",
     "output_type": "stream",
     "text": [
      "A:2\n",
      "B:3\n",
      "5\n"
     ]
    }
   ],
   "source": [
    "# Ask the user to enter two numbers, add them, and print the result.\n",
    "a=int(input(\"A:\"))\n",
    "b=int(input(\"B:\"))\n",
    "print(a+b)"
   ]
  },
  {
   "cell_type": "code",
   "execution_count": 50,
   "id": "47d0b3f7",
   "metadata": {},
   "outputs": [
    {
     "name": "stdout",
     "output_type": "stream",
     "text": [
      "enter your namejay\n",
      "welcome jay\n"
     ]
    }
   ],
   "source": [
    "# Get the user's name and print a personalized greeting.\n",
    "username = input(\"enter your name\")\n",
    "print(f\"welcome {username}\")"
   ]
  },
  {
   "cell_type": "code",
   "execution_count": 51,
   "id": "4d31ec6f",
   "metadata": {},
   "outputs": [
    {
     "name": "stdout",
     "output_type": "stream",
     "text": [
      "What is your birth year?1999\n",
      "24\n"
     ]
    }
   ],
   "source": [
    "# Request the user's birth year, calculate their age, and print a message with their age.\n",
    "from datetime import datetime\n",
    "birth_year=int(input(\"What is your birth year?\"))\n",
    "age = datetime.now().year-birth_year\n",
    "print(age)"
   ]
  },
  {
   "cell_type": "code",
   "execution_count": 52,
   "id": "e19967b8",
   "metadata": {},
   "outputs": [
    {
     "name": "stdout",
     "output_type": "stream",
     "text": [
      "A:2\n",
      "B:3\n",
      "6\n"
     ]
    }
   ],
   "source": [
    "# Take two numbers as input and print their product.\n",
    "a=int(input(\"A:\"))\n",
    "b=int(input(\"B:\"))\n",
    "print(a*b)"
   ]
  },
  {
   "cell_type": "code",
   "execution_count": 53,
   "id": "191fc8c1",
   "metadata": {},
   "outputs": [
    {
     "name": "stdout",
     "output_type": "stream",
     "text": [
      " Please enter Stringjaydeep\n",
      "JAYDEEP\n"
     ]
    }
   ],
   "source": [
    "# Accept a string input from the user and print it in uppercase.\n",
    "string= input(\" Please enter String\")\n",
    "print(string.upper())"
   ]
  },
  {
   "cell_type": "code",
   "execution_count": 54,
   "id": "d2abf33f",
   "metadata": {},
   "outputs": [
    {
     "name": "stdout",
     "output_type": "stream",
     "text": [
      "length:4\n",
      "width:6\n",
      "24\n"
     ]
    }
   ],
   "source": [
    "# Ask the user for the length and width of a rectangle, calculate the area, and print it.\n",
    "a=int(input(\"length:\"))\n",
    "b=int(input(\"width:\"))\n",
    "print(a*b)"
   ]
  },
  {
   "cell_type": "code",
   "execution_count": 55,
   "id": "7b82fd01",
   "metadata": {},
   "outputs": [
    {
     "name": "stdout",
     "output_type": "stream",
     "text": [
      " Please enter favorite foodchowmin\n",
      " Your favorite food chowmin\n"
     ]
    }
   ],
   "source": [
    "# Prompt the user for their favorite food and print it in a sentence.\n",
    "string= input(\" Please enter favorite food\")\n",
    "print(f\" Your favorite food {string}\")"
   ]
  },
  {
   "cell_type": "code",
   "execution_count": 58,
   "id": "35716faf",
   "metadata": {},
   "outputs": [
    {
     "name": "stdout",
     "output_type": "stream",
     "text": [
      "Enter Your Height160\n",
      "1.6\n"
     ]
    }
   ],
   "source": [
    "# Get the user's height in centimeters and convert it to meters before printing.\n",
    "height = int(input(\"Enter Your Height\"))\n",
    "print(height/100)"
   ]
  },
  {
   "cell_type": "markdown",
   "id": "fb8dd984",
   "metadata": {},
   "source": [
    "# Arithmetic Operators:\n"
   ]
  },
  {
   "cell_type": "code",
   "execution_count": 68,
   "id": "bce949a2",
   "metadata": {},
   "outputs": [
    {
     "name": "stdout",
     "output_type": "stream",
     "text": [
      "25\n"
     ]
    }
   ],
   "source": [
    "# Calculate the square of a number and print the result.\n",
    "a=5\n",
    "print(a*a)"
   ]
  },
  {
   "cell_type": "code",
   "execution_count": 69,
   "id": "7a1b2c65",
   "metadata": {},
   "outputs": [
    {
     "name": "stdout",
     "output_type": "stream",
     "text": [
      "6.0\n"
     ]
    }
   ],
   "source": [
    "# Find the average of three numbers using the appropriate arithmetic operators.\n",
    "a,b,c=5,6,7\n",
    "print((a+b+c)/3)"
   ]
  },
  {
   "cell_type": "code",
   "execution_count": 70,
   "id": "8a3639ba",
   "metadata": {},
   "outputs": [
    {
     "name": "stdout",
     "output_type": "stream",
     "text": [
      "1\n"
     ]
    }
   ],
   "source": [
    "# Calculate the remainder when 15 is divided by 7.\n",
    "print(15%7)"
   ]
  },
  {
   "cell_type": "code",
   "execution_count": 75,
   "id": "e3bec192",
   "metadata": {},
   "outputs": [
    {
     "name": "stdout",
     "output_type": "stream",
     "text": [
      "1\n"
     ]
    }
   ],
   "source": [
    "# Take two numbers and perform exponentiation (a^b) on them.\n",
    "a=3\n",
    "b=2\n",
    "print(a^b)"
   ]
  },
  {
   "cell_type": "code",
   "execution_count": 76,
   "id": "6e332ebc",
   "metadata": {},
   "outputs": [
    {
     "name": "stdout",
     "output_type": "stream",
     "text": [
      "6\n"
     ]
    }
   ],
   "source": [
    "# Create a variable num with an initial value, then increment it by 3 and print the result.\n",
    "a=3\n",
    "print(a+3)"
   ]
  },
  {
   "cell_type": "code",
   "execution_count": 77,
   "id": "743a2307",
   "metadata": {},
   "outputs": [
    {
     "name": "stdout",
     "output_type": "stream",
     "text": [
      "100.48\n"
     ]
    }
   ],
   "source": [
    "# Calculate the area of a circle given its radius (use 3.14 as the value of pi).\n",
    "r=4\n",
    "print(2*3.14*r**2)"
   ]
  },
  {
   "cell_type": "code",
   "execution_count": 78,
   "id": "8200767b",
   "metadata": {},
   "outputs": [
    {
     "name": "stdout",
     "output_type": "stream",
     "text": [
      "95.0\n"
     ]
    }
   ],
   "source": [
    "# Convert a temperature from Celsius to Fahrenheit using the formula (C * 9/5) + 32.\n",
    "C= 35\n",
    "print((C*9/5)+32)"
   ]
  },
  {
   "cell_type": "code",
   "execution_count": 79,
   "id": "6ea69a14",
   "metadata": {},
   "outputs": [
    {
     "name": "stdout",
     "output_type": "stream",
     "text": [
      "4.0\n"
     ]
    }
   ],
   "source": [
    "# Given the base and height of a triangle, calculate its area.\n",
    "b= 2\n",
    "h=4\n",
    "print(1/2*b*h)"
   ]
  },
  {
   "cell_type": "code",
   "execution_count": 80,
   "id": "e04ecce2",
   "metadata": {},
   "outputs": [
    {
     "name": "stdout",
     "output_type": "stream",
     "text": [
      "600\n"
     ]
    }
   ],
   "source": [
    "# Implement a program that calculates the total cost of items with different prices.\n",
    "price1=100\n",
    "price2=200\n",
    "price3=300\n",
    "print(price1+price2+price3)"
   ]
  },
  {
   "cell_type": "code",
   "execution_count": 82,
   "id": "33b1eafd",
   "metadata": {},
   "outputs": [
    {
     "data": {
      "text/plain": [
       "6"
      ]
     },
     "execution_count": 82,
     "metadata": {},
     "output_type": "execute_result"
    }
   ],
   "source": [
    "# Use the floor division operator to find how many times 15 goes into 100.\n",
    "import math\n",
    "math.floor(100/15)"
   ]
  },
  {
   "cell_type": "markdown",
   "id": "fe867a66",
   "metadata": {},
   "source": [
    "# Comparison Operators:"
   ]
  },
  {
   "cell_type": "code",
   "execution_count": 92,
   "id": "cea826e6",
   "metadata": {},
   "outputs": [
    {
     "name": "stdout",
     "output_type": "stream",
     "text": [
      "False\n"
     ]
    }
   ],
   "source": [
    "# Compare two numbers and print whether they are equal.\n",
    "a=4\n",
    "b=5\n",
    "print(a==b)"
   ]
  },
  {
   "cell_type": "code",
   "execution_count": 93,
   "id": "933989c8",
   "metadata": {},
   "outputs": [
    {
     "name": "stdout",
     "output_type": "stream",
     "text": [
      "True\n"
     ]
    }
   ],
   "source": [
    "# Check if a given value is greater than or equal to 100.\n",
    "print(5<=100)"
   ]
  },
  {
   "cell_type": "code",
   "execution_count": 94,
   "id": "340cd95f",
   "metadata": {},
   "outputs": [
    {
     "name": "stdout",
     "output_type": "stream",
     "text": [
      "False\n"
     ]
    }
   ],
   "source": [
    "# Compare the lengths of two strings and print the result.\n",
    "a=\"first\"\n",
    "b=\"two\"\n",
    "print(len(a)==len(b))"
   ]
  },
  {
   "cell_type": "code",
   "execution_count": 95,
   "id": "83614956",
   "metadata": {},
   "outputs": [
    {
     "name": "stdout",
     "output_type": "stream",
     "text": [
      "Positive\n"
     ]
    }
   ],
   "source": [
    "# Check if a variable is_positive is True and print a message accordingly.\n",
    "is_positive = True\n",
    "print(\"Positive\" if is_positive else \"Negative\")"
   ]
  },
  {
   "cell_type": "code",
   "execution_count": 96,
   "id": "00d32055",
   "metadata": {},
   "outputs": [
    {
     "name": "stdout",
     "output_type": "stream",
     "text": [
      "True\n"
     ]
    }
   ],
   "source": [
    "# Compare the values of two variables and print whether they are not equal.\n",
    "print(5==5)"
   ]
  },
  {
   "cell_type": "code",
   "execution_count": 97,
   "id": "58684294",
   "metadata": {},
   "outputs": [
    {
     "name": "stdout",
     "output_type": "stream",
     "text": [
      "Congratulations\n"
     ]
    }
   ],
   "source": [
    "# Determine if a student's score is above 90 and print a congratulatory message.\n",
    "score = 91\n",
    "print(\"Congratulations\" if score > 90 else \"\")"
   ]
  },
  {
   "cell_type": "code",
   "execution_count": 98,
   "id": "16ed7096",
   "metadata": {},
   "outputs": [
    {
     "name": "stdout",
     "output_type": "stream",
     "text": [
      "False\n"
     ]
    }
   ],
   "source": [
    "# Check if the length of a list is less than 5.\n",
    "li=[2,3,4,5,6]\n",
    "print(len(li)<5)"
   ]
  },
  {
   "cell_type": "code",
   "execution_count": 99,
   "id": "a48a44de",
   "metadata": {},
   "outputs": [
    {
     "name": "stdout",
     "output_type": "stream",
     "text": [
      "True False\n"
     ]
    }
   ],
   "source": [
    "# Compare two boolean values and print whether they are both True.\n",
    "a=True\n",
    "b=True\n",
    "c=False\n",
    "print(a==b,b==c)"
   ]
  },
  {
   "cell_type": "code",
   "execution_count": 101,
   "id": "f7a3e6c0",
   "metadata": {},
   "outputs": [
    {
     "name": "stdout",
     "output_type": "stream",
     "text": [
      "True\n"
     ]
    }
   ],
   "source": [
    "# Use the not operator to check if a variable is False.\n",
    "var=False\n",
    "print(not var)"
   ]
  },
  {
   "cell_type": "code",
   "execution_count": 102,
   "id": "45eee39b",
   "metadata": {},
   "outputs": [
    {
     "name": "stdout",
     "output_type": "stream",
     "text": [
      "True\n"
     ]
    }
   ],
   "source": [
    "# Compare the sum of two numbers with another number.\n",
    "a,b=4,5\n",
    "print(a+b<10)"
   ]
  },
  {
   "cell_type": "markdown",
   "id": "e6204010",
   "metadata": {},
   "source": [
    "# Logical Operators:"
   ]
  },
  {
   "cell_type": "code",
   "execution_count": 114,
   "id": "34443748",
   "metadata": {},
   "outputs": [
    {
     "name": "stdout",
     "output_type": "stream",
     "text": [
      "True\n",
      "False\n"
     ]
    }
   ],
   "source": [
    "# Combine two boolean variables using the AND operator and print the result.\n",
    "print(True and True)\n",
    "print(True and False)"
   ]
  },
  {
   "cell_type": "code",
   "execution_count": 115,
   "id": "96723f85",
   "metadata": {},
   "outputs": [
    {
     "name": "stdout",
     "output_type": "stream",
     "text": [
      "True\n",
      "True\n"
     ]
    }
   ],
   "source": [
    "# Use the OR operator to check if at least one of two conditions is True.\n",
    "print(True or True)\n",
    "print(True or False)"
   ]
  },
  {
   "cell_type": "code",
   "execution_count": 116,
   "id": "ba739c1a",
   "metadata": {},
   "outputs": [
    {
     "name": "stdout",
     "output_type": "stream",
     "text": [
      " Yes, it is  greater than 10 and less than 20\n"
     ]
    }
   ],
   "source": [
    "# Check if a number is both greater than 10 and less than 20.\n",
    "a=15\n",
    "if a > 10 and a < 20:\n",
    "    print(\" Yes, it is  greater than 10 and less than 20\")"
   ]
  },
  {
   "cell_type": "code",
   "execution_count": 117,
   "id": "ed142f4a",
   "metadata": {},
   "outputs": [
    {
     "name": "stdout",
     "output_type": "stream",
     "text": [
      "False\n"
     ]
    }
   ],
   "source": [
    "# Use the NOT operator to negate a boolean variable.\n",
    "print(not True)"
   ]
  },
  {
   "cell_type": "code",
   "execution_count": 122,
   "id": "b6f8a59f",
   "metadata": {},
   "outputs": [
    {
     "name": "stdout",
     "output_type": "stream",
     "text": [
      "Enter purchase100\n",
      "enter your age17\n",
      "Eligible for Discount\n"
     ]
    }
   ],
   "source": [
    "# Combine multiple conditions using AND and OR to determine if a person is eligible for a discount.\n",
    "purchase = int(input(\"Enter purchase\"))\n",
    "age = int(input(\"enter your age\"))\n",
    "print(\"Eligible for Discount\" if (age >=18 and purchase > 100) or (age<18  and purchase < 1000) else \"Not eligible\")"
   ]
  },
  {
   "cell_type": "code",
   "execution_count": 123,
   "id": "5df00ceb",
   "metadata": {},
   "outputs": [
    {
     "name": "stdout",
     "output_type": "stream",
     "text": [
      "teenager\n"
     ]
    }
   ],
   "source": [
    "# Check if a person is a teenager (between 13 and 19 years old) using logical operators.\n",
    "age = int(input(\"Enter your age\"))\n",
    "print(\"teenager\" if age >= 13 and age <= 19 else \"not teenager\")"
   ]
  },
  {
   "cell_type": "code",
   "execution_count": 130,
   "id": "be5b685e",
   "metadata": {},
   "outputs": [
    {
     "name": "stdout",
     "output_type": "stream",
     "text": [
      "Enter Number 10\n",
      "within 30 to 50\n"
     ]
    }
   ],
   "source": [
    "# Use logical operators to determine if a number is outside the range of 30 to 50.\n",
    "number = int(input(\"Enter Number \"))\n",
    "print(\"number outside of range 30 to 50\" if not 30 >= number <=50 else \"within 30 to 50\")"
   ]
  },
  {
   "cell_type": "code",
   "execution_count": 132,
   "id": "a17236b9",
   "metadata": {},
   "outputs": [
    {
     "name": "stdout",
     "output_type": "stream",
     "text": [
      "False\n"
     ]
    }
   ],
   "source": [
    "# Combine boolean variables to check if a user has both admin privileges and is logged in.\n",
    "is_admin_privileges = True\n",
    "is_logged_in = False\n",
    "print(True if is_admin_privileges and is_logged_in else False)"
   ]
  },
  {
   "cell_type": "code",
   "execution_count": 137,
   "id": "82122846",
   "metadata": {},
   "outputs": [
    {
     "name": "stdout",
     "output_type": "stream",
     "text": [
      "Enter Score89\n",
      "Other\n"
     ]
    }
   ],
   "source": [
    "# Check if a student's score is either greater than 90 or less than 60.\n",
    "score = int(input(\"Enter Score\"))\n",
    "print(\"Greater then 90 or less then 60\" if score >=90 or score <= 60 else \"Other\")"
   ]
  },
  {
   "cell_type": "code",
   "execution_count": 143,
   "id": "7189f9aa",
   "metadata": {},
   "outputs": [
    {
     "name": "stdout",
     "output_type": "stream",
     "text": [
      "Enter Number 4\n",
      "Positive and Even\n"
     ]
    }
   ],
   "source": [
    "# Combine conditions to check if a number is positive and even.\n",
    "number = int(input(\"Enter Number \"))\n",
    "print(\"Positive and Even\" if number > 0 and number%2==0 else \"Other\")"
   ]
  },
  {
   "cell_type": "markdown",
   "id": "b0ed76ad",
   "metadata": {},
   "source": [
    "# Conditional Statements (if, elif, else):\n"
   ]
  },
  {
   "cell_type": "code",
   "execution_count": 155,
   "id": "4c8bab77",
   "metadata": {},
   "outputs": [
    {
     "name": "stdout",
     "output_type": "stream",
     "text": [
      "enter number6\n",
      "this number is positive\n"
     ]
    }
   ],
   "source": [
    "# Implement a program that determines if a number is positive, negative, or zero.\n",
    "number = int(input(\"enter number\"))\n",
    "if number <0:\n",
    "    print(\"this number is negative\")\n",
    "elif number > 0:\n",
    "    print(\"this number is positive\")\n",
    "else:\n",
    "    print(\"this number is zero\")"
   ]
  },
  {
   "cell_type": "code",
   "execution_count": 158,
   "id": "a3b493ac",
   "metadata": {},
   "outputs": [
    {
     "name": "stdout",
     "output_type": "stream",
     "text": [
      "enter age9\n",
      "You are child\n"
     ]
    }
   ],
   "source": [
    "# Write a program that categorizes a person as a child, teenager, or adult based on their age.\n",
    "age = int(input(\"enter age\"))\n",
    "if age < 13:\n",
    "    print(\"You are child\")\n",
    "elif 20>=age >= 13:\n",
    "    print(\"You are teenager\")\n",
    "else:\n",
    "    print(\"you are adult\")"
   ]
  },
  {
   "cell_type": "code",
   "execution_count": 166,
   "id": "8a8e6ad5",
   "metadata": {},
   "outputs": [
    {
     "name": "stdout",
     "output_type": "stream",
     "text": [
      "Enter Year2020\n",
      "year is leap year\n"
     ]
    }
   ],
   "source": [
    "# Check if a given year is a leap year or not.\n",
    "# A year is a leap year if the following conditions are satisfied: \n",
    "\n",
    "# The year is multiple of 400.\n",
    "# The year is a multiple of 4 and not a multiple of 100.\n",
    "year = int(input(\"Enter Year\"))\n",
    "if (year%400 == 0 or (year%4==0 and year%100!=0)):\n",
    "    print(\"year is leap year\")\n",
    "else:\n",
    "    print(\"year is not leap year\")"
   ]
  },
  {
   "cell_type": "code",
   "execution_count": 170,
   "id": "b399e526",
   "metadata": {},
   "outputs": [
    {
     "name": "stdout",
     "output_type": "stream",
     "text": [
      "Enter A 2\n",
      "Enter B 2\n",
      "Enter C 3\n",
      "this is isosceles\n"
     ]
    }
   ],
   "source": [
    "# Determine the type of a triangle (equilateral, isosceles, or scalene) based on its sides.\n",
    "a=int(input(\"Enter A \"))\n",
    "b=int(input(\"Enter B \"))\n",
    "c=int(input(\"Enter C \"))\n",
    "\n",
    "if (a == b ==c):\n",
    "    print(\" this is equilateral\")\n",
    "elif (a != b !=c ):\n",
    "    print(\" this is scalene\")\n",
    "else:\n",
    "    print(\"this is isosceles\")"
   ]
  },
  {
   "cell_type": "code",
   "execution_count": 171,
   "id": "547cba3b",
   "metadata": {},
   "outputs": [
    {
     "name": "stdout",
     "output_type": "stream",
     "text": [
      "enter age29\n",
      "Eligible for vote\n"
     ]
    }
   ],
   "source": [
    "# Write a program that checks if a person is eligible to vote based on their age.\n",
    "age=int(input(\"enter age\"))\n",
    "if age > 18:\n",
    "    print(\"Eligible for vote\")"
   ]
  },
  {
   "cell_type": "code",
   "execution_count": 172,
   "id": "f2036513",
   "metadata": {},
   "outputs": [
    {
     "name": "stdout",
     "output_type": "stream",
     "text": [
      "Enter Number2\n",
      "This is Even Number\n"
     ]
    }
   ],
   "source": [
    "# Determine if a number is odd or even and print the result.\n",
    "number = int(input(\"Enter Number\"))\n",
    "if (number%2!=0):\n",
    "    print(\"This is Odd number\")\n",
    "else:\n",
    "    print(\"This is Even Number\")"
   ]
  },
  {
   "cell_type": "code",
   "execution_count": 177,
   "id": "c610a55e",
   "metadata": {},
   "outputs": [
    {
     "name": "stdout",
     "output_type": "stream",
     "text": [
      "Enter Vowel or consonantf\n",
      "this is consonant\n"
     ]
    }
   ],
   "source": [
    "# Check if a given character is a vowel or a consonant.\n",
    "letter = input(\"Enter Vowel or consonant\")\n",
    "if (letter in 'aeiou'):\n",
    "    print(\"This is Vowel\")\n",
    "else:\n",
    "    print(\"this is consonant\")"
   ]
  },
  {
   "cell_type": "code",
   "execution_count": 174,
   "id": "792b111f",
   "metadata": {},
   "outputs": [],
   "source": [
    "# Implement a program that recommends activities based on the weather (sunny, rainy, or snowy).\n"
   ]
  },
  {
   "cell_type": "code",
   "execution_count": 182,
   "id": "79c53589",
   "metadata": {},
   "outputs": [
    {
     "name": "stdout",
     "output_type": "stream",
     "text": [
      "Enter A Number2\n",
      "Enter B Number2\n",
      "Enter C Number2\n",
      "C is Greate with value 2\n"
     ]
    }
   ],
   "source": [
    "# Write a program that compares three numbers and prints the largest one.\n",
    "a= int(input(\"Enter A Number\"))\n",
    "b= int(input(\"Enter B Number\"))\n",
    "c= int(input(\"Enter C Number\"))\n",
    "if a > b and a> c:\n",
    "    print(f\"A is Greate with value {a}\")\n",
    "elif b > a and b> c:\n",
    "    print(f\"B is Greate with value {b}\")\n",
    "else:\n",
    "    print(f\"C is Greate with value {c}\")\n",
    "        "
   ]
  },
  {
   "cell_type": "code",
   "execution_count": 184,
   "id": "933f241d",
   "metadata": {},
   "outputs": [
    {
     "name": "stdout",
     "output_type": "stream",
     "text": [
      "Enter A Number15\n",
      "15 this is multiple of 3 and 5\n"
     ]
    }
   ],
   "source": [
    "# Check if a number is a multiple of both 3 and 5.\n",
    "number = int(input(\"Enter A Number\"))\n",
    "if (number%3==0 and number%5 ==0):\n",
    "    print(number,\"this is multiple of 3 and 5\")\n",
    "else:\n",
    "    print(\"not multiple of 3 and 5\")"
   ]
  },
  {
   "cell_type": "markdown",
   "id": "934c70a8",
   "metadata": {},
   "source": [
    "# Loops (for, while):\n"
   ]
  },
  {
   "cell_type": "code",
   "execution_count": 197,
   "id": "29ab9a5a",
   "metadata": {},
   "outputs": [
    {
     "name": "stdout",
     "output_type": "stream",
     "text": [
      "15\n"
     ]
    }
   ],
   "source": [
    "# Use a for loop to print the first 5 multiples of 3.\n",
    "for i in range(0,5*3+1):\n",
    "    if (i!=0  and i%3==0 and i%5 ==0):\n",
    "        print(i)"
   ]
  },
  {
   "cell_type": "code",
   "execution_count": 199,
   "id": "e23b8c4d",
   "metadata": {},
   "outputs": [
    {
     "name": "stdout",
     "output_type": "stream",
     "text": [
      "1\n",
      "4\n",
      "9\n",
      "16\n",
      "25\n"
     ]
    }
   ],
   "source": [
    "# Implement a while loop to print the squares of numbers from 1 to 5.\n",
    "i=1\n",
    "while i<6:\n",
    "    print(i**2)\n",
    "    i+=1"
   ]
  },
  {
   "cell_type": "code",
   "execution_count": 200,
   "id": "2cfe575e",
   "metadata": {},
   "outputs": [
    {
     "name": "stdout",
     "output_type": "stream",
     "text": [
      "55\n"
     ]
    }
   ],
   "source": [
    "# Write a program that adds the numbers from 1 to 10 using a for loop.\n",
    "sums=0\n",
    "for i in range(0,11):\n",
    "    sums+=i\n",
    "print(sums)"
   ]
  },
  {
   "cell_type": "code",
   "execution_count": 201,
   "id": "29a4318b",
   "metadata": {},
   "outputs": [
    {
     "name": "stdout",
     "output_type": "stream",
     "text": [
      "Enter Number7\n",
      "5040\n"
     ]
    }
   ],
   "source": [
    "# Use a while loop to find the factorial of a given number.\n",
    "# factorial => given number => 7 => 7*6*5*4*3*2*1\n",
    "number = int(input(\"Enter Number\"))\n",
    "factorial=1\n",
    "while number > 0:\n",
    "    factorial*=number\n",
    "    number-=1\n",
    "print(factorial)"
   ]
  },
  {
   "cell_type": "code",
   "execution_count": 202,
   "id": "6c803593",
   "metadata": {},
   "outputs": [
    {
     "name": "stdout",
     "output_type": "stream",
     "text": [
      "1\n",
      "2\n",
      "3\n",
      "4\n"
     ]
    }
   ],
   "source": [
    "# Print the elements of a list using a for loop.\n",
    "li=[1,2,3,4]\n",
    "for i in li:\n",
    "    print(i)"
   ]
  },
  {
   "cell_type": "code",
   "execution_count": 206,
   "id": "96fd2f73",
   "metadata": {},
   "outputs": [
    {
     "name": "stdout",
     "output_type": "stream",
     "text": [
      "1\n",
      "1\n",
      "2\n",
      "3\n",
      "5\n",
      "8\n",
      "13\n",
      "21\n",
      "34\n",
      "55\n",
      "89\n"
     ]
    }
   ],
   "source": [
    "# Create a program that prints the Fibonacci sequence up to the 10th term.\n",
    "# 1,1,2,3,5\n",
    "number = 10 \n",
    "first =1\n",
    "second=1\n",
    "print(first)\n",
    "for i in range(0,number):\n",
    "    print(second) #2\n",
    "    temp=second #1\n",
    "    second+=first # 3\n",
    "    first=temp # 1\n"
   ]
  },
  {
   "cell_type": "code",
   "execution_count": 211,
   "id": "e1e3713c",
   "metadata": {},
   "outputs": [
    {
     "name": "stdout",
     "output_type": "stream",
     "text": [
      "100\n"
     ]
    }
   ],
   "source": [
    "# Sum the odd numbers from 1 to 20 using a for loop.\n",
    "sums =0\n",
    "for i in range(0,21):\n",
    "    if i%2!=0:\n",
    "        sums+=i\n",
    "print(sums)\n"
   ]
  },
  {
   "cell_type": "code",
   "execution_count": 214,
   "id": "3a4e076c",
   "metadata": {},
   "outputs": [
    {
     "name": "stdout",
     "output_type": "stream",
     "text": [
      "Enter number5\n",
      "0\n",
      "1\n",
      "4\n",
      "9\n",
      "16\n"
     ]
    }
   ],
   "source": [
    "# Use a while loop to find the square root of a given number.\n",
    "number = int(input(\"Enter number\"))\n",
    "i=0\n",
    "while  i < number:\n",
    "    print(i**2)\n",
    "    i+=1"
   ]
  },
  {
   "cell_type": "code",
   "execution_count": 221,
   "id": "b36e061d",
   "metadata": {},
   "outputs": [
    {
     "name": "stdout",
     "output_type": "stream",
     "text": [
      "o\n",
      "l\n",
      "l\n",
      "e\n",
      "h\n"
     ]
    }
   ],
   "source": [
    "# Print the characters of a string in reverse order using a loop.\n",
    "string = \"hello\"\n",
    "for i in range(0,len(string)):\n",
    "    print(string[-i-1])"
   ]
  },
  {
   "cell_type": "code",
   "execution_count": 222,
   "id": "5e828409",
   "metadata": {},
   "outputs": [],
   "source": [
    "# Write a program that counts down from 10 to 1 using a for loop.\n"
   ]
  },
  {
   "cell_type": "markdown",
   "id": "b7df753f",
   "metadata": {},
   "source": [
    "# Strings and String Manipulation:\n"
   ]
  },
  {
   "cell_type": "code",
   "execution_count": 234,
   "id": "9e85e82d",
   "metadata": {},
   "outputs": [
    {
     "name": "stdout",
     "output_type": "stream",
     "text": [
      "abc def\n"
     ]
    }
   ],
   "source": [
    "# Concatenate two strings and print the result.\n",
    "print(\"abc \"+\"def\")"
   ]
  },
  {
   "cell_type": "code",
   "execution_count": 235,
   "id": "f4f20b13",
   "metadata": {},
   "outputs": [
    {
     "name": "stdout",
     "output_type": "stream",
     "text": [
      "he\n"
     ]
    }
   ],
   "source": [
    "# Extract and print the first two characters from a string.\n",
    "print(\"hello\"[0:2])"
   ]
  },
  {
   "cell_type": "code",
   "execution_count": 248,
   "id": "69b1dc61",
   "metadata": {},
   "outputs": [
    {
     "name": "stdout",
     "output_type": "stream",
     "text": [
      "palindrom\n"
     ]
    }
   ],
   "source": [
    "# Check if a given word is a palindrome.\n",
    "string = \"nayan\"\n",
    "\n",
    "print(\"palindrom\" if string[::-1]== string else \"Non palindrom \")\n"
   ]
  },
  {
   "cell_type": "code",
   "execution_count": 249,
   "id": "52ab76d0",
   "metadata": {},
   "outputs": [
    {
     "name": "stdout",
     "output_type": "stream",
     "text": [
      "This is not great\n"
     ]
    }
   ],
   "source": [
    "# Replace a specific word in a sentence with another word.\n",
    "original_word = \"This is great\"\n",
    "replace_word = \"not great\"\n",
    "print(original_word.replace(\"great\",replace_word))"
   ]
  },
  {
   "cell_type": "code",
   "execution_count": 250,
   "id": "6fcb3640",
   "metadata": {},
   "outputs": [
    {
     "name": "stdout",
     "output_type": "stream",
     "text": [
      "hello\n"
     ]
    }
   ],
   "source": [
    "# Convert a string to lowercase and print the result.\n",
    "string = \"HELlo\"\n",
    "print(string.lower())"
   ]
  },
  {
   "cell_type": "code",
   "execution_count": 251,
   "id": "d7d2fc77",
   "metadata": {},
   "outputs": [
    {
     "name": "stdout",
     "output_type": "stream",
     "text": [
      "This Is Great\n"
     ]
    }
   ],
   "source": [
    "# Capitalize the first letter of each word in a sentence.\n",
    "original_word = \"This is great\"\n",
    "print(original_word.title())"
   ]
  },
  {
   "cell_type": "code",
   "execution_count": 252,
   "id": "7e32ce0d",
   "metadata": {},
   "outputs": [
    {
     "data": {
      "text/plain": [
       "2"
      ]
     },
     "execution_count": 252,
     "metadata": {},
     "output_type": "execute_result"
    }
   ],
   "source": [
    "# Count the number of occurrences of a specific character in a string.\n",
    "original_word = \"This is great\"\n",
    "specific_char = \"i\"\n",
    "original_word.count(specific_char)"
   ]
  },
  {
   "cell_type": "code",
   "execution_count": 253,
   "id": "832f24b6",
   "metadata": {},
   "outputs": [
    {
     "name": "stdout",
     "output_type": "stream",
     "text": [
      "This is great\n"
     ]
    }
   ],
   "source": [
    "# Remove leading and trailing whitespaces from a string.\n",
    "original_word = \" This is great  \"\n",
    "print(original_word.strip())"
   ]
  },
  {
   "cell_type": "code",
   "execution_count": 255,
   "id": "719cb12c",
   "metadata": {},
   "outputs": [
    {
     "name": "stdout",
     "output_type": "stream",
     "text": [
      "-1 9\n"
     ]
    }
   ],
   "source": [
    "# Check if a string contains a particular substring.\n",
    "original_word = \" This is great  \"\n",
    "print(original_word.find(\"sfasd\"),original_word.find(\"great\"))"
   ]
  },
  {
   "cell_type": "code",
   "execution_count": 256,
   "id": "4bd3d4e9",
   "metadata": {},
   "outputs": [
    {
     "name": "stdout",
     "output_type": "stream",
     "text": [
      "['This', 'is', 'great']\n"
     ]
    }
   ],
   "source": [
    "# Split a sentence into a list of words.\n",
    "original_word=\" This is great  \"\n",
    "print(original_word.strip().split(\" \"))"
   ]
  },
  {
   "cell_type": "markdown",
   "id": "090c1aa1",
   "metadata": {},
   "source": [
    "# Lists:\n"
   ]
  },
  {
   "cell_type": "code",
   "execution_count": 268,
   "id": "46e20f5b",
   "metadata": {},
   "outputs": [
    {
     "name": "stdout",
     "output_type": "stream",
     "text": [
      "15\n"
     ]
    }
   ],
   "source": [
    "# Create a list of five integers and print the sum of the elements.\n",
    "print(sum(range(0,6)))"
   ]
  },
  {
   "cell_type": "code",
   "execution_count": 270,
   "id": "cfbd554a",
   "metadata": {},
   "outputs": [
    {
     "data": {
      "text/plain": [
       "[1, 2, 3, 4]"
      ]
     },
     "execution_count": 270,
     "metadata": {},
     "output_type": "execute_result"
    }
   ],
   "source": [
    "\n",
    "# Add a new element to the list created in question 81.\n",
    "li=[1,2,3]\n",
    "li.append(4)\n",
    "li"
   ]
  },
  {
   "cell_type": "code",
   "execution_count": 274,
   "id": "39f56c3c",
   "metadata": {},
   "outputs": [
    {
     "data": {
      "text/plain": [
       "[1, 4, 3]"
      ]
     },
     "execution_count": 274,
     "metadata": {},
     "output_type": "execute_result"
    }
   ],
   "source": [
    "\n",
    "# Replace the second element of the list with a new value.\n",
    "li=[1,2,3]\n",
    "li[1]=4\n",
    "li"
   ]
  },
  {
   "cell_type": "code",
   "execution_count": 275,
   "id": "b5119e5a",
   "metadata": {},
   "outputs": [
    {
     "data": {
      "text/plain": [
       "False"
      ]
     },
     "execution_count": 275,
     "metadata": {},
     "output_type": "execute_result"
    }
   ],
   "source": [
    "\n",
    "# Check if a specific element is present in the list.\n",
    "2 in li"
   ]
  },
  {
   "cell_type": "code",
   "execution_count": 276,
   "id": "2c65fb72",
   "metadata": {},
   "outputs": [
    {
     "data": {
      "text/plain": [
       "[0, 1, 2]"
      ]
     },
     "execution_count": 276,
     "metadata": {},
     "output_type": "execute_result"
    }
   ],
   "source": [
    "\n",
    "# Use list slicing to print the first three elements of the list.\n",
    "li=list(range(0,10))\n",
    "li[0:3]"
   ]
  },
  {
   "cell_type": "code",
   "execution_count": 278,
   "id": "bddcae93",
   "metadata": {},
   "outputs": [
    {
     "data": {
      "text/plain": [
       "[0, 1, 2, 3, 4, 5, 6, 7, 8]"
      ]
     },
     "execution_count": 278,
     "metadata": {},
     "output_type": "execute_result"
    }
   ],
   "source": [
    "\n",
    "# Remove an element from the list and print the updated list.\n",
    "li=list(range(0,10))\n",
    "li.remove(9)\n",
    "li"
   ]
  },
  {
   "cell_type": "code",
   "execution_count": 279,
   "id": "c7803249",
   "metadata": {},
   "outputs": [
    {
     "data": {
      "text/plain": [
       "'this is great'"
      ]
     },
     "execution_count": 279,
     "metadata": {},
     "output_type": "execute_result"
    }
   ],
   "source": [
    "\n",
    "# Create a list of strings and concatenate them into a single string.\n",
    "li=[\"this\",'is','great']\n",
    "\" \".join(li)"
   ]
  },
  {
   "cell_type": "code",
   "execution_count": 280,
   "id": "e0bf836a",
   "metadata": {},
   "outputs": [
    {
     "data": {
      "text/plain": [
       "[0, 1, 2, 3, 4, 5, 6, 7, 8, 9]"
      ]
     },
     "execution_count": 280,
     "metadata": {},
     "output_type": "execute_result"
    }
   ],
   "source": [
    "# Sort the list of integers in ascending order.\n",
    "li=list(range(0,10))\n",
    "li.sort()\n",
    "li"
   ]
  },
  {
   "cell_type": "code",
   "execution_count": 281,
   "id": "f512d242",
   "metadata": {},
   "outputs": [
    {
     "data": {
      "text/plain": [
       "(9, 0)"
      ]
     },
     "execution_count": 281,
     "metadata": {},
     "output_type": "execute_result"
    }
   ],
   "source": [
    "\n",
    "# Find the maximum and minimum values in a list of numbers.\n",
    "max(li),min(li)"
   ]
  },
  {
   "cell_type": "code",
   "execution_count": 283,
   "id": "ce0cee87",
   "metadata": {},
   "outputs": [
    {
     "data": {
      "text/plain": [
       "[0, 1, 4, 9, 16, 25, 36, 49, 64, 81]"
      ]
     },
     "execution_count": 283,
     "metadata": {},
     "output_type": "execute_result"
    }
   ],
   "source": [
    "\n",
    "# Use list comprehension to create a new list of squares from a given list of numbers.\n",
    "li2=[i**2 for i in li]\n",
    "li2"
   ]
  },
  {
   "cell_type": "markdown",
   "id": "23110100",
   "metadata": {},
   "source": [
    "# List Methods:\n"
   ]
  },
  {
   "cell_type": "code",
   "execution_count": 294,
   "id": "2440469d",
   "metadata": {},
   "outputs": [
    {
     "name": "stdout",
     "output_type": "stream",
     "text": [
      "[0, 1, 2, 3, 4, 5]\n"
     ]
    },
    {
     "data": {
      "text/plain": [
       "[0, 1, 2, 3, 4, 5, 7]"
      ]
     },
     "execution_count": 294,
     "metadata": {},
     "output_type": "execute_result"
    }
   ],
   "source": [
    "# Add a new element to the end of a list.\n",
    "li=list(range(0,6))\n",
    "print(li)\n",
    "li.append(7)\n",
    "li"
   ]
  },
  {
   "cell_type": "code",
   "execution_count": 295,
   "id": "6ca0efd5",
   "metadata": {},
   "outputs": [
    {
     "name": "stdout",
     "output_type": "stream",
     "text": [
      "[0, 1, 2, 3, 4, 5]\n"
     ]
    },
    {
     "data": {
      "text/plain": [
       "[0, 1, 5, 2, 3, 4, 5]"
      ]
     },
     "execution_count": 295,
     "metadata": {},
     "output_type": "execute_result"
    }
   ],
   "source": [
    "# Insert a new element at a specific position in the list.\n",
    "li=list(range(0,6))\n",
    "print(li)\n",
    "li.insert(2,5)\n",
    "li"
   ]
  },
  {
   "cell_type": "code",
   "execution_count": 296,
   "id": "c8829d75",
   "metadata": {},
   "outputs": [
    {
     "name": "stdout",
     "output_type": "stream",
     "text": [
      "[0, 1, 2, 3, 4, 5]\n"
     ]
    },
    {
     "data": {
      "text/plain": [
       "[0, 1, 2, 4, 5]"
      ]
     },
     "execution_count": 296,
     "metadata": {},
     "output_type": "execute_result"
    }
   ],
   "source": [
    "# Remove an element from the list by value.\n",
    "li=list(range(0,6))\n",
    "print(li)\n",
    "li.remove(3)\n",
    "li"
   ]
  },
  {
   "cell_type": "code",
   "execution_count": 298,
   "id": "24a201fd",
   "metadata": {},
   "outputs": [
    {
     "name": "stdout",
     "output_type": "stream",
     "text": [
      "[0, 1, 2, 3, 4, 5]\n"
     ]
    },
    {
     "data": {
      "text/plain": [
       "1"
      ]
     },
     "execution_count": 298,
     "metadata": {},
     "output_type": "execute_result"
    }
   ],
   "source": [
    "# Count the number of occurrences of a specific element in the list.\n",
    "li=list(range(0,6))\n",
    "print(li)\n",
    "li.count(3)\n"
   ]
  },
  {
   "cell_type": "code",
   "execution_count": 300,
   "id": "8993efb6",
   "metadata": {},
   "outputs": [
    {
     "name": "stdout",
     "output_type": "stream",
     "text": [
      "[0, 1, 2, 3, 4, 5]\n"
     ]
    },
    {
     "data": {
      "text/plain": [
       "[5, 4, 3, 2, 1, 0]"
      ]
     },
     "execution_count": 300,
     "metadata": {},
     "output_type": "execute_result"
    }
   ],
   "source": [
    "# Reverse the order of elements in the list.\n",
    "li=list(range(0,6))\n",
    "print(li)\n",
    "li.reverse()\n",
    "li"
   ]
  },
  {
   "cell_type": "code",
   "execution_count": 302,
   "id": "807ff352",
   "metadata": {},
   "outputs": [
    {
     "name": "stdout",
     "output_type": "stream",
     "text": [
      "[0, 1, 2, 3, 4, 5]\n",
      "[0, 1, 2, 3, 4, 5]\n",
      "[0, 1, 2, 3, 4, 5] [0, 1, 3, 4, 5]\n"
     ]
    }
   ],
   "source": [
    "# Create a copy of a list and modify the original, observing the changes.\n",
    "li=list(range(0,6))\n",
    "print(li)\n",
    "li2=li.copy()\n",
    "print(li2)\n",
    "li.remove(2)\n",
    "print(li2,li)"
   ]
  },
  {
   "cell_type": "code",
   "execution_count": 304,
   "id": "bebe4ac5",
   "metadata": {},
   "outputs": [
    {
     "data": {
      "text/plain": [
       "[0, 1, 2, 3, 4, 5, 0, 1, 2, 3, 4, 5]"
      ]
     },
     "execution_count": 304,
     "metadata": {},
     "output_type": "execute_result"
    }
   ],
   "source": [
    "# Extend the list by adding elements from another list.\n",
    "li=list(range(0,6))\n",
    "li.extend(li)\n",
    "li"
   ]
  },
  {
   "cell_type": "code",
   "execution_count": 305,
   "id": "aa7d72ea",
   "metadata": {},
   "outputs": [
    {
     "data": {
      "text/plain": [
       "[]"
      ]
     },
     "execution_count": 305,
     "metadata": {},
     "output_type": "execute_result"
    }
   ],
   "source": [
    "# Clear all elements from a list.\n",
    "li=list(range(0,6))\n",
    "li.clear()\n",
    "li"
   ]
  },
  {
   "cell_type": "code",
   "execution_count": 306,
   "id": "f89c60be",
   "metadata": {},
   "outputs": [
    {
     "data": {
      "text/plain": [
       "[0, 1, 2, 3, 4]"
      ]
     },
     "execution_count": 306,
     "metadata": {},
     "output_type": "execute_result"
    }
   ],
   "source": [
    "# Use the pop method to remove and print the last element of a list.\n",
    "li=list(range(0,6))\n",
    "li.pop()\n",
    "li"
   ]
  },
  {
   "cell_type": "code",
   "execution_count": 307,
   "id": "295188c9",
   "metadata": {},
   "outputs": [
    {
     "name": "stdout",
     "output_type": "stream",
     "text": [
      "empty\n"
     ]
    }
   ],
   "source": [
    "# Check if a list is empty and print a message.\n",
    "li=list(range(0,6))\n",
    "print(\"empty\" if li else \"no empty\")"
   ]
  },
  {
   "cell_type": "code",
   "execution_count": null,
   "id": "eeca4135",
   "metadata": {},
   "outputs": [],
   "source": []
  }
 ],
 "metadata": {
  "kernelspec": {
   "display_name": "Python 3 (ipykernel)",
   "language": "python",
   "name": "python3"
  },
  "language_info": {
   "codemirror_mode": {
    "name": "ipython",
    "version": 3
   },
   "file_extension": ".py",
   "mimetype": "text/x-python",
   "name": "python",
   "nbconvert_exporter": "python",
   "pygments_lexer": "ipython3",
   "version": "3.8.10"
  }
 },
 "nbformat": 4,
 "nbformat_minor": 5
}
