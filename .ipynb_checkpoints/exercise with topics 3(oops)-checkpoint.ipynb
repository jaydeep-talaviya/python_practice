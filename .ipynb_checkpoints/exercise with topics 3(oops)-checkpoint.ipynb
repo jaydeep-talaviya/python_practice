{
 "cells": [
  {
   "cell_type": "markdown",
   "id": "c2561daf",
   "metadata": {},
   "source": [
    "\n",
    "# ### Class and Objects:\n"
   ]
  },
  {
   "cell_type": "code",
   "execution_count": 16,
   "id": "3ea0b15a",
   "metadata": {},
   "outputs": [
    {
     "data": {
      "text/plain": [
       "'Harry potter written by J.K.rolling'"
      ]
     },
     "execution_count": 16,
     "metadata": {},
     "output_type": "execute_result"
    }
   ],
   "source": [
    "# 1. **Question 1:**\n",
    "#    Define a class `Book` with attributes `title` and `author`. Instantiate two objects and display their details.\n",
    "\n",
    "class Book:\n",
    "    def __init__(self,title,author):\n",
    "        self.title = title\n",
    "        self.author = author\n",
    "        \n",
    "    def get_author_with_book_title(self):\n",
    "        return f\"{self.title} written by {self.author}\"\n",
    "    \n",
    "book = Book(\"Harry potter\",\"J.K.rolling\")\n",
    "book.get_author_with_book_title()"
   ]
  },
  {
   "cell_type": "code",
   "execution_count": 17,
   "id": "f4e828ca",
   "metadata": {},
   "outputs": [
    {
     "name": "stdout",
     "output_type": "stream",
     "text": [
      "tom Jenny\n"
     ]
    }
   ],
   "source": [
    "\n",
    "# 2. **Question 2:**\n",
    "#    Create a `Dog` class with attributes `name` and `breed`. Instantiate three dog objects and print their names and breeds.\n",
    "class Dog:\n",
    "    def __init__(self,name,breed):\n",
    "        self.name = name\n",
    "        self.breed = breed\n",
    "        \n",
    "dog1=Dog(\"tom\",'husky')\n",
    "dog2=Dog(\"Jenny\",\"labrador\")\n",
    "\n",
    "def get_name(dog):\n",
    "    return dog.name\n",
    "\n",
    "print(get_name(dog1),get_name(dog2))"
   ]
  },
  {
   "cell_type": "code",
   "execution_count": 20,
   "id": "0401969b",
   "metadata": {},
   "outputs": [
    {
     "name": "stdout",
     "output_type": "stream",
     "text": [
      "28.26\n",
      "12.56\n"
     ]
    }
   ],
   "source": [
    "\n",
    "# 3. **Question 3:**\n",
    "#    Implement a `Circle` class with a method to calculate its area. Create an instance and display the area.\n",
    "\n",
    "class Circle:\n",
    "    pi = 3.14\n",
    "    def __init__(self,radius=2):\n",
    "        self.radius=radius\n",
    "        \n",
    "    def area(self):\n",
    "        return Circle.pi*(self.radius**2)\n",
    "    \n",
    "circle = Circle(3)\n",
    "print(circle.area())\n",
    "circle = Circle()\n",
    "print(circle.area())"
   ]
  },
  {
   "cell_type": "code",
   "execution_count": 24,
   "id": "10105d4f",
   "metadata": {},
   "outputs": [
    {
     "name": "stdout",
     "output_type": "stream",
     "text": [
      "jay have 42000\n"
     ]
    }
   ],
   "source": [
    "# 4. **Question 4:**\n",
    "#    Define a `Employee` class with attributes `name` and `salary`. Instantiate an employee object and print their name and salary.\n",
    "\n",
    "class Employee:\n",
    "    def __init__(self,name,salary):\n",
    "        self.name = name\n",
    "        self.salary = salary\n",
    "        \n",
    "employee = Employee(\"jay\",42000)\n",
    "\n",
    "print(employee.name +\" have \"+str(employee.salary))\n"
   ]
  },
  {
   "cell_type": "code",
   "execution_count": 29,
   "id": "87e99d35",
   "metadata": {},
   "outputs": [
    {
     "name": "stdout",
     "output_type": "stream",
     "text": [
      "2.23606797749979\n"
     ]
    }
   ],
   "source": [
    "# 5. **Question 5:**\n",
    "#    Create a `Point` class with attributes `x` and `y`. Instantiate two points and find the distance between them.\n",
    "\n",
    "class Point:\n",
    "    def __init__(self,x,y):\n",
    "        self.x=x\n",
    "        self.y = y\n",
    "        \n",
    "    def get_distance(self):\n",
    "        import math\n",
    "        return math.sqrt(abs((self.x**2) - (self.y**2)))\n",
    "    \n",
    "point = Point(2,3)\n",
    "print(point.get_distance())"
   ]
  },
  {
   "cell_type": "code",
   "execution_count": null,
   "id": "c89af900",
   "metadata": {},
   "outputs": [],
   "source": []
  },
  {
   "cell_type": "code",
   "execution_count": null,
   "id": "be3d1452",
   "metadata": {},
   "outputs": [],
   "source": []
  },
  {
   "cell_type": "code",
   "execution_count": null,
   "id": "13bde3b8",
   "metadata": {},
   "outputs": [],
   "source": []
  },
  {
   "cell_type": "code",
   "execution_count": null,
   "id": "3a7805c8",
   "metadata": {},
   "outputs": [],
   "source": []
  },
  {
   "cell_type": "code",
   "execution_count": null,
   "id": "23219aa3",
   "metadata": {},
   "outputs": [],
   "source": []
  },
  {
   "cell_type": "markdown",
   "id": "cce5d86f",
   "metadata": {},
   "source": [
    "# ### `__init__` Method:\n"
   ]
  },
  {
   "cell_type": "code",
   "execution_count": 30,
   "id": "cd599510",
   "metadata": {},
   "outputs": [
    {
     "name": "stdout",
     "output_type": "stream",
     "text": [
      "2 3\n"
     ]
    }
   ],
   "source": [
    "# 6. **Question 6:**\n",
    "#    Modify the `Rectangle` class to include an `__init__` method that initializes its length and width.\n",
    "\n",
    "class Shape:\n",
    "    def __init__(self):\n",
    "        pass\n",
    "\n",
    "class Rectangle(Shape):\n",
    "    def __init__(self,length,width):\n",
    "        self.length = length\n",
    "        self.width = width\n",
    "        \n",
    "rectangle = Rectangle(2,3)\n",
    "print(rectangle.length,rectangle.width)"
   ]
  },
  {
   "cell_type": "code",
   "execution_count": 32,
   "id": "4eb4f8fb",
   "metadata": {},
   "outputs": [
    {
     "name": "stdout",
     "output_type": "stream",
     "text": [
      "jay 30 grade\n"
     ]
    }
   ],
   "source": [
    "\n",
    "# 7. **Question 7:**\n",
    "#    Extend the `Student` class to have an `__init__` method for initializing the name, grade, and marks during object creation.\n",
    "\n",
    "class Student:\n",
    "    def __init__(self,name,marks):\n",
    "        self.name = name\n",
    "        self.marks = marks\n",
    "\n",
    "    \n",
    "class Student_extended(Student):\n",
    "    def __init__(self,name,marks,grade):\n",
    "        super().__init__(name,marks)\n",
    "        self.grade = grade\n",
    "        \n",
    "student_extended = Student_extended(\"jay\",'grade',30)\n",
    "\n",
    "print(student_extended.name,student_extended.grade,student_extended.marks)"
   ]
  },
  {
   "cell_type": "code",
   "execution_count": null,
   "id": "0ae45df4",
   "metadata": {},
   "outputs": [],
   "source": []
  },
  {
   "cell_type": "markdown",
   "id": "a348e1cf",
   "metadata": {},
   "source": [
    "# ### Types of Variables in Class:\n"
   ]
  },
  {
   "cell_type": "code",
   "execution_count": 34,
   "id": "90629b08",
   "metadata": {},
   "outputs": [
    {
     "name": "stdout",
     "output_type": "stream",
     "text": [
      "SBI\n",
      "12121XXX3232 0\n"
     ]
    }
   ],
   "source": [
    "# 8. **Question 8:**\n",
    "#    Define a `Bank` class with a class variable `bank_name` and instance variables `account_number` and `balance`.\n",
    "\n",
    "class Bank:\n",
    "    bank_name = \"SBI\"\n",
    "    \n",
    "    def __init__(self,account_number,balance = 0):\n",
    "        self.account_number = account_number\n",
    "        self.balance = balance\n",
    "        \n",
    "        \n",
    "\n",
    "bank=Bank(\"12121XXX3232\")\n",
    "\n",
    "print(Bank.bank_name)\n",
    "print(bank.account_number,bank.balance)"
   ]
  },
  {
   "cell_type": "code",
   "execution_count": 36,
   "id": "bf646305",
   "metadata": {},
   "outputs": [
    {
     "name": "stdout",
     "output_type": "stream",
     "text": [
      "10\n",
      "90.0\n"
     ]
    }
   ],
   "source": [
    "# 9. **Question 9:**\n",
    "#    Create a `Product` class with a class variable `discount_percentage` and an instance variable `price`.\n",
    "\n",
    "class Product:\n",
    "    discount_percentage = 10\n",
    "    \n",
    "    def __init__(self,price):\n",
    "        self.price = price\n",
    "        \n",
    "    def get_discount(self):\n",
    "        return self.price - ((self.price *Product.discount_percentage)/100)\n",
    "    \n",
    "product = Product(100)\n",
    "print(product.discount_percentage)\n",
    "print(product.get_discount())"
   ]
  },
  {
   "cell_type": "code",
   "execution_count": null,
   "id": "51cf2fc9",
   "metadata": {},
   "outputs": [],
   "source": []
  },
  {
   "cell_type": "code",
   "execution_count": null,
   "id": "e2db7edf",
   "metadata": {},
   "outputs": [],
   "source": []
  },
  {
   "cell_type": "markdown",
   "id": "b9776045",
   "metadata": {},
   "source": [
    "# ### Types of Methods in Class:\n"
   ]
  },
  {
   "cell_type": "code",
   "execution_count": 38,
   "id": "bc70d8ba",
   "metadata": {},
   "outputs": [
    {
     "name": "stdout",
     "output_type": "stream",
     "text": [
      "Starting engine\n"
     ]
    }
   ],
   "source": [
    "# 10. **Question 10:**\n",
    "#     Implement a `Vehicle` class with a method `start_engine`. Create an instance and call the method.\n",
    "class Vehicle:\n",
    "\n",
    "    def start_engine(self):\n",
    "        return \"Starting engine\"\n",
    "        \n",
    "    \n",
    "vehicle = Vehicle()\n",
    "print(vehicle.start_engine())"
   ]
  },
  {
   "cell_type": "code",
   "execution_count": 41,
   "id": "9ccf9262",
   "metadata": {},
   "outputs": [
    {
     "name": "stdout",
     "output_type": "stream",
     "text": [
      "100.0\n"
     ]
    }
   ],
   "source": [
    "\n",
    "# 11. **Question 11:**\n",
    "#     Extend the `Employee` class to include a method `calculate_bonus` that returns 10% of the salary as a bonus.\n",
    "\n",
    "class Employee:\n",
    "    def __init__(self,salary):\n",
    "        self.salary = salary\n",
    "\n",
    "    def calculate_bonus(self):\n",
    "        return (self.salary*10)/100\n",
    "        \n",
    "    \n",
    "employee = Employee(1000)\n",
    "print(employee.calculate_bonus())"
   ]
  },
  {
   "cell_type": "code",
   "execution_count": null,
   "id": "6468aa0a",
   "metadata": {},
   "outputs": [],
   "source": []
  },
  {
   "cell_type": "markdown",
   "id": "750d0a2b",
   "metadata": {},
   "source": [
    "# ### Inheritance in Class:\n"
   ]
  },
  {
   "cell_type": "code",
   "execution_count": 42,
   "id": "d3c22d39",
   "metadata": {},
   "outputs": [
    {
     "name": "stdout",
     "output_type": "stream",
     "text": [
      "28.26\n",
      "8\n"
     ]
    }
   ],
   "source": [
    "# 12. **Question 12:**\n",
    "#     Define a `Shape` class with a method `area`. Create `Circle` and `Rectangle` classes inheriting from `Shape` and implement their area methods.\n",
    "\n",
    "class Shape:\n",
    "    def area(self):\n",
    "        pass\n",
    "    \n",
    "class Circle(Shape):\n",
    "    def __init__(self,radius):\n",
    "        self.radius = radius\n",
    "        \n",
    "    def area(self):\n",
    "        return 3.14*(self.radius**2)\n",
    "    \n",
    "class Rectangle(Shape):\n",
    "    def __init__(self,l,b):\n",
    "        self.l=l\n",
    "        self.b=b\n",
    "        \n",
    "    def area(self):\n",
    "        return self.l*self.b\n",
    "    \n",
    "circle = Circle(3)\n",
    "print(circle.area())\n",
    "rectangle = Rectangle(2,4)\n",
    "print(rectangle.area())"
   ]
  },
  {
   "cell_type": "code",
   "execution_count": 46,
   "id": "5e241016",
   "metadata": {},
   "outputs": [
    {
     "name": "stdout",
     "output_type": "stream",
     "text": [
      "Name: Python \n",
      " Department:jay\n"
     ]
    }
   ],
   "source": [
    "# 13. **Question 13:**\n",
    "#     Create a `Manager` class that inherits from the `Employee` class. Add a new attribute `department` and display manager details.\n",
    "\n",
    "class Manager:\n",
    "    def __init__(self,name):\n",
    "        self.name = name\n",
    "class Employee(Manager):\n",
    "    def __init__(self,department,name):\n",
    "        super().__init__(name)\n",
    "        self.department = department\n",
    "    \n",
    "    def get_detail(self):\n",
    "        return f\"Name: {self.name} \\n Department:{self.department}\"\n",
    "    \n",
    "employee = Employee(\"jay\",\"Python\")\n",
    "print(employee.get_detail())"
   ]
  },
  {
   "cell_type": "code",
   "execution_count": 44,
   "id": "cbc26899",
   "metadata": {},
   "outputs": [
    {
     "data": {
      "text/plain": [
       "102"
      ]
     },
     "execution_count": 44,
     "metadata": {},
     "output_type": "execute_result"
    }
   ],
   "source": [
    "17*6"
   ]
  },
  {
   "cell_type": "code",
   "execution_count": null,
   "id": "b42d8dd0",
   "metadata": {},
   "outputs": [],
   "source": []
  },
  {
   "cell_type": "code",
   "execution_count": null,
   "id": "76757f33",
   "metadata": {},
   "outputs": [],
   "source": []
  },
  {
   "cell_type": "markdown",
   "id": "b0cef3e2",
   "metadata": {},
   "source": [
    "# ### Encapsulation:\n"
   ]
  },
  {
   "cell_type": "code",
   "execution_count": 50,
   "id": "5c05fedb",
   "metadata": {},
   "outputs": [
    {
     "name": "stdout",
     "output_type": "stream",
     "text": [
      "jay\n",
      "24\n",
      "A\n"
     ]
    }
   ],
   "source": [
    "# 14. **Question 14:**\n",
    "#     Implement encapsulation for a `Student` class with private attributes `name`, `age`, and `grades`.\n",
    "\n",
    "class Student:\n",
    "    def __init__(self,name,age,grade):\n",
    "        self.__name = name\n",
    "        self.__age = age\n",
    "        self.__grade = grade\n",
    "        \n",
    "    @property\n",
    "    def name(self):\n",
    "        return self.__name\n",
    "    @property\n",
    "    def age(self):\n",
    "        return self.__age\n",
    "    @property\n",
    "    def grade(self):\n",
    "        return self.__grade\n",
    "    \n",
    "    @name.setter\n",
    "    def name(self,name):\n",
    "        self.__name = name\n",
    "    @age.setter\n",
    "    def age(self,age):\n",
    "        self.__age = age\n",
    "    @grade.setter\n",
    "    def grade(self,grade):\n",
    "        self.__grade = grade\n",
    "        \n",
    "    \n",
    "student = Student(\"jay\",24,\"A\")\n",
    "print(student.name)\n",
    "print(student.age)\n",
    "print(student.grade)\n"
   ]
  },
  {
   "cell_type": "code",
   "execution_count": 55,
   "id": "18cddeac",
   "metadata": {},
   "outputs": [
    {
     "name": "stdout",
     "output_type": "stream",
     "text": [
      "1213123131\n",
      "jaydeeptalaviya@gmail.com\n",
      "6677556878\n",
      "jaydeeptalaviya7@gmail.com\n"
     ]
    }
   ],
   "source": [
    "\n",
    "# 15. **Question 15:**\n",
    "#     Create a `PersonInfo` class with private attributes `phone_number` and `email`. Provide methods to set and get this information.\n",
    "\n",
    "class PersonInfo:\n",
    "    def __init__(self,phone_number,email):\n",
    "        self.phone_number = phone_number\n",
    "        self.email = email\n",
    "        \n",
    "    def set_phone_number(self,phone_number):\n",
    "        self.phone_number = phone_number\n",
    "        \n",
    "    def get_phone_number(self):\n",
    "        return self.phone_number\n",
    "\n",
    "    def set_email(self,email):\n",
    "        self.email = email\n",
    "        \n",
    "    def get_email(self):\n",
    "        return self.email\n",
    "\n",
    "    \n",
    "person_info = PersonInfo(1213123131,\"jaydeeptalaviya@gmail.com\")\n",
    "print(person_info.get_phone_number())\n",
    "print(person_info.get_email())\n",
    "\n",
    "person_info.set_phone_number(6677556878)\n",
    "person_info.set_email(\"jaydeeptalaviya7@gmail.com\")\n",
    "\n",
    "print(person_info.get_phone_number())\n",
    "print(person_info.get_email())"
   ]
  },
  {
   "cell_type": "code",
   "execution_count": null,
   "id": "84df8f5b",
   "metadata": {},
   "outputs": [],
   "source": []
  },
  {
   "cell_type": "code",
   "execution_count": null,
   "id": "3780131b",
   "metadata": {},
   "outputs": [],
   "source": []
  },
  {
   "cell_type": "markdown",
   "id": "ac042c96",
   "metadata": {},
   "source": [
    "# ### The `super()` Function:\n"
   ]
  },
  {
   "cell_type": "code",
   "execution_count": 61,
   "id": "5be828c0",
   "metadata": {},
   "outputs": [
    {
     "name": "stdout",
     "output_type": "stream",
     "text": [
      "This is parent class\n",
      "This is child class\n"
     ]
    }
   ],
   "source": [
    "# 16. **Question 16:**\n",
    "#     Extend the `Child` class from a `Parent` class. Use `super()` to call the `__init__` method of the parent class.\n",
    "\n",
    "class Parent:\n",
    "    def __init__(self):\n",
    "        print(\"This is parent class\")\n",
    "    \n",
    "class Child(Parent):\n",
    "    def __init__(self):\n",
    "        super().__init__()\n",
    "        print(\"This is child class\")\n",
    "        \n",
    "    \n",
    "child = Child()\n"
   ]
  },
  {
   "cell_type": "code",
   "execution_count": 69,
   "id": "441f9803",
   "metadata": {},
   "outputs": [
    {
     "name": "stdout",
     "output_type": "stream",
     "text": [
      "This is Animal class\n",
      "This is Mammal class\n",
      "<__main__.Mammal object at 0x7f67d5708b80>\n",
      "This is Animal class\n",
      "This is Dog class\n",
      "<__main__.Dog object at 0x7f67d57087f0>\n"
     ]
    }
   ],
   "source": [
    "\n",
    "# 17. **Question 17:**\n",
    "#     Create a hierarchy of classes (`Animal`, `Mammal`, `Dog`) where each class uses `super()` to call the constructor of its parent class.\n",
    "\n",
    "class Animal:\n",
    "    def __init__(self):\n",
    "        print(\"This is Animal class\")\n",
    "\n",
    "class Mammal(Animal):\n",
    "    def __init__(self):\n",
    "        super().__init__()\n",
    "        print(\"This is Mammal class\")\n",
    "\n",
    "class Dog(Animal):\n",
    "    def __init__(self):\n",
    "        super().__init__()\n",
    "        print(\"This is Dog class\")\n",
    "\n",
    "        \n",
    "mammal = Mammal()\n",
    "print(mammal)\n",
    "dog = Dog()\n",
    "print(dog)\n",
    "\n"
   ]
  },
  {
   "cell_type": "code",
   "execution_count": null,
   "id": "b9cd7e1b",
   "metadata": {},
   "outputs": [],
   "source": []
  },
  {
   "cell_type": "code",
   "execution_count": null,
   "id": "1e11780f",
   "metadata": {},
   "outputs": [],
   "source": []
  },
  {
   "cell_type": "markdown",
   "id": "ef6cfbe8",
   "metadata": {},
   "source": [
    "# ### Abstract Class in Python:\n"
   ]
  },
  {
   "cell_type": "code",
   "execution_count": 72,
   "id": "209fc4ae",
   "metadata": {},
   "outputs": [
    {
     "name": "stdout",
     "output_type": "stream",
     "text": [
      "28.26\n",
      "8\n"
     ]
    }
   ],
   "source": [
    "# 18. **Question 18:**\n",
    "#     Define an abstract class `Shape` with an abstract method `calculate_area`. Implement `Circle` and `Rectangle` classes inheriting from `Shape`.\n",
    "\n",
    "from abc import ABC,abstractmethod\n",
    "\n",
    "class Shape(ABC):\n",
    "    @abstractmethod\n",
    "    def calculate_area(self):\n",
    "        pass\n",
    "\n",
    "class Circle(Shape):\n",
    "    def __init__(self,radius):\n",
    "        self.radius = radius\n",
    "        \n",
    "    def calculate_area(self):\n",
    "        return 3.14*(self.radius**2)\n",
    "    \n",
    "class Rectangle(Shape):\n",
    "    def __init__(self,l,b):\n",
    "        self.l=l\n",
    "        self.b=b\n",
    "        \n",
    "    def calculate_area(self):\n",
    "        return self.l*self.b\n",
    "    \n",
    "circle = Circle(3)\n",
    "print(circle.calculate_area())\n",
    "rectangle = Rectangle(2,4)\n",
    "print(rectangle.calculate_area())"
   ]
  },
  {
   "cell_type": "code",
   "execution_count": null,
   "id": "c6542230",
   "metadata": {},
   "outputs": [],
   "source": [
    "# 19. **Question 19:**\n",
    "#     Create an abstract class `Vehicle` with an abstract method `start_engine`. Implement `Car` and `Motorcycle` classes.\n",
    "\n"
   ]
  },
  {
   "cell_type": "code",
   "execution_count": null,
   "id": "f7a7399c",
   "metadata": {},
   "outputs": [],
   "source": []
  },
  {
   "cell_type": "code",
   "execution_count": null,
   "id": "b552962e",
   "metadata": {},
   "outputs": [],
   "source": []
  },
  {
   "cell_type": "code",
   "execution_count": null,
   "id": "e67200ae",
   "metadata": {},
   "outputs": [],
   "source": []
  },
  {
   "cell_type": "markdown",
   "id": "0daed90a",
   "metadata": {},
   "source": [
    "# ### Method Overriding for Polymorphism:\n",
    "\n"
   ]
  },
  {
   "cell_type": "code",
   "execution_count": 79,
   "id": "b39d3771",
   "metadata": {},
   "outputs": [
    {
     "data": {
      "text/plain": [
       "'212 2121 jay'"
      ]
     },
     "execution_count": 79,
     "metadata": {},
     "output_type": "execute_result"
    }
   ],
   "source": [
    "# 20. **Question 20:**\n",
    "#     Override the `display_info` method in the `Student` class to include the student's ID along with the name and grade.\n",
    "\n",
    "class Student:\n",
    "    def __init__(self,student_id):\n",
    "        self.student_id = student_id\n",
    "    \n",
    "    def display_info(self):\n",
    "        return self.student_id\n",
    "    \n",
    "class StudentSecond(Student):\n",
    "    def __init__(self,name,grade,student_id):\n",
    "        super().__init__(student_id)\n",
    "        self.name = name\n",
    "        self.grade = grade\n",
    "    \n",
    "    def display_info(self):\n",
    "        return str(self.student_id)+\" \"+self.name +\" \" +str(self.grade)\n",
    "    \n",
    "\n",
    "studentsecond = StudentSecond(\"2121\",\"jay\",212)\n",
    "studentsecond.display_info()"
   ]
  },
  {
   "cell_type": "code",
   "execution_count": 80,
   "id": "b48ca3a9",
   "metadata": {},
   "outputs": [],
   "source": [
    "\n",
    "# 21. **Question 21:**\n",
    "#     Extend the `Employee` class and override the `calculate_bonus` method to provide different bonus calculations for managers and regular employees.\n"
   ]
  },
  {
   "cell_type": "code",
   "execution_count": null,
   "id": "ab5ddde9",
   "metadata": {},
   "outputs": [],
   "source": []
  },
  {
   "cell_type": "code",
   "execution_count": null,
   "id": "7051715a",
   "metadata": {},
   "outputs": [],
   "source": []
  },
  {
   "cell_type": "markdown",
   "id": "df8bc473",
   "metadata": {},
   "source": [
    "# ### Polymorphism with Abstract Base Classes (ABCs):\n",
    "\n"
   ]
  },
  {
   "cell_type": "code",
   "execution_count": 84,
   "id": "c7775ede",
   "metadata": {},
   "outputs": [
    {
     "name": "stdout",
     "output_type": "stream",
     "text": [
      "making Dog Sound\n",
      "making Cat Sound\n"
     ]
    }
   ],
   "source": [
    "# 22. **Question 22:**\n",
    "#     Define an ABC `Animal` with an abstract method `make_sound`. Implement `Dog` and `Cat` classes inheriting from `Animal`.\n",
    "from abc import ABC,abstractmethod\n",
    "\n",
    "class Animal(ABC):\n",
    "    @abstractmethod\n",
    "    def make_sound(self):\n",
    "        return \"making Animal Sound\"\n",
    "    \n",
    "class Dog(Animal):\n",
    "    def make_sound(self):\n",
    "        return \"making Dog Sound\"\n",
    "\n",
    "class Cat(Animal):\n",
    "    def make_sound(self):\n",
    "        return \"making Cat Sound\"\n",
    "\n",
    "dog = Dog()\n",
    "print(dog.make_sound())\n",
    "\n",
    "cat = Cat()\n",
    "print(cat.make_sound())\n"
   ]
  },
  {
   "cell_type": "code",
   "execution_count": 86,
   "id": "76bb99e8",
   "metadata": {},
   "outputs": [
    {
     "name": "stdout",
     "output_type": "stream",
     "text": [
      "28.26\n",
      "18.84\n",
      "6\n",
      "10\n"
     ]
    }
   ],
   "source": [
    "\n",
    "# 23. **Question 23:**\n",
    "#     Create an ABC `Shape` with abstract methods `area` and `perimeter`. Implement `Circle` and `Rectangle` classes inheriting from `Shape`.\n",
    "from abc import ABC,abstractmethod\n",
    "\n",
    "class Shape(ABC):\n",
    "    @abstractmethod\n",
    "    def area(self):\n",
    "        pass\n",
    "    \n",
    "    def perimeter(self):\n",
    "        pass\n",
    "\n",
    "class Circle(Shape):\n",
    "    def __init__(self,radius):\n",
    "        self.radius = radius\n",
    "    \n",
    "    def area(self):\n",
    "        return 3.14*(self.radius**2)\n",
    "    \n",
    "    def perimeter(self):\n",
    "        return 2*3.14*self.radius\n",
    "    \n",
    "class Rectangle(Shape):\n",
    "    def __init__(self,l,b):\n",
    "        self.l = l\n",
    "        self.b = b\n",
    "    \n",
    "    def area(self):\n",
    "        return self.l*self.b\n",
    "    \n",
    "    def perimeter(self):\n",
    "        return 2*(self.l+self.b)\n",
    "\n",
    "circle = Circle(3)\n",
    "print(circle.area())\n",
    "print(circle.perimeter())\n",
    "\n",
    "rectangle = Rectangle(3,2)\n",
    "print(rectangle.area())\n",
    "print(rectangle.perimeter())\n",
    "\n"
   ]
  },
  {
   "cell_type": "code",
   "execution_count": null,
   "id": "9d49a0a2",
   "metadata": {},
   "outputs": [],
   "source": []
  },
  {
   "cell_type": "markdown",
   "id": "d5da889f",
   "metadata": {},
   "source": [
    "# ### Duck Typing:\n",
    "\n"
   ]
  },
  {
   "cell_type": "code",
   "execution_count": null,
   "id": "3b5a867b",
   "metadata": {},
   "outputs": [],
   "source": []
  },
  {
   "cell_type": "code",
   "execution_count": 88,
   "id": "797a896e",
   "metadata": {},
   "outputs": [
    {
     "name": "stdout",
     "output_type": "stream",
     "text": [
      "Woof!\n",
      "Meow!\n",
      "Quack!\n"
     ]
    }
   ],
   "source": [
    "# 24. **Question 24:**\n",
    "#     Create a function that accepts any object with a `quack` method. Use duck typing to check if the object quacks.\n",
    "\n",
    "class Dog:\n",
    "    def speak(self):\n",
    "        return \"Woof!\"\n",
    "\n",
    "class Cat:\n",
    "    def speak(self):\n",
    "        return \"Meow!\"\n",
    "\n",
    "class Duck:\n",
    "    def speak(self):\n",
    "        return \"Quack!\"\n",
    "\n",
    "\n",
    "def quack(animal):\n",
    "    return animal.speak()\n",
    "\n",
    "\n",
    "dog= Dog()\n",
    "cat= Cat()\n",
    "duck= Duck()\n",
    "\n",
    "print(quack(dog))\n",
    "print(quack(cat))\n",
    "print(quack(duck))"
   ]
  },
  {
   "cell_type": "code",
   "execution_count": 89,
   "id": "359d8603",
   "metadata": {},
   "outputs": [],
   "source": [
    "\n",
    "# 25. **Question 25:**\n",
    "#     Define a `Printer` class with a `print_document` method. Use duck typing to allow any object with a `print_document` method to be used with a printer.\n",
    "# same as above"
   ]
  },
  {
   "cell_type": "code",
   "execution_count": null,
   "id": "b8d04399",
   "metadata": {},
   "outputs": [],
   "source": []
  },
  {
   "cell_type": "code",
   "execution_count": null,
   "id": "5c8c63f0",
   "metadata": {},
   "outputs": [],
   "source": []
  },
  {
   "cell_type": "code",
   "execution_count": null,
   "id": "faee15b3",
   "metadata": {},
   "outputs": [],
   "source": []
  },
  {
   "cell_type": "markdown",
   "id": "f68427ea",
   "metadata": {},
   "source": [
    "# ### Operator Overloading:\n",
    "\n"
   ]
  },
  {
   "cell_type": "code",
   "execution_count": 91,
   "id": "6626bcfb",
   "metadata": {},
   "outputs": [
    {
     "name": "stdout",
     "output_type": "stream",
     "text": [
      "(5, 7)\n"
     ]
    }
   ],
   "source": [
    "# 26. **Question 26:**\n",
    "#     Implement the `__add__` method in a `Vector` class to add two vectors.\n",
    "\n",
    "class Vector:\n",
    "    def __init__(self,num1,num2):\n",
    "        self.num1=num1\n",
    "        self.num2=num2\n",
    "    \n",
    "    def __add__(self,other):\n",
    "        return (self.num1+other.num1),(self.num2+other.num2)\n",
    "    \n",
    "vector1=Vector(2,3)\n",
    "vector2=Vector(3,4)\n",
    "\n",
    "print(vector1+vector2)"
   ]
  },
  {
   "cell_type": "code",
   "execution_count": 98,
   "id": "9fa2b3de",
   "metadata": {},
   "outputs": [
    {
     "data": {
      "text/plain": [
       "False"
      ]
     },
     "execution_count": 98,
     "metadata": {},
     "output_type": "execute_result"
    }
   ],
   "source": [
    "# 27. **Question 27:**\n",
    "#     Overload the `__eq__` method in a `Person` class to compare two persons based on their age.\n",
    "\n",
    "class Person:\n",
    "    def __init__(self,age):\n",
    "        self.age=age\n",
    "        \n",
    "    def __eq__(self,other):\n",
    "        return self.age == other.age\n",
    "\n",
    "person1=Person(24)\n",
    "person2=Person(23)\n",
    "\n",
    "person1==person2"
   ]
  },
  {
   "cell_type": "code",
   "execution_count": null,
   "id": "08bcd494",
   "metadata": {},
   "outputs": [],
   "source": []
  },
  {
   "cell_type": "markdown",
   "id": "a3bbd1bb",
   "metadata": {},
   "source": [
    "# ### Monkey Patching:\n"
   ]
  },
  {
   "cell_type": "code",
   "execution_count": 112,
   "id": "dfd27a44",
   "metadata": {},
   "outputs": [
    {
     "name": "stdout",
     "output_type": "stream",
     "text": [
      "12\n"
     ]
    },
    {
     "data": {
      "text/plain": [
       "7"
      ]
     },
     "execution_count": 112,
     "metadata": {},
     "output_type": "execute_result"
    }
   ],
   "source": [
    "# 28. **Question 28:**\n",
    "#     Monkey patch a `calculate_area` method to the `Rectangle` class without modifying its original implementation.\n",
    "\n",
    "class Rectangle:\n",
    "    def __init__(self,l,b):\n",
    "        self.l = l\n",
    "        self.b = b\n",
    "    \n",
    "    def calculate_area(self):\n",
    "        return self.l*self.b\n",
    "    \n",
    "    \n",
    "def calculate_area(self):\n",
    "    return self.l+self.b\n",
    "    \n",
    "    \n",
    "rectangle = Rectangle(3,4)\n",
    "print(rectangle.calculate_area())\n",
    "Rectangle.calculate_area = calculate_area\n",
    "rectangle.calculate_area()"
   ]
  },
  {
   "cell_type": "code",
   "execution_count": 116,
   "id": "b495969b",
   "metadata": {},
   "outputs": [
    {
     "name": "stdout",
     "output_type": "stream",
     "text": [
      "20\n",
      "20\n",
      "100\n",
      "Please Check Your Radius\n"
     ]
    }
   ],
   "source": [
    "# 29. **Question 29:**\n",
    "#     Extend the `Circle` class and monkey patch a method to display a warning message when the circle radius is too large.\n",
    "\n",
    "class Circle:\n",
    "    def __init__(self,radius):\n",
    "        self.radius = radius\n",
    "\n",
    "\n",
    "def check_radius(self):\n",
    "    if self.radius >= 100:\n",
    "        self.radius = 0\n",
    "        return \"Please Check Your Radius\"\n",
    "    return self.radius\n",
    "\n",
    "circle = Circle(20)\n",
    "print(circle.radius)\n",
    "Circle.check_radius = check_radius\n",
    "print(circle.check_radius())\n",
    "\n",
    "\n",
    "circle = Circle(100)\n",
    "print(circle.radius)\n",
    "Circle.check_radius = check_radius\n",
    "print(circle.check_radius())\n"
   ]
  },
  {
   "cell_type": "code",
   "execution_count": null,
   "id": "152bbd11",
   "metadata": {},
   "outputs": [],
   "source": []
  },
  {
   "cell_type": "code",
   "execution_count": null,
   "id": "dcb475bc",
   "metadata": {},
   "outputs": [],
   "source": []
  },
  {
   "cell_type": "code",
   "execution_count": null,
   "id": "66abe40d",
   "metadata": {},
   "outputs": [],
   "source": []
  },
  {
   "cell_type": "markdown",
   "id": "fa79c94b",
   "metadata": {},
   "source": [
    "# ### Method Overriding:\n"
   ]
  },
  {
   "cell_type": "code",
   "execution_count": 117,
   "id": "03d45911",
   "metadata": {},
   "outputs": [],
   "source": [
    "# 30. **Question 30:**\n",
    "#     Override the `start_engine` method in a `HybridCar` class to include information about both the electric and gasoline engines.\n"
   ]
  },
  {
   "cell_type": "code",
   "execution_count": null,
   "id": "92b9b532",
   "metadata": {},
   "outputs": [],
   "source": []
  },
  {
   "cell_type": "code",
   "execution_count": null,
   "id": "1a17fa07",
   "metadata": {},
   "outputs": [],
   "source": []
  },
  {
   "cell_type": "code",
   "execution_count": null,
   "id": "8c6009d4",
   "metadata": {},
   "outputs": [],
   "source": [
    "\n",
    "# 31. **Question 31:**\n",
    "#     Extend the `Square` class from the `Rectangle` class and override the `calculate_area` method to account for the square's equal sides."
   ]
  }
 ],
 "metadata": {
  "kernelspec": {
   "display_name": "Python 3 (ipykernel)",
   "language": "python",
   "name": "python3"
  },
  "language_info": {
   "codemirror_mode": {
    "name": "ipython",
    "version": 3
   },
   "file_extension": ".py",
   "mimetype": "text/x-python",
   "name": "python",
   "nbconvert_exporter": "python",
   "pygments_lexer": "ipython3",
   "version": "3.8.10"
  }
 },
 "nbformat": 4,
 "nbformat_minor": 5
}
