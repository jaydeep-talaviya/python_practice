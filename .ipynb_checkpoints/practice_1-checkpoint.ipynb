{
 "cells": [
  {
   "cell_type": "code",
   "execution_count": 1,
   "metadata": {},
   "outputs": [
    {
     "name": "stdout",
     "output_type": "stream",
     "text": [
      "Twinkle, twinkle, little star,\n",
      "\t How I wonder what you are!\n",
      "\t\t Up above the world so high,\n",
      "\t\t Like a diamond in the sky.\n",
      " Twinkle, twinkle, little star,\n",
      "\t How I wonder what you are\n"
     ]
    }
   ],
   "source": [
    "# Write a Python program to print the following string in a specific format (see the output). Go to the editor\n",
    "# Sample String : \"Twinkle, twinkle, little star, How I wonder what you are! Up above the world so high, Like a diamond in the sky. Twinkle, twinkle, little star, How I wonder what you are\" Output :\n",
    "\n",
    "# Twinkle, twinkle, little star,\n",
    "# \tHow I wonder what you are! \n",
    "# \t\tUp above the world so high,   \t\t\n",
    "# \t\tLike a diamond in the sky. \n",
    "# Twinkle, twinkle, little star, \n",
    "# \tHow I wonder what you are\n",
    "\n",
    "\n",
    "print(\"Twinkle, twinkle, little star,\\n\\t How I wonder what you are!\\n\\t\\t Up above the world so high,\\n\\t\\t Like a diamond in the sky.\\n Twinkle, twinkle, little star,\\n\\t How I wonder what you are\")"
   ]
  },
  {
   "cell_type": "code",
   "execution_count": 3,
   "metadata": {},
   "outputs": [
    {
     "name": "stdout",
     "output_type": "stream",
     "text": [
      "python version 3.8.10 (default, May 26 2023, 14:05:08) \n",
      "[GCC 9.4.0]\n",
      "python version sys.version_info(major=3, minor=8, micro=10, releaselevel='final', serial=0)\n"
     ]
    }
   ],
   "source": [
    "# 2. Write a Python program to get the Python version you are using\n",
    "import sys\n",
    "print(\"python version\",sys.version)\n",
    "print(\"python version\",sys.version_info)"
   ]
  },
  {
   "cell_type": "code",
   "execution_count": 4,
   "metadata": {},
   "outputs": [
    {
     "name": "stdout",
     "output_type": "stream",
     "text": [
      "current time: 2023-08-08 07:25:57.491867\n"
     ]
    }
   ],
   "source": [
    "# Write a Python program to display the current date and time.\n",
    "# Sample Output :\n",
    "# Current date and time :\n",
    "# 2014-07-05 14:34:14\n",
    "import datetime\n",
    "print(\"current time:\",datetime.datetime.now())"
   ]
  },
  {
   "cell_type": "code",
   "execution_count": 5,
   "metadata": {},
   "outputs": [
    {
     "name": "stdout",
     "output_type": "stream",
     "text": [
      "r = 1.1 : 3.8013271108436504\n"
     ]
    }
   ],
   "source": [
    "#  Write a Python program which accepts the radius of a circle from the user and compute the area. Go to the editor\n",
    "# Sample Output :\n",
    "# r = 1.1\n",
    "# Area = 3.8013271108436504\n",
    "import math\n",
    "def area(r):\n",
    "    return math.pi*r*r\n",
    "\n",
    "print(\"r = 1.1 :\",area(1.1))"
   ]
  },
  {
   "cell_type": "code",
   "execution_count": 6,
   "metadata": {},
   "outputs": [
    {
     "name": "stdout",
     "output_type": "stream",
     "text": [
      "enter first name jay\n",
      "enter last name talaviya\n",
      "talaviya jay\n"
     ]
    }
   ],
   "source": [
    "# Write a Python program which accepts the user's first and last name and print them in reverse order with a space between them\n",
    "fname=input(\"enter first name \")\n",
    "lname=input(\"enter last name \")\n",
    "print(lname+\" \"+fname)"
   ]
  },
  {
   "cell_type": "code",
   "execution_count": 7,
   "metadata": {},
   "outputs": [
    {
     "name": "stdout",
     "output_type": "stream",
     "text": [
      "2,3,4,5,6\n",
      "list  ['2,3,4,5,6']\n",
      "tuple  ('2,3,4,5,6',)\n"
     ]
    }
   ],
   "source": [
    "# #  Write a Python program which accepts a sequence of comma-separated numbers from user and generate a list and a tuple with those numbers.\n",
    "# Sample data : 3, 5, 7, 23\n",
    "# Output :\n",
    "# List : ['3', ' 5', ' 7', ' 23']\n",
    "# Tuple : ('3', ' 5', ' 7', ' 23')\n",
    "\n",
    "n=input().split()\n",
    "print(\"list \",n)\n",
    "print(\"tuple \",tuple(n))"
   ]
  },
  {
   "cell_type": "code",
   "execution_count": 9,
   "metadata": {},
   "outputs": [
    {
     "name": "stdout",
     "output_type": "stream",
     "text": [
      "enter file name abc.asf.sd.py\n",
      "py\n"
     ]
    }
   ],
   "source": [
    "# 7. Write a Python program to accept a filename from the user and print the extension of that. Go to the editor\n",
    "# Sample filename : abc.java\n",
    "# Output : java\n",
    "filename=input(\"enter file name \")\n",
    "print(filename.split(\".\")[-1])"
   ]
  },
  {
   "cell_type": "code",
   "execution_count": 10,
   "metadata": {},
   "outputs": [
    {
     "name": "stdout",
     "output_type": "stream",
     "text": [
      "Red Black\n"
     ]
    }
   ],
   "source": [
    "# 8. Write a Python program to display the first and last colors from the following list. Go to the editor\n",
    "color_list = [\"Red\",\"Green\",\"White\" ,\"Black\"]\n",
    "print(color_list[0],color_list[-1])"
   ]
  },
  {
   "cell_type": "code",
   "execution_count": 11,
   "metadata": {},
   "outputs": [
    {
     "name": "stdout",
     "output_type": "stream",
     "text": [
      "11 / 12 / 2014\n"
     ]
    }
   ],
   "source": [
    "# 9. Write a Python program to display the examination schedule. (extract the date from exam_st_date). Go to the editor\n",
    "exam_st_date = (11, 12, 2014)\n",
    "# Sample Output : The examination will start from : 11 / 12 / 2014\n",
    "print(exam_st_date[0],'/',exam_st_date[1],'/',exam_st_date[2])"
   ]
  },
  {
   "cell_type": "code",
   "execution_count": 13,
   "metadata": {},
   "outputs": [
    {
     "name": "stdout",
     "output_type": "stream",
     "text": [
      "738\n",
      "615\n"
     ]
    }
   ],
   "source": [
    "# . Write a Python program that accepts an integer (n) and computes the value of n+nn+nnn. Go to the editor\n",
    "# Sample value of n is 5\n",
    "# Expected Result : 615\n",
    "def computes_integer(n):\n",
    "    return int(n*1)+int(n*2)+int(n*3)\n",
    "print(computes_integer(str(6)))\n",
    "print(computes_integer(str(5)))"
   ]
  },
  {
   "cell_type": "code",
   "execution_count": 14,
   "metadata": {},
   "outputs": [
    {
     "name": "stdout",
     "output_type": "stream",
     "text": [
      "Return the absolute value of the argument.\n"
     ]
    }
   ],
   "source": [
    "# 11. Write a Python program to print the documents (syntax, description etc.) of Python built-in function(s).\n",
    "# Sample function : abs()\n",
    "# Expected Result :\n",
    "# abs(number) -> number\n",
    "def documents(funct):\n",
    "    print(funct.__doc__)\n",
    "documents(abs)"
   ]
  },
  {
   "cell_type": "code",
   "execution_count": 113,
   "metadata": {},
   "outputs": [
    {
     "name": "stdout",
     "output_type": "stream",
     "text": [
      "   December 2020\n",
      "Mo Tu We Th Fr Sa Su\n",
      "    1  2  3  4  5  6\n",
      " 7  8  9 10 11 12 13\n",
      "14 15 16 17 18 19 20\n",
      "21 22 23 24 25 26 27\n",
      "28 29 30 31\n",
      "\n"
     ]
    }
   ],
   "source": [
    "# 12. Write a Python program to print the calendar of a given month and year.\n",
    "# Note : Use 'calendar' module.\n",
    "import calendar\n",
    "def calender_of_month(year,m):\n",
    "    return calendar.month(year,m)\n",
    "\n",
    "print(calender_of_month(2020,12))"
   ]
  },
  {
   "cell_type": "code",
   "execution_count": 128,
   "metadata": {},
   "outputs": [
    {
     "name": "stdout",
     "output_type": "stream",
     "text": [
      "9 days, 0:00:00\n"
     ]
    }
   ],
   "source": [
    "# 14. Write a Python program to calculate number of days between two dates.\n",
    "# Sample dates : (2014, 7, 2), (2014, 7, 11)\n",
    "Expected output : 9 days \n",
    "from datetime import date\n",
    "x=date(2014, 7, 2)\n",
    "y=date(2014, 7, 11)\n",
    "print(y-x)"
   ]
  },
  {
   "cell_type": "code",
   "execution_count": 132,
   "metadata": {},
   "outputs": [
    {
     "data": {
      "text/plain": [
       "100.53096491487338"
      ]
     },
     "execution_count": 132,
     "metadata": {},
     "output_type": "execute_result"
    }
   ],
   "source": [
    "# 15. Write a Python program to get the volume of a sphere with radius 6.\n",
    "# Click me to see the sample solution\n",
    "def sphere(r):\n",
    "    return 4*math.pi*r*r*r\n",
    "\n",
    "sphere(2)"
   ]
  },
  {
   "cell_type": "code",
   "execution_count": 16,
   "metadata": {},
   "outputs": [
    {
     "name": "stdout",
     "output_type": "stream",
     "text": [
      "10\n",
      "3\n"
     ]
    }
   ],
   "source": [
    "# 16. Write a Python program to get the difference between a given number and 17, if the number is greater than 17 return double the absolute difference.\n",
    "def diff17(n):\n",
    "    if n < 17:\n",
    "        return 17-n\n",
    "    else:\n",
    "        return (n-17)*2\n",
    "\n",
    "diff17(30)\n",
    "print(diff17(22))\n",
    "print(diff17(14))"
   ]
  },
  {
   "cell_type": "code",
   "execution_count": 160,
   "metadata": {},
   "outputs": [
    {
     "data": {
      "text/plain": [
       "False"
      ]
     },
     "execution_count": 160,
     "metadata": {},
     "output_type": "execute_result"
    }
   ],
   "source": [
    "# Write a Python program to test whether a number is within 100 of 1000 or 2000.\n",
    "def diff(n):\n",
    "    if abs(1000-n)<=100 or abs(1000-n)<=100:\n",
    "        return True\n",
    "    else:\n",
    "        return False\n",
    "\n",
    "diff(900)\n",
    "diff(1100)\n",
    "diff(800)"
   ]
  },
  {
   "cell_type": "code",
   "execution_count": 169,
   "metadata": {},
   "outputs": [
    {
     "data": {
      "text/plain": [
       "36"
      ]
     },
     "execution_count": 169,
     "metadata": {},
     "output_type": "execute_result"
    }
   ],
   "source": [
    "# 18. Write a Python program to calculate the sum of three given numbers, if the values are equal then return three times of their sum.\n",
    "def sums(a,b,c):\n",
    "    if a==b==c:\n",
    "        return 3*(a+b+c)\n",
    "    else:\n",
    "        return a+b+c\n",
    "    \n",
    "sums(4,4,4)"
   ]
  },
  {
   "cell_type": "code",
   "execution_count": 179,
   "metadata": {},
   "outputs": [
    {
     "name": "stdout",
     "output_type": "stream",
     "text": [
      "enter stringIsabc\n"
     ]
    },
    {
     "data": {
      "text/plain": [
       "'Isabc'"
      ]
     },
     "execution_count": 179,
     "metadata": {},
     "output_type": "execute_result"
    }
   ],
   "source": [
    "# 19. Write a Python program to get a new string from a given string where \"Is\" has been added to the front. If the given string already begins with \"Is\" then return the string unchanged.\n",
    "s=input(\"enter string\")\n",
    "def stringchange(s):\n",
    "    if s[0:2].lower()==\"is\":\n",
    "        return s\n",
    "    else:\n",
    "        return \"Is\"+s\n",
    "stringchange(s)"
   ]
  },
  {
   "cell_type": "code",
   "execution_count": 181,
   "metadata": {},
   "outputs": [
    {
     "data": {
      "text/plain": [
       "'abc.abc.abc.'"
      ]
     },
     "execution_count": 181,
     "metadata": {},
     "output_type": "execute_result"
    }
   ],
   "source": [
    "# 20. Write a Python program to get a string which is n (non-negative integer) copies of a given string.\n",
    "def copiesofstring(s,n):\n",
    "    return n*s\n",
    "copiesofstring(\"abc.\",3)"
   ]
  },
  {
   "cell_type": "code",
   "execution_count": 184,
   "metadata": {},
   "outputs": [
    {
     "data": {
      "text/plain": [
       "'this is odd'"
      ]
     },
     "execution_count": 184,
     "metadata": {},
     "output_type": "execute_result"
    }
   ],
   "source": [
    "#  Write a Python program to find whether a given number (accept from the user) is even or odd, print out an appropriate message to the user.\n",
    "def oddoreven(n):\n",
    "    return \"this is even\" if n%2==0 else \"this is odd\"\n",
    "oddoreven(5)"
   ]
  },
  {
   "cell_type": "code",
   "execution_count": 187,
   "metadata": {},
   "outputs": [
    {
     "data": {
      "text/plain": [
       "1"
      ]
     },
     "execution_count": 187,
     "metadata": {},
     "output_type": "execute_result"
    }
   ],
   "source": [
    "# 22. Write a Python program to count the number 4 in a given list\n",
    "li=[1,2,3,4,2,2,2,3]\n",
    "li.count(4)"
   ]
  },
  {
   "cell_type": "code",
   "execution_count": 194,
   "metadata": {},
   "outputs": [
    {
     "data": {
      "text/plain": [
       "'anananawe'"
      ]
     },
     "execution_count": 194,
     "metadata": {},
     "output_type": "execute_result"
    }
   ],
   "source": [
    "# 23. Write a Python program to get the n (non-negative integer) copies of the first 2 characters of a given string. Return the n copies of the whole string if the length is less than 2\n",
    "def ncopies(s,n):\n",
    "    return s[0:2]*n+s[2:] if len(s)>2 else s*n\n",
    "\n",
    "ncopies(\"anawe\",3)"
   ]
  },
  {
   "cell_type": "code",
   "execution_count": 203,
   "metadata": {},
   "outputs": [
    {
     "data": {
      "text/plain": [
       "'this is vovel'"
      ]
     },
     "execution_count": 203,
     "metadata": {},
     "output_type": "execute_result"
    }
   ],
   "source": [
    "# 24. Write a Python program to test whether a passed letter is a vowel or not.\n",
    "def vovelornot(l):\n",
    "    return \"this is vovel\" if l in \"aeiou\" else \"this is not vovel\"\n",
    "\n",
    "vovelornot(\"e\")"
   ]
  },
  {
   "cell_type": "code",
   "execution_count": 205,
   "metadata": {},
   "outputs": [
    {
     "data": {
      "text/plain": [
       "False"
      ]
     },
     "execution_count": 205,
     "metadata": {},
     "output_type": "execute_result"
    }
   ],
   "source": [
    "# Write a Python program to check whether a specified value is contained in a group of values. \n",
    "def containornot(l,n):\n",
    "    return True if n in l else False\n",
    "containornot([1,2,3,4,5],-2)"
   ]
  },
  {
   "cell_type": "code",
   "execution_count": 210,
   "metadata": {},
   "outputs": [
    {
     "name": "stdout",
     "output_type": "stream",
     "text": [
      "**\n",
      "***\n",
      "**\n",
      "*****\n"
     ]
    }
   ],
   "source": [
    "#  Write a Python program to create a histogram from a given list of integers.\n",
    "def histo(items):\n",
    "    for i in items:\n",
    "        print(\"*\"*i)\n",
    "histo([2,3,2,5])"
   ]
  },
  {
   "cell_type": "code",
   "execution_count": 212,
   "metadata": {},
   "outputs": [
    {
     "data": {
      "text/plain": [
       "'abc'"
      ]
     },
     "execution_count": 212,
     "metadata": {},
     "output_type": "execute_result"
    }
   ],
   "source": [
    "# 27. Write a Python program to concatenate all elements in a list into a string and return it.\n",
    "def listintostring(l):\n",
    "    return \"\".join(l)\n",
    "\n",
    "listintostring([\"a\",\"b\",\"c\"])"
   ]
  },
  {
   "cell_type": "code",
   "execution_count": 214,
   "metadata": {},
   "outputs": [
    {
     "name": "stdout",
     "output_type": "stream",
     "text": [
      "386\n",
      "462\n",
      "418\n",
      "344\n",
      "236\n",
      "566\n",
      "978\n",
      "328\n",
      "162\n",
      "758\n",
      "918\n"
     ]
    }
   ],
   "source": [
    "# 28. Write a Python program to print all even numbers from a given numbers list in the same order and stop the printing if any numbers that come after 237 in the sequence. Go to the editor\n",
    "# Sample numbers list : \n",
    "\n",
    "\n",
    "numbers = [    \n",
    "    386, 462, 47, 418, 907, 344, 236, 375, 823, 566, 597, 978, 328, 615, 953, 345, \n",
    "    399, 162, 758, 219, 918, 237, 412, 566, 826, 248, 866, 950, 626, 949, 687, 217, \n",
    "    815, 67, 104, 58, 512, 24, 892, 894, 767, 553, 81, 379, 843, 831, 445, 742, 717, \n",
    "    958,743, 527\n",
    "    ]\n",
    "for i in numbers:\n",
    "    if i%2==0:\n",
    "        print(i)\n",
    "    elif i==237:\n",
    "        break\n",
    "\n",
    "    "
   ]
  },
  {
   "cell_type": "code",
   "execution_count": 217,
   "metadata": {},
   "outputs": [
    {
     "data": {
      "text/plain": [
       "{'Black', 'White'}"
      ]
     },
     "execution_count": 217,
     "metadata": {},
     "output_type": "execute_result"
    }
   ],
   "source": [
    "# 29. Write a Python program to print out a set containing all the colors from color_list_1 which are not present in color_list_2. Go to the editor\n",
    "# Test Data :\n",
    "color_list_1 = set([\"White\", \"Black\", \"Red\"])\n",
    "color_list_2 = set([\"Red\", \"Green\"])\n",
    "# Expected Output :\n",
    "# {'Black', 'White'}\n",
    "# for i in color_list_1:\n",
    "#     if i not in color_list_2:\n",
    "#         print(i)\n",
    "\n",
    "color_list_1.difference(color_list_2)"
   ]
  },
  {
   "cell_type": "code",
   "execution_count": 238,
   "metadata": {},
   "outputs": [
    {
     "name": "stdout",
     "output_type": "stream",
     "text": [
      "Q1 ans : [(1, 4), (2, 4), (3, 4)]\n",
      "Q2 ans : {(3, 4), (2, 4), (1, 4)}\n",
      "Q3 ans : {(1, 3), (2, 6), (3, 3), (1, 4), (1, 5), (1, 6), (2, 3), (3, 6), (2, 5), (3, 4), (2, 4), (3, 5)}\n",
      "Q4 ans : {(1, 3), (2, 6), (3, 3), (1, 4), (1, 5), (2, 3), (1, 6), (3, 6), (2, 5), (3, 4), (2, 4), (3, 5)}\n"
     ]
    }
   ],
   "source": [
    "a={1,2,3}\n",
    "b={3,4}\n",
    "c={4,5,6}\n",
    "from itertools import product\n",
    "#1\n",
    "temp=b.intersection(c)\n",
    "print(\"Q1 ans :\", list(product(a,temp)),end=\"\\n\")\n",
    "#2\n",
    "temp1=set(product(a,b))\n",
    "temp2=set(product(a,c))\n",
    "print(\"Q2 ans :\",temp1.intersection(temp2),end=\"\\n\")\n",
    "#3\n",
    "temp4=b.union(c)\n",
    "print(\"Q3 ans :\",set(product(a,temp4)),end=\"\\n\")\n",
    "#4\n",
    "temp5=set(product(a,b))\n",
    "temp6=set(product(a,c))\n",
    "print(\"Q4 ans :\",temp5.union(temp6),end=\"\\n\")"
   ]
  },
  {
   "cell_type": "code",
   "execution_count": 239,
   "metadata": {},
   "outputs": [
    {
     "data": {
      "text/plain": [
       "10.0"
      ]
     },
     "execution_count": 239,
     "metadata": {},
     "output_type": "execute_result"
    }
   ],
   "source": [
    "# 30. Write a Python program that will accept the base and height of a triangle and compute the area. \n",
    "def trianglearea(b,h):\n",
    "    return 0.5*b*h\n",
    "trianglearea(4,5)"
   ]
  },
  {
   "cell_type": "code",
   "execution_count": 69,
   "metadata": {},
   "outputs": [],
   "source": [
    "# Write a Python program to compute the greatest common divisor (GCD) of two positive integers.\n",
    "def gcd(n1,n2):\n",
    "    c=set()\n",
    "    d=set()\n",
    "    print(c)\n",
    "    for i in range(1,n1+1):\n",
    "        if n1%i==0:\n",
    "            c.add(i)\n",
    "\n",
    "    for j in range(1,n2+1):\n",
    "        if n2%j==0:\n",
    "            d.add(j)\n",
    "    print(d)\n",
    "    print(c)\n",
    "    print(max(c.intersection(d)))\n"
   ]
  },
  {
   "cell_type": "code",
   "execution_count": 22,
   "metadata": {},
   "outputs": [],
   "source": [
    "def gcd(n1,n2):\n",
    "    c=set()\n",
    "    d=set()\n",
    "    for i in range(1,n1+1):\n",
    "        if n1%i==0:\n",
    "            c.add(i)\n",
    "    for j in range(1,n2+1):\n",
    "        if n2%j==0:\n",
    "            d.add(j)\n",
    "    \n",
    "    print(max(d.intersection(c)))"
   ]
  },
  {
   "cell_type": "code",
   "execution_count": 23,
   "metadata": {},
   "outputs": [
    {
     "name": "stdout",
     "output_type": "stream",
     "text": [
      "24\n"
     ]
    }
   ],
   "source": [
    "gcd(336,360)"
   ]
  },
  {
   "cell_type": "code",
   "execution_count": 35,
   "metadata": {},
   "outputs": [
    {
     "name": "stdout",
     "output_type": "stream",
     "text": [
      "12\n"
     ]
    }
   ],
   "source": [
    "# 2. Write a Python program to get the least common multiple (LCM) of two positive integers\n",
    "def lcm(x,y):\n",
    "    if x>y:\n",
    "        z=x\n",
    "    else:\n",
    "        z=y\n",
    "        \n",
    "    while(True):\n",
    "        if((z%x==0) and (z%y==0)):\n",
    "            lcm=z\n",
    "            break\n",
    "        z+=1\n",
    "    return lcm\n",
    "print(lcm(4,6))"
   ]
  },
  {
   "cell_type": "code",
   "execution_count": 38,
   "metadata": {},
   "outputs": [
    {
     "data": {
      "text/plain": [
       "12"
      ]
     },
     "execution_count": 38,
     "metadata": {},
     "output_type": "execute_result"
    }
   ],
   "source": [
    "def lcm(n1,n2):\n",
    "    lcms=0\n",
    "    if n1>n2:\n",
    "        big=n1\n",
    "        print(big)\n",
    "    else:\n",
    "        big=n2\n",
    "    \n",
    "    while True:\n",
    "        if ((big%n1==0) and (big%n2==0)):\n",
    "            lcms=big\n",
    "            break\n",
    "        big+=1\n",
    "    return lcms\n",
    "lcm(4,6)"
   ]
  },
  {
   "cell_type": "code",
   "execution_count": 102,
   "metadata": {},
   "outputs": [
    {
     "data": {
      "text/plain": [
       "True"
      ]
     },
     "execution_count": 102,
     "metadata": {},
     "output_type": "execute_result"
    }
   ],
   "source": [
    "# Write a Python program that will return true if the two given integer values are equal or their sum or difference is 5\n",
    "def sumordiff(n1,n2):\n",
    "    return True if n1==n2 or abs(n1-n2)==5 or n1+n2==5 else False\n",
    "sumordiff(10,5)"
   ]
  },
  {
   "cell_type": "code",
   "execution_count": 103,
   "metadata": {},
   "outputs": [
    {
     "data": {
      "text/plain": [
       "49"
      ]
     },
     "execution_count": 103,
     "metadata": {},
     "output_type": "execute_result"
    }
   ],
   "source": [
    "# Write a Python program to solve (x + y) * (x + y).\n",
    "def sol(x,y):\n",
    "    return (x+y)*(x+y)\n",
    "sol(4,3)"
   ]
  },
  {
   "cell_type": "code",
   "execution_count": 108,
   "metadata": {},
   "outputs": [],
   "source": [
    "def divchange(fun):\n",
    "    def wrapper(a,b):\n",
    "        if a<b:\n",
    "            a,b=b,a\n",
    "        else:\n",
    "            a,b=a,b\n",
    "        func_temp=fun(a,b)\n",
    "        return func_temp\n",
    "    return wrapper\n",
    "    \n",
    "\n",
    "@divchange\n",
    "def div(a,b):\n",
    "    return a/b\n"
   ]
  },
  {
   "cell_type": "code",
   "execution_count": 110,
   "metadata": {},
   "outputs": [
    {
     "data": {
      "text/plain": [
       "1.3333333333333333"
      ]
     },
     "execution_count": 110,
     "metadata": {},
     "output_type": "execute_result"
    }
   ],
   "source": [
    "div(4,3)"
   ]
  },
  {
   "cell_type": "code",
   "execution_count": 116,
   "metadata": {},
   "outputs": [
    {
     "name": "stdout",
     "output_type": "stream",
     "text": [
      "frozenset({1, 2, 3, 4})\n"
     ]
    }
   ],
   "source": [
    "a={1,2,3,4}\n",
    "a=frozenset(a)\n",
    "print(a)"
   ]
  },
  {
   "cell_type": "code",
   "execution_count": 115,
   "metadata": {},
   "outputs": [
    {
     "data": {
      "text/plain": [
       "5575258175646371796"
      ]
     },
     "execution_count": 115,
     "metadata": {},
     "output_type": "execute_result"
    }
   ],
   "source": [
    "hash(a)"
   ]
  },
  {
   "cell_type": "code",
   "execution_count": 2,
   "metadata": {},
   "outputs": [
    {
     "name": "stdout",
     "output_type": "stream",
     "text": [
      "10 15\n"
     ]
    },
    {
     "data": {
      "text/plain": [
       "2"
      ]
     },
     "execution_count": 2,
     "metadata": {},
     "output_type": "execute_result"
    }
   ],
   "source": [
    "\n",
    "def GCD(n1,n2):\n",
    "    c=set()\n",
    "    d=set()\n",
    "    for i in range(1,n1):\n",
    "        if n1%i==0:\n",
    "            c.add(i)\n",
    "    for j in range(1,n2):\n",
    "        if n2%j==0:\n",
    "            d.add(j)\n",
    "    temp=c.intersection(d)\n",
    "    return len(temp)\n",
    "\n",
    "n1=input().split()\n",
    "\n",
    "GCD(int(n1[0]),int(n1[1]))\n",
    "    "
   ]
  },
  {
   "cell_type": "code",
   "execution_count": 20,
   "metadata": {},
   "outputs": [
    {
     "name": "stdout",
     "output_type": "stream",
     "text": [
      "6\n",
      "1 2 3 4 5\n",
      "4\n"
     ]
    }
   ],
   "source": [
    "\n",
    "n1=int(input())\n",
    "n = list(map(int,input().strip().split()))[:n1]\n",
    "\n",
    "sums=sum(n)\n",
    "sum1=0\n",
    "i=0\n",
    "while sum1<sums:\n",
    "    l=[i]*len(n)\n",
    "    sum1=sum(l)\n",
    "    i+=1\n",
    "print(i)"
   ]
  },
  {
   "cell_type": "code",
   "execution_count": 22,
   "metadata": {},
   "outputs": [
    {
     "name": "stdout",
     "output_type": "stream",
     "text": [
      "\n",
      "Enter the numbers : 1 2 3 4 5 6\n"
     ]
    }
   ],
   "source": [
    "a = list(map(int,input(\"\\nEnter the numbers : \").strip().split()))[:5] "
   ]
  },
  {
   "cell_type": "code",
   "execution_count": 31,
   "metadata": {},
   "outputs": [
    {
     "name": "stdout",
     "output_type": "stream",
     "text": [
      "1 2 3 4 5 6 6 7\n"
     ]
    }
   ],
   "source": [
    "arr = list(map(int, input().split()[:5]))"
   ]
  },
  {
   "cell_type": "code",
   "execution_count": 32,
   "metadata": {},
   "outputs": [
    {
     "data": {
      "text/plain": [
       "[1, 2, 3, 4, 5]"
      ]
     },
     "execution_count": 32,
     "metadata": {},
     "output_type": "execute_result"
    }
   ],
   "source": [
    "arr\n"
   ]
  },
  {
   "cell_type": "code",
   "execution_count": 17,
   "metadata": {},
   "outputs": [
    {
     "data": {
      "text/plain": [
       "[1, 1, 2, 6, 24]"
      ]
     },
     "execution_count": 17,
     "metadata": {},
     "output_type": "execute_result"
    }
   ],
   "source": [
    "# factorial\n",
    "def fact(n):\n",
    "    if n==0:\n",
    "        return 1\n",
    "    if n==1:\n",
    "        return 1\n",
    "    else:\n",
    "        return n*fact(n-1)\n",
    "[fact(i) for i in range(5)]"
   ]
  },
  {
   "cell_type": "code",
   "execution_count": 1,
   "metadata": {},
   "outputs": [],
   "source": [
    "# fibb\n",
    "def fibb(n):\n",
    "    if n==0:\n",
    "        return 0\n",
    "    if n==1:\n",
    "        return 1\n",
    "    else:\n",
    "        return fibb(n-1)+fibb(n-2)"
   ]
  },
  {
   "cell_type": "code",
   "execution_count": 2,
   "metadata": {},
   "outputs": [
    {
     "data": {
      "text/plain": [
       "[0, 1, 1, 2, 3]"
      ]
     },
     "execution_count": 2,
     "metadata": {},
     "output_type": "execute_result"
    }
   ],
   "source": [
    "[fibb(i) for i in range(5)]"
   ]
  },
  {
   "cell_type": "code",
   "execution_count": 5,
   "metadata": {},
   "outputs": [
    {
     "name": "stdout",
     "output_type": "stream",
     "text": [
      "     \n",
      "     *\n",
      "    * *\n",
      "   * * *\n",
      "  * * * *\n"
     ]
    }
   ],
   "source": [
    "# __*__\n",
    "# _* *_\n",
    "# * * *\n",
    "n=5\n",
    "for i in range(0,n):\n",
    "    print(\" \"*(n-i-1),\" *\"*i)\n",
    "    "
   ]
  },
  {
   "cell_type": "code",
   "execution_count": 6,
   "metadata": {},
   "outputs": [
    {
     "name": "stdout",
     "output_type": "stream",
     "text": [
      "  * * * * *\n",
      "   * * * *\n",
      "    * * *\n",
      "     * *\n",
      "      *\n"
     ]
    }
   ],
   "source": [
    "for i in range(n,0,-1):\n",
    "    print(\" \"*(n-i),\" *\"*i)\n",
    "    "
   ]
  },
  {
   "cell_type": "code",
   "execution_count": 7,
   "metadata": {},
   "outputs": [
    {
     "name": "stdout",
     "output_type": "stream",
     "text": [
      "      \n",
      "      *\n",
      "     * *\n",
      "    * * *\n",
      "   * * * *\n",
      "  * * * * *\n",
      "   * * * *\n",
      "    * * *\n",
      "     * *\n",
      "      *\n"
     ]
    }
   ],
   "source": [
    "for i in range(0,n):\n",
    "    print(\" \"*(n-i),\" *\"*i)\n",
    "for i in range(n,0,-1):\n",
    "    print(\" \"*(n-i),\" *\"*i)\n",
    "    "
   ]
  },
  {
   "cell_type": "code",
   "execution_count": 8,
   "metadata": {},
   "outputs": [
    {
     "name": "stdout",
     "output_type": "stream",
     "text": [
      "1\n",
      "12\n",
      "123\n",
      "1234\n",
      "12345\n"
     ]
    }
   ],
   "source": [
    "for i in range(1,n+1):\n",
    "    for j in range(1,i+1):\n",
    "        print(j,end=\"\")\n",
    "    print()"
   ]
  },
  {
   "cell_type": "code",
   "execution_count": 10,
   "metadata": {},
   "outputs": [
    {
     "name": "stdout",
     "output_type": "stream",
     "text": [
      "55555\n",
      "4444\n",
      "333\n",
      "22\n",
      "1\n",
      "\n"
     ]
    }
   ],
   "source": [
    "for i in range(n,-1,-1):\n",
    "    for j in range(i,0,-1):\n",
    "        print(i,end=\"\")\n",
    "    print()"
   ]
  },
  {
   "cell_type": "code",
   "execution_count": 11,
   "metadata": {},
   "outputs": [
    {
     "name": "stdout",
     "output_type": "stream",
     "text": [
      "54321\n",
      "4321\n",
      "321\n",
      "21\n",
      "1\n",
      "\n"
     ]
    }
   ],
   "source": [
    "for i in range(n,-1,-1):\n",
    "    for j in range(i,0,-1):\n",
    "        print(j,end=\"\")\n",
    "    print()"
   ]
  },
  {
   "cell_type": "code",
   "execution_count": 12,
   "metadata": {},
   "outputs": [
    {
     "name": "stdout",
     "output_type": "stream",
     "text": [
      "13is prime number\n"
     ]
    }
   ],
   "source": [
    "n=13\n",
    "if n>0:\n",
    "    for i in range(2,n):\n",
    "        if (n%i)==0:\n",
    "            print(f'{n}is not prime number')\n",
    "            break\n",
    "        else:\n",
    "            print(f'{n}is prime number')\n",
    "            break\n",
    "else:\n",
    "    print(f'{n}is not prime number')"
   ]
  },
  {
   "cell_type": "code",
   "execution_count": 80,
   "metadata": {},
   "outputs": [],
   "source": [
    "strings='19/10/99 08:00:00'\n",
    "strings2='20/11/99 09:30:00'\n"
   ]
  },
  {
   "cell_type": "code",
   "execution_count": 86,
   "metadata": {},
   "outputs": [],
   "source": [
    "from datetime import datetime\n",
    "x=datetime.strptime(strings,'%d/%m/%y %H:%M:%S')\n",
    "y=datetime.strptime(strings2,'%d/%m/%y %H:%M:%S')\n",
    "\n",
    "# '%d/%m/%y %H:%M:%S'"
   ]
  },
  {
   "cell_type": "code",
   "execution_count": 87,
   "metadata": {},
   "outputs": [
    {
     "name": "stdout",
     "output_type": "stream",
     "text": [
      "32 days, 1:30:00\n"
     ]
    }
   ],
   "source": [
    "print(y-x)"
   ]
  },
  {
   "cell_type": "code",
   "execution_count": 88,
   "metadata": {},
   "outputs": [
    {
     "data": {
      "text/plain": [
       "datetime.datetime(1999, 10, 19, 8, 0)"
      ]
     },
     "execution_count": 88,
     "metadata": {},
     "output_type": "execute_result"
    }
   ],
   "source": [
    "x"
   ]
  },
  {
   "cell_type": "code",
   "execution_count": 134,
   "metadata": {},
   "outputs": [],
   "source": [
    "def palindromornot(s):\n",
    "    print(s)\n",
    "    if s[0:]==\"\".join(list(reversed(s))):\n",
    "    \n",
    "        print(s,\"this is palindrom\")\n",
    "    else:\n",
    "        print(s,\"this is not palindrom\")\n",
    "        "
   ]
  },
  {
   "cell_type": "code",
   "execution_count": 136,
   "metadata": {},
   "outputs": [
    {
     "name": "stdout",
     "output_type": "stream",
     "text": [
      "redrum murder\n",
      "redrum murder this is palindrom\n"
     ]
    }
   ],
   "source": [
    "palindromornot(\"redrum murder\")"
   ]
  },
  {
   "cell_type": "code",
   "execution_count": 142,
   "metadata": {},
   "outputs": [
    {
     "name": "stdout",
     "output_type": "stream",
     "text": [
      "1\n",
      "2\n",
      "3\n",
      "4\n",
      "5\n"
     ]
    }
   ],
   "source": [
    "# args this is simply list or tuple of arguments which is used for getting parameters to funtions without define numbers of parameters\n",
    "# like \n",
    "def argsexample(*args):\n",
    "    for i in args:\n",
    "        print(i)\n",
    "argsexample(1,2,3,4,5)"
   ]
  },
  {
   "cell_type": "code",
   "execution_count": 148,
   "metadata": {},
   "outputs": [
    {
     "name": "stdout",
     "output_type": "stream",
     "text": [
      "name jay\n",
      "year 2020\n"
     ]
    }
   ],
   "source": [
    "# kwargs this is same method as args but this is used for dictionary types datas like keys and values\n",
    "def kwargsexample(**kwargs):\n",
    "    for i,j in kwargs.items():\n",
    "        print(i,j)\n",
    "kwargsexample(name=\"jay\",year=2020)"
   ]
  },
  {
   "cell_type": "code",
   "execution_count": null,
   "metadata": {},
   "outputs": [],
   "source": []
  },
  {
   "cell_type": "code",
   "execution_count": null,
   "metadata": {},
   "outputs": [],
   "source": []
  },
  {
   "cell_type": "code",
   "execution_count": null,
   "metadata": {},
   "outputs": [],
   "source": []
  },
  {
   "cell_type": "code",
   "execution_count": null,
   "metadata": {},
   "outputs": [],
   "source": []
  },
  {
   "cell_type": "code",
   "execution_count": null,
   "metadata": {},
   "outputs": [],
   "source": []
  }
 ],
 "metadata": {
  "kernelspec": {
   "display_name": "Python 3 (ipykernel)",
   "language": "python",
   "name": "python3"
  },
  "language_info": {
   "codemirror_mode": {
    "name": "ipython",
    "version": 3
   },
   "file_extension": ".py",
   "mimetype": "text/x-python",
   "name": "python",
   "nbconvert_exporter": "python",
   "pygments_lexer": "ipython3",
   "version": "3.8.10"
  }
 },
 "nbformat": 4,
 "nbformat_minor": 4
}
