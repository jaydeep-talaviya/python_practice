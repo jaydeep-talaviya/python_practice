{
 "cells": [
  {
   "cell_type": "code",
   "execution_count": 3,
   "id": "6fbfe343",
   "metadata": {},
   "outputs": [
    {
     "name": "stdout",
     "output_type": "stream",
     "text": [
      "going to sleep 1 second\n",
      "Finished Sleep\n",
      "going to sleep 1 second\n",
      "Finished Sleep\n",
      "finished execution in 2.0 seconds\n"
     ]
    }
   ],
   "source": [
    "import time\n",
    "\n",
    "start = time.perf_counter()\n",
    "\n",
    "def do_something():\n",
    "    print(\"going to sleep 1 second\")\n",
    "    time.sleep(1)\n",
    "    print(\"Finished Sleep\")\n",
    "\n",
    "do_something()\n",
    "do_something()\n",
    "\n",
    "\n",
    "end = time.perf_counter()\n",
    "print(f\"finished execution in {round(end-start,2)} seconds\")"
   ]
  },
  {
   "cell_type": "code",
   "execution_count": 7,
   "id": "cbe44ddd",
   "metadata": {},
   "outputs": [
    {
     "name": "stdout",
     "output_type": "stream",
     "text": [
      "going to sleep 1 second\n",
      "going to sleep 1 second\n",
      "Finished Sleep\n",
      "Finished Sleep\n",
      "finished execution in 1.01 seconds\n"
     ]
    }
   ],
   "source": [
    "import time\n",
    "import threading\n",
    "\n",
    "start = time.perf_counter()\n",
    "\n",
    "def do_something():\n",
    "    print(\"going to sleep 1 second\")\n",
    "    time.sleep(1)\n",
    "    print(\"Finished Sleep\")\n",
    "\n",
    "\n",
    "\n",
    "t1 =threading.Thread(target=do_something)\n",
    "t2 =threading.Thread(target=do_something)\n",
    "\n",
    "t1.start()\n",
    "t2.start()\n",
    "\n",
    "t1.join()\n",
    "t2.join()\n",
    "\n",
    "end = time.perf_counter()\n",
    "print(f\"finished execution in {round(end-start,2)} seconds\")"
   ]
  },
  {
   "cell_type": "code",
   "execution_count": 11,
   "id": "15f53699",
   "metadata": {},
   "outputs": [
    {
     "name": "stdout",
     "output_type": "stream",
     "text": [
      "going to sleep 1 second\n",
      "going to sleep 1 second\n",
      "going to sleep 1 second\n",
      "going to sleep 1 second\n",
      "going to sleep 1 second\n",
      "going to sleep 1 second\n",
      "going to sleep 1 second\n",
      "going to sleep 1 second\n",
      "going to sleep 1 second\n",
      "going to sleep 1 second\n",
      "Finished Sleep\n",
      "Finished Sleep\n",
      "Finished Sleep\n",
      "Finished Sleep\n",
      "Finished Sleep\n",
      "Finished Sleep\n",
      "Finished Sleep\n",
      "Finished Sleep\n",
      "Finished Sleep\n",
      "Finished Sleep\n",
      "finished execution in 1.02 seconds\n"
     ]
    }
   ],
   "source": [
    "import time\n",
    "import threading\n",
    "\n",
    "start = time.perf_counter()\n",
    "\n",
    "def do_something():\n",
    "    print(\"going to sleep 1 second\")\n",
    "    time.sleep(1)\n",
    "    print(\"Finished Sleep\")\n",
    "\n",
    "\n",
    "\n",
    "threads = []\n",
    "for _ in range(0,10):\n",
    "    t = threading.Thread(target=do_something)\n",
    "    t.start()\n",
    "    threads.append(t)\n",
    "    \n",
    "\n",
    "for thread in threads:\n",
    "    thread.join()\n",
    "    \n",
    "\n",
    "end = time.perf_counter()\n",
    "print(f\"finished execution in {round(end-start,2)} seconds\")"
   ]
  },
  {
   "cell_type": "code",
   "execution_count": 12,
   "id": "d6730c4b",
   "metadata": {},
   "outputs": [
    {
     "name": "stdout",
     "output_type": "stream",
     "text": [
      "going to sleep 1.5 seconds\n",
      "going to sleep 1.5 seconds\n",
      "going to sleep 1.5 seconds\n",
      "going to sleep 1.5 seconds\n",
      "going to sleep 1.5 seconds\n",
      "going to sleep 1.5 seconds\n",
      "going to sleep 1.5 seconds\n",
      "going to sleep 1.5 seconds\n",
      "going to sleep 1.5 seconds\n",
      "going to sleep 1.5 seconds\n",
      "Finished Sleep\n",
      "Finished Sleep\n",
      "Finished Sleep\n",
      "Finished Sleep\n",
      "Finished Sleep\n",
      "Finished Sleep\n",
      "Finished Sleep\n",
      "Finished Sleep\n",
      "Finished Sleep\n",
      "Finished Sleep\n",
      "finished execution in 1.51 seconds\n"
     ]
    }
   ],
   "source": [
    "# passing args in threading function\n",
    "import time\n",
    "import threading\n",
    "\n",
    "start = time.perf_counter()\n",
    "\n",
    "def do_something(second):\n",
    "    print(f\"going to sleep {second} seconds\")\n",
    "    time.sleep(second)\n",
    "    print(\"Finished Sleep\")\n",
    "\n",
    "\n",
    "\n",
    "threads = []\n",
    "for _ in range(0,10):\n",
    "    t = threading.Thread(target=do_something,args=[1.5])\n",
    "    t.start()\n",
    "    threads.append(t)\n",
    "    \n",
    "\n",
    "for thread in threads:\n",
    "    thread.join()\n",
    "    \n",
    "\n",
    "end = time.perf_counter()\n",
    "print(f\"finished execution in {round(end-start,2)} seconds\")"
   ]
  },
  {
   "cell_type": "code",
   "execution_count": 15,
   "id": "6b80a3c3",
   "metadata": {},
   "outputs": [
    {
     "name": "stdout",
     "output_type": "stream",
     "text": [
      "going to sleep 5 seconds\n",
      "going to sleep 4 seconds\n",
      "going to sleep 3 seconds\n",
      "going to sleep 2 seconds\n",
      "going to sleep 1 seconds\n",
      "Finished Sleep\n",
      "Finished Sleep\n",
      "Finished Sleep\n",
      "Finished Sleep\n",
      "Finished Sleep\n",
      "None\n",
      "None\n",
      "None\n",
      "None\n",
      "None\n",
      "finished execution in 5.02 seconds\n"
     ]
    }
   ],
   "source": [
    "# with concurrent\n",
    "\n",
    "# passing args in threading function\n",
    "import time\n",
    "import threading\n",
    "import concurrent.futures\n",
    "\n",
    "start = time.perf_counter()\n",
    "\n",
    "def do_something(second):\n",
    "    print(f\"going to sleep {second} seconds\")\n",
    "    time.sleep(second)\n",
    "    print(\"Finished Sleep\")\n",
    "\n",
    "\n",
    "with concurrent.futures.ThreadPoolExecutor() as executer:\n",
    "    secs = [5,4,3,2,1]\n",
    "    results = executer.map(do_something,secs)\n",
    "    \n",
    "    for result in results:\n",
    "        print(result)\n",
    "    \n",
    "\n",
    "end = time.perf_counter()\n",
    "print(f\"finished execution in {round(end-start,2)} seconds\")"
   ]
  },
  {
   "cell_type": "code",
   "execution_count": 16,
   "id": "d5aedb02",
   "metadata": {},
   "outputs": [
    {
     "name": "stdout",
     "output_type": "stream",
     "text": [
      "going to sleep 5 seconds\n",
      "going to sleep 4 seconds\n",
      "going to sleep 3 seconds\n",
      "going to sleep 2 seconds\n",
      "going to sleep 1 seconds\n",
      "Finished Sleep\n",
      "Finished Sleep\n",
      "Finished Sleep\n",
      "Finished Sleep\n",
      "Finished Sleep\n",
      "finished execution in 5.01 seconds\n"
     ]
    }
   ],
   "source": [
    "# with concurrent\n",
    "\n",
    "# passing args in threading function\n",
    "import time\n",
    "import threading\n",
    "import concurrent.futures\n",
    "\n",
    "start = time.perf_counter()\n",
    "\n",
    "def do_something(second):\n",
    "    print(f\"going to sleep {second} seconds\")\n",
    "    time.sleep(second)\n",
    "    print(\"Finished Sleep\")\n",
    "\n",
    "\n",
    "with concurrent.futures.ThreadPoolExecutor() as executer:\n",
    "    secs = [5,4,3,2,1]\n",
    "    results = executer.map(do_something,secs)\n",
    "    \n",
    "#     for result in results:\n",
    "#         print(result)\n",
    "    \n",
    "\n",
    "end = time.perf_counter()\n",
    "print(f\"finished execution in {round(end-start,2)} seconds\")"
   ]
  },
  {
   "cell_type": "code",
   "execution_count": 2,
   "id": "db3894f2",
   "metadata": {},
   "outputs": [
    {
     "name": "stdout",
     "output_type": "stream",
     "text": [
      "going to sleep 1 second\n",
      "going to sleep 1 second\n",
      "Finished Sleep\n",
      "Finished Sleep\n",
      "finished execution in 1.06 seconds\n"
     ]
    }
   ],
   "source": [
    "##### multiprocessers\n",
    "import time\n",
    "import multiprocessing\n",
    "\n",
    "start = time.perf_counter()\n",
    "\n",
    "def do_something():\n",
    "    print(\"going to sleep 1 second\")\n",
    "    time.sleep(1)\n",
    "    print(\"Finished Sleep\")\n",
    "\n",
    "p1 = multiprocessing.Process(target=do_something)\n",
    "p2 = multiprocessing.Process(target=do_something)\n",
    "\n",
    "p1.start()\n",
    "p2.start()\n",
    "\n",
    "p1.join()\n",
    "p2.join()\n",
    "\n",
    "end = time.perf_counter()\n",
    "print(f\"finished execution in {round(end-start,2)} seconds\")"
   ]
  },
  {
   "cell_type": "code",
   "execution_count": 13,
   "id": "9c5952ed",
   "metadata": {},
   "outputs": [
    {
     "name": "stdout",
     "output_type": "stream",
     "text": [
      "going to sleep 1 secondgoing to sleep 1 secondgoing to sleep 1 second\n",
      "going to sleep 1 second\n",
      "\n",
      "\n",
      "going to sleep 1 second\n",
      "going to sleep 1 secondgoing to sleep 1 second\n",
      "\n",
      "going to sleep 1 secondgoing to sleep 1 second\n",
      "\n",
      "going to sleep 1 second\n",
      "Finished SleepFinished Sleep\n",
      "Finished SleepFinished Sleep\n",
      "Finished Sleep\n",
      "\n",
      "\n",
      "Finished Sleep\n",
      "Finished Sleep\n",
      "Finished Sleep\n",
      "Finished Sleep\n",
      "Finished Sleep\n",
      "finished execution in 1.64 seconds\n"
     ]
    }
   ],
   "source": [
    "##### multiprocessers\n",
    "import time\n",
    "import multiprocessing\n",
    "\n",
    "start = time.perf_counter()\n",
    "\n",
    "def do_something(second):\n",
    "    print(\"going to sleep 1 second\")\n",
    "    time.sleep(second)\n",
    "    print(\"Finished Sleep\")\n",
    "\n",
    "\n",
    "processes = []    \n",
    "for _ in range(0,10):\n",
    "    p = multiprocessing.Process(target=do_something,args=[1.5])\n",
    "    p.start()\n",
    "    processes.append(p)\n",
    "\n",
    "for process in processes:\n",
    "    p.join()\n",
    "\n",
    "end = time.perf_counter()\n",
    "print(f\"finished execution in {round(end-start,2)} seconds\")"
   ]
  },
  {
   "cell_type": "code",
   "execution_count": 18,
   "id": "a68a99e8",
   "metadata": {},
   "outputs": [
    {
     "name": "stdout",
     "output_type": "stream",
     "text": [
      "going to sleep 5 second\n",
      "going to sleep 3 second\n",
      "going to sleep 2 second\n",
      "\n",
      "\n",
      "going to sleep 4 second\n",
      "\n",
      "\n",
      "going to sleep 1 second\n",
      "\n",
      "Finished Sleep in 2 second\n",
      "Finished Sleep in 3 second\n",
      "Finished Sleep in 1 second\n",
      "Finished Sleep in 4 second\n",
      "Finished Sleep in 5 second\n",
      "finished execution in 5.08 seconds\n"
     ]
    }
   ],
   "source": [
    "##### multiprocessing using concurrent\n",
    "\n",
    "import time\n",
    "import concurrent.futures\n",
    "\n",
    "start = time.perf_counter()\n",
    "\n",
    "def do_something(second):\n",
    "    print(f\"going to sleep {second} second\\n\")\n",
    "    time.sleep(second)\n",
    "    return f\"Finished Sleep in {second} second\"\n",
    "\n",
    "with concurrent.futures.ProcessPoolExecutor() as executer:\n",
    "    secs = [5,4,3,2,1]\n",
    "    results = [executer.submit(do_something,sec) for sec in secs]\n",
    "    for single_result in concurrent.futures.as_completed(results):\n",
    "        print(single_result.result())\n",
    "\n",
    "end = time.perf_counter()\n",
    "print(f\"finished execution in {round(end-start,2)} seconds\")"
   ]
  },
  {
   "cell_type": "code",
   "execution_count": 23,
   "id": "faffc706",
   "metadata": {},
   "outputs": [
    {
     "name": "stdout",
     "output_type": "stream",
     "text": [
      "going to sleep 4 second\n",
      "going to sleep 5 second\n",
      "going to sleep 3 second\n",
      "\n",
      "\n",
      "going to sleep 2 second\n",
      "\n",
      "\n",
      "going to sleep 1 second\n",
      "\n",
      "Finished Sleep in 5 second\n",
      "Finished Sleep in 4 second\n",
      "Finished Sleep in 3 second\n",
      "Finished Sleep in 2 second\n",
      "Finished Sleep in 1 second\n",
      "finished execution in 5.06 seconds\n"
     ]
    }
   ],
   "source": [
    "##### multiprocessing using concurrent\n",
    "\n",
    "import time\n",
    "import concurrent.futures\n",
    "\n",
    "start = time.perf_counter()\n",
    "\n",
    "def do_something(second):\n",
    "    print(f\"going to sleep {second} second\\n\")\n",
    "    time.sleep(second)\n",
    "    return f\"Finished Sleep in {second} second\"\n",
    "\n",
    "with concurrent.futures.ProcessPoolExecutor() as executer:\n",
    "    secs = [5,4,3,2,1]\n",
    "    results = executer.map(do_something,secs)\n",
    "    for single_result in results:\n",
    "        print(single_result)\n",
    "\n",
    "end = time.perf_counter()\n",
    "print(f\"finished execution in {round(end-start,2)} seconds\")"
   ]
  },
  {
   "cell_type": "markdown",
   "id": "1c2aa31c",
   "metadata": {},
   "source": [
    "# asyncio"
   ]
  },
  {
   "cell_type": "code",
   "execution_count": 31,
   "id": "bb785527",
   "metadata": {},
   "outputs": [
    {
     "name": "stdout",
     "output_type": "stream",
     "text": [
      "Send first Email\n",
      "First Email reply\n",
      "Send second Email\n",
      "Second Email reply\n",
      "Send third Email\n",
      "Third Email reply\n",
      "====\n",
      "END\n",
      "Send first Email\n",
      "Send second Email\n",
      "Send third Email\n",
      "First Email reply\n",
      "Second Email reply\n",
      "Third Email reply\n"
     ]
    }
   ],
   "source": [
    "# Introduction Example\n",
    "# synchronous\n",
    "def task1():\n",
    "    print('Send first Email')\n",
    "    print('First Email reply')\n",
    "    task2()\n",
    "\n",
    "def task2():\n",
    "    print('Send second Email')\n",
    "    print('Second Email reply')\n",
    "    task3()\n",
    "\n",
    "def task3():\n",
    "    print('Send third Email')\n",
    "    print('Third Email reply')\n",
    "    print(\"====\")\n",
    "    print(\"END\")\n",
    "\n",
    "task1()\n",
    "\n",
    "# asynchronous\n",
    "\n",
    "import asyncio\n",
    "\n",
    "async def task1():\n",
    "    print('Send first Email')\n",
    "    asyncio.create_task(task2())\n",
    "    await asyncio.sleep(2) # Simulating that the email reply takes 2 seconds\n",
    "    print('First Email reply')\n",
    "\n",
    "async def task2():\n",
    "    print('Send second Email')\n",
    "    asyncio.create_task(task3())\n",
    "    await asyncio.sleep(2)\n",
    "    print('Second Email reply')\n",
    "\n",
    "async def task3():\n",
    "    print('Send third Email')\n",
    "    await asyncio.sleep(2)\n",
    "    print('Third Email reply')\n",
    "\n",
    "await task1()"
   ]
  },
  {
   "cell_type": "markdown",
   "id": "ec3bb5d2",
   "metadata": {},
   "source": [
    "### a coroutine is a specialized version of a function that allows pausing its execution and later resuming it.\n"
   ]
  },
  {
   "cell_type": "code",
   "execution_count": 32,
   "id": "f360810d",
   "metadata": {},
   "outputs": [
    {
     "name": "stderr",
     "output_type": "stream",
     "text": [
      "/tmp/ipykernel_4262/3593601669.py:6: DeprecationWarning: \"@coroutine\" decorator is deprecated since Python 3.8, use \"async def\" instead\n",
      "  def load_file(path):\n"
     ]
    }
   ],
   "source": [
    "# 1.0.1 Coroutine objects\n",
    "import asyncio\n",
    "\n",
    "# Python 3.3\n",
    "@asyncio.coroutine \n",
    "def load_file(path):\n",
    "    pass\n",
    "\n",
    "# Python 3.5\n",
    "async def send_email():\n",
    "    pass"
   ]
  },
  {
   "cell_type": "code",
   "execution_count": 33,
   "id": "0a546718",
   "metadata": {},
   "outputs": [
    {
     "name": "stdout",
     "output_type": "stream",
     "text": [
      "True\n"
     ]
    }
   ],
   "source": [
    "# 1.0.2 Determine if a function is a coroutine or not\n",
    "import asyncio\n",
    "\n",
    "async def task1():\n",
    "    pass\n",
    "   \n",
    "print(asyncio.iscoroutinefunction(task1))\n",
    "\n",
    "# asyncio.iscoroutinefunction(func)\n",
    "# asyncio.iscoroutine(obj)"
   ]
  },
  {
   "cell_type": "code",
   "execution_count": 36,
   "id": "2df7b59d",
   "metadata": {},
   "outputs": [
    {
     "name": "stdout",
     "output_type": "stream",
     "text": [
      "1\n",
      "2\n"
     ]
    }
   ],
   "source": [
    "# 1.0.4 Wait for a task\n",
    "import asyncio\n",
    "async def task1():\n",
    "    print(\"1\")\n",
    "    await asyncio.sleep(1)\n",
    "    print(\"2\")\n",
    "\n",
    "await task1()"
   ]
  },
  {
   "cell_type": "code",
   "execution_count": 38,
   "id": "1c6e57fc",
   "metadata": {},
   "outputs": [
    {
     "name": "stdout",
     "output_type": "stream",
     "text": [
      "t3\n",
      "t2\n",
      "t1\n"
     ]
    }
   ],
   "source": [
    "# 1.0.5 Chaining Coroutines\n",
    "import asyncio\n",
    "\n",
    "async def t1():\n",
    "    await t2()\n",
    "    print(\"t1\")\n",
    "async def t2():\n",
    "    await t3()\n",
    "    print(\"t2\")\n",
    "async def t3():\n",
    "    print(\"t3\")\n",
    "    \n",
    "await t1()"
   ]
  },
  {
   "cell_type": "code",
   "execution_count": 40,
   "id": "2357c8c3",
   "metadata": {},
   "outputs": [
    {
     "name": "stdout",
     "output_type": "stream",
     "text": [
      "Waiting for reply...\n",
      "Reply: How you doing?\n"
     ]
    }
   ],
   "source": [
    "# 1.0.5 Wait for an email reply\n",
    "import asyncio\n",
    "\n",
    "async def email_reply():\n",
    "    await asyncio.sleep(4)\n",
    "    return (f\"How you doing?\")\n",
    "\n",
    "async def task1():\n",
    "    print(\"Waiting for reply...\")\n",
    "    x = await email_reply()\n",
    "    print(f\"Reply: {x}\")\n",
    "\n",
    "await task1()"
   ]
  },
  {
   "cell_type": "code",
   "execution_count": 41,
   "id": "ded0e872",
   "metadata": {},
   "outputs": [
    {
     "name": "stdout",
     "output_type": "stream",
     "text": [
      "Waiting for reply...\n",
      "Waiting for file...\n",
      "File returned: File returned\n",
      "Email Reply: How you doing?\n"
     ]
    }
   ],
   "source": [
    "# 1.0.6 await multiple tasks\n",
    "import asyncio\n",
    "\n",
    "async def file_return():\n",
    "    await asyncio.sleep(1)\n",
    "    return (f\"File returned\")\n",
    "\n",
    "\n",
    "async def email_reply():\n",
    "    await asyncio.sleep(3)\n",
    "    return (f\"How you doing?\")\n",
    "\n",
    "\n",
    "async def task1():\n",
    "    print(\"Waiting for reply...\")\n",
    "    x = await email_reply()\n",
    "    print(f\"Email Reply: {x}\")\n",
    "\n",
    "\n",
    "async def task2():\n",
    "    print(\"Waiting for file...\")\n",
    "    x = await file_return()\n",
    "    print(f\"File returned: {x}\")\n",
    "\n",
    "\n",
    "async def main():\n",
    "\n",
    "    # await asyncio.gather(task1(),task2())\n",
    "\n",
    "    test = asyncio.create_task(task1())\n",
    "    test2 = asyncio.create_task(task2())\n",
    "\n",
    "    await test\n",
    "    await test2\n",
    "\n",
    "await main()"
   ]
  },
  {
   "cell_type": "code",
   "execution_count": null,
   "id": "9430f8f3",
   "metadata": {},
   "outputs": [],
   "source": []
  }
 ],
 "metadata": {
  "kernelspec": {
   "display_name": "Python 3 (ipykernel)",
   "language": "python",
   "name": "python3"
  },
  "language_info": {
   "codemirror_mode": {
    "name": "ipython",
    "version": 3
   },
   "file_extension": ".py",
   "mimetype": "text/x-python",
   "name": "python",
   "nbconvert_exporter": "python",
   "pygments_lexer": "ipython3",
   "version": "3.8.10"
  }
 },
 "nbformat": 4,
 "nbformat_minor": 5
}
