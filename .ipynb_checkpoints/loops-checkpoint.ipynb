{
 "cells": [
  {
   "cell_type": "code",
   "execution_count": 3,
   "metadata": {},
   "outputs": [
    {
     "name": "stdout",
     "output_type": "stream",
     "text": [
      "2\n",
      "Your number is even\n"
     ]
    }
   ],
   "source": [
    "a=int(input())\n",
    "if a%2 == 0: #checking divisiblity by 2\n",
    "\tprint(\"Your number is even\")\n",
    "else:\n",
    "\tprint(\"Your number is odd\")"
   ]
  },
  {
   "cell_type": "code",
   "execution_count": 4,
   "metadata": {},
   "outputs": [
    {
     "name": "stdout",
     "output_type": "stream",
     "text": [
      "enter length2\n",
      "enter bredth4\n",
      "this is not square\n"
     ]
    }
   ],
   "source": [
    "l=int(input(\"enter length\"))\n",
    "b=int(input(\"enter bredth\"))\n",
    "if l==b:\n",
    "    print(\"this is square\")\n",
    "else:\n",
    "    print(\"this is not square\")"
   ]
  },
  {
   "cell_type": "code",
   "execution_count": 8,
   "metadata": {},
   "outputs": [
    {
     "name": "stdout",
     "output_type": "stream",
     "text": [
      "enter num12\n",
      "enter num22\n",
      "both are same\n"
     ]
    }
   ],
   "source": [
    "p1=int(input(\"enter num1\"))\n",
    "p2=int(input(\"enter num2\"))\n",
    "if p1>p2:\n",
    "    print(f'{p1} is greater then {p2}')\n",
    "elif p2<p1:\n",
    "    print(f'{p2} is greater then {p1}')\n",
    "else:\n",
    "    print(\"both are same\")"
   ]
  },
  {
   "cell_type": "code",
   "execution_count": 13,
   "metadata": {},
   "outputs": [
    {
     "name": "stdout",
     "output_type": "stream",
     "text": [
      "enter quentity1200\n",
      "1080.0 is value you have to pay\n"
     ]
    }
   ],
   "source": [
    "q=int(input(\"enter quentity\"))\n",
    "if q>1000:\n",
    "    p=q-q/10\n",
    "    print(f'{p} is value you have to pay')\n",
    "else:\n",
    "    print(\"you have no additional discaunt\")"
   ]
  },
  {
   "cell_type": "code",
   "execution_count": 15,
   "metadata": {},
   "outputs": [
    {
     "name": "stdout",
     "output_type": "stream",
     "text": [
      "enter your expireance5.6\n",
      "enter your salary5000\n",
      "your net salary is 6000.0\n"
     ]
    }
   ],
   "source": [
    "user_ex=float(input(\"enter your expireance\"))\n",
    "salary=float(input(\"enter your salary\"))\n",
    "\n",
    "if user_ex>5:\n",
    "    salary=salary+salary/5\n",
    "    print(f'your net salary is {salary}')\n",
    "else:\n",
    "    print(f'your net salary is {salary}')"
   ]
  },
  {
   "cell_type": "code",
   "execution_count": 20,
   "metadata": {},
   "outputs": [
    {
     "name": "stdout",
     "output_type": "stream",
     "text": [
      "enter your marks70\n",
      "B\n"
     ]
    }
   ],
   "source": [
    "user=int(input(\"enter your marks\"))\n",
    "if user>80:\n",
    "    print(\"A\")\n",
    "elif 60<user<=80:\n",
    "    print(\"B\")\n",
    "elif 50<user<=60:\n",
    "    print(\"C\")\n",
    "elif 45<user<=50:\n",
    "    print(\"D\")\n",
    "elif 25<user<=45:\n",
    "    print(\"E\")\n",
    "elif user<=25:\n",
    "    print(\"F\")"
   ]
  },
  {
   "cell_type": "code",
   "execution_count": 24,
   "metadata": {},
   "outputs": [
    {
     "name": "stdout",
     "output_type": "stream",
     "text": [
      "user12\n",
      "user22\n",
      "user32\n",
      "they are same age\n"
     ]
    }
   ],
   "source": [
    "user1=int(input(\"user1\"))\n",
    "user2=int(input(\"user2\"))\n",
    "user3=int(input(\"user3\"))\n",
    "if user1>user2 and user1>user3:\n",
    "    if user2>user3:\n",
    "        print(f'{user1} is older,{user3} is younger')\n",
    "    else:\n",
    "        print(f'{user1} is older,{user2} is younger')\n",
    "elif user2>user1 and user2>user3:\n",
    "    if user1>user3:\n",
    "        print(f'{user2} is older,{user3} is younger')\n",
    "    else:\n",
    "        print(f'{user2} is older,{user1} is younger')\n",
    "elif user3>user1 and user3>user2:\n",
    "    if user1>user2:\n",
    "        print(f'{user3} is older,{user2} is younger')\n",
    "    else:\n",
    "        print(f'{user3} is older,{user1} is younger')\n",
    "else:\n",
    "    print(\"they are same age\")"
   ]
  },
  {
   "cell_type": "markdown",
   "metadata": {},
   "source": [
    "# real loooppsss"
   ]
  },
  {
   "cell_type": "code",
   "execution_count": 26,
   "metadata": {},
   "outputs": [
    {
     "name": "stdout",
     "output_type": "stream",
     "text": [
      "1\n",
      "4\n",
      "9\n",
      "16\n"
     ]
    }
   ],
   "source": [
    "i=1\n",
    "while i<5:\n",
    "    print(i*i)\n",
    "    i+=1"
   ]
  },
  {
   "cell_type": "code",
   "execution_count": 27,
   "metadata": {},
   "outputs": [
    {
     "name": "stdout",
     "output_type": "stream",
     "text": [
      "hello\n",
      "hello\n",
      "hello\n",
      "hello\n",
      "hello\n"
     ]
    }
   ],
   "source": [
    "i=5\n",
    "while i>0:\n",
    "    print(\"hello\")\n",
    "    i-=1"
   ]
  },
  {
   "cell_type": "code",
   "execution_count": null,
   "metadata": {},
   "outputs": [],
   "source": [
    "a=True\n",
    "while(True):\n",
    "    print(\"this is run\")\n",
    "a=False"
   ]
  },
  {
   "cell_type": "code",
   "execution_count": 33,
   "metadata": {},
   "outputs": [
    {
     "name": "stdout",
     "output_type": "stream",
     "text": [
      "5 now\n",
      "4 now\n",
      "3 now\n",
      "2 now\n",
      "1 now\n"
     ]
    }
   ],
   "source": [
    "a=10\n",
    "b=5\n",
    "while a!=b:\n",
    "    while b>0:\n",
    "        print(f'{b} now')\n",
    "        b-=1\n",
    "    a-=1"
   ]
  },
  {
   "cell_type": "code",
   "execution_count": 37,
   "metadata": {},
   "outputs": [
    {
     "name": "stdout",
     "output_type": "stream",
     "text": [
      "1\n",
      "2\n",
      "3\n",
      "4\n",
      "5\n",
      "6\n",
      "7\n",
      "8\n",
      "9\n",
      "0\n",
      "4.5\n"
     ]
    }
   ],
   "source": [
    "i=0\n",
    "num1=0\n",
    "while i<10:\n",
    "    num=int(input())\n",
    "    num1=num1+num\n",
    "    \n",
    "    i+=1\n",
    "print(num1/i)"
   ]
  },
  {
   "cell_type": "code",
   "execution_count": 38,
   "metadata": {},
   "outputs": [
    {
     "name": "stdout",
     "output_type": "stream",
     "text": [
      "\n",
      "*\n",
      "**\n",
      "***\n",
      "****\n"
     ]
    }
   ],
   "source": [
    "i=0\n",
    "while i<5:\n",
    "    print('*'*i)\n",
    "    i+=1"
   ]
  },
  {
   "cell_type": "code",
   "execution_count": 58,
   "metadata": {},
   "outputs": [
    {
     "name": "stdout",
     "output_type": "stream",
     "text": [
      "  *  \n",
      " ** \n"
     ]
    }
   ],
   "source": [
    "i=1\n",
    "j=2\n",
    "# k=\" \"*i+\"*\"*j+\" \"*i\n",
    "while j>=1:\n",
    "    print(\" \"*j+\"*\"*i+\" \"*j)\n",
    "    j-=1\n",
    "    i+=1\n",
    "    if i>5:\n",
    "        break\n",
    "        "
   ]
  },
  {
   "cell_type": "code",
   "execution_count": 60,
   "metadata": {},
   "outputs": [
    {
     "name": "stdout",
     "output_type": "stream",
     "text": [
      "24\n",
      "48\n",
      "72\n",
      "96\n",
      "120\n",
      "144\n",
      "168\n",
      "192\n",
      "216\n",
      "240\n"
     ]
    }
   ],
   "source": [
    "i=1\n",
    "while i<=10:\n",
    "    print(i*24)\n",
    "    i+=1"
   ]
  },
  {
   "cell_type": "code",
   "execution_count": 74,
   "metadata": {},
   "outputs": [
    {
     "name": "stdout",
     "output_type": "stream",
     "text": [
      "4\n",
      "24\n"
     ]
    }
   ],
   "source": [
    "n=int(input())\n",
    "fact=1\n",
    "if n==0:\n",
    "    print(1)\n",
    "\n",
    "else:\n",
    "    while(n>=1):\n",
    "        fact=fact*n\n",
    "        n=n-1\n",
    "    print(fact)"
   ]
  },
  {
   "cell_type": "code",
   "execution_count": 75,
   "metadata": {},
   "outputs": [
    {
     "name": "stdout",
     "output_type": "stream",
     "text": [
      "1\n",
      "2\n",
      "3\n",
      "4\n",
      "5\n"
     ]
    }
   ],
   "source": [
    "mark=[1,2,3,4,5]\n",
    "for m in mark:\n",
    "    print(m)"
   ]
  },
  {
   "cell_type": "code",
   "execution_count": 76,
   "metadata": {},
   "outputs": [
    {
     "name": "stdout",
     "output_type": "stream",
     "text": [
      "15\n"
     ]
    }
   ],
   "source": [
    "mark=[1,2,3,4,5]\n",
    "sum=0\n",
    "for m in mark:\n",
    "    sum=sum+m\n",
    "print(sum)"
   ]
  },
  {
   "cell_type": "code",
   "execution_count": 88,
   "metadata": {},
   "outputs": [],
   "source": [
    "marks=[i*12 for i in range(1,11)]"
   ]
  },
  {
   "cell_type": "code",
   "execution_count": 89,
   "metadata": {},
   "outputs": [
    {
     "name": "stdout",
     "output_type": "stream",
     "text": [
      "[13, 26, 39, 52, 65, 78, 91, 104, 117, 130]\n"
     ]
    }
   ],
   "source": [
    "mark2=[]\n",
    "j=1\n",
    "for i in marks:\n",
    "    mark2.append(i+j)\n",
    "    j=j+1\n",
    "print(mark2)"
   ]
  },
  {
   "cell_type": "code",
   "execution_count": 92,
   "metadata": {},
   "outputs": [
    {
     "name": "stdout",
     "output_type": "stream",
     "text": [
      "enter nth length3\n",
      "1\n",
      "2\n",
      "3\n",
      "[1, 2, 3]\n",
      "enter num for search2\n",
      "yes found 2\n",
      "[1, 3]\n"
     ]
    }
   ],
   "source": [
    "n=int(input(\"enter nth length\"))\n",
    "m=[]\n",
    "while n>0:\n",
    "    j=int(input())\n",
    "    m.append(j)\n",
    "    n-=1\n",
    "print(m)\n",
    "s=int(input(\"enter num for search\"))\n",
    "if s in m:\n",
    "    print(f'yes found {s}')\n",
    "    m.remove(s)\n",
    "print(m)"
   ]
  },
  {
   "cell_type": "code",
   "execution_count": 102,
   "metadata": {},
   "outputs": [
    {
     "data": {
      "text/plain": [
       "[12, 24, 36, 48, 60, 72, 84, 96, 108, 120]"
      ]
     },
     "execution_count": 102,
     "metadata": {},
     "output_type": "execute_result"
    }
   ],
   "source": [
    "l=[i*12 for i in range(1,11)]\n",
    "l"
   ]
  },
  {
   "cell_type": "code",
   "execution_count": 107,
   "metadata": {},
   "outputs": [
    {
     "name": "stdout",
     "output_type": "stream",
     "text": [
      "14 x 1=14\n",
      "14 x 2=28\n",
      "14 x 3=42\n",
      "14 x 4=56\n",
      "14 x 5=70\n",
      "14 x 6=84\n",
      "14 x 7=98\n",
      "14 x 8=112\n",
      "14 x 9=126\n",
      "14 x 10=140\n"
     ]
    }
   ],
   "source": [
    "k=1\n",
    "for j in l:\n",
    "#     print(j)\n",
    "    print(f'14 x {k}={14*k}')\n",
    "    k=k+1\n",
    "    "
   ]
  },
  {
   "cell_type": "code",
   "execution_count": 113,
   "metadata": {},
   "outputs": [
    {
     "name": "stdout",
     "output_type": "stream",
     "text": [
      "*\n",
      "**\n",
      "***\n",
      "****\n",
      "*****\n"
     ]
    }
   ],
   "source": [
    "l=5\n",
    "for i in range(1,l+1):\n",
    "    print('*'*i)"
   ]
  },
  {
   "cell_type": "code",
   "execution_count": 118,
   "metadata": {},
   "outputs": [
    {
     "name": "stdout",
     "output_type": "stream",
     "text": [
      "*****\n",
      "****\n",
      "***\n",
      "**\n",
      "*\n"
     ]
    }
   ],
   "source": [
    "l=5\n",
    "for i in range(0,l):\n",
    "    k=l-i\n",
    "    print(\"*\"*k)"
   ]
  },
  {
   "cell_type": "code",
   "execution_count": 123,
   "metadata": {},
   "outputs": [
    {
     "name": "stdout",
     "output_type": "stream",
     "text": [
      "        \n",
      "   *   \n",
      "  **  \n",
      " *** \n",
      "****\n"
     ]
    }
   ],
   "source": [
    "i=5\n",
    "j=4\n",
    "for i in range(0,i):\n",
    "    print(\" \"*j+\"*\"*i+\" \"*j)\n",
    "    j=j-1"
   ]
  },
  {
   "cell_type": "code",
   "execution_count": 145,
   "metadata": {},
   "outputs": [
    {
     "name": "stdout",
     "output_type": "stream",
     "text": [
      "      *     \n",
      "     * *    \n",
      "    * * *   \n",
      "   * * * *  \n"
     ]
    }
   ],
   "source": [
    "l=5\n",
    "for i in range(1,l):\n",
    "    for j in range(0,i):\n",
    "        k=l-j\n",
    "    print(\" \"*k+\" *\"*i+\" \"*k)"
   ]
  },
  {
   "cell_type": "code",
   "execution_count": 156,
   "metadata": {},
   "outputs": [
    {
     "name": "stdout",
     "output_type": "stream",
     "text": [
      "  * * * * \n",
      "   * * *  \n",
      "    * *   \n",
      "     *    \n"
     ]
    }
   ],
   "source": [
    "l=5\n",
    "for i in range(1,l):\n",
    "    for j in range(0,i+1):\n",
    "        k=l-j\n",
    "    print(\" \"*i+\" *\"*k+\" \"*i)"
   ]
  },
  {
   "cell_type": "code",
   "execution_count": 157,
   "metadata": {},
   "outputs": [
    {
     "name": "stdout",
     "output_type": "stream",
     "text": [
      "      *     \n",
      "     * *    \n",
      "    * * *   \n",
      "   * * * *  \n",
      "  * * * * \n",
      "   * * *  \n",
      "    * *   \n",
      "     *    \n"
     ]
    }
   ],
   "source": [
    "l=5\n",
    "for i in range(1,l):\n",
    "    for j in range(0,i):\n",
    "        k=l-j\n",
    "    print(\" \"*k+\" *\"*i+\" \"*k)\n",
    "for i in range(1,l):\n",
    "    for j in range(0,i+1):\n",
    "        k=l-j\n",
    "    print(\" \"*i+\" *\"*k+\" \"*i)"
   ]
  },
  {
   "cell_type": "code",
   "execution_count": null,
   "metadata": {},
   "outputs": [],
   "source": []
  },
  {
   "cell_type": "code",
   "execution_count": null,
   "metadata": {},
   "outputs": [],
   "source": []
  }
 ],
 "metadata": {
  "kernelspec": {
   "display_name": "Python 3",
   "language": "python",
   "name": "python3"
  },
  "language_info": {
   "codemirror_mode": {
    "name": "ipython",
    "version": 3
   },
   "file_extension": ".py",
   "mimetype": "text/x-python",
   "name": "python",
   "nbconvert_exporter": "python",
   "pygments_lexer": "ipython3",
   "version": "3.6.7"
  }
 },
 "nbformat": 4,
 "nbformat_minor": 4
}
