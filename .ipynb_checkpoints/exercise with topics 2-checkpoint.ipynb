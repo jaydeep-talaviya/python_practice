{
 "cells": [
  {
   "cell_type": "markdown",
   "id": "59a9cce9",
   "metadata": {},
   "source": [
    "# Tuples:\n"
   ]
  },
  {
   "cell_type": "code",
   "execution_count": 17,
   "id": "d742dc49",
   "metadata": {},
   "outputs": [
    {
     "data": {
      "text/plain": [
       "(1, 2.2, 'hello')"
      ]
     },
     "execution_count": 17,
     "metadata": {},
     "output_type": "execute_result"
    }
   ],
   "source": [
    "# Tuple Creation:\n",
    "\n",
    "# Create a tuple named my_tuple with three elements: an integer, a float, and a string.\n",
    "my_tuple=(1,2.2,\"hello\")\n",
    "my_tuple"
   ]
  },
  {
   "cell_type": "code",
   "execution_count": 18,
   "id": "342fc1f7",
   "metadata": {},
   "outputs": [
    {
     "data": {
      "text/plain": [
       "2.2"
      ]
     },
     "execution_count": 18,
     "metadata": {},
     "output_type": "execute_result"
    }
   ],
   "source": [
    "# Tuple Indexing:\n",
    "\n",
    "# Access and print the second element of the tuple created in question 1.\n",
    "my_tuple[1]"
   ]
  },
  {
   "cell_type": "code",
   "execution_count": 20,
   "id": "a5806801",
   "metadata": {},
   "outputs": [
    {
     "name": "stdout",
     "output_type": "stream",
     "text": [
      "'tuple' object does not support item assignment\n"
     ]
    }
   ],
   "source": [
    "# Immutable Nature:\n",
    "\n",
    "# Try to modify one of the elements in my_tuple and observe the result.\n",
    "try:\n",
    "    my_tuple[1]=2\n",
    "except Exception as e:\n",
    "    print(e)"
   ]
  },
  {
   "cell_type": "code",
   "execution_count": 22,
   "id": "7cb15ce0",
   "metadata": {},
   "outputs": [
    {
     "name": "stdout",
     "output_type": "stream",
     "text": [
      "tuple >>> (1, 2, 4)\n",
      "a 1 b 2 c 4\n"
     ]
    }
   ],
   "source": [
    "# Tuple Packing and Unpacking:\n",
    "\n",
    "# Pack three values into a tuple without using parentheses and then unpack them into three variables.\n",
    "new_tuple = 1,2,4\n",
    "print(\"tuple >>>\",new_tuple)\n",
    "a,b,c = new_tuple\n",
    "print(\"a\",a,\"b\",b,\"c\",c)"
   ]
  },
  {
   "cell_type": "code",
   "execution_count": 26,
   "id": "91d1d48d",
   "metadata": {},
   "outputs": [
    {
     "data": {
      "text/plain": [
       "(('jay', 'jenny', 'julia'), (24, 22, 21))"
      ]
     },
     "execution_count": 26,
     "metadata": {},
     "output_type": "execute_result"
    }
   ],
   "source": [
    "# Nested Tuples:\n",
    "\n",
    "# Create a tuple containing two nested tuples, each representing a person's name and age.\n",
    "names = ('jay','jenny','julia')\n",
    "age = (24,22,21)\n",
    "nested_tuple = (names,age)\n",
    "nested_tuple"
   ]
  },
  {
   "cell_type": "code",
   "execution_count": 28,
   "id": "a807cf3a",
   "metadata": {},
   "outputs": [
    {
     "data": {
      "text/plain": [
       "3"
      ]
     },
     "execution_count": 28,
     "metadata": {},
     "output_type": "execute_result"
    }
   ],
   "source": [
    "# Tuple Length:\n",
    "\n",
    "# Determine and print the length of my_tuple.\n",
    "len(my_tuple)"
   ]
  },
  {
   "cell_type": "code",
   "execution_count": 29,
   "id": "4dfcff5b",
   "metadata": {},
   "outputs": [
    {
     "data": {
      "text/plain": [
       "(1, 2.2, 'hello', 1, 2, 3)"
      ]
     },
     "execution_count": 29,
     "metadata": {},
     "output_type": "execute_result"
    }
   ],
   "source": [
    "# Tuple Concatenation:\n",
    "\n",
    "# Create another tuple and concatenate it with my_tuple. Print the result.\n",
    "new_tuple = (1,2,3)\n",
    "my_tuple = my_tuple + new_tuple\n",
    "my_tuple"
   ]
  },
  {
   "cell_type": "code",
   "execution_count": 30,
   "id": "bc706324",
   "metadata": {},
   "outputs": [
    {
     "name": "stdout",
     "output_type": "stream",
     "text": [
      "1\n",
      "2.2\n",
      "hello\n",
      "1\n",
      "2\n",
      "3\n"
     ]
    }
   ],
   "source": [
    "# Looping through Tuples:\n",
    "\n",
    "# Use a for loop to print each element of my_tuple on a new line.\n",
    "for i in my_tuple:\n",
    "    print(i)"
   ]
  },
  {
   "cell_type": "code",
   "execution_count": 33,
   "id": "824a41ec",
   "metadata": {},
   "outputs": [
    {
     "data": {
      "text/plain": [
       "True"
      ]
     },
     "execution_count": 33,
     "metadata": {},
     "output_type": "execute_result"
    }
   ],
   "source": [
    "# Tuple Comparison:\n",
    "\n",
    "# Compare two tuples element-wise and print the result.\n",
    "(1,2,3)==(1,2,3)"
   ]
  },
  {
   "cell_type": "code",
   "execution_count": 35,
   "id": "2e667445",
   "metadata": {},
   "outputs": [
    {
     "data": {
      "text/plain": [
       "(1, 2, 3, 4, 5, 6, 7, 8, 9)"
      ]
     },
     "execution_count": 35,
     "metadata": {},
     "output_type": "execute_result"
    }
   ],
   "source": [
    "# Converting to Tuple:\n",
    "\n",
    "# Convert a list of numbers into a tuple and print the tuple.\n",
    "li=list(range(1,10))\n",
    "tup=tuple(li)\n",
    "tup"
   ]
  },
  {
   "cell_type": "code",
   "execution_count": 41,
   "id": "da9504bc",
   "metadata": {},
   "outputs": [
    {
     "name": "stdout",
     "output_type": "stream",
     "text": [
      "(1, 2, 3)\n"
     ]
    },
    {
     "data": {
      "text/plain": [
       "((1, 2, 3), (1, 2, 3), (1, 2, 3))"
      ]
     },
     "execution_count": 41,
     "metadata": {},
     "output_type": "execute_result"
    }
   ],
   "source": [
    "# Tuple Repetition:\n",
    "\n",
    "# Create a tuple with three elements and then repeat the tuple three times.\n",
    "new_tup=(1,2,3)\n",
    "print(new_tup)\n",
    "new_tup = tuple(new_tup for i in range(0,3))\n",
    "new_tup"
   ]
  },
  {
   "cell_type": "code",
   "execution_count": 42,
   "id": "a1234eed",
   "metadata": {},
   "outputs": [
    {
     "data": {
      "text/plain": [
       "True"
      ]
     },
     "execution_count": 42,
     "metadata": {},
     "output_type": "execute_result"
    }
   ],
   "source": [
    "# Membership Test:\n",
    "\n",
    "# Check if a specific element is present in my_tuple.\n",
    "2 in my_tuple"
   ]
  },
  {
   "cell_type": "code",
   "execution_count": null,
   "id": "d57f36aa",
   "metadata": {},
   "outputs": [],
   "source": []
  },
  {
   "cell_type": "code",
   "execution_count": null,
   "id": "c9637ff4",
   "metadata": {},
   "outputs": [],
   "source": []
  },
  {
   "cell_type": "markdown",
   "id": "5eaed515",
   "metadata": {},
   "source": [
    "# Dictionaries:\n"
   ]
  },
  {
   "cell_type": "code",
   "execution_count": 50,
   "id": "e32ee516",
   "metadata": {},
   "outputs": [
    {
     "data": {
      "text/plain": [
       "{'name': 'jay', 'age': 30, 'grade': 20}"
      ]
     },
     "execution_count": 50,
     "metadata": {},
     "output_type": "execute_result"
    }
   ],
   "source": [
    "# Dictionary Creation:\n",
    "\n",
    "# Create a dictionary named student with keys 'name', 'age', and 'grade', and assign values accordingly.\n",
    "student = {'name':'jay','age':30,'grade':20}\n",
    "student"
   ]
  },
  {
   "cell_type": "code",
   "execution_count": 51,
   "id": "d80d124f",
   "metadata": {},
   "outputs": [
    {
     "data": {
      "text/plain": [
       "30"
      ]
     },
     "execution_count": 51,
     "metadata": {},
     "output_type": "execute_result"
    }
   ],
   "source": [
    "# Accessing Dictionary Values:\n",
    "\n",
    "# Print the age of the student from the dictionary created in question 13.\n",
    "student['age']"
   ]
  },
  {
   "cell_type": "code",
   "execution_count": 52,
   "id": "8483f06d",
   "metadata": {},
   "outputs": [
    {
     "data": {
      "text/plain": [
       "{'name': 'jay', 'age': 30, 'grade': 19, 'course': 'chemistry'}"
      ]
     },
     "execution_count": 52,
     "metadata": {},
     "output_type": "execute_result"
    }
   ],
   "source": [
    "# Adding and Modifying:\n",
    "\n",
    "# Add a new key 'course' with a value to the student dictionary. Modify the 'grade' to reflect an improvement.\n",
    "student['course'] = 'chemistry'\n",
    "student['grade']=19\n",
    "student"
   ]
  },
  {
   "cell_type": "code",
   "execution_count": 53,
   "id": "07e3c127",
   "metadata": {},
   "outputs": [
    {
     "data": {
      "text/plain": [
       "dict_keys(['name', 'age', 'grade', 'course'])"
      ]
     },
     "execution_count": 53,
     "metadata": {},
     "output_type": "execute_result"
    }
   ],
   "source": [
    "# Dictionary Keys:\n",
    "\n",
    "# Print all the keys in the student dictionary.\n",
    "student.keys()"
   ]
  },
  {
   "cell_type": "code",
   "execution_count": 54,
   "id": "5f16d002",
   "metadata": {},
   "outputs": [
    {
     "name": "stdout",
     "output_type": "stream",
     "text": [
      "name jay\n",
      "age 30\n",
      "grade 19\n",
      "course chemistry\n"
     ]
    }
   ],
   "source": [
    "# Looping through Dictionaries:\n",
    "\n",
    "# Use a loop to print both keys and values of the student dictionary.\n",
    "for k,v in student.items():\n",
    "    print(k,v)"
   ]
  },
  {
   "cell_type": "code",
   "execution_count": 55,
   "id": "b46b8be2",
   "metadata": {},
   "outputs": [
    {
     "data": {
      "text/plain": [
       "4"
      ]
     },
     "execution_count": 55,
     "metadata": {},
     "output_type": "execute_result"
    }
   ],
   "source": [
    "# Dictionary Length:\n",
    "\n",
    "# Determine and print the number of items in the student dictionary.\n",
    "len(student)"
   ]
  },
  {
   "cell_type": "code",
   "execution_count": 56,
   "id": "958c7978",
   "metadata": {},
   "outputs": [
    {
     "data": {
      "text/plain": [
       "{'name': 'jay', 'age': 30, 'grade': 19}"
      ]
     },
     "execution_count": 56,
     "metadata": {},
     "output_type": "execute_result"
    }
   ],
   "source": [
    "# Removing Items:\n",
    "\n",
    "# Remove the 'course' key from the student dictionary and print the updated dictionary.\n",
    "student.pop('course')\n",
    "student"
   ]
  },
  {
   "cell_type": "code",
   "execution_count": 48,
   "id": "153de7ec",
   "metadata": {},
   "outputs": [],
   "source": [
    "# Clearing Dictionary:\n",
    "\n",
    "# Clear all items from the student dictionary and print the empty dictionary.\n",
    "student.clear()"
   ]
  },
  {
   "cell_type": "code",
   "execution_count": 57,
   "id": "d797abc6",
   "metadata": {},
   "outputs": [
    {
     "data": {
      "text/plain": [
       "{'name': 'jay', 'age': 30, 'grade': 19}"
      ]
     },
     "execution_count": 57,
     "metadata": {},
     "output_type": "execute_result"
    }
   ],
   "source": [
    "# Copying Dictionaries:\n",
    "\n",
    "# Create a new dictionary and copy the content of the student dictionary into it.\n",
    "new_student = student.copy()\n",
    "new_student"
   ]
  },
  {
   "cell_type": "code",
   "execution_count": 59,
   "id": "7f58bfac",
   "metadata": {},
   "outputs": [
    {
     "data": {
      "text/plain": [
       "{'name': 'jay', 'age': 30, 'grade': 19, 'address': 'talala'}"
      ]
     },
     "execution_count": 59,
     "metadata": {},
     "output_type": "execute_result"
    }
   ],
   "source": [
    "# Dictionary Update:\n",
    "\n",
    "# Update the student dictionary with information about the student's address.\n",
    "new_student['address']=\"talala\"\n",
    "new_student"
   ]
  },
  {
   "cell_type": "code",
   "execution_count": null,
   "id": "4974b285",
   "metadata": {},
   "outputs": [],
   "source": [
    "# Dictionary Methods:\n",
    "# Dictionary Values:\n",
    "\n",
    "# Print all the values in the student dictionary.\n"
   ]
  },
  {
   "cell_type": "code",
   "execution_count": 62,
   "id": "1a2f7686",
   "metadata": {},
   "outputs": [
    {
     "name": "stdout",
     "output_type": "stream",
     "text": [
      "name jay\n",
      "age 30\n",
      "grade 19\n"
     ]
    }
   ],
   "source": [
    "# Dictionary Items:\n",
    "\n",
    "# Print all the key-value pairs in the student dictionary using the items() method.\n",
    "for k,v in student.items():\n",
    "    print(k,v)"
   ]
  },
  {
   "cell_type": "code",
   "execution_count": null,
   "id": "94b11d07",
   "metadata": {},
   "outputs": [],
   "source": []
  },
  {
   "cell_type": "markdown",
   "id": "b16b86b3",
   "metadata": {},
   "source": [
    "# Sets:\n"
   ]
  },
  {
   "cell_type": "code",
   "execution_count": 74,
   "id": "53b43120",
   "metadata": {},
   "outputs": [
    {
     "name": "stdout",
     "output_type": "stream",
     "text": [
      "{1, 2, 3} {1, 3, 4}\n"
     ]
    }
   ],
   "source": [
    "# Set Creation:\n",
    "\n",
    "# Create two sets, set1 and set2, with some common elements.\n",
    "set1 ={1,2,3}\n",
    "set2 = {1,3,4}\n",
    "print(set1,set2)"
   ]
  },
  {
   "cell_type": "code",
   "execution_count": 75,
   "id": "962d7d63",
   "metadata": {},
   "outputs": [
    {
     "data": {
      "text/plain": [
       "{1, 3}"
      ]
     },
     "execution_count": 75,
     "metadata": {},
     "output_type": "execute_result"
    }
   ],
   "source": [
    "# Set Intersection:\n",
    "\n",
    "# Find and print the intersection of set1 and set2.\n",
    "set1.intersection(set2)"
   ]
  },
  {
   "cell_type": "code",
   "execution_count": 76,
   "id": "e76c1805",
   "metadata": {},
   "outputs": [
    {
     "data": {
      "text/plain": [
       "{1, 2, 3, 4}"
      ]
     },
     "execution_count": 76,
     "metadata": {},
     "output_type": "execute_result"
    }
   ],
   "source": [
    "# Set Union:\n",
    "\n",
    "# Create a new set that is the union of set1 and set2.\n",
    "set1.union(set2)"
   ]
  },
  {
   "cell_type": "code",
   "execution_count": 78,
   "id": "6526f6d7",
   "metadata": {},
   "outputs": [
    {
     "data": {
      "text/plain": [
       "{2}"
      ]
     },
     "execution_count": 78,
     "metadata": {},
     "output_type": "execute_result"
    }
   ],
   "source": [
    "# Set Difference:\n",
    "# Find and print the elements that are unique to set1 compared to set2.\n",
    "set1.difference(set2)"
   ]
  },
  {
   "cell_type": "code",
   "execution_count": 79,
   "id": "c0d3f857",
   "metadata": {},
   "outputs": [
    {
     "data": {
      "text/plain": [
       "False"
      ]
     },
     "execution_count": 79,
     "metadata": {},
     "output_type": "execute_result"
    }
   ],
   "source": [
    "# Check Subset:\n",
    "\n",
    "# Check and print whether set1 is a subset of set2.\n",
    "set1.issubset(set2)"
   ]
  },
  {
   "cell_type": "code",
   "execution_count": 80,
   "id": "f51f86d6",
   "metadata": {},
   "outputs": [
    {
     "data": {
      "text/plain": [
       "{2, 4}"
      ]
     },
     "execution_count": 80,
     "metadata": {},
     "output_type": "execute_result"
    }
   ],
   "source": [
    "# Set Symmetric Difference:\n",
    "\n",
    "# Find and print the symmetric difference between set1 and set2.\n",
    "set1.symmetric_difference(set2)"
   ]
  },
  {
   "cell_type": "code",
   "execution_count": 83,
   "id": "98d4b351",
   "metadata": {},
   "outputs": [
    {
     "data": {
      "text/plain": [
       "{1, 2, 3, 5}"
      ]
     },
     "execution_count": 83,
     "metadata": {},
     "output_type": "execute_result"
    }
   ],
   "source": [
    "# Adding Elements:\n",
    "\n",
    "# Add a new element to set1 and print the updated set.\n",
    "set1.add(5)\n",
    "set1"
   ]
  },
  {
   "cell_type": "code",
   "execution_count": 85,
   "id": "7f58c3d6",
   "metadata": {},
   "outputs": [
    {
     "data": {
      "text/plain": [
       "{1, 3}"
      ]
     },
     "execution_count": 85,
     "metadata": {},
     "output_type": "execute_result"
    }
   ],
   "source": [
    "# Removing Elements:\n",
    "\n",
    "# Remove an element from set2 and print the updated set.\n",
    "set2.remove(4)\n",
    "set2"
   ]
  },
  {
   "cell_type": "code",
   "execution_count": 87,
   "id": "3ff001a0",
   "metadata": {},
   "outputs": [
    {
     "data": {
      "text/plain": [
       "set()"
      ]
     },
     "execution_count": 87,
     "metadata": {},
     "output_type": "execute_result"
    }
   ],
   "source": [
    "# Clearing Sets:\n",
    "\n",
    "# Clear all elements from set1 and print the empty set.\n",
    "set1.clear()\n",
    "set1"
   ]
  },
  {
   "cell_type": "code",
   "execution_count": 88,
   "id": "f7951c67",
   "metadata": {},
   "outputs": [
    {
     "data": {
      "text/plain": [
       "{1, 3}"
      ]
     },
     "execution_count": 88,
     "metadata": {},
     "output_type": "execute_result"
    }
   ],
   "source": [
    "# Copying Sets:\n",
    "\n",
    "# Create a copy of set2 and add a new element to the copy.\n",
    "set3=set2.copy()\n",
    "set3"
   ]
  },
  {
   "cell_type": "code",
   "execution_count": 90,
   "id": "4d1f8a7f",
   "metadata": {},
   "outputs": [
    {
     "name": "stdout",
     "output_type": "stream",
     "text": [
      "{1, 3} {1, 3}\n"
     ]
    },
    {
     "data": {
      "text/plain": [
       "False"
      ]
     },
     "execution_count": 90,
     "metadata": {},
     "output_type": "execute_result"
    }
   ],
   "source": [
    "# Check Disjoint Sets:\n",
    "\n",
    "# Check and print whether set1 and set2 are disjoint (have no common elements).\n",
    "print(set2,set3)\n",
    "set2.isdisjoint(set3)"
   ]
  },
  {
   "cell_type": "markdown",
   "id": "96b3485e",
   "metadata": {},
   "source": [
    "# Functions:\n"
   ]
  },
  {
   "cell_type": "code",
   "execution_count": 102,
   "id": "c0d3a9bf",
   "metadata": {},
   "outputs": [
    {
     "data": {
      "text/plain": [
       "'good morning Jaydeep'"
      ]
     },
     "execution_count": 102,
     "metadata": {},
     "output_type": "execute_result"
    }
   ],
   "source": [
    "# Simple Function:\n",
    "\n",
    "# Define a function named greet that takes a name as an argument and prints a greeting message.\n",
    "def greet(name):\n",
    "    return f\"good morning {name}\"\n",
    "\n",
    "greet(\"Jaydeep\")"
   ]
  },
  {
   "cell_type": "code",
   "execution_count": 104,
   "id": "325e4d71",
   "metadata": {},
   "outputs": [
    {
     "name": "stdout",
     "output_type": "stream",
     "text": [
      "6\n",
      "2\n"
     ]
    }
   ],
   "source": [
    "# Function with Default Argument:\n",
    "\n",
    "# Create a function named multiply that takes two numbers as arguments, with a default value of 1 for the second number. The function should return the product of the two numbers.\n",
    "def multiply(a,b=1):\n",
    "    return a*b\n",
    "\n",
    "print(multiply(2,3))\n",
    "print(multiply(2))"
   ]
  },
  {
   "cell_type": "code",
   "execution_count": 105,
   "id": "66d67281",
   "metadata": {},
   "outputs": [
    {
     "data": {
      "text/plain": [
       "45"
      ]
     },
     "execution_count": 105,
     "metadata": {},
     "output_type": "execute_result"
    }
   ],
   "source": [
    "# Function with Variable Number of Arguments:\n",
    "\n",
    "# Define a function named calculate_sum that takes any number of arguments and returns their sum.\n",
    "def calculate_sum(args):\n",
    "    return sum(args)\n",
    "\n",
    "calculate_sum(range(0,10))"
   ]
  },
  {
   "cell_type": "code",
   "execution_count": 109,
   "id": "7fb269d8",
   "metadata": {},
   "outputs": [
    {
     "name": "stdout",
     "output_type": "stream",
     "text": [
      "5040\n"
     ]
    }
   ],
   "source": [
    "# Recursive Function:\n",
    "\n",
    "# Implement a recursive function to calculate the factorial of a given number.\n",
    "\n",
    "def fibonacci(n):\n",
    "#     print(n)\n",
    "    if n == 0:\n",
    "        return 1\n",
    "    else:\n",
    "        return n*fibonacci(n-1)\n",
    "\n",
    "print(fibonacci(7))"
   ]
  },
  {
   "cell_type": "code",
   "execution_count": 111,
   "id": "350428e0",
   "metadata": {},
   "outputs": [
    {
     "name": "stdout",
     "output_type": "stream",
     "text": [
      "4\n",
      "this funtion will return the square of any\n",
      "    passed number\n"
     ]
    }
   ],
   "source": [
    "# Function with Docstring:\n",
    "\n",
    "# Write a function named square that takes a number as an argument and returns its square. Include a docstring explaining the function.\n",
    "def square(num):\n",
    "    '''this funtion will return the square of any\n",
    "    passed number'''\n",
    "    return num**2\n",
    "print(square(2))\n",
    "print(square.__doc__)\n"
   ]
  },
  {
   "cell_type": "code",
   "execution_count": 114,
   "id": "f27cb5d4",
   "metadata": {},
   "outputs": [
    {
     "name": "stdout",
     "output_type": "stream",
     "text": [
      "1\n",
      "2\n",
      "3\n"
     ]
    }
   ],
   "source": [
    "# Function with Local Variable:\n",
    "\n",
    "# Create a function named counter that uses a local variable to count how many times it has been called. Print the count.\n",
    "def counter(count=0):\n",
    "    return count+1\n",
    "\n",
    "a=counter()\n",
    "b=counter(a)\n",
    "c=counter(b)\n",
    "print(a)\n",
    "print(b)\n",
    "print(c)\n"
   ]
  },
  {
   "cell_type": "code",
   "execution_count": 118,
   "id": "75897c36",
   "metadata": {},
   "outputs": [
    {
     "name": "stdout",
     "output_type": "stream",
     "text": [
      "1\n",
      "1\n",
      "1\n",
      "0\n"
     ]
    }
   ],
   "source": [
    "# Function with Global Variable:\n",
    "\n",
    "# Define a global variable total with an initial value of 0. Write a function named add_to_total that takes a number as an argument and adds it to the global variable.\n",
    "count =0\n",
    "def counter(count):\n",
    "    return count+1\n",
    "\n",
    "print(counter(count))\n",
    "print(counter(count))\n",
    "print(counter(count))\n",
    "print(count)"
   ]
  },
  {
   "cell_type": "code",
   "execution_count": 120,
   "id": "a5c0f349",
   "metadata": {},
   "outputs": [
    {
     "data": {
      "text/plain": [
       "(10, 45, 4.5)"
      ]
     },
     "execution_count": 120,
     "metadata": {},
     "output_type": "execute_result"
    }
   ],
   "source": [
    "# Function with Multiple Returns:\n",
    "\n",
    "# Implement a function named analyze_numbers that takes a list of numbers as an argument and returns the count, sum, and average of the numbers.\n",
    "def analyze_numbers(args):\n",
    "    return len(args),sum(args),sum(args)/len(args)\n",
    "\n",
    "analyze_numbers(range(0,10))"
   ]
  },
  {
   "cell_type": "code",
   "execution_count": 121,
   "id": "72b43374",
   "metadata": {},
   "outputs": [
    {
     "data": {
      "text/plain": [
       "'name -> jay, age -> 24,country india'"
      ]
     },
     "execution_count": 121,
     "metadata": {},
     "output_type": "execute_result"
    }
   ],
   "source": [
    "# Function with Keyword Arguments:\n",
    "\n",
    "# Create a function named display_info that takes name, age, and country as keyword arguments and prints the information.\n",
    "def display_info(name,age,country):\n",
    "    return f\"name -> {name}, age -> {age},country {country}\"\n",
    "\n",
    "display_info(\"jay\",country = 'india', age =24)"
   ]
  },
  {
   "cell_type": "code",
   "execution_count": 122,
   "id": "27e6f417",
   "metadata": {},
   "outputs": [
    {
     "data": {
      "text/plain": [
       "8"
      ]
     },
     "execution_count": 122,
     "metadata": {},
     "output_type": "execute_result"
    }
   ],
   "source": [
    "# Function Composition:\n",
    "\n",
    "# Define two functions, square and double, that take a number as an argument and return its square and double, respectively. Compose these functions to create a new function named square_and_double that takes a number, squares it, and then doubles the result.\n",
    "\n",
    "def square(num):\n",
    "    return num**2\n",
    "\n",
    "def double(num):\n",
    "    return num*2\n",
    "\n",
    "def square_and_double(num):\n",
    "    sq = square(num)\n",
    "    return double(sq)\n",
    "\n",
    "square_and_double(2)"
   ]
  },
  {
   "cell_type": "code",
   "execution_count": null,
   "id": "d52b3d68",
   "metadata": {},
   "outputs": [],
   "source": []
  },
  {
   "cell_type": "code",
   "execution_count": null,
   "id": "6733deba",
   "metadata": {},
   "outputs": [],
   "source": []
  },
  {
   "cell_type": "markdown",
   "id": "88e88dbd",
   "metadata": {},
   "source": [
    "# Function Arguments:\n"
   ]
  },
  {
   "cell_type": "code",
   "execution_count": 132,
   "id": "222bfe70",
   "metadata": {},
   "outputs": [
    {
     "data": {
      "text/plain": [
       "'first name jay, last name talaviya'"
      ]
     },
     "execution_count": 132,
     "metadata": {},
     "output_type": "execute_result"
    }
   ],
   "source": [
    "# Positional Arguments:\n",
    "\n",
    "# Define a function full_name that takes two positional arguments, first name and last name, and prints the full name.\n",
    "\n",
    "def full_name(first_name:str,last_name:str)-> str:\n",
    "    return f\"first name {first_name}, last name {last_name}\"\n",
    "\n",
    "full_name(\"jay\",'talaviya')"
   ]
  },
  {
   "cell_type": "code",
   "execution_count": 135,
   "id": "d9d24403",
   "metadata": {},
   "outputs": [
    {
     "name": "stdout",
     "output_type": "stream",
     "text": [
      "4\n"
     ]
    }
   ],
   "source": [
    "# Default Argument Values:\n",
    "\n",
    "# Write a function power that takes a base and an exponent as arguments, with a default value of 2 for the exponent. The function should return the result of raising the base to the exponent.\n",
    "\n",
    "def power(base:int,exponent:int=2)-> int:\n",
    "    return base**exponent\n",
    "\n",
    "print(power(2))"
   ]
  },
  {
   "cell_type": "code",
   "execution_count": 140,
   "id": "8cfff775",
   "metadata": {},
   "outputs": [],
   "source": [
    "# Arbitrary Keyword Arguments:\n",
    "\n",
    "# Implement a function named print_info that takes any number of keyword arguments and prints them.\n"
   ]
  },
  {
   "cell_type": "code",
   "execution_count": 141,
   "id": "15bb5243",
   "metadata": {},
   "outputs": [
    {
     "data": {
      "text/plain": [
       "3.0"
      ]
     },
     "execution_count": 141,
     "metadata": {},
     "output_type": "execute_result"
    }
   ],
   "source": [
    "# Arbitrary Arguments with Unpacking:\n",
    "\n",
    "# Define a function named average that takes any number of arguments and returns their average. Use the *args syntax for arbitrary arguments.\n",
    "def average(*args):\n",
    "    return sum(args)/len(args)\n",
    "\n",
    "average(2,3,4)"
   ]
  },
  {
   "cell_type": "code",
   "execution_count": 144,
   "id": "e4054cc4",
   "metadata": {},
   "outputs": [
    {
     "data": {
      "text/plain": [
       "'name -> jay,sum of args 14'"
      ]
     },
     "execution_count": 144,
     "metadata": {},
     "output_type": "execute_result"
    }
   ],
   "source": [
    "# *Named Arguments after args:\n",
    "\n",
    "# Create a function named display_values that takes a mandatory positional argument, followed by any number of additional values passed as keyword arguments.\n",
    "def display_values(name,*args):\n",
    "    return f\"name -> {name},sum of args {sum(args)}\"\n",
    "\n",
    "display_values(\"jay\",2,3,4,5)"
   ]
  },
  {
   "cell_type": "markdown",
   "id": "35643a4c",
   "metadata": {},
   "source": [
    "# Return Values and Scopes:\n"
   ]
  },
  {
   "cell_type": "code",
   "execution_count": 146,
   "id": "ee0afa46",
   "metadata": {},
   "outputs": [
    {
     "data": {
      "text/plain": [
       "(2, 4)"
      ]
     },
     "execution_count": 146,
     "metadata": {},
     "output_type": "execute_result"
    }
   ],
   "source": [
    "# Returning Multiple Values:\n",
    "\n",
    "# Write a function named min_and_max that takes a list of numbers and returns the minimum and maximum values.\n",
    "def min_and_max(*args):\n",
    "    return min(args),max(args)\n",
    "\n",
    "min_and_max(2,3,4)"
   ]
  },
  {
   "cell_type": "code",
   "execution_count": 148,
   "id": "406d08dd",
   "metadata": {},
   "outputs": [
    {
     "name": "stdout",
     "output_type": "stream",
     "text": [
      "10\n",
      "11\n",
      "10\n"
     ]
    }
   ],
   "source": [
    "# Local and Global Scopes:\n",
    "\n",
    "# Create a global variable global_var with a value. Write a function that prints the value of global_var and then defines a local variable with the same name. Print both values inside the function.\n",
    "global_var=10\n",
    "\n",
    "def checking(global_var):\n",
    "    global_var+=1\n",
    "    return global_var\n",
    "\n",
    "print(global_var)\n",
    "print(checking(global_var))\n",
    "print(global_var)\n"
   ]
  },
  {
   "cell_type": "code",
   "execution_count": 153,
   "id": "5bbca4c7",
   "metadata": {},
   "outputs": [
    {
     "name": "stdout",
     "output_type": "stream",
     "text": [
      "0\n",
      "1\n",
      "0\n"
     ]
    }
   ],
   "source": [
    "# Modifying Global Variable:\n",
    "\n",
    "# Define a global variable counter with an initial value of 0. Write a function named increment that increments the value of counter by 1.\n",
    "global global_var\n",
    "\n",
    "global_var=0\n",
    "\n",
    "def increment(global_var):\n",
    "    global_var+=1\n",
    "    return global_var\n",
    "\n",
    "print(global_var)\n",
    "print(increment(global_var))\n",
    "print(global_var)"
   ]
  },
  {
   "cell_type": "code",
   "execution_count": 161,
   "id": "b7ac7db1",
   "metadata": {},
   "outputs": [
    {
     "name": "stdout",
     "output_type": "stream",
     "text": [
      "first 0\n",
      "inner increment 1\n",
      "second 1\n",
      "1\n"
     ]
    }
   ],
   "source": [
    "\n",
    "# Nonlocal Keyword:\n",
    "\n",
    "# Create a nested function with a local variable. Use the nonlocal keyword to modify the value of the local variable from the outer function.\n",
    "\n",
    "def outer_fun():\n",
    "    global_var=0\n",
    "    print(\"first\",global_var)\n",
    "\n",
    "    def increment():\n",
    "        nonlocal global_var\n",
    "\n",
    "        global_var+=1\n",
    "        print(\"inner increment\",global_var)\n",
    "\n",
    "        return global_var\n",
    "    increment()\n",
    "    print(\"second\",global_var)\n",
    "\n",
    "    return global_var\n",
    "\n",
    "print(outer_fun())\n"
   ]
  },
  {
   "cell_type": "code",
   "execution_count": 164,
   "id": "cbf433d0",
   "metadata": {},
   "outputs": [
    {
     "data": {
      "text/plain": [
       "8"
      ]
     },
     "execution_count": 164,
     "metadata": {},
     "output_type": "execute_result"
    }
   ],
   "source": [
    "# Returning Functions:\n",
    "\n",
    "# Define a function named get_multiplier that takes a number as an argument and returns a new function. The returned function should take another number and return the product of that number and the original number.\n",
    "\n",
    "\n",
    "def get_multiplier(num1):\n",
    "    def product_of_nums(num2):\n",
    "        return num1*num2\n",
    "    return product_of_nums\n",
    "\n",
    "temp=get_multiplier(2)\n",
    "temp(4)"
   ]
  },
  {
   "cell_type": "markdown",
   "id": "1c1fe648",
   "metadata": {},
   "source": [
    "# Lambda Functions (Anonymous Functions):\n"
   ]
  },
  {
   "cell_type": "code",
   "execution_count": 166,
   "id": "7a7c799e",
   "metadata": {},
   "outputs": [
    {
     "data": {
      "text/plain": [
       "9"
      ]
     },
     "execution_count": 166,
     "metadata": {},
     "output_type": "execute_result"
    }
   ],
   "source": [
    "# Simple Lambda Function:\n",
    "# Create a lambda function that squares its input.\n",
    "square =lambda x:x**2\n",
    "square(3)"
   ]
  },
  {
   "cell_type": "code",
   "execution_count": 169,
   "id": "2ad03b01",
   "metadata": {},
   "outputs": [
    {
     "data": {
      "text/plain": [
       "[0, 2, 4, 6, 8]"
      ]
     },
     "execution_count": 169,
     "metadata": {},
     "output_type": "execute_result"
    }
   ],
   "source": [
    "# Lambda Function in Filter:\n",
    "\n",
    "# Use a lambda function with the filter function to filter out even numbers from a list.\n",
    "list(filter(lambda x:x%2==0,range(0,10)))"
   ]
  },
  {
   "cell_type": "code",
   "execution_count": 170,
   "id": "5847e8cb",
   "metadata": {},
   "outputs": [
    {
     "data": {
      "text/plain": [
       "[0, 2, 4, 6, 8, 10, 12, 14, 16, 18]"
      ]
     },
     "execution_count": 170,
     "metadata": {},
     "output_type": "execute_result"
    }
   ],
   "source": [
    "# Lambda Function in Map:\n",
    "\n",
    "# Use a lambda function with the map function to double each element in a list.\n",
    "list(map(lambda x:x*2,range(0,10)))"
   ]
  },
  {
   "cell_type": "code",
   "execution_count": 177,
   "id": "7514b4ff",
   "metadata": {},
   "outputs": [
    {
     "data": {
      "text/plain": [
       "[(2, 'first'), (1, 'second'), (3, 'third')]"
      ]
     },
     "execution_count": 177,
     "metadata": {},
     "output_type": "execute_result"
    }
   ],
   "source": [
    "# Lambda Function in Sorting:\n",
    "\n",
    "# Sort a list of tuples based on the second element using a lambda function.\n",
    "li1=(2,1,3)\n",
    "li2=('first','second','third')\n",
    "sorted(list(zip(li1,li2)),key=lambda x:x[1])"
   ]
  },
  {
   "cell_type": "code",
   "execution_count": 182,
   "id": "5318b16e",
   "metadata": {},
   "outputs": [
    {
     "data": {
      "text/plain": [
       "362880"
      ]
     },
     "execution_count": 182,
     "metadata": {},
     "output_type": "execute_result"
    }
   ],
   "source": [
    "# Lambda Function in Reduce:\n",
    "\n",
    "# Use a lambda function with the functools.reduce function to find the product of elements in a list.\n",
    "\n",
    "from functools import reduce\n",
    "\n",
    "reduce(lambda x,y:x*y,range(1,10))"
   ]
  },
  {
   "cell_type": "code",
   "execution_count": null,
   "id": "3f83784a",
   "metadata": {},
   "outputs": [],
   "source": []
  },
  {
   "cell_type": "markdown",
   "id": "8c30596b",
   "metadata": {},
   "source": [
    "# Built-in Functions and Modules:\n"
   ]
  },
  {
   "cell_type": "code",
   "execution_count": 189,
   "id": "4a7b705b",
   "metadata": {},
   "outputs": [
    {
     "name": "stdout",
     "output_type": "stream",
     "text": [
      "10\n",
      "45\n",
      "9\n"
     ]
    }
   ],
   "source": [
    "\n",
    "# Built-in Functions:\n",
    "\n",
    "# Use the len, sum, and max functions to find the length, sum, and maximum value of a list.\n",
    "li=range(0,10)\n",
    "print(len(li))\n",
    "print(sum(li))\n",
    "print(max(li))"
   ]
  },
  {
   "cell_type": "code",
   "execution_count": 190,
   "id": "9b12e39f",
   "metadata": {},
   "outputs": [
    {
     "name": "stdout",
     "output_type": "stream",
     "text": [
      "GUJARATI\n",
      "gujarati\n",
      "GUjarati\n"
     ]
    }
   ],
   "source": [
    "# String Functions:\n",
    "\n",
    "# Use the upper, lower, and replace string methods to modify a given string.\n",
    "print(\"Gujarati\".upper())\n",
    "print(\"Gujarati\".lower())\n",
    "print(\"Gujarati\".replace(\"u\",\"U\"))"
   ]
  },
  {
   "cell_type": "code",
   "execution_count": 186,
   "id": "df009970",
   "metadata": {},
   "outputs": [],
   "source": [
    "# List Functions:\n",
    "\n",
    "# Use the append, pop, and count list methods to modify and analyze a list.\n"
   ]
  },
  {
   "cell_type": "code",
   "execution_count": 192,
   "id": "558f559c",
   "metadata": {},
   "outputs": [
    {
     "name": "stdout",
     "output_type": "stream",
     "text": [
      "3.0\n",
      "2\n",
      "3\n"
     ]
    }
   ],
   "source": [
    "# Math Module:\n",
    "\n",
    "# Import the math module and use its functions (sqrt, floor, ceil) to perform mathematical operations.\n",
    "import math\n",
    "print(math.sqrt(9))\n",
    "print(math.floor(2.8))\n",
    "print(math.ceil(2.8))"
   ]
  },
  {
   "cell_type": "code",
   "execution_count": 211,
   "id": "2a951cac",
   "metadata": {},
   "outputs": [
    {
     "name": "stdout",
     "output_type": "stream",
     "text": [
      "0\n",
      "hindi\n",
      "['english', 'hindi', 'gujrati']\n"
     ]
    }
   ],
   "source": [
    "# Random Module:\n",
    "\n",
    "# Import the random module and use its functions (randint, choice, shuffle) to generate random numbers and manipulate lists.\n",
    "import random\n",
    "\n",
    "print(random.randint(0,10))\n",
    "li=['gujrati','english','hindi']\n",
    "\n",
    "print(random.choice(li))\n",
    "random.shuffle(li)\n",
    "print(li)"
   ]
  },
  {
   "cell_type": "code",
   "execution_count": 212,
   "id": "35f147fc",
   "metadata": {},
   "outputs": [
    {
     "name": "stdout",
     "output_type": "stream",
     "text": [
      "Hello, Alice!\n",
      "Hello, Alice!\n",
      "Hello, Alice!\n"
     ]
    }
   ],
   "source": [
    "def repeat(n):\n",
    "    def decorator(func):\n",
    "        def wrapper(*args, **kwargs):\n",
    "            for _ in range(n):\n",
    "                result = func(*args, **kwargs)\n",
    "            return result\n",
    "        return wrapper\n",
    "    return decorator\n",
    "\n",
    "@repeat(n=3)\n",
    "def greet(name):\n",
    "    print(f\"Hello, {name}!\")\n",
    "\n",
    "greet(\"Alice\")"
   ]
  },
  {
   "cell_type": "code",
   "execution_count": null,
   "id": "b0ab7c39",
   "metadata": {},
   "outputs": [],
   "source": [
    "def get_Upper_case(func):\n",
    "    def wrapper(**args,**kwargs):\n",
    "        print(\">>called before function\",args,kwargs)\n",
    "        result = func(**args,**kwargs).upper()\n",
    "        print(\">>called After function\",args,kwargs)\n",
    "        return result\n",
    "    return wrapper"
   ]
  }
 ],
 "metadata": {
  "kernelspec": {
   "display_name": "Python 3 (ipykernel)",
   "language": "python",
   "name": "python3"
  },
  "language_info": {
   "codemirror_mode": {
    "name": "ipython",
    "version": 3
   },
   "file_extension": ".py",
   "mimetype": "text/x-python",
   "name": "python",
   "nbconvert_exporter": "python",
   "pygments_lexer": "ipython3",
   "version": "3.8.10"
  }
 },
 "nbformat": 4,
 "nbformat_minor": 5
}
