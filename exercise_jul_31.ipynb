{
 "cells": [
  {
   "cell_type": "markdown",
   "metadata": {},
   "source": [
    "# Conditional Statements (if, elif, else)\n",
    "# Loops (for, while)"
   ]
  },
  {
   "cell_type": "code",
   "execution_count": 1,
   "metadata": {},
   "outputs": [],
   "source": [
    "# Check Even or Odd\n",
    "\n",
    "# Write a program that takes an integer input from the user and checks whether the number is even or odd.\n"
   ]
  },
  {
   "cell_type": "code",
   "execution_count": 3,
   "metadata": {},
   "outputs": [
    {
     "data": {
      "text/plain": [
       "('Even', 'Odd')"
      ]
     },
     "execution_count": 3,
     "metadata": {},
     "output_type": "execute_result"
    }
   ],
   "source": [
    "def checker(num):\n",
    "    if num%2==0:\n",
    "        return \"Even\"\n",
    "    return \"Odd\"\n",
    "\n",
    "checker(4),checker(5)"
   ]
  },
  {
   "cell_type": "code",
   "execution_count": null,
   "metadata": {},
   "outputs": [],
   "source": []
  },
  {
   "cell_type": "code",
   "execution_count": null,
   "metadata": {},
   "outputs": [],
   "source": [
    "# Grade Categorizer\n",
    "\n",
    "# Write a program that takes a numerical grade (0-100) as input and outputs the corresponding letter grade:\n",
    "# A: 90-100\n",
    "# B: 80-89\n",
    "# C: 70-79\n",
    "# D: 60-69\n",
    "# F: 0-59"
   ]
  },
  {
   "cell_type": "code",
   "execution_count": 11,
   "metadata": {},
   "outputs": [
    {
     "data": {
      "text/plain": [
       "'A'"
      ]
     },
     "execution_count": 11,
     "metadata": {},
     "output_type": "execute_result"
    }
   ],
   "source": [
    "def grade_categories(num):\n",
    "    if 100 >= num >=90:\n",
    "        return \"A\"\n",
    "    elif 89>= num >=80:\n",
    "        return \"B\"\n",
    "    elif 79 >= num >=70:\n",
    "        return \"C\"\n",
    "    elif 69 >= num >=60:\n",
    "        return \"D\"\n",
    "    else:\n",
    "        return \"F\"\n",
    "    \n",
    "grade_categories(91)"
   ]
  },
  {
   "cell_type": "code",
   "execution_count": 12,
   "metadata": {},
   "outputs": [
    {
     "data": {
      "text/plain": [
       "'B'"
      ]
     },
     "execution_count": 12,
     "metadata": {},
     "output_type": "execute_result"
    }
   ],
   "source": [
    "grade_categories(81)"
   ]
  },
  {
   "cell_type": "code",
   "execution_count": 13,
   "metadata": {},
   "outputs": [
    {
     "data": {
      "text/plain": [
       "'C'"
      ]
     },
     "execution_count": 13,
     "metadata": {},
     "output_type": "execute_result"
    }
   ],
   "source": [
    "grade_categories(71)"
   ]
  },
  {
   "cell_type": "code",
   "execution_count": 14,
   "metadata": {},
   "outputs": [
    {
     "data": {
      "text/plain": [
       "'D'"
      ]
     },
     "execution_count": 14,
     "metadata": {},
     "output_type": "execute_result"
    }
   ],
   "source": [
    "grade_categories(61)"
   ]
  },
  {
   "cell_type": "code",
   "execution_count": 15,
   "metadata": {},
   "outputs": [
    {
     "data": {
      "text/plain": [
       "'F'"
      ]
     },
     "execution_count": 15,
     "metadata": {},
     "output_type": "execute_result"
    }
   ],
   "source": [
    "grade_categories(55)"
   ]
  },
  {
   "cell_type": "code",
   "execution_count": 20,
   "metadata": {},
   "outputs": [
    {
     "name": "stdout",
     "output_type": "stream",
     "text": [
      "Year ->  2000 Leap Year\n",
      "Year ->  2001 No Leap Year\n",
      "Year ->  2002 No Leap Year\n",
      "Year ->  2003 No Leap Year\n",
      "Year ->  2004 Leap Year\n",
      "Year ->  2005 No Leap Year\n",
      "Year ->  2006 No Leap Year\n",
      "Year ->  2007 No Leap Year\n",
      "Year ->  2008 Leap Year\n",
      "Year ->  2009 No Leap Year\n",
      "Year ->  2010 No Leap Year\n",
      "Year ->  2011 No Leap Year\n",
      "Year ->  2012 Leap Year\n",
      "Year ->  2013 No Leap Year\n",
      "Year ->  2014 No Leap Year\n",
      "Year ->  2015 No Leap Year\n",
      "Year ->  2016 Leap Year\n",
      "Year ->  2017 No Leap Year\n",
      "Year ->  2018 No Leap Year\n",
      "Year ->  2019 No Leap Year\n",
      "Year ->  2020 Leap Year\n",
      "Year ->  2021 No Leap Year\n",
      "Year ->  2022 No Leap Year\n",
      "Year ->  2023 No Leap Year\n",
      "Year ->  2024 Leap Year\n"
     ]
    }
   ],
   "source": [
    "# Leap Year Checker\n",
    "\n",
    "# Write a program that takes a year as input and checks if it is a leap year. A year is a leap year if:\n",
    "# It is divisible by 4 and not divisible by 100, or\n",
    "# It is divisible by 400.\n",
    "\n",
    "def check_leap_year(year):\n",
    "    if year%4==0 and year%100!=0 or year%400==0:\n",
    "        return \"Leap Year\"\n",
    "    return \"No Leap Year\"\n",
    "\n",
    "for i in range(2000,2025):\n",
    "    print(\"Year -> \",i,check_leap_year(i))\n"
   ]
  },
  {
   "cell_type": "code",
   "execution_count": null,
   "metadata": {},
   "outputs": [],
   "source": []
  },
  {
   "cell_type": "code",
   "execution_count": null,
   "metadata": {},
   "outputs": [],
   "source": []
  },
  {
   "cell_type": "code",
   "execution_count": 27,
   "metadata": {},
   "outputs": [
    {
     "data": {
      "text/plain": [
       "120"
      ]
     },
     "execution_count": 27,
     "metadata": {},
     "output_type": "execute_result"
    }
   ],
   "source": [
    "# Factorial Calculation\n",
    "\n",
    "# Write a program that calculates the factorial of a number using both a for loop and a while loop.\n",
    "\n",
    "def fact(num):\n",
    "    if num <=1:\n",
    "        return 1\n",
    "    else:\n",
    "        return num*fact(num-1)\n",
    "    \n",
    "    \n",
    "fact(5)"
   ]
  },
  {
   "cell_type": "code",
   "execution_count": null,
   "metadata": {},
   "outputs": [],
   "source": []
  },
  {
   "cell_type": "code",
   "execution_count": null,
   "metadata": {},
   "outputs": [],
   "source": []
  },
  {
   "cell_type": "code",
   "execution_count": 37,
   "metadata": {},
   "outputs": [
    {
     "name": "stdout",
     "output_type": "stream",
     "text": [
      "1\n",
      "1\n",
      "2\n",
      "3\n",
      "5\n",
      "8\n",
      "13\n",
      "21\n",
      "34\n",
      "55\n"
     ]
    }
   ],
   "source": [
    "# Fibonacci Sequence\n",
    "\n",
    "# Write a program to generate the first 10 numbers in the Fibonacci sequence using a for loop.\n",
    "\n",
    "def feb(num):\n",
    "    if num <=1:\n",
    "        return 1\n",
    "    else:\n",
    "        return feb(num-1)+feb(num-2)\n",
    "    \n",
    "for i in range(0,10):\n",
    "    print(feb(i))"
   ]
  },
  {
   "cell_type": "code",
   "execution_count": 44,
   "metadata": {},
   "outputs": [
    {
     "name": "stdout",
     "output_type": "stream",
     "text": [
      "10\n"
     ]
    },
    {
     "data": {
      "text/plain": [
       "12"
      ]
     },
     "execution_count": 44,
     "metadata": {},
     "output_type": "execute_result"
    }
   ],
   "source": [
    "x=10\n",
    "def fun():\n",
    "    global x\n",
    "    print(x)\n",
    "    x=12\n",
    "    return x\n",
    "\n",
    "fun()"
   ]
  },
  {
   "cell_type": "code",
   "execution_count": null,
   "metadata": {},
   "outputs": [],
   "source": []
  }
 ],
 "metadata": {
  "kernelspec": {
   "display_name": "Python 3",
   "language": "python",
   "name": "python3"
  },
  "language_info": {
   "codemirror_mode": {
    "name": "ipython",
    "version": 3
   },
   "file_extension": ".py",
   "mimetype": "text/x-python",
   "name": "python",
   "nbconvert_exporter": "python",
   "pygments_lexer": "ipython3",
   "version": "3.8.10"
  }
 },
 "nbformat": 4,
 "nbformat_minor": 4
}
