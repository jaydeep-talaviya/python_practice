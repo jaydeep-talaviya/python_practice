{
 "cells": [
  {
   "cell_type": "code",
   "execution_count": 1,
   "id": "6fbfe343",
   "metadata": {},
   "outputs": [
    {
     "name": "stdout",
     "output_type": "stream",
     "text": [
      "going to sleep 1 second\n",
      "Finished Sleep\n",
      "going to sleep 1 second\n",
      "Finished Sleep\n",
      "finished execution in 2.0 seconds\n"
     ]
    }
   ],
   "source": [
    "import time\n",
    "\n",
    "start = time.perf_counter()\n",
    "\n",
    "def do_something():\n",
    "    print(\"going to sleep 1 second\")\n",
    "    time.sleep(1)\n",
    "    print(\"Finished Sleep\")\n",
    "\n",
    "do_something()\n",
    "do_something()\n",
    "\n",
    "\n",
    "end = time.perf_counter()\n",
    "print(f\"finished execution in {round(end-start,2)} seconds\")"
   ]
  },
  {
   "cell_type": "code",
   "execution_count": 3,
   "id": "cbe44ddd",
   "metadata": {},
   "outputs": [
    {
     "name": "stdout",
     "output_type": "stream",
     "text": [
      "going to sleep 1 second\n",
      "going to sleep 1 second\n",
      "Finished Sleep\n",
      "Finished Sleep\n",
      "finished execution in 1.0 seconds\n"
     ]
    }
   ],
   "source": [
    "import time\n",
    "import threading\n",
    "\n",
    "start = time.perf_counter()\n",
    "\n",
    "def do_something():\n",
    "    print(\"going to sleep 1 second\")\n",
    "    time.sleep(1)\n",
    "    print(\"Finished Sleep\")\n",
    "\n",
    "\n",
    "\n",
    "t1 =threading.Thread(target=do_something)\n",
    "t2 =threading.Thread(target=do_something)\n",
    "\n",
    "t1.start()\n",
    "t2.start()\n",
    "\n",
    "t1.join()\n",
    "t2.join()\n",
    "\n",
    "end = time.perf_counter()\n",
    "print(f\"finished execution in {round(end-start,2)} seconds\")"
   ]
  },
  {
   "cell_type": "code",
   "execution_count": 11,
   "id": "15f53699",
   "metadata": {},
   "outputs": [
    {
     "name": "stdout",
     "output_type": "stream",
     "text": [
      "going to sleep 1 second\n",
      "going to sleep 1 second\n",
      "going to sleep 1 second\n",
      "going to sleep 1 second\n",
      "going to sleep 1 second\n",
      "going to sleep 1 second\n",
      "going to sleep 1 second\n",
      "going to sleep 1 second\n",
      "going to sleep 1 second\n",
      "going to sleep 1 second\n",
      "Finished Sleep\n",
      "Finished Sleep\n",
      "Finished Sleep\n",
      "Finished Sleep\n",
      "Finished Sleep\n",
      "Finished Sleep\n",
      "Finished Sleep\n",
      "Finished Sleep\n",
      "Finished Sleep\n",
      "Finished Sleep\n",
      "finished execution in 1.02 seconds\n"
     ]
    }
   ],
   "source": [
    "import time\n",
    "import threading\n",
    "\n",
    "start = time.perf_counter()\n",
    "\n",
    "def do_something():\n",
    "    print(\"going to sleep 1 second\")\n",
    "    time.sleep(1)\n",
    "    print(\"Finished Sleep\")\n",
    "\n",
    "\n",
    "\n",
    "threads = []\n",
    "for _ in range(0,10):\n",
    "    t = threading.Thread(target=do_something)\n",
    "    t.start()\n",
    "    threads.append(t)\n",
    "    \n",
    "\n",
    "for thread in threads:\n",
    "    thread.join()\n",
    "    \n",
    "\n",
    "end = time.perf_counter()\n",
    "print(f\"finished execution in {round(end-start,2)} seconds\")"
   ]
  },
  {
   "cell_type": "code",
   "execution_count": 12,
   "id": "d6730c4b",
   "metadata": {},
   "outputs": [
    {
     "name": "stdout",
     "output_type": "stream",
     "text": [
      "going to sleep 1.5 seconds\n",
      "going to sleep 1.5 seconds\n",
      "going to sleep 1.5 seconds\n",
      "going to sleep 1.5 seconds\n",
      "going to sleep 1.5 seconds\n",
      "going to sleep 1.5 seconds\n",
      "going to sleep 1.5 seconds\n",
      "going to sleep 1.5 seconds\n",
      "going to sleep 1.5 seconds\n",
      "going to sleep 1.5 seconds\n",
      "Finished Sleep\n",
      "Finished Sleep\n",
      "Finished Sleep\n",
      "Finished Sleep\n",
      "Finished Sleep\n",
      "Finished Sleep\n",
      "Finished Sleep\n",
      "Finished Sleep\n",
      "Finished Sleep\n",
      "Finished Sleep\n",
      "finished execution in 1.51 seconds\n"
     ]
    }
   ],
   "source": [
    "# passing args in threading function\n",
    "import time\n",
    "import threading\n",
    "\n",
    "start = time.perf_counter()\n",
    "\n",
    "def do_something(second):\n",
    "    print(f\"going to sleep {second} seconds\")\n",
    "    time.sleep(second)\n",
    "    print(\"Finished Sleep\")\n",
    "\n",
    "\n",
    "\n",
    "threads = []\n",
    "for _ in range(0,10):\n",
    "    t = threading.Thread(target=do_something,args=[1.5])\n",
    "    t.start()\n",
    "    threads.append(t)\n",
    "    \n",
    "\n",
    "for thread in threads:\n",
    "    thread.join()\n",
    "    \n",
    "\n",
    "end = time.perf_counter()\n",
    "print(f\"finished execution in {round(end-start,2)} seconds\")"
   ]
  },
  {
   "cell_type": "code",
   "execution_count": 15,
   "id": "6b80a3c3",
   "metadata": {},
   "outputs": [
    {
     "name": "stdout",
     "output_type": "stream",
     "text": [
      "going to sleep 5 seconds\n",
      "going to sleep 4 seconds\n",
      "going to sleep 3 seconds\n",
      "going to sleep 2 seconds\n",
      "going to sleep 1 seconds\n",
      "Finished Sleep\n",
      "Finished Sleep\n",
      "Finished Sleep\n",
      "Finished Sleep\n",
      "Finished Sleep\n",
      "None\n",
      "None\n",
      "None\n",
      "None\n",
      "None\n",
      "finished execution in 5.02 seconds\n"
     ]
    }
   ],
   "source": [
    "# with concurrent\n",
    "\n",
    "# passing args in threading function\n",
    "import time\n",
    "import threading\n",
    "import concurrent.futures\n",
    "\n",
    "start = time.perf_counter()\n",
    "\n",
    "def do_something(second):\n",
    "    print(f\"going to sleep {second} seconds\")\n",
    "    time.sleep(second)\n",
    "    print(\"Finished Sleep\")\n",
    "\n",
    "\n",
    "with concurrent.futures.ThreadPoolExecutor() as executer:\n",
    "    secs = [5,4,3,2,1]\n",
    "    results = executer.map(do_something,secs)\n",
    "    \n",
    "    for result in results:\n",
    "        print(result)\n",
    "    \n",
    "\n",
    "end = time.perf_counter()\n",
    "print(f\"finished execution in {round(end-start,2)} seconds\")"
   ]
  },
  {
   "cell_type": "code",
   "execution_count": 16,
   "id": "d5aedb02",
   "metadata": {},
   "outputs": [
    {
     "name": "stdout",
     "output_type": "stream",
     "text": [
      "going to sleep 5 seconds\n",
      "going to sleep 4 seconds\n",
      "going to sleep 3 seconds\n",
      "going to sleep 2 seconds\n",
      "going to sleep 1 seconds\n",
      "Finished Sleep\n",
      "Finished Sleep\n",
      "Finished Sleep\n",
      "Finished Sleep\n",
      "Finished Sleep\n",
      "finished execution in 5.01 seconds\n"
     ]
    }
   ],
   "source": [
    "# with concurrent\n",
    "\n",
    "# passing args in threading function\n",
    "import time\n",
    "import threading\n",
    "import concurrent.futures\n",
    "\n",
    "start = time.perf_counter()\n",
    "\n",
    "def do_something(second):\n",
    "    print(f\"going to sleep {second} seconds\")\n",
    "    time.sleep(second)\n",
    "    print(\"Finished Sleep\")\n",
    "\n",
    "\n",
    "with concurrent.futures.ThreadPoolExecutor() as executer:\n",
    "    secs = [5,4,3,2,1]\n",
    "    results = executer.map(do_something,secs)\n",
    "    \n",
    "#     for result in results:\n",
    "#         print(result)\n",
    "    \n",
    "\n",
    "end = time.perf_counter()\n",
    "print(f\"finished execution in {round(end-start,2)} seconds\")"
   ]
  },
  {
   "cell_type": "code",
   "execution_count": 2,
   "id": "db3894f2",
   "metadata": {},
   "outputs": [
    {
     "name": "stdout",
     "output_type": "stream",
     "text": [
      "going to sleep 1 second\n",
      "going to sleep 1 second\n",
      "Finished Sleep\n",
      "Finished Sleep\n",
      "finished execution in 1.06 seconds\n"
     ]
    }
   ],
   "source": [
    "##### multiprocessers\n",
    "import time\n",
    "import multiprocessing\n",
    "\n",
    "start = time.perf_counter()\n",
    "\n",
    "def do_something():\n",
    "    print(\"going to sleep 1 second\")\n",
    "    time.sleep(1)\n",
    "    print(\"Finished Sleep\")\n",
    "\n",
    "p1 = multiprocessing.Process(target=do_something)\n",
    "p2 = multiprocessing.Process(target=do_something)\n",
    "\n",
    "p1.start()\n",
    "p2.start()\n",
    "\n",
    "p1.join()\n",
    "p2.join()\n",
    "\n",
    "end = time.perf_counter()\n",
    "print(f\"finished execution in {round(end-start,2)} seconds\")"
   ]
  },
  {
   "cell_type": "code",
   "execution_count": 13,
   "id": "9c5952ed",
   "metadata": {},
   "outputs": [
    {
     "name": "stdout",
     "output_type": "stream",
     "text": [
      "going to sleep 1 secondgoing to sleep 1 secondgoing to sleep 1 second\n",
      "going to sleep 1 second\n",
      "\n",
      "\n",
      "going to sleep 1 second\n",
      "going to sleep 1 secondgoing to sleep 1 second\n",
      "\n",
      "going to sleep 1 secondgoing to sleep 1 second\n",
      "\n",
      "going to sleep 1 second\n",
      "Finished SleepFinished Sleep\n",
      "Finished SleepFinished Sleep\n",
      "Finished Sleep\n",
      "\n",
      "\n",
      "Finished Sleep\n",
      "Finished Sleep\n",
      "Finished Sleep\n",
      "Finished Sleep\n",
      "Finished Sleep\n",
      "finished execution in 1.64 seconds\n"
     ]
    }
   ],
   "source": [
    "##### multiprocessers\n",
    "import time\n",
    "import multiprocessing\n",
    "\n",
    "start = time.perf_counter()\n",
    "\n",
    "def do_something(second):\n",
    "    print(\"going to sleep 1 second\")\n",
    "    time.sleep(second)\n",
    "    print(\"Finished Sleep\")\n",
    "\n",
    "\n",
    "processes = []    \n",
    "for _ in range(0,10):\n",
    "    p = multiprocessing.Process(target=do_something,args=[1.5])\n",
    "    p.start()\n",
    "    processes.append(p)\n",
    "\n",
    "for process in processes:\n",
    "    p.join()\n",
    "\n",
    "end = time.perf_counter()\n",
    "print(f\"finished execution in {round(end-start,2)} seconds\")"
   ]
  },
  {
   "cell_type": "code",
   "execution_count": 18,
   "id": "a68a99e8",
   "metadata": {},
   "outputs": [
    {
     "name": "stdout",
     "output_type": "stream",
     "text": [
      "going to sleep 5 second\n",
      "going to sleep 3 second\n",
      "going to sleep 2 second\n",
      "\n",
      "\n",
      "going to sleep 4 second\n",
      "\n",
      "\n",
      "going to sleep 1 second\n",
      "\n",
      "Finished Sleep in 2 second\n",
      "Finished Sleep in 3 second\n",
      "Finished Sleep in 1 second\n",
      "Finished Sleep in 4 second\n",
      "Finished Sleep in 5 second\n",
      "finished execution in 5.08 seconds\n"
     ]
    }
   ],
   "source": [
    "##### multiprocessing using concurrent\n",
    "\n",
    "import time\n",
    "import concurrent.futures\n",
    "\n",
    "start = time.perf_counter()\n",
    "\n",
    "def do_something(second):\n",
    "    print(f\"going to sleep {second} second\\n\")\n",
    "    time.sleep(second)\n",
    "    return f\"Finished Sleep in {second} second\"\n",
    "\n",
    "with concurrent.futures.ProcessPoolExecutor() as executer:\n",
    "    secs = [5,4,3,2,1]\n",
    "    results = [executer.submit(do_something,sec) for sec in secs]\n",
    "    for single_result in concurrent.futures.as_completed(results):\n",
    "        print(single_result.result())\n",
    "\n",
    "end = time.perf_counter()\n",
    "print(f\"finished execution in {round(end-start,2)} seconds\")"
   ]
  },
  {
   "cell_type": "code",
   "execution_count": 23,
   "id": "faffc706",
   "metadata": {},
   "outputs": [
    {
     "name": "stdout",
     "output_type": "stream",
     "text": [
      "going to sleep 4 second\n",
      "going to sleep 5 second\n",
      "going to sleep 3 second\n",
      "\n",
      "\n",
      "going to sleep 2 second\n",
      "\n",
      "\n",
      "going to sleep 1 second\n",
      "\n",
      "Finished Sleep in 5 second\n",
      "Finished Sleep in 4 second\n",
      "Finished Sleep in 3 second\n",
      "Finished Sleep in 2 second\n",
      "Finished Sleep in 1 second\n",
      "finished execution in 5.06 seconds\n"
     ]
    }
   ],
   "source": [
    "##### multiprocessing using concurrent\n",
    "\n",
    "import time\n",
    "import concurrent.futures\n",
    "\n",
    "start = time.perf_counter()\n",
    "\n",
    "def do_something(second):\n",
    "    print(f\"going to sleep {second} second\\n\")\n",
    "    time.sleep(second)\n",
    "    return f\"Finished Sleep in {second} second\"\n",
    "\n",
    "with concurrent.futures.ProcessPoolExecutor() as executer:\n",
    "    secs = [5,4,3,2,1]\n",
    "    results = executer.map(do_something,secs)\n",
    "    for single_result in results:\n",
    "        print(single_result)\n",
    "\n",
    "end = time.perf_counter()\n",
    "print(f\"finished execution in {round(end-start,2)} seconds\")"
   ]
  },
  {
   "cell_type": "markdown",
   "id": "1c2aa31c",
   "metadata": {},
   "source": [
    "# asyncio"
   ]
  },
  {
   "cell_type": "code",
   "execution_count": 31,
   "id": "bb785527",
   "metadata": {},
   "outputs": [
    {
     "name": "stdout",
     "output_type": "stream",
     "text": [
      "Send first Email\n",
      "First Email reply\n",
      "Send second Email\n",
      "Second Email reply\n",
      "Send third Email\n",
      "Third Email reply\n",
      "====\n",
      "END\n",
      "Send first Email\n",
      "Send second Email\n",
      "Send third Email\n",
      "First Email reply\n",
      "Second Email reply\n",
      "Third Email reply\n"
     ]
    }
   ],
   "source": [
    "# Introduction Example\n",
    "# synchronous\n",
    "def task1():\n",
    "    print('Send first Email')\n",
    "    print('First Email reply')\n",
    "    task2()\n",
    "\n",
    "def task2():\n",
    "    print('Send second Email')\n",
    "    print('Second Email reply')\n",
    "    task3()\n",
    "\n",
    "def task3():\n",
    "    print('Send third Email')\n",
    "    print('Third Email reply')\n",
    "    print(\"====\")\n",
    "    print(\"END\")\n",
    "\n",
    "task1()\n",
    "\n",
    "# asynchronous\n",
    "\n",
    "import asyncio\n",
    "\n",
    "async def task1():\n",
    "    print('Send first Email')\n",
    "    asyncio.create_task(task2())\n",
    "    await asyncio.sleep(2) # Simulating that the email reply takes 2 seconds\n",
    "    print('First Email reply')\n",
    "\n",
    "async def task2():\n",
    "    print('Send second Email')\n",
    "    asyncio.create_task(task3())\n",
    "    await asyncio.sleep(2)\n",
    "    print('Second Email reply')\n",
    "\n",
    "async def task3():\n",
    "    print('Send third Email')\n",
    "    await asyncio.sleep(2)\n",
    "    print('Third Email reply')\n",
    "\n",
    "await task1()"
   ]
  },
  {
   "cell_type": "markdown",
   "id": "0ef55993",
   "metadata": {},
   "source": [
    "### a coroutine is a specialized version of a function that allows pausing its execution and later resuming it.\n"
   ]
  },
  {
   "cell_type": "code",
   "execution_count": 32,
   "id": "f360810d",
   "metadata": {},
   "outputs": [
    {
     "name": "stderr",
     "output_type": "stream",
     "text": [
      "/tmp/ipykernel_4262/3593601669.py:6: DeprecationWarning: \"@coroutine\" decorator is deprecated since Python 3.8, use \"async def\" instead\n",
      "  def load_file(path):\n"
     ]
    }
   ],
   "source": [
    "# 1.0.1 Coroutine objects\n",
    "import asyncio\n",
    "\n",
    "# Python 3.3\n",
    "@asyncio.coroutine \n",
    "def load_file(path):\n",
    "    pass\n",
    "\n",
    "# Python 3.5\n",
    "async def send_email():\n",
    "    pass"
   ]
  },
  {
   "cell_type": "code",
   "execution_count": 33,
   "id": "0a546718",
   "metadata": {},
   "outputs": [
    {
     "name": "stdout",
     "output_type": "stream",
     "text": [
      "True\n"
     ]
    }
   ],
   "source": [
    "# 1.0.2 Determine if a function is a coroutine or not\n",
    "import asyncio\n",
    "\n",
    "async def task1():\n",
    "    pass\n",
    "   \n",
    "print(asyncio.iscoroutinefunction(task1))\n",
    "\n",
    "# asyncio.iscoroutinefunction(func)\n",
    "# asyncio.iscoroutine(obj)"
   ]
  },
  {
   "cell_type": "code",
   "execution_count": 36,
   "id": "2df7b59d",
   "metadata": {},
   "outputs": [
    {
     "name": "stdout",
     "output_type": "stream",
     "text": [
      "1\n",
      "2\n"
     ]
    }
   ],
   "source": [
    "# 1.0.4 Wait for a task\n",
    "import asyncio\n",
    "async def task1():\n",
    "    print(\"1\")\n",
    "    await asyncio.sleep(1)\n",
    "    print(\"2\")\n",
    "\n",
    "await task1()"
   ]
  },
  {
   "cell_type": "code",
   "execution_count": 38,
   "id": "1c6e57fc",
   "metadata": {},
   "outputs": [
    {
     "name": "stdout",
     "output_type": "stream",
     "text": [
      "t3\n",
      "t2\n",
      "t1\n"
     ]
    }
   ],
   "source": [
    "# 1.0.5 Chaining Coroutines\n",
    "import asyncio\n",
    "\n",
    "async def t1():\n",
    "    await t2()\n",
    "    print(\"t1\")\n",
    "async def t2():\n",
    "    await t3()\n",
    "    print(\"t2\")\n",
    "async def t3():\n",
    "    print(\"t3\")\n",
    "    \n",
    "await t1()"
   ]
  },
  {
   "cell_type": "code",
   "execution_count": 40,
   "id": "2357c8c3",
   "metadata": {},
   "outputs": [
    {
     "name": "stdout",
     "output_type": "stream",
     "text": [
      "Waiting for reply...\n",
      "Reply: How you doing?\n"
     ]
    }
   ],
   "source": [
    "# 1.0.5 Wait for an email reply\n",
    "import asyncio\n",
    "\n",
    "async def email_reply():\n",
    "    await asyncio.sleep(4)\n",
    "    return (f\"How you doing?\")\n",
    "\n",
    "async def task1():\n",
    "    print(\"Waiting for reply...\")\n",
    "    x = await email_reply()\n",
    "    print(f\"Reply: {x}\")\n",
    "\n",
    "await task1()"
   ]
  },
  {
   "cell_type": "code",
   "execution_count": 41,
   "id": "ded0e872",
   "metadata": {},
   "outputs": [
    {
     "name": "stdout",
     "output_type": "stream",
     "text": [
      "Waiting for reply...\n",
      "Waiting for file...\n",
      "File returned: File returned\n",
      "Email Reply: How you doing?\n"
     ]
    }
   ],
   "source": [
    "# 1.0.6 await multiple tasks\n",
    "import asyncio\n",
    "\n",
    "async def file_return():\n",
    "    await asyncio.sleep(1)\n",
    "    return (f\"File returned\")\n",
    "\n",
    "\n",
    "async def email_reply():\n",
    "    await asyncio.sleep(3)\n",
    "    return (f\"How you doing?\")\n",
    "\n",
    "\n",
    "async def task1():\n",
    "    print(\"Waiting for reply...\")\n",
    "    x = await email_reply()\n",
    "    print(f\"Email Reply: {x}\")\n",
    "\n",
    "\n",
    "async def task2():\n",
    "    print(\"Waiting for file...\")\n",
    "    x = await file_return()\n",
    "    print(f\"File returned: {x}\")\n",
    "\n",
    "\n",
    "async def main():\n",
    "\n",
    "    # await asyncio.gather(task1(),task2())\n",
    "\n",
    "    test = asyncio.create_task(task1())\n",
    "    test2 = asyncio.create_task(task2())\n",
    "\n",
    "    await test\n",
    "    await test2\n",
    "\n",
    "await main()"
   ]
  },
  {
   "cell_type": "markdown",
   "id": "4c7267b5",
   "metadata": {},
   "source": [
    "# metaclass"
   ]
  },
  {
   "cell_type": "markdown",
   "id": "15e49790",
   "metadata": {},
   "source": [
    " metaclasses are a powerful but advanced feature that allows you to customize class creation. \\\n",
    " A metaclass is a class of a class, or in other words, it's an \"invisible\" class that defines how other classes should behave."
   ]
  },
  {
   "cell_type": "markdown",
   "id": "c3466dd6",
   "metadata": {},
   "source": [
    "Here's a brief overview of how metaclasses work:\n",
    "\n",
    "Everything in Python is an Object:\n",
    "In Python, everything is an object, including classes. Classes are objects of metaclasses.\n",
    "\n",
    "Class Creation:\n",
    "When you create a class, Python uses a metaclass to create that class. By default, the metaclass is usually the type class.\n",
    "\n",
    "Customizing Class Creation with Metaclasses:\n",
    "You can create your own metaclasses to customize the process of creating classes. This involves overriding or extending methods in the metaclass."
   ]
  },
  {
   "cell_type": "code",
   "execution_count": 6,
   "id": "cc6fc58f",
   "metadata": {},
   "outputs": [
    {
     "name": "stdout",
     "output_type": "stream",
     "text": [
      "{'__module__': '__main__', '__qualname__': 'MyClass'}\n",
      "42\n"
     ]
    }
   ],
   "source": [
    "# Define a metaclass\n",
    "class MyMeta(type):\n",
    "    def __new__(cls, name, bases, dct):\n",
    "        # Customize class creation here\n",
    "        print(dct)\n",
    "        dct['custom_attribute'] = 42\n",
    "        return super().__new__(cls, name, bases, dct)\n",
    "\n",
    "# Use the metaclass to create a class\n",
    "class MyClass(metaclass=MyMeta):\n",
    "    pass\n",
    "\n",
    "# Instances of MyClass now have the custom_attribute\n",
    "obj = MyClass()\n",
    "print(obj.custom_attribute)  # Output: 42"
   ]
  },
  {
   "cell_type": "markdown",
   "id": "5ebae871",
   "metadata": {},
   "source": [
    "Metaclasses are often used in advanced scenarios, such as:\n",
    "\n",
    "Code Injection: Modifying the class code before it's created.\n",
    "\n",
    "API Design: Enforcing coding standards, patterns, or rules.\n",
    "\n",
    "Singleton Pattern: Ensuring that only one instance of a class is created.\n",
    "\n",
    "ORMs (Object-Relational Mappers): Automatically mapping classes to database tables."
   ]
  },
  {
   "cell_type": "markdown",
   "id": "65b0b51f",
   "metadata": {},
   "source": [
    "# Serializer"
   ]
  },
  {
   "cell_type": "markdown",
   "id": "195428ef",
   "metadata": {},
   "source": [
    "Serialization in Python refers to the process of converting a data structure or object into a format that can be easily stored, transmitted, or reconstructed. Common formats for serialization in Python include JSON, Pickle, and YAML."
   ]
  },
  {
   "cell_type": "markdown",
   "id": "fcbf9e9b",
   "metadata": {},
   "source": [
    "JSON (JavaScript Object Notation):\n",
    "\n",
    "Module: json"
   ]
  },
  {
   "cell_type": "code",
   "execution_count": 12,
   "id": "10980591",
   "metadata": {},
   "outputs": [
    {
     "name": "stdout",
     "output_type": "stream",
     "text": [
      "{\"name\": \"John\", \"age\": 30, \"city\": \"New York\"}\n"
     ]
    }
   ],
   "source": [
    "import json\n",
    "\n",
    "data = {\n",
    "    \"name\": \"John\",\n",
    "    \"age\": 30,\n",
    "    \"city\": \"New York\"\n",
    "}\n",
    "\n",
    "# Serialize to JSON\n",
    "json_data = json.dumps(data)\n",
    "print(json_data)\n",
    "# Deserialize from JSON\n",
    "parsed_data = json.loads(json_data)"
   ]
  },
  {
   "cell_type": "code",
   "execution_count": 13,
   "id": "f72aced1",
   "metadata": {},
   "outputs": [
    {
     "data": {
      "text/plain": [
       "{'name': 'John', 'age': 30, 'city': 'New York'}"
      ]
     },
     "execution_count": 13,
     "metadata": {},
     "output_type": "execute_result"
    }
   ],
   "source": [
    "parsed_data"
   ]
  },
  {
   "cell_type": "markdown",
   "id": "180e78e0",
   "metadata": {},
   "source": [
    "Pickle:\n",
    "\n",
    "Module: pickle"
   ]
  },
  {
   "cell_type": "code",
   "execution_count": 11,
   "id": "a9431432",
   "metadata": {},
   "outputs": [
    {
     "name": "stdout",
     "output_type": "stream",
     "text": [
      "b'\\x80\\x04\\x95-\\x00\\x00\\x00\\x00\\x00\\x00\\x00}\\x94(\\x8c\\x04name\\x94\\x8c\\x04John\\x94\\x8c\\x03age\\x94K\\x1e\\x8c\\x04city\\x94\\x8c\\x08New York\\x94u.'\n"
     ]
    },
    {
     "data": {
      "text/plain": [
       "{'name': 'John', 'age': 30, 'city': 'New York'}"
      ]
     },
     "execution_count": 11,
     "metadata": {},
     "output_type": "execute_result"
    }
   ],
   "source": [
    "import pickle\n",
    "\n",
    "data = {\n",
    "    \"name\": \"John\",\n",
    "    \"age\": 30,\n",
    "    \"city\": \"New York\"\n",
    "}\n",
    "\n",
    "# Serialize to Pickle format\n",
    "pickle_data = pickle.dumps(data)\n",
    "\n",
    "print(pickle_data)\n",
    "\n",
    "\n",
    "# Deserialize from Pickle format\n",
    "parsed_data = pickle.loads(pickle_data)\n",
    "parsed_data"
   ]
  },
  {
   "cell_type": "markdown",
   "id": "850ac5c0",
   "metadata": {},
   "source": [
    "YAML (YAML Ain't Markup Language):\n",
    "\n",
    "Module: yaml (PyYAML library is commonly used)\n",
    "\n",
    "Installation: pip install PyYAML"
   ]
  },
  {
   "cell_type": "code",
   "execution_count": 17,
   "id": "36239314",
   "metadata": {},
   "outputs": [
    {
     "name": "stdout",
     "output_type": "stream",
     "text": [
      "age: 30\n",
      "city: New York\n",
      "name: John\n",
      "\n"
     ]
    },
    {
     "data": {
      "text/plain": [
       "{'age': 30, 'city': 'New York', 'name': 'John'}"
      ]
     },
     "execution_count": 17,
     "metadata": {},
     "output_type": "execute_result"
    }
   ],
   "source": [
    "import yaml\n",
    "\n",
    "data = {\n",
    "    \"name\": \"John\",\n",
    "    \"age\": 30,\n",
    "    \"city\": \"New York\"\n",
    "}\n",
    "\n",
    "# Serialize to YAML\n",
    "yaml_data = yaml.dump(data, default_flow_style=False)\n",
    "print(yaml_data)\n",
    "# Deserialize from YAML\n",
    "parsed_data = yaml.load(yaml_data, Loader=yaml.FullLoader)\n",
    "parsed_data"
   ]
  },
  {
   "cell_type": "code",
   "execution_count": null,
   "id": "e45d000d",
   "metadata": {},
   "outputs": [],
   "source": []
  }
 ],
 "metadata": {
  "kernelspec": {
   "display_name": "Python 3 (ipykernel)",
   "language": "python",
   "name": "python3"
  },
  "language_info": {
   "codemirror_mode": {
    "name": "ipython",
    "version": 3
   },
   "file_extension": ".py",
   "mimetype": "text/x-python",
   "name": "python",
   "nbconvert_exporter": "python",
   "pygments_lexer": "ipython3",
   "version": "3.8.10"
  }
 },
 "nbformat": 4,
 "nbformat_minor": 5
}
