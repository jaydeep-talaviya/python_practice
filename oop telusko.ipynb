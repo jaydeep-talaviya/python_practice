{
 "cells": [
  {
   "cell_type": "markdown",
   "metadata": {},
   "source": [
    "oop introduction \\\n",
    "class and object in py\\\n",
    "__init__ method in py \\\n",
    "contructor ,self and comparing object in python\\\n",
    "Types of variable in py\\\n",
    "types of method in py\\\n",
    "inner class in py\\\n",
    "inheritance in py\\\n",
    "constructor in inheritance py\\\n",
    "introduction to polymorphism in py\\\n",
    "duck typing in py\\\n",
    "operator overloading in py\\\n",
    "method overloading and method overriding in py\\\n"
   ]
  },
  {
   "cell_type": "code",
   "execution_count": null,
   "metadata": {},
   "outputs": [],
   "source": []
  }
 ],
 "metadata": {
  "kernelspec": {
   "display_name": "Python 3 (ipykernel)",
   "language": "python",
   "name": "python3"
  },
  "language_info": {
   "codemirror_mode": {
    "name": "ipython",
    "version": 3
   },
   "file_extension": ".py",
   "mimetype": "text/x-python",
   "name": "python",
   "nbconvert_exporter": "python",
   "pygments_lexer": "ipython3",
   "version": "3.8.10"
  }
 },
 "nbformat": 4,
 "nbformat_minor": 4
}
