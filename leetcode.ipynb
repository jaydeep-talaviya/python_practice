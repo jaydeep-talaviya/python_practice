{
 "cells": [
  {
   "cell_type": "code",
   "execution_count": 107,
   "metadata": {},
   "outputs": [
    {
     "name": "stdout",
     "output_type": "stream",
     "text": [
      ">>>> [1, 0, 0] [2, 3, 0, 4, 5]\n",
      "[1, 0, 0, 2, 3, 0, 4, 2, 3, 0, 4, 5, 0]\n",
      ">>>> [1, 0, 0, 0] [2, 3, 0, 4, 2, 3, 0, 4]\n",
      "[1, 0, 0, 0, 2, 3, 0, 4, 2, 3, 0, 2, 3, 0, 4, 2, 3, 0, 4, 5, 0]\n",
      ">>>> [1, 0, 0, 0, 0] [2, 3, 0, 4, 2, 3, 0, 2, 3, 0, 4, 2, 3, 0]\n",
      "[1, 0, 0, 0, 0, 2, 3, 0, 4, 2, 3, 0, 2, 3, 0, 4, 2, 3, 2, 3, 0, 4, 2, 3, 0, 2, 3, 0, 4, 2, 3, 0, 4, 5, 0]\n",
      ">>>> [1, 0, 0, 0, 0, 0] [2, 3, 0, 4, 2, 3, 0, 2, 3, 0, 4, 2, 3, 2, 3, 0, 4, 2, 3, 0, 2, 3, 0, 4, 2, 3]\n",
      "[1, 0, 0, 0, 0, 0, 2, 3, 0, 4, 2, 3, 0, 2, 3, 0, 4, 2, 3, 2, 3, 0, 4, 2, 3, 0, 2, 3, 0, 4, 2, 2, 3, 0, 4, 2, 3, 0, 2, 3, 0, 4, 2, 3, 2, 3, 0, 4, 2, 3, 0, 2, 3, 0, 4, 2, 3, 0, 4, 5, 0]\n",
      ">>>> [1, 0, 0, 0, 0, 0, 0] [2, 3, 0, 4, 2, 3, 0, 2, 3, 0, 4, 2, 3, 2, 3, 0, 4, 2, 3, 0, 2, 3, 0, 4, 2, 2, 3, 0, 4, 2, 3, 0, 2, 3, 0, 4, 2, 3, 2, 3, 0, 4, 2, 3, 0, 2, 3, 0, 4, 2]\n",
      "[1, 0, 0, 0, 0, 0, 0, 2, 3, 0, 4, 2, 3, 0, 2, 3, 0, 4, 2, 3, 2, 3, 0, 4, 2, 3, 0, 2, 3, 0, 4, 2, 2, 3, 0, 4, 2, 3, 0, 2, 3, 0, 4, 2, 3, 2, 3, 0, 4, 2, 3, 0, 2, 3, 0, 4, 2, 3, 0, 4, 2, 3, 0, 2, 3, 0, 4, 2, 3, 2, 3, 0, 4, 2, 3, 0, 2, 3, 0, 4, 2, 2, 3, 0, 4, 2, 3, 0, 2, 3, 0, 4, 2, 3, 2, 3, 0, 4, 2, 3, 0, 2, 3, 0, 4, 2, 3, 0, 4, 5, 0]\n",
      ">>>> [1, 0, 0, 0, 0, 0, 0, 0] [2, 3, 0, 4, 2, 3, 0, 2, 3, 0, 4, 2, 3, 2, 3, 0, 4, 2, 3, 0, 2, 3, 0, 4, 2, 2, 3, 0, 4, 2, 3, 0, 2, 3, 0, 4, 2, 3, 2, 3, 0, 4, 2, 3, 0, 2, 3, 0, 4, 2, 3, 0, 4, 2, 3, 0, 2, 3, 0, 4, 2, 3, 2, 3, 0, 4, 2, 3, 0, 2, 3, 0, 4, 2, 2, 3, 0, 4, 2, 3, 0, 2, 3, 0, 4, 2, 3, 2, 3, 0, 4, 2, 3, 0, 2, 3, 0, 4]\n",
      "[1, 0, 0, 0, 0, 0, 0, 0, 2, 3, 0, 4, 2, 3, 0, 2, 3, 0, 4, 2, 3, 2, 3, 0, 4, 2, 3, 0, 2, 3, 0, 4, 2, 2, 3, 0, 4, 2, 3, 0, 2, 3, 0, 4, 2, 3, 2, 3, 0, 4, 2, 3, 0, 2, 3, 0, 4, 2, 3, 0, 4, 2, 3, 0, 2, 3, 0, 4, 2, 3, 2, 3, 0, 4, 2, 3, 0, 2, 3, 0, 4, 2, 2, 3, 0, 4, 2, 3, 0, 2, 3, 0, 4, 2, 3, 2, 3, 0, 4, 2, 3, 0, 2, 3, 0, 2, 3, 0, 4, 2, 3, 0, 2, 3, 0, 4, 2, 3, 2, 3, 0, 4, 2, 3, 0, 2, 3, 0, 4, 2, 2, 3, 0, 4, 2, 3, 0, 2, 3, 0, 4, 2, 3, 2, 3, 0, 4, 2, 3, 0, 2, 3, 0, 4, 2, 3, 0, 4, 2, 3, 0, 2, 3, 0, 4, 2, 3, 2, 3, 0, 4, 2, 3, 0, 2, 3, 0, 4, 2, 2, 3, 0, 4, 2, 3, 0, 2, 3, 0, 4, 2, 3, 2, 3, 0, 4, 2, 3, 0, 2, 3, 0, 4, 2, 3, 0, 4, 5, 0]\n"
     ]
    }
   ],
   "source": [
    "from typing import List\n",
    "\n",
    "class Solution:\n",
    "    def duplicateZeros(self, arr: List[int]) -> None:\n",
    "        \"\"\"\n",
    "        Do not return anything, modify arr in-place instead.\n",
    "        \"\"\"\n",
    "        length=len(arr)\n",
    "        for i in range(0,length-1):\n",
    "#             print(arr)\n",
    "#             print(arr[i],arr[i+1])\n",
    "            if arr[i] == 0:\n",
    "                print(\">>>>\",arr[:i+1]+[0],arr[i+1:len(arr[i+1:])+1])\n",
    "                arr[:i+1]+=[0]+arr[i+1:len(arr[i+1:])]\n",
    "                print(arr)\n",
    "#                 for j in range(i+1,len(arr[i+1:])+1):\n",
    "#                     print(arr[j],arr[j+1])\n",
    "#                     arr[j+1]=arr[j]\n",
    "#                 arr[i+1] = 0\n",
    "#             print(arr,\">>><<<\")\n",
    "#             arr.insert(i+1,0)\n",
    "#             for j in range(i+1+1,arr[i])\n",
    "          \n",
    "        \n",
    "solution = Solution()\n",
    "solution.duplicateZeros([1,0,2,3,0,4,5,0])"
   ]
  },
  {
   "cell_type": "code",
   "execution_count": 52,
   "metadata": {},
   "outputs": [
    {
     "name": "stdout",
     "output_type": "stream",
     "text": [
      "[2, 2, 3]\n",
      "[2, 3, 3]\n"
     ]
    }
   ],
   "source": [
    "a=[1,2,3]\n",
    "length=len(a)\n",
    "for i in range(0,length-1):\n",
    "#     print(i,val)\n",
    "    a[i]=a[i+1]\n",
    "    print(a)\n",
    "#     a.insert(i,val)"
   ]
  },
  {
   "cell_type": "code",
   "execution_count": 1,
   "metadata": {},
   "outputs": [],
   "source": [
    "# Input: nums1 = [1,2,3,0,0,0], m = 3, nums2 = [2,5,6], n = 3\n",
    "# Output: [1,2,2,3,5,6]\n",
    "# Explanation: The arrays we are merging are [1,2,3] and [2,5,6].\n",
    "# The result of the merge is [1,2,2,3,5,6] with the underlined elements coming from nums1."
   ]
  },
  {
   "cell_type": "code",
   "execution_count": 31,
   "metadata": {},
   "outputs": [],
   "source": [
    "num1 = [1,2,3,0,0,0]\n",
    "num2 = [2,5,6]\n",
    "m=3\n",
    "n=3"
   ]
  },
  {
   "cell_type": "code",
   "execution_count": 32,
   "metadata": {},
   "outputs": [],
   "source": [
    "num1=num1[0:m]+num2[0:n]"
   ]
  },
  {
   "cell_type": "code",
   "execution_count": 33,
   "metadata": {},
   "outputs": [],
   "source": [
    "# num1.sort()"
   ]
  },
  {
   "cell_type": "code",
   "execution_count": 35,
   "metadata": {},
   "outputs": [
    {
     "data": {
      "text/plain": [
       "[1, 2, 2, 3, 5, 6]"
      ]
     },
     "execution_count": 35,
     "metadata": {},
     "output_type": "execute_result"
    }
   ],
   "source": [
    "sorted(num1)"
   ]
  },
  {
   "cell_type": "code",
   "execution_count": 13,
   "metadata": {},
   "outputs": [],
   "source": [
    "nums1 = [1]\n",
    "m = 1\n",
    "nums2 = []\n",
    "n = 0"
   ]
  },
  {
   "cell_type": "code",
   "execution_count": 14,
   "metadata": {},
   "outputs": [
    {
     "data": {
      "text/plain": [
       "[1]"
      ]
     },
     "execution_count": 14,
     "metadata": {},
     "output_type": "execute_result"
    }
   ],
   "source": [
    "nums1[0:m]+nums2[0:n]"
   ]
  },
  {
   "cell_type": "code",
   "execution_count": 11,
   "metadata": {},
   "outputs": [],
   "source": [
    "nums1 = [0]\n",
    "m = 0\n",
    "nums2 = [1]\n",
    "n = 1"
   ]
  },
  {
   "cell_type": "code",
   "execution_count": 15,
   "metadata": {},
   "outputs": [],
   "source": [
    "nums1=nums1[0:m]+nums2[0:n]"
   ]
  },
  {
   "cell_type": "code",
   "execution_count": 18,
   "metadata": {},
   "outputs": [],
   "source": [
    "nums1.sort()"
   ]
  },
  {
   "cell_type": "code",
   "execution_count": null,
   "metadata": {},
   "outputs": [],
   "source": []
  }
 ],
 "metadata": {
  "kernelspec": {
   "display_name": "Python 3",
   "language": "python",
   "name": "python3"
  },
  "language_info": {
   "codemirror_mode": {
    "name": "ipython",
    "version": 3
   },
   "file_extension": ".py",
   "mimetype": "text/x-python",
   "name": "python",
   "nbconvert_exporter": "python",
   "pygments_lexer": "ipython3",
   "version": "3.8.10"
  }
 },
 "nbformat": 4,
 "nbformat_minor": 4
}
