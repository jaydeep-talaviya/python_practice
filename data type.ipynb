{
 "cells": [
  {
   "cell_type": "markdown",
   "id": "08e1d3a0",
   "metadata": {},
   "source": [
    "# Data type "
   ]
  },
  {
   "cell_type": "markdown",
   "id": "ca2e3a51",
   "metadata": {},
   "source": [
    " represents the type of data stored into a variable or memory"
   ]
  },
  {
   "cell_type": "markdown",
   "id": "6df42054",
   "metadata": {},
   "source": [
    "### Numeric\n",
    "#### Integer\n",
    "#### Float\n",
    "#### Complex\n",
    "### dictionary\n",
    "### Boolean\n",
    "### set\n",
    "### Sequance Type\n",
    "#### List\n",
    "#### tuple\n",
    "#### string"
   ]
  },
  {
   "cell_type": "code",
   "execution_count": null,
   "id": "9e6da613",
   "metadata": {},
   "outputs": [],
   "source": []
  }
 ],
 "metadata": {
  "kernelspec": {
   "display_name": "Python 3 (ipykernel)",
   "language": "python",
   "name": "python3"
  },
  "language_info": {
   "codemirror_mode": {
    "name": "ipython",
    "version": 3
   },
   "file_extension": ".py",
   "mimetype": "text/x-python",
   "name": "python",
   "nbconvert_exporter": "python",
   "pygments_lexer": "ipython3",
   "version": "3.8.10"
  }
 },
 "nbformat": 4,
 "nbformat_minor": 5
}
