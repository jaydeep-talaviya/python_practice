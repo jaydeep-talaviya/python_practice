{
 "cells": [
  {
   "cell_type": "markdown",
   "metadata": {},
   "source": [
    "# minimal class in python"
   ]
  },
  {
   "cell_type": "code",
   "execution_count": 1,
   "metadata": {},
   "outputs": [
    {
     "name": "stdout",
     "output_type": "stream",
     "text": [
      "True\n",
      "False\n"
     ]
    }
   ],
   "source": [
    "class Robot:\n",
    "    pass\n",
    "if __name__==\"__main__\":\n",
    "    x=Robot()\n",
    "    y=Robot()\n",
    "    y2=y\n",
    "    print(y==y2)\n",
    "    print(y==x)"
   ]
  },
  {
   "cell_type": "markdown",
   "metadata": {},
   "source": [
    "explaination\n",
    "\n",
    "We have created two different robots x and y in our example. Besides this, we have created a reference y2 to y, i.e. y2 is an alias name for y."
   ]
  },
  {
   "cell_type": "markdown",
   "metadata": {},
   "source": [
    "# Attributes "
   ]
  },
  {
   "cell_type": "code",
   "execution_count": 2,
   "metadata": {},
   "outputs": [],
   "source": [
    "class Robot:\n",
    "    pass\n",
    "\n",
    "x=Robot()\n",
    "y=Robot()\n",
    "x.name=\"robot1\"\n",
    "x.built_by=\"jay\"\n",
    "y.name=\"robot2\"\n",
    "y.built_by=\"hiren\""
   ]
  },
  {
   "cell_type": "code",
   "execution_count": 3,
   "metadata": {},
   "outputs": [
    {
     "name": "stdout",
     "output_type": "stream",
     "text": [
      "robot1 robot2\n"
     ]
    }
   ],
   "source": [
    "print(x.name,y.name)"
   ]
  },
  {
   "cell_type": "code",
   "execution_count": 4,
   "metadata": {},
   "outputs": [
    {
     "data": {
      "text/plain": [
       "{'name': 'robot1', 'built_by': 'jay'}"
      ]
     },
     "execution_count": 4,
     "metadata": {},
     "output_type": "execute_result"
    }
   ],
   "source": [
    "x.__dict__"
   ]
  },
  {
   "cell_type": "code",
   "execution_count": 5,
   "metadata": {},
   "outputs": [
    {
     "data": {
      "text/plain": [
       "{'name': 'robot2', 'built_by': 'hiren'}"
      ]
     },
     "execution_count": 5,
     "metadata": {},
     "output_type": "execute_result"
    }
   ],
   "source": [
    "y.__dict__"
   ]
  },
  {
   "cell_type": "markdown",
   "metadata": {},
   "source": [
    "As we have said before: This is not the way to properly create instance attributes. We introduced this example, because we think that it may help to make the following explanations easier to understand.\n",
    "\n",
    "If you want to know, what's happening internally: The instances possess dictionaries __dict__, which they use to store their attributes and their corresponding values:"
   ]
  },
  {
   "cell_type": "code",
   "execution_count": 6,
   "metadata": {},
   "outputs": [],
   "source": [
    "class Robot:\n",
    "    pass"
   ]
  },
  {
   "cell_type": "code",
   "execution_count": 7,
   "metadata": {},
   "outputs": [
    {
     "name": "stdout",
     "output_type": "stream",
     "text": [
      "jay\n"
     ]
    }
   ],
   "source": [
    "x=Robot()\n",
    "Robot.brand=\"jay\"\n",
    "print(x.brand)"
   ]
  },
  {
   "cell_type": "code",
   "execution_count": 8,
   "metadata": {},
   "outputs": [
    {
     "name": "stdout",
     "output_type": "stream",
     "text": [
      "jay changed jay\n"
     ]
    }
   ],
   "source": [
    "x.brand=\"changed jay\"\n",
    "print(Robot.brand,x.brand)"
   ]
  },
  {
   "cell_type": "code",
   "execution_count": 9,
   "metadata": {},
   "outputs": [],
   "source": [
    "def f1(x):\n",
    "    return 41"
   ]
  },
  {
   "cell_type": "code",
   "execution_count": 10,
   "metadata": {},
   "outputs": [],
   "source": [
    "f1.x=42"
   ]
  },
  {
   "cell_type": "code",
   "execution_count": 11,
   "metadata": {},
   "outputs": [
    {
     "name": "stdout",
     "output_type": "stream",
     "text": [
      "42\n"
     ]
    }
   ],
   "source": [
    "print(f1.x)"
   ]
  },
  {
   "cell_type": "code",
   "execution_count": 12,
   "metadata": {},
   "outputs": [
    {
     "data": {
      "text/plain": [
       "41"
      ]
     },
     "execution_count": 12,
     "metadata": {},
     "output_type": "execute_result"
    }
   ],
   "source": [
    "f1(42)"
   ]
  },
  {
   "cell_type": "code",
   "execution_count": 13,
   "metadata": {},
   "outputs": [],
   "source": [
    "def h1(obj):\n",
    "    print(\"hi i am \"+obj.name+\"!\")"
   ]
  },
  {
   "cell_type": "code",
   "execution_count": 14,
   "metadata": {},
   "outputs": [
    {
     "name": "stdout",
     "output_type": "stream",
     "text": [
      "hi i am jay!\n"
     ]
    }
   ],
   "source": [
    "class Robot:\n",
    "    pass\n",
    "\n",
    "x.name=\"jay\"\n",
    "h1(x)"
   ]
  },
  {
   "cell_type": "markdown",
   "metadata": {},
   "source": [
    "We will now bind the function „hi“ to a class attribute „say_hi“!"
   ]
  },
  {
   "cell_type": "code",
   "execution_count": 15,
   "metadata": {},
   "outputs": [],
   "source": [
    "def my_func(obj):\n",
    "    print(\"this is class\"+obj.name)"
   ]
  },
  {
   "cell_type": "code",
   "execution_count": 16,
   "metadata": {},
   "outputs": [],
   "source": [
    "class Robot:\n",
    "    say_hi=my_func\n",
    "    "
   ]
  },
  {
   "cell_type": "code",
   "execution_count": 17,
   "metadata": {},
   "outputs": [
    {
     "name": "stdout",
     "output_type": "stream",
     "text": [
      "this is classjay\n"
     ]
    }
   ],
   "source": [
    "x=Robot()\n",
    "x.name=\"jay\"\n",
    "Robot.say_hi(x)"
   ]
  },
  {
   "cell_type": "code",
   "execution_count": 18,
   "metadata": {},
   "outputs": [],
   "source": [
    "#init"
   ]
  },
  {
   "cell_type": "code",
   "execution_count": 5,
   "metadata": {},
   "outputs": [],
   "source": [
    "class Robot:\n",
    "    def __init__(self,name=None):\n",
    "        self.name=name\n",
    "    def user(self):\n",
    "        if self.name:\n",
    "            print(\"this is \"+self.name)\n",
    "        else:\n",
    "            print(\"user not exist\")"
   ]
  },
  {
   "cell_type": "code",
   "execution_count": 6,
   "metadata": {},
   "outputs": [
    {
     "name": "stdout",
     "output_type": "stream",
     "text": [
      "user not exist\n"
     ]
    }
   ],
   "source": [
    "a=Robot()\n",
    "a.user()"
   ]
  },
  {
   "cell_type": "code",
   "execution_count": 7,
   "metadata": {},
   "outputs": [
    {
     "name": "stdout",
     "output_type": "stream",
     "text": [
      "this is jay\n"
     ]
    }
   ],
   "source": [
    "b=Robot(\"jay\")\n",
    "b.user()"
   ]
  },
  {
   "cell_type": "code",
   "execution_count": 18,
   "metadata": {},
   "outputs": [],
   "source": [
    "class Robot:\n",
    "    def __init__(self,age=None):\n",
    "        self.age=age\n",
    "    def userage(self):\n",
    "        if self.age:\n",
    "            print(\"current age:\",self.age)\n",
    "        else:\n",
    "            print(\"you have not difinded\")\n",
    "    def set_name(self,age):\n",
    "        self.age=age\n",
    "    def get_name(self):\n",
    "        return self.age"
   ]
  },
  {
   "cell_type": "code",
   "execution_count": 19,
   "metadata": {},
   "outputs": [
    {
     "name": "stdout",
     "output_type": "stream",
     "text": [
      "you have not difinded\n"
     ]
    }
   ],
   "source": [
    "x=Robot()\n",
    "x.userage()"
   ]
  },
  {
   "cell_type": "code",
   "execution_count": 20,
   "metadata": {},
   "outputs": [
    {
     "name": "stdout",
     "output_type": "stream",
     "text": [
      "current age: 18\n"
     ]
    }
   ],
   "source": [
    "y=Robot(18)\n",
    "y.userage()"
   ]
  },
  {
   "cell_type": "code",
   "execution_count": 17,
   "metadata": {},
   "outputs": [
    {
     "data": {
      "text/plain": [
       "10"
      ]
     },
     "execution_count": 17,
     "metadata": {},
     "output_type": "execute_result"
    }
   ],
   "source": [
    "x.set_name(10)\n",
    "x.get_name()"
   ]
  },
  {
   "cell_type": "code",
   "execution_count": 25,
   "metadata": {},
   "outputs": [
    {
     "data": {
      "text/plain": [
       "11"
      ]
     },
     "execution_count": 25,
     "metadata": {},
     "output_type": "execute_result"
    }
   ],
   "source": [
    "y.set_name(11)\n",
    "y.get_name()"
   ]
  },
  {
   "cell_type": "code",
   "execution_count": 26,
   "metadata": {},
   "outputs": [],
   "source": [
    "#exercise"
   ]
  },
  {
   "cell_type": "code",
   "execution_count": 11,
   "metadata": {},
   "outputs": [],
   "source": [
    "class Robot:\n",
    "    def __init__(self,name=None,month=None):\n",
    "        self.name=name\n",
    "        self.month=month\n",
    "    def username(self):\n",
    "        if self.name and self.month:\n",
    "            print(\"your name is \",self.name,\" and your age \",self.month)\n",
    "        elif self.name:\n",
    "            print(\"you have only name: \",self.name)\n",
    "        elif self.month:\n",
    "            print(\"you have only month :\",self.month)\n",
    "        else:\n",
    "            print(\"sorry you have not any one\")\n",
    "    def set_name_month(self,name,month):\n",
    "        self.name=name\n",
    "        self.month=month\n",
    "    def get_name_month(self):\n",
    "        return \"your updated age and name\"+str(self.name)+str(self.month)"
   ]
  },
  {
   "cell_type": "code",
   "execution_count": 13,
   "metadata": {},
   "outputs": [
    {
     "name": "stdout",
     "output_type": "stream",
     "text": [
      "sorry you have not any one\n"
     ]
    },
    {
     "data": {
      "text/plain": [
       "'your updated age and namejay10'"
      ]
     },
     "execution_count": 13,
     "metadata": {},
     "output_type": "execute_result"
    }
   ],
   "source": [
    "x=Robot()\n",
    "x.username()\n",
    "x.set_name_month(\"jay\",10)\n",
    "x.get_name_month()"
   ]
  },
  {
   "cell_type": "code",
   "execution_count": 14,
   "metadata": {},
   "outputs": [
    {
     "name": "stdout",
     "output_type": "stream",
     "text": [
      "your name is  jay  and your age  10\n"
     ]
    }
   ],
   "source": [
    "y=Robot(\"jay\",10)\n",
    "y.username()"
   ]
  },
  {
   "cell_type": "code",
   "execution_count": 15,
   "metadata": {},
   "outputs": [
    {
     "data": {
      "text/plain": [
       "'your updated age and namejaydeep10'"
      ]
     },
     "execution_count": 15,
     "metadata": {},
     "output_type": "execute_result"
    }
   ],
   "source": [
    "y.set_name_month(\"jaydeep\",10)\n",
    "y.get_name_month()"
   ]
  },
  {
   "cell_type": "code",
   "execution_count": 31,
   "metadata": {},
   "outputs": [],
   "source": [
    "#________________________________________________________________"
   ]
  },
  {
   "cell_type": "code",
   "execution_count": 32,
   "metadata": {},
   "outputs": [],
   "source": [
    "#class and objects"
   ]
  },
  {
   "cell_type": "code",
   "execution_count": 16,
   "metadata": {},
   "outputs": [],
   "source": [
    "class Computer:\n",
    "    def config(self):\n",
    "        print(\"i5, 16gb ,1Tb\")"
   ]
  },
  {
   "cell_type": "code",
   "execution_count": 17,
   "metadata": {},
   "outputs": [
    {
     "name": "stdout",
     "output_type": "stream",
     "text": [
      "<class '__main__.Computer'>\n"
     ]
    }
   ],
   "source": [
    "comp1=Computer()\n",
    "print(type(comp1))"
   ]
  },
  {
   "cell_type": "code",
   "execution_count": 18,
   "metadata": {},
   "outputs": [
    {
     "name": "stdout",
     "output_type": "stream",
     "text": [
      "i5, 16gb ,1Tb\n"
     ]
    }
   ],
   "source": [
    "comp1.config()"
   ]
  },
  {
   "cell_type": "code",
   "execution_count": 19,
   "metadata": {},
   "outputs": [
    {
     "name": "stdout",
     "output_type": "stream",
     "text": [
      "<bound method Computer.config of <__main__.Computer object at 0x7fe9942fda00>>\n",
      "<class '__main__.Computer'>\n",
      "i5,16 gb, 1TB\n",
      "None\n"
     ]
    }
   ],
   "source": [
    "class Computer:         #class\n",
    "    def config(self):\n",
    "        print(\"i5,16 gb, 1TB\")\n",
    "comp1=Computer()# comp1 is object and Computer() is constructor\n",
    "print(comp1.config)\n",
    "print(type(comp1))\n",
    "comp1=Computer()\n",
    "print(comp1.config())"
   ]
  },
  {
   "cell_type": "markdown",
   "metadata": {},
   "source": [
    "# init method"
   ]
  },
  {
   "cell_type": "code",
   "execution_count": 20,
   "metadata": {},
   "outputs": [],
   "source": [
    "class Computer:\n",
    "    def __init__(self):\n",
    "        print(\"this is init method\")\n",
    "    def config(self):\n",
    "        print(\"i5 16gb ,1TB\")"
   ]
  },
  {
   "cell_type": "code",
   "execution_count": 21,
   "metadata": {},
   "outputs": [
    {
     "name": "stdout",
     "output_type": "stream",
     "text": [
      "this is init method\n"
     ]
    }
   ],
   "source": [
    "a=Computer()"
   ]
  },
  {
   "cell_type": "code",
   "execution_count": 22,
   "metadata": {},
   "outputs": [
    {
     "name": "stdout",
     "output_type": "stream",
     "text": [
      "i5 16gb ,1TB\n"
     ]
    }
   ],
   "source": [
    "a.config()"
   ]
  },
  {
   "cell_type": "code",
   "execution_count": 23,
   "metadata": {},
   "outputs": [],
   "source": [
    "class Computer:\n",
    "    def __init__(self,cpu,ram):\n",
    "        self.cpu=cpu\n",
    "        self.ram=ram\n",
    "        \n",
    "    def config(self):\n",
    "        print(self.ram,self.cpu)\n",
    "        print(\"i5 16gb ,1TB\")"
   ]
  },
  {
   "cell_type": "code",
   "execution_count": 24,
   "metadata": {},
   "outputs": [],
   "source": [
    "a=Computer(\"intel\",\"8Gb\")"
   ]
  },
  {
   "cell_type": "code",
   "execution_count": 25,
   "metadata": {},
   "outputs": [
    {
     "name": "stdout",
     "output_type": "stream",
     "text": [
      "8Gb intel\n",
      "i5 16gb ,1TB\n"
     ]
    }
   ],
   "source": [
    "a.config()"
   ]
  },
  {
   "cell_type": "code",
   "execution_count": 26,
   "metadata": {},
   "outputs": [
    {
     "data": {
      "text/plain": [
       "140641190471760"
      ]
     },
     "execution_count": 26,
     "metadata": {},
     "output_type": "execute_result"
    }
   ],
   "source": [
    "id(a)"
   ]
  },
  {
   "cell_type": "code",
   "execution_count": 27,
   "metadata": {},
   "outputs": [],
   "source": [
    "b=a"
   ]
  },
  {
   "cell_type": "code",
   "execution_count": 28,
   "metadata": {},
   "outputs": [
    {
     "data": {
      "text/plain": [
       "140641190471760"
      ]
     },
     "execution_count": 28,
     "metadata": {},
     "output_type": "execute_result"
    }
   ],
   "source": [
    "id(b)"
   ]
  },
  {
   "cell_type": "code",
   "execution_count": 29,
   "metadata": {},
   "outputs": [],
   "source": [
    "#constructor ,self and comparing objects in py"
   ]
  },
  {
   "cell_type": "code",
   "execution_count": 30,
   "metadata": {},
   "outputs": [],
   "source": [
    "class Computer:\n",
    "    pass"
   ]
  },
  {
   "cell_type": "code",
   "execution_count": 31,
   "metadata": {},
   "outputs": [
    {
     "name": "stdout",
     "output_type": "stream",
     "text": [
      "140641190271392 140641190473392\n"
     ]
    }
   ],
   "source": [
    "c1=Computer()\n",
    "c2=Computer()\n",
    "print(id(c1),id(c2)) # each objects have their own memory \n",
    "# here, who decide to how much allocate memory for each obj is Constructor\n",
    "# and how much object should alocate memory is depend on object that have variables and method"
   ]
  },
  {
   "cell_type": "code",
   "execution_count": null,
   "metadata": {},
   "outputs": [],
   "source": []
  },
  {
   "cell_type": "code",
   "execution_count": 21,
   "metadata": {},
   "outputs": [],
   "source": [
    "class Computer:\n",
    "    def __init__(self):\n",
    "        self.name=\"jay\"\n",
    "        self.age=20\n",
    "        "
   ]
  },
  {
   "cell_type": "code",
   "execution_count": 31,
   "metadata": {},
   "outputs": [],
   "source": [
    "c1=Computer()"
   ]
  },
  {
   "cell_type": "code",
   "execution_count": 32,
   "metadata": {},
   "outputs": [],
   "source": [
    "c2=Computer()"
   ]
  },
  {
   "cell_type": "code",
   "execution_count": 33,
   "metadata": {},
   "outputs": [
    {
     "name": "stdout",
     "output_type": "stream",
     "text": [
      "140536780846320 140536780846320\n"
     ]
    }
   ],
   "source": [
    "print(id(c1.name),id(c2.name))"
   ]
  },
  {
   "cell_type": "code",
   "execution_count": 34,
   "metadata": {},
   "outputs": [],
   "source": [
    "c1.name=\"jignesh\""
   ]
  },
  {
   "cell_type": "code",
   "execution_count": 35,
   "metadata": {},
   "outputs": [
    {
     "name": "stdout",
     "output_type": "stream",
     "text": [
      "jignesh jay\n"
     ]
    }
   ],
   "source": [
    "print(c1.name,c2.name)"
   ]
  },
  {
   "cell_type": "code",
   "execution_count": 36,
   "metadata": {},
   "outputs": [
    {
     "name": "stdout",
     "output_type": "stream",
     "text": [
      "140536771424560 140536780846320\n"
     ]
    }
   ],
   "source": [
    "print(id(c1.name),id(c2.name))"
   ]
  },
  {
   "cell_type": "code",
   "execution_count": 37,
   "metadata": {},
   "outputs": [],
   "source": [
    "class Computer:\n",
    "    def __init__(self):\n",
    "        self.name=\"jay\"\n",
    "        self.age=20\n",
    "    def update(self):\n",
    "        self.age=30"
   ]
  },
  {
   "cell_type": "code",
   "execution_count": 38,
   "metadata": {},
   "outputs": [],
   "source": [
    "c1=Computer()\n",
    "c2=Computer()"
   ]
  },
  {
   "cell_type": "code",
   "execution_count": 39,
   "metadata": {},
   "outputs": [
    {
     "name": "stdout",
     "output_type": "stream",
     "text": [
      "20 20\n"
     ]
    }
   ],
   "source": [
    "print(c1.age,c2.age)"
   ]
  },
  {
   "cell_type": "code",
   "execution_count": 40,
   "metadata": {},
   "outputs": [
    {
     "name": "stdout",
     "output_type": "stream",
     "text": [
      "30 20\n"
     ]
    }
   ],
   "source": [
    "c1.update()\n",
    "print(c1.age,c2.age)"
   ]
  },
  {
   "cell_type": "code",
   "execution_count": 41,
   "metadata": {},
   "outputs": [],
   "source": [
    "#types of variables"
   ]
  },
  {
   "cell_type": "code",
   "execution_count": 45,
   "metadata": {},
   "outputs": [],
   "source": [
    "#Instance variable and class variable or called static variable"
   ]
  },
  {
   "cell_type": "code",
   "execution_count": 46,
   "metadata": {},
   "outputs": [],
   "source": [
    "class Car:\n",
    "    wheel=4\n",
    "    def __init__(self):\n",
    "        self.mil=10\n",
    "        self.com=\"bmw\"\n",
    "\n",
    "        \n",
    "c1=Car()\n",
    "c2=Car()\n"
   ]
  },
  {
   "cell_type": "code",
   "execution_count": 47,
   "metadata": {},
   "outputs": [
    {
     "name": "stdout",
     "output_type": "stream",
     "text": [
      "10 bmw 4\n"
     ]
    }
   ],
   "source": [
    "c1.mil\n",
    "c1.com\n",
    "print(c1.mil,c1.com,c1.wheel)\n"
   ]
  },
  {
   "cell_type": "code",
   "execution_count": 48,
   "metadata": {},
   "outputs": [
    {
     "name": "stdout",
     "output_type": "stream",
     "text": [
      "10 bmw 4\n"
     ]
    }
   ],
   "source": [
    "c2.mil\n",
    "c2.com\n",
    "print(c2.mil,c2.com,c2.wheel)"
   ]
  },
  {
   "cell_type": "code",
   "execution_count": 49,
   "metadata": {},
   "outputs": [],
   "source": [
    "Car.wheel=5"
   ]
  },
  {
   "cell_type": "code",
   "execution_count": 50,
   "metadata": {},
   "outputs": [
    {
     "name": "stdout",
     "output_type": "stream",
     "text": [
      "5 5\n"
     ]
    }
   ],
   "source": [
    "print(c1.wheel,c2.wheel)\n"
   ]
  },
  {
   "cell_type": "code",
   "execution_count": 51,
   "metadata": {},
   "outputs": [
    {
     "name": "stdout",
     "output_type": "stream",
     "text": [
      "4 5\n"
     ]
    }
   ],
   "source": [
    "c1.wheel=4\n",
    "print(c1.wheel,c2.wheel)"
   ]
  },
  {
   "cell_type": "code",
   "execution_count": 42,
   "metadata": {},
   "outputs": [],
   "source": [
    "#types of methods"
   ]
  },
  {
   "cell_type": "code",
   "execution_count": 43,
   "metadata": {},
   "outputs": [],
   "source": [
    "#method for behavior\n",
    "#three types of methods\n",
    "\n",
    "#1 instance method\n",
    "#2 class methods\n",
    "#3 static method"
   ]
  },
  {
   "cell_type": "code",
   "execution_count": 44,
   "metadata": {},
   "outputs": [],
   "source": [
    "# intance method\n",
    "#class method is used for communication with class variable\n",
    "class Student:\n",
    "    school=\"telusko\"\n",
    "    \n",
    "    def __init__(self,m1,m2,m3):\n",
    "        self.m1=m1\n",
    "        self.m2=m2\n",
    "        self.m3=m3\n",
    "    def avg(self): #this is instance method becouse we havr to call by s1(instance or obj) and s2\n",
    "        return (self.m1+self.m2+self.m3)/3"
   ]
  },
  {
   "cell_type": "code",
   "execution_count": 73,
   "metadata": {},
   "outputs": [
    {
     "name": "stdout",
     "output_type": "stream",
     "text": [
      "44.333333333333336 37.666666666666664\n"
     ]
    }
   ],
   "source": [
    "s1=Student(34,67,32)\n",
    "s2=Student(69,32,12)\n",
    "\n",
    "print(s1.avg(),s2.avg())# called by instance "
   ]
  },
  {
   "cell_type": "code",
   "execution_count": 74,
   "metadata": {},
   "outputs": [],
   "source": [
    " #class method\n",
    "\n",
    "#class method is used for communication with class variable\n",
    " "
   ]
  },
  {
   "cell_type": "code",
   "execution_count": 45,
   "metadata": {},
   "outputs": [],
   "source": [
    "class Student:\n",
    "    school=\"telusko\"\n",
    "        \n",
    "    def __init__(self,m1,m2,m3):\n",
    "        self.m1=m1\n",
    "        self.m2=m2\n",
    "        self.m3=m3\n",
    "    def avg(self):\n",
    "        return (self.m1+self.m2+self.m3)/3\n",
    "    @classmethod #use for class method \n",
    "    def info(self):\n",
    "        return self.school"
   ]
  },
  {
   "cell_type": "code",
   "execution_count": 71,
   "metadata": {},
   "outputs": [],
   "source": [
    "class Student:\n",
    "    school=\"telusko\"\n",
    "        \n",
    "    def __init__(self,m1,m2,m3):\n",
    "        self.m1=m1\n",
    "        self.m2=m2\n",
    "        self.m3=m3\n",
    "    def avg(self):\n",
    "        school=\"asdsd\"\n",
    "        return school\n",
    "    @classmethod #use for class method \n",
    "    def info(cls):\n",
    "        return cls.school\n",
    "    "
   ]
  },
  {
   "cell_type": "code",
   "execution_count": 72,
   "metadata": {},
   "outputs": [],
   "source": [
    "s1=Student(2,3,4)\n",
    "s2=Student(3,4,5)"
   ]
  },
  {
   "cell_type": "code",
   "execution_count": 73,
   "metadata": {},
   "outputs": [
    {
     "data": {
      "text/plain": [
       "'asdsd'"
      ]
     },
     "execution_count": 73,
     "metadata": {},
     "output_type": "execute_result"
    }
   ],
   "source": [
    "s1.avg()"
   ]
  },
  {
   "cell_type": "code",
   "execution_count": 74,
   "metadata": {},
   "outputs": [
    {
     "data": {
      "text/plain": [
       "'asdsd'"
      ]
     },
     "execution_count": 74,
     "metadata": {},
     "output_type": "execute_result"
    }
   ],
   "source": [
    "s2.avg()"
   ]
  },
  {
   "cell_type": "code",
   "execution_count": 75,
   "metadata": {},
   "outputs": [
    {
     "data": {
      "text/plain": [
       "'telusko'"
      ]
     },
     "execution_count": 75,
     "metadata": {},
     "output_type": "execute_result"
    }
   ],
   "source": [
    "s1.info() #called by instance"
   ]
  },
  {
   "cell_type": "code",
   "execution_count": 76,
   "metadata": {},
   "outputs": [
    {
     "data": {
      "text/plain": [
       "'telusko'"
      ]
     },
     "execution_count": 76,
     "metadata": {},
     "output_type": "execute_result"
    }
   ],
   "source": [
    "s2.info() #called by instance"
   ]
  },
  {
   "cell_type": "code",
   "execution_count": 77,
   "metadata": {},
   "outputs": [
    {
     "data": {
      "text/plain": [
       "'telusko'"
      ]
     },
     "execution_count": 77,
     "metadata": {},
     "output_type": "execute_result"
    }
   ],
   "source": [
    "Student.info() #class method called"
   ]
  },
  {
   "cell_type": "code",
   "execution_count": 78,
   "metadata": {},
   "outputs": [],
   "source": [
    "#static method\n"
   ]
  },
  {
   "cell_type": "code",
   "execution_count": 79,
   "metadata": {},
   "outputs": [],
   "source": [
    "class Student:\n",
    "    school=\"telusko\"\n",
    "        \n",
    "    def __init__(self,m1,m2,m3):\n",
    "        self.m1=m1\n",
    "        self.m2=m2\n",
    "        self.m3=m3\n",
    "    def avg(self):\n",
    "        return (self.m1+self.m2+self.m3)/3\n",
    "    @staticmethod #use for static method  \n",
    "    def info():\n",
    "        return \"this is student\"\n",
    "    #we dont have to pass anything in info like=>info(self)"
   ]
  },
  {
   "cell_type": "code",
   "execution_count": 28,
   "metadata": {},
   "outputs": [],
   "source": [
    "s1=Student(1,2,3)"
   ]
  },
  {
   "cell_type": "code",
   "execution_count": 29,
   "metadata": {},
   "outputs": [
    {
     "data": {
      "text/plain": [
       "2.0"
      ]
     },
     "execution_count": 29,
     "metadata": {},
     "output_type": "execute_result"
    }
   ],
   "source": [
    "s1.avg()"
   ]
  },
  {
   "cell_type": "code",
   "execution_count": 30,
   "metadata": {},
   "outputs": [
    {
     "data": {
      "text/plain": [
       "'this is student'"
      ]
     },
     "execution_count": 30,
     "metadata": {},
     "output_type": "execute_result"
    }
   ],
   "source": [
    "s1.info()"
   ]
  },
  {
   "cell_type": "code",
   "execution_count": 31,
   "metadata": {},
   "outputs": [],
   "source": [
    "#inner class"
   ]
  },
  {
   "cell_type": "code",
   "execution_count": 32,
   "metadata": {},
   "outputs": [],
   "source": [
    "class Student:\n",
    "    def __init__(self,name,rollno):\n",
    "        self.name=name\n",
    "        self.rollno=rollno\n",
    "    def show(self):\n",
    "        print(self.name,self.rollno)\n",
    "        \n",
    "        "
   ]
  },
  {
   "cell_type": "code",
   "execution_count": 33,
   "metadata": {},
   "outputs": [],
   "source": [
    "s1=Student(\"jay\",20)"
   ]
  },
  {
   "cell_type": "code",
   "execution_count": 34,
   "metadata": {},
   "outputs": [
    {
     "name": "stdout",
     "output_type": "stream",
     "text": [
      "jay 20\n"
     ]
    }
   ],
   "source": [
    "s1.show()"
   ]
  },
  {
   "cell_type": "code",
   "execution_count": 35,
   "metadata": {},
   "outputs": [],
   "source": [
    "class Student:\n",
    "    def __init__(self,name,rollno):\n",
    "        self.name=name\n",
    "        self.rollno=rollno\n",
    "        self.lap=self.Laptop()\n",
    "    \n",
    "    def show(self):\n",
    "        print(self.name,self.rollno)\n",
    "        \n",
    "    class Laptop:\n",
    "        def __init__(self):\n",
    "            self.brand=\"HP\"\n",
    "            self.cpu='i5'\n",
    "            self.ram=\"8Gb\"\n",
    "        def show(self):\n",
    "            print(self.brand,self.cpu,self.ram)"
   ]
  },
  {
   "cell_type": "code",
   "execution_count": 92,
   "metadata": {},
   "outputs": [],
   "source": [
    "s1=Student('jay',18)"
   ]
  },
  {
   "cell_type": "code",
   "execution_count": 93,
   "metadata": {},
   "outputs": [
    {
     "name": "stdout",
     "output_type": "stream",
     "text": [
      "jay 18\n"
     ]
    }
   ],
   "source": [
    "s1.show()"
   ]
  },
  {
   "cell_type": "code",
   "execution_count": 94,
   "metadata": {},
   "outputs": [
    {
     "data": {
      "text/plain": [
       "<__main__.Student.Laptop at 0x7fb53c2ca910>"
      ]
     },
     "execution_count": 94,
     "metadata": {},
     "output_type": "execute_result"
    }
   ],
   "source": [
    "s1.lap"
   ]
  },
  {
   "cell_type": "code",
   "execution_count": 95,
   "metadata": {},
   "outputs": [
    {
     "data": {
      "text/plain": [
       "'HP'"
      ]
     },
     "execution_count": 95,
     "metadata": {},
     "output_type": "execute_result"
    }
   ],
   "source": [
    "s1.lap.brand"
   ]
  },
  {
   "cell_type": "code",
   "execution_count": 96,
   "metadata": {},
   "outputs": [],
   "source": [
    "s1.lap.brand=\"dell\""
   ]
  },
  {
   "cell_type": "code",
   "execution_count": 97,
   "metadata": {},
   "outputs": [
    {
     "data": {
      "text/plain": [
       "'dell'"
      ]
     },
     "execution_count": 97,
     "metadata": {},
     "output_type": "execute_result"
    }
   ],
   "source": [
    "s1.lap.brand"
   ]
  },
  {
   "cell_type": "code",
   "execution_count": 98,
   "metadata": {},
   "outputs": [
    {
     "name": "stdout",
     "output_type": "stream",
     "text": [
      "dell i5 8Gb\n"
     ]
    }
   ],
   "source": [
    "s1.lap.show()"
   ]
  },
  {
   "cell_type": "code",
   "execution_count": 99,
   "metadata": {},
   "outputs": [],
   "source": [
    "# inheritance in class"
   ]
  },
  {
   "cell_type": "code",
   "execution_count": 84,
   "metadata": {},
   "outputs": [],
   "source": [
    "  class A:\n",
    "        def feature1(self):\n",
    "            print(\"feature 1  working\")\n",
    "        def feature2(self):\n",
    "            print(\"feature 2  working\")"
   ]
  },
  {
   "cell_type": "code",
   "execution_count": 85,
   "metadata": {},
   "outputs": [
    {
     "name": "stdout",
     "output_type": "stream",
     "text": [
      "feature 1  working\n"
     ]
    }
   ],
   "source": [
    "a1=A()\n",
    "a1.feature1()"
   ]
  },
  {
   "cell_type": "code",
   "execution_count": 86,
   "metadata": {},
   "outputs": [
    {
     "name": "stdout",
     "output_type": "stream",
     "text": [
      "feature 2  working\n"
     ]
    }
   ],
   "source": [
    "a1.feature2()"
   ]
  },
  {
   "cell_type": "code",
   "execution_count": 87,
   "metadata": {},
   "outputs": [],
   "source": [
    "  class B(A):\n",
    "        def feature3(self):\n",
    "            print(\"feature 3  working\")\n",
    "        def feature4(self):\n",
    "            print(\"feature 4  working\")"
   ]
  },
  {
   "cell_type": "code",
   "execution_count": 88,
   "metadata": {},
   "outputs": [],
   "source": [
    "b1=B()"
   ]
  },
  {
   "cell_type": "code",
   "execution_count": 89,
   "metadata": {},
   "outputs": [
    {
     "name": "stdout",
     "output_type": "stream",
     "text": [
      "feature 1  working\n"
     ]
    }
   ],
   "source": [
    "b1.feature1()"
   ]
  },
  {
   "cell_type": "code",
   "execution_count": 90,
   "metadata": {},
   "outputs": [
    {
     "name": "stdout",
     "output_type": "stream",
     "text": [
      "feature 2  working\n"
     ]
    }
   ],
   "source": [
    "b1.feature2()"
   ]
  },
  {
   "cell_type": "code",
   "execution_count": 91,
   "metadata": {},
   "outputs": [
    {
     "name": "stdout",
     "output_type": "stream",
     "text": [
      "feature 3  working\n"
     ]
    }
   ],
   "source": [
    "b1.feature3()"
   ]
  },
  {
   "cell_type": "code",
   "execution_count": 92,
   "metadata": {},
   "outputs": [
    {
     "name": "stdout",
     "output_type": "stream",
     "text": [
      "feature 4  working\n"
     ]
    }
   ],
   "source": [
    "b1.feature4()"
   ]
  },
  {
   "cell_type": "code",
   "execution_count": 93,
   "metadata": {},
   "outputs": [],
   "source": [
    "  class C(B):\n",
    "        def feature5(self):\n",
    "            print(\"feature 5  working\")"
   ]
  },
  {
   "cell_type": "code",
   "execution_count": 94,
   "metadata": {},
   "outputs": [],
   "source": [
    "c1=C()"
   ]
  },
  {
   "cell_type": "code",
   "execution_count": 111,
   "metadata": {},
   "outputs": [
    {
     "name": "stdout",
     "output_type": "stream",
     "text": [
      "feature 1  working\n"
     ]
    }
   ],
   "source": [
    "c1.feature1()"
   ]
  },
  {
   "cell_type": "code",
   "execution_count": 112,
   "metadata": {},
   "outputs": [],
   "source": [
    "#mutliple inherritance"
   ]
  },
  {
   "cell_type": "code",
   "execution_count": 113,
   "metadata": {},
   "outputs": [],
   "source": [
    "class A:\n",
    "    def feature1(self):\n",
    "        print(\"feature 1  working\")\n",
    "    def feature2(self):\n",
    "        print(\"feature 2  working\")\n",
    "class B():\n",
    "    def feature3(self):\n",
    "        print(\"feature 3  working\")\n",
    "    def feature4(self):\n",
    "        print(\"feature 4  working\")\n",
    "class C(A,B):\n",
    "    def feature6(self):\n",
    "        print(\"feature 6 working\")"
   ]
  },
  {
   "cell_type": "code",
   "execution_count": 114,
   "metadata": {},
   "outputs": [],
   "source": [
    "#contructor in inheritance"
   ]
  },
  {
   "cell_type": "code",
   "execution_count": 115,
   "metadata": {},
   "outputs": [
    {
     "name": "stdout",
     "output_type": "stream",
     "text": [
      "feature 1  working\n"
     ]
    }
   ],
   "source": [
    "c=C()\n",
    "c.feature1()"
   ]
  },
  {
   "cell_type": "code",
   "execution_count": null,
   "metadata": {},
   "outputs": [],
   "source": []
  },
  {
   "cell_type": "code",
   "execution_count": null,
   "metadata": {},
   "outputs": [],
   "source": []
  },
  {
   "cell_type": "code",
   "execution_count": 116,
   "metadata": {},
   "outputs": [],
   "source": [
    "# method Resolution order"
   ]
  },
  {
   "cell_type": "code",
   "execution_count": 117,
   "metadata": {},
   "outputs": [],
   "source": [
    "class A:\n",
    "    def __init__(self):\n",
    "        print(\"In A init\")\n",
    "    def feature1(self):\n",
    "        print(\"feature 1  working\")\n",
    "    def feature2(self):\n",
    "        print(\"feature 2  working\")\n",
    "class B(A):\n",
    "  \n",
    "    def feature3(self):\n",
    "        print(\"feature 3  working\")\n",
    "    def feature4(self):\n",
    "        print(\"feature 4  working\")\n"
   ]
  },
  {
   "cell_type": "code",
   "execution_count": 118,
   "metadata": {},
   "outputs": [
    {
     "name": "stdout",
     "output_type": "stream",
     "text": [
      "In A init\n"
     ]
    }
   ],
   "source": [
    "a1=B()"
   ]
  },
  {
   "cell_type": "code",
   "execution_count": 119,
   "metadata": {},
   "outputs": [],
   "source": [
    "class A:\n",
    "    def __init__(self):\n",
    "        print(\"In A init\")\n",
    "    def feature1(self):\n",
    "        print(\"feature 1  working\")\n",
    "    def feature2(self):\n",
    "        print(\"feature 2  working\")\n",
    "class B(A):\n",
    "    def __init__(self):\n",
    "        print(\"In B init\")\n",
    "    def feature3(self):\n",
    "        print(\"feature 3  working\")\n",
    "    def feature4(self):\n",
    "        print(\"feature 4  working\")\n"
   ]
  },
  {
   "cell_type": "code",
   "execution_count": 120,
   "metadata": {},
   "outputs": [
    {
     "name": "stdout",
     "output_type": "stream",
     "text": [
      "In B init\n"
     ]
    }
   ],
   "source": [
    "a1=B()"
   ]
  },
  {
   "cell_type": "code",
   "execution_count": 121,
   "metadata": {},
   "outputs": [],
   "source": [
    "class A:\n",
    "    def __init__(self):\n",
    "        print(\"In A init\")\n",
    "    def feature1(self):\n",
    "        print(\"feature 1  working\")\n",
    "    def feature2(self):\n",
    "        print(\"feature 2  working\")\n",
    "class B(A):\n",
    "    def __init__(self):\n",
    "        super().__init__()\n",
    "\n",
    "        print(\"In B init\")\n",
    "    def feature3(self):\n",
    "        print(\"feature 3  working\")\n",
    "    def feature4(self):\n",
    "        print(\"feature 4  working\")\n"
   ]
  },
  {
   "cell_type": "code",
   "execution_count": 122,
   "metadata": {},
   "outputs": [
    {
     "name": "stdout",
     "output_type": "stream",
     "text": [
      "In A init\n",
      "In B init\n"
     ]
    }
   ],
   "source": [
    "a1=B()"
   ]
  },
  {
   "cell_type": "code",
   "execution_count": 123,
   "metadata": {},
   "outputs": [],
   "source": [
    "class A:\n",
    "    def __init__(self):\n",
    "        print(\"In A init\")\n",
    "    def feature1(self):\n",
    "        print(\"feature 1  working\")\n",
    "    def feature2(self):\n",
    "        print(\"feature 2  working\")\n",
    "class B():\n",
    "    def __init__(self):\n",
    "        super().__init__()\n",
    "\n",
    "        print(\"In B init\")\n",
    "    def feature3(self):\n",
    "        print(\"feature 3  working\")\n",
    "    def feature4(self):\n",
    "        print(\"feature 4  working\")\n",
    "class C(A,B):\n",
    "    def __init__(self):\n",
    "        super().__init__()\n",
    "        print(\"in C init\")"
   ]
  },
  {
   "cell_type": "code",
   "execution_count": 124,
   "metadata": {},
   "outputs": [
    {
     "name": "stdout",
     "output_type": "stream",
     "text": [
      "In A init\n",
      "in C init\n"
     ]
    }
   ],
   "source": [
    "a1=C()"
   ]
  },
  {
   "cell_type": "code",
   "execution_count": 95,
   "metadata": {},
   "outputs": [],
   "source": [
    "#Abstract Class\n",
    "# python doesn't support abstract class directly\n",
    "# still if we want to use there is module called abc from there we can get Abstract Class\n",
    "# what is abstract class?\n",
    "# abstract class is that a class where we have a method but only declare we dont have any body(defination)\n",
    "# and also it have ABC Class, used to make abstract class and absratctmethod which is used to make abstract method\n",
    "# ex...\n",
    "from abc import ABC,abstractmethod\n",
    "\n",
    "class computer(ABC):# class with Abstractclass\n",
    "    @abstractmethod #make abstractmethod\n",
    "    def process():  # we declare method\n",
    "        pass        # but we dont have defination or body\n"
   ]
  },
  {
   "cell_type": "code",
   "execution_count": 96,
   "metadata": {},
   "outputs": [
    {
     "ename": "TypeError",
     "evalue": "Can't instantiate abstract class computer with abstract methods process",
     "output_type": "error",
     "traceback": [
      "\u001b[0;31m---------------------------------------------------------------------------\u001b[0m",
      "\u001b[0;31mTypeError\u001b[0m                                 Traceback (most recent call last)",
      "\u001b[0;32m<ipython-input-96-2c4b0e674cf2>\u001b[0m in \u001b[0;36m<module>\u001b[0;34m\u001b[0m\n\u001b[0;32m----> 1\u001b[0;31m \u001b[0mabc\u001b[0m\u001b[0;34m=\u001b[0m\u001b[0mcomputer\u001b[0m\u001b[0;34m(\u001b[0m\u001b[0;34m)\u001b[0m \u001b[0;31m#here we cant make object of abstract class\u001b[0m\u001b[0;34m\u001b[0m\u001b[0;34m\u001b[0m\u001b[0m\n\u001b[0m\u001b[1;32m      2\u001b[0m \u001b[0;34m\u001b[0m\u001b[0m\n\u001b[1;32m      3\u001b[0m \u001b[0;34m\u001b[0m\u001b[0m\n\u001b[1;32m      4\u001b[0m \u001b[0;31m# TypeError                                 Traceback (most recent call last)\u001b[0m\u001b[0;34m\u001b[0m\u001b[0;34m\u001b[0m\u001b[0;34m\u001b[0m\u001b[0m\n\u001b[1;32m      5\u001b[0m \u001b[0;31m# <ipython-input-15-23a24a2ca7e3> in <module>\u001b[0m\u001b[0;34m\u001b[0m\u001b[0;34m\u001b[0m\u001b[0;34m\u001b[0m\u001b[0m\n",
      "\u001b[0;31mTypeError\u001b[0m: Can't instantiate abstract class computer with abstract methods process"
     ]
    }
   ],
   "source": [
    "abc=computer() #here we cant make object of abstract class \n",
    "\n",
    "\n",
    "# TypeError                                 Traceback (most recent call last)\n",
    "# <ipython-input-15-23a24a2ca7e3> in <module>\n",
    "# ----> 1 abc=computer()\n",
    "\n",
    "# TypeError: Can't instantiate abstract class computer with abstract methods process"
   ]
  },
  {
   "cell_type": "code",
   "execution_count": 98,
   "metadata": {},
   "outputs": [],
   "source": [
    "#so to use that abstract class we need to use that method into another class and need to define \n",
    "# like below\n",
    "\n",
    "from abc import ABC,abstractmethod\n",
    "\n",
    "class computer(ABC):# class with Abstractclass\n",
    "    @abstractmethod #make abstractmethod\n",
    "    def process():  # we declare method\n",
    "        pass        # but we dont have defination or body\n",
    "\n",
    "class Laptop(computer):\n",
    "    def process(self):\n",
    "        print(\"this is running\")"
   ]
  },
  {
   "cell_type": "code",
   "execution_count": 99,
   "metadata": {},
   "outputs": [
    {
     "name": "stdout",
     "output_type": "stream",
     "text": [
      "this is running\n"
     ]
    }
   ],
   "source": [
    "lap=Laptop()\n",
    "lap.process()"
   ]
  },
  {
   "cell_type": "code",
   "execution_count": 36,
   "metadata": {},
   "outputs": [
    {
     "name": "stdout",
     "output_type": "stream",
     "text": [
      "MEOW!\n",
      "Woof\n"
     ]
    }
   ],
   "source": [
    "#polymorphism\n",
    "\n",
    "# what is polymorphism\n",
    "# this is a ability in which two different classes have same method\n",
    "\n",
    "# ex\n",
    "class Animal:\n",
    "    def __init__(self,name):\n",
    "        self.name=name\n",
    "    def talk(self):\n",
    "        pass\n",
    "class Dog(Animal):\n",
    "    def talk(self):\n",
    "        print('Woof')\n",
    "class Cat(Animal):\n",
    "    def talk(self):\n",
    "        print('MEOW!')\n",
    "c= Cat('kitty')\n",
    "c.talk()\n",
    "d=Dog(Animal)\n",
    "d.talk()"
   ]
  },
  {
   "cell_type": "code",
   "execution_count": 130,
   "metadata": {},
   "outputs": [],
   "source": [
    "# # types:\n",
    "#     duck typing\n",
    "#     operator overloading\n",
    "#     method overloading\n",
    "#     method overriding"
   ]
  },
  {
   "cell_type": "code",
   "execution_count": null,
   "metadata": {},
   "outputs": [],
   "source": []
  },
  {
   "cell_type": "code",
   "execution_count": 131,
   "metadata": {},
   "outputs": [],
   "source": [
    "class Pycharm:\n",
    "    def execute(self):\n",
    "        print(\"compiling\")\n",
    "        print(\"Running\")\n",
    "class MyEditior:\n",
    "    def execute(self):\n",
    "        print(\"spell cheking\")\n",
    "        print(\"convention check\")\n",
    "        print(\"compiling\")\n",
    "        print(\"Running\")\n",
    "class Laptop:\n",
    "    def code(self,ide):\n",
    "        ide.execute()"
   ]
  },
  {
   "cell_type": "code",
   "execution_count": 132,
   "metadata": {},
   "outputs": [],
   "source": [
    "ide=Pycharm()"
   ]
  },
  {
   "cell_type": "code",
   "execution_count": 133,
   "metadata": {},
   "outputs": [],
   "source": [
    "lap1=Laptop()"
   ]
  },
  {
   "cell_type": "code",
   "execution_count": 134,
   "metadata": {},
   "outputs": [
    {
     "name": "stdout",
     "output_type": "stream",
     "text": [
      "compiling\n",
      "Running\n"
     ]
    }
   ],
   "source": [
    "lap1.code(ide)"
   ]
  },
  {
   "cell_type": "code",
   "execution_count": 135,
   "metadata": {},
   "outputs": [],
   "source": [
    "ide=MyEditior()"
   ]
  },
  {
   "cell_type": "code",
   "execution_count": 136,
   "metadata": {},
   "outputs": [
    {
     "name": "stdout",
     "output_type": "stream",
     "text": [
      "spell cheking\n",
      "convention check\n",
      "compiling\n",
      "Running\n"
     ]
    }
   ],
   "source": [
    "lap1.code(ide)"
   ]
  },
  {
   "cell_type": "code",
   "execution_count": 137,
   "metadata": {},
   "outputs": [],
   "source": [
    "# operator overloading"
   ]
  },
  {
   "cell_type": "code",
   "execution_count": 61,
   "metadata": {},
   "outputs": [],
   "source": [
    "class Student:\n",
    "    def __init__(self,m1,m2):\n",
    "        self.m1=m1\n",
    "        self.m2=m2\n",
    "    def __add__(self,other):\n",
    "        m1=self.m1+other.m1\n",
    "        m2=self.m2+other.m2\n",
    "        s3=Student(m1,m2)\n",
    "        return s3"
   ]
  },
  {
   "cell_type": "code",
   "execution_count": 62,
   "metadata": {},
   "outputs": [],
   "source": [
    "s1=Student(2,3)\n",
    "s2=Student(4,5)"
   ]
  },
  {
   "cell_type": "code",
   "execution_count": 63,
   "metadata": {},
   "outputs": [],
   "source": [
    "s3=s1+s2"
   ]
  },
  {
   "cell_type": "code",
   "execution_count": 64,
   "metadata": {},
   "outputs": [
    {
     "data": {
      "text/plain": [
       "6"
      ]
     },
     "execution_count": 64,
     "metadata": {},
     "output_type": "execute_result"
    }
   ],
   "source": [
    "s3.m1"
   ]
  },
  {
   "cell_type": "markdown",
   "metadata": {},
   "source": []
  },
  {
   "cell_type": "code",
   "execution_count": 65,
   "metadata": {},
   "outputs": [],
   "source": [
    "class student1:\n",
    "    def __init__(self,m1,m2,m3):\n",
    "        self.m1=m1\n",
    "        self.m2=m2\n",
    "        self.m3=m3\n",
    "    def __add__(self,other):\n",
    "        x=self.m1+other.m1\n",
    "        y=self.m2+other.m2\n",
    "        z=self.m3+other.m3\n",
    "        return x,y,z"
   ]
  },
  {
   "cell_type": "code",
   "execution_count": 68,
   "metadata": {},
   "outputs": [],
   "source": [
    "s1=student1(1,2,3)\n",
    "s2=student1(4,5,6)"
   ]
  },
  {
   "cell_type": "code",
   "execution_count": 69,
   "metadata": {},
   "outputs": [
    {
     "name": "stdout",
     "output_type": "stream",
     "text": [
      "(5, 7, 9)\n"
     ]
    }
   ],
   "source": [
    "print(s1+s2)"
   ]
  },
  {
   "cell_type": "code",
   "execution_count": 42,
   "metadata": {},
   "outputs": [],
   "source": [
    "#method overriding"
   ]
  },
  {
   "cell_type": "code",
   "execution_count": 36,
   "metadata": {},
   "outputs": [],
   "source": [
    "def interchange(func):\n",
    "    def wrapper(a,b):\n",
    "        if b > a:\n",
    "            a,b=b,a\n",
    "        func(a,b)\n",
    "    return wrapper\n"
   ]
  },
  {
   "cell_type": "code",
   "execution_count": 37,
   "metadata": {},
   "outputs": [],
   "source": [
    "@interchange\n",
    "def getdiv(a,b):\n",
    "    print(a/b)"
   ]
  },
  {
   "cell_type": "code",
   "execution_count": 38,
   "metadata": {},
   "outputs": [
    {
     "name": "stdout",
     "output_type": "stream",
     "text": [
      "2.0\n"
     ]
    }
   ],
   "source": [
    "getdiv(4,2)"
   ]
  },
  {
   "cell_type": "code",
   "execution_count": 39,
   "metadata": {},
   "outputs": [
    {
     "name": "stdout",
     "output_type": "stream",
     "text": [
      "2.0\n"
     ]
    }
   ],
   "source": [
    "getdiv(2,4)"
   ]
  },
  {
   "cell_type": "code",
   "execution_count": null,
   "metadata": {},
   "outputs": [],
   "source": []
  }
 ],
 "metadata": {
  "kernelspec": {
   "display_name": "Python 3",
   "language": "python",
   "name": "python3"
  },
  "language_info": {
   "codemirror_mode": {
    "name": "ipython",
    "version": 3
   },
   "file_extension": ".py",
   "mimetype": "text/x-python",
   "name": "python",
   "nbconvert_exporter": "python",
   "pygments_lexer": "ipython3",
   "version": "3.8.10"
  }
 },
 "nbformat": 4,
 "nbformat_minor": 4
}
