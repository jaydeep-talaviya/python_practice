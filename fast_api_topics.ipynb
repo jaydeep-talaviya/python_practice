{
 "cells": [
  {
   "cell_type": "raw",
   "metadata": {},
   "source": [
    "# Here's a comprehensive list of FastAPI topics from basics to advanced:\n",
    "\n",
    "# ### Basic Topics\n",
    "# 1. **Introduction to FastAPI**\n",
    "#    - What is FastAPI?\n",
    "#    - Key features and benefits\n",
    "# 2. **Setting Up the Environment**\n",
    "#    - Installing FastAPI and Uvicorn\n",
    "#    - Creating a basic FastAPI project\n",
    "# 3. **Basic Routing**\n",
    "#    - Creating simple routes\n",
    "#    - Path parameters\n",
    "#    - Query parameters\n",
    "# 4. **Request Handling**\n",
    "#    - Request body\n",
    "#    - Form data\n",
    "#    - File uploads\n",
    "# 5. **Response Handling**\n",
    "#    - JSON responses\n",
    "#    - Custom response types\n",
    "#    - Response headers and cookies\n",
    "# 6. **Data Validation with Pydantic**\n",
    "#    - Creating Pydantic models\n",
    "#    - Validating request data\n",
    "# 7. **Dependency Injection**\n",
    "#    - Understanding dependencies\n",
    "#    - Using dependencies in routes\n",
    "# 8. **Handling Errors and Exceptions**\n",
    "#    - Custom error handling\n",
    "#    - HTTP exceptions\n",
    "\n",
    "# ### Intermediate Topics\n",
    "# 10. **Asynchronous Programming**\n",
    "#     - Introduction to async and await\n",
    "#     - Creating asynchronous routes\n",
    "# 11. **Database Integration**\n",
    "#     - Connecting to databases (SQLAlchemy, Tortoise-ORM, etc.)\n",
    "#     - CRUD operations\n",
    "# 12. **Authentication and Authorization**\n",
    "#     - Basic authentication\n",
    "#     - OAuth2 with JWT\n",
    "#     - Role-based access control\n",
    "# 13. **Middleware**\n",
    "#     - Creating and using middleware\n",
    "#     - Common middleware examples\n",
    "# 14. **Background Tasks**\n",
    "#     - Defining background tasks\n",
    "#     - Running tasks in the background\n",
    "# 15. **WebSockets**\n",
    "#     - Introduction to WebSockets\n",
    "#     - Implementing WebSocket endpoints\n",
    "# 16. **File Handling**\n",
    "#     - Uploading files\n",
    "#     - Serving static files\n",
    "\n",
    "# ### Advanced Topics\n",
    "# 17. **Testing FastAPI Applications**\n",
    "#     - Writing unit tests\n",
    "#     - Using TestClient for testing routes\n",
    "# 18. **Advanced Dependency Injection**\n",
    "#     - Dependency injection in depth\n",
    "#     - Managing complex dependencies\n",
    "# 19. **Advanced Pydantic Usage**\n",
    "#     - Pydantic validators\n",
    "#     - Custom data types and complex models\n",
    "# 20. **Security**\n",
    "#     - Advanced security features\n",
    "#     - Implementing security best practices\n",
    "# 21. **Performance Optimization**\n",
    "#     - Profiling FastAPI applications\n",
    "#     - Caching strategies\n",
    "# 22. **Deployment**\n",
    "#     - Deploying FastAPI with Docker\n",
    "#     - Deployment strategies on various platforms (Heroku, AWS, etc.)\n",
    "# 23. **Internationalization (i18n)**\n",
    "#     - Adding multi-language support\n",
    "#     - Localization practices\n",
    "# 24. **GraphQL Integration**\n",
    "#     - Using GraphQL with FastAPI\n",
    "#     - Building GraphQL APIs\n",
    "# 25. **API Documentation and OpenAPI**\n",
    "#     - Customizing API documentation\n",
    "#     - Using OpenAPI features\n",
    "\n",
    "# This list should provide a comprehensive roadmap for learning FastAPI from the basics to advanced levels."
   ]
  },
  {
   "cell_type": "markdown",
   "metadata": {},
   "source": [
    "**Introduction to FastAPI**"
   ]
  },
  {
   "cell_type": "markdown",
   "metadata": {},
   "source": [
    "FastAPI is a modern, fast (hence the name), web framework for building APIs with Python 3.7+ based on standard Python-type hints\n",
    "\n",
    "designed to create APIs quickly, efficiently, and with minimal code, using asynchronous programming features\n",
    "\n",
    "Python type hints for both request and response data validation\n",
    "\n",
    "FastAPI is based on ASGI (Asynchronous Server Gateway Interface), making it highly compatible with asynchronous operations\n",
    "\n"
   ]
  },
  {
   "cell_type": "markdown",
   "metadata": {},
   "source": [
    "**Benefits and Features of FastAPI**"
   ]
  },
  {
   "cell_type": "markdown",
   "metadata": {},
   "source": [
    "High Performance: is one of the fastest frameworks, comparable to NodeJS and Go, Handling a large number of concurrent requests efficiently\n",
    "\n",
    "Automatic Documentation:automatically generates interactive API documentation using Swagger UI and Redoc\n",
    "    \n",
    "Data Validation: relies on Pydantic for data validation. This ensures that all incoming data (like JSON payloads) is automatically validated based on the types specified in the code\n",
    "    \n",
    "Type Safety and Editor Support: uses type hints for defining request and response data models, which gives clear structure and aids in catching errors early\n",
    "    \n",
    "Asynchronous Support: on ASGI, FastAPI is inherently compatible with asynchronous programming. This allows developers to use async and await directly, which can lead to non-blocking code.\n",
    "    \n",
    "Ease of Use with Pydantic Models:  used in FastAPI for data validation, makes it easy to create schemas for both request and response bodies\n",
    "    \n",
    "Security and Dependency Injection: includes security tools and dependency injection, making it easier to add security layers (like OAuth2, JWT) and manage dependencies cleanly"
   ]
  },
  {
   "cell_type": "markdown",
   "metadata": {},
   "source": [
    "**Project Structure for a FastAPI Application**"
   ]
  },
  {
   "cell_type": "raw",
   "metadata": {},
   "source": [
    "my_fastapi_app \n",
    "├── app /\n",
    "│   ├── __init__.py /            # Makes 'app' a package\n",
    "│   ├── main.py  /               # Main entry point for the FastAPI app\n",
    "│   ├── routers /                # Folder for routers (routes organized by features)\n",
    "│   │   ├── __init__.py/\n",
    "│   │   ├── users.py /           # Routes related to user operations\n",
    "│   │   └── items.py  /          # Routes related to item operations\n",
    "│   ├── models/                 # Folder for database models\n",
    "│   │   ├── __init__.py/\n",
    "│   │   └── user.py   /          # User model\n",
    "│   ├── schemas/                # Folder for Pydantic schemas\n",
    "│   │   ├── __init__.py/\n",
    "│   │   └── user.py  /           # User schema (e.g., request and response bodies)\n",
    "│   ├── crud/                   # Folder for CRUD operations (database interactions)\n",
    "│   │   ├── __init__.py/\n",
    "│   │   └── user.py  /           # CRUD functions for users\n",
    "│   ├── config.py  /             # Configuration file (e.g., settings, environment variables)\n",
    "│   ├── database.py /            # Database connection setup\n",
    "└── tests/                      # Folder for unit and integration tests\n",
    "    ├── __init__.py/\n",
    "    └── test_users.py   /        # Example test for users endpoint\n"
   ]
  },
  {
   "cell_type": "markdown",
   "metadata": {},
   "source": [
    "**Basic Routing in FastAPI**\n",
    "\n",
    "FastAPI makes routing intuitive and flexible by allowing you to define routes for different HTTP methods (GET, POST, etc.) easily"
   ]
  },
  {
   "cell_type": "markdown",
   "metadata": {},
   "source": [
    "**Path Parameters**"
   ]
  },
  {
   "cell_type": "markdown",
   "metadata": {},
   "source": [
    "Path parameters are used to capture parts of the URL as variables, enabling you to create dynamic routes.\n",
    "\n",
    "@app.get(\"/items/{item_id}\")\\\n",
    "async def read_item(item_id: int):\\\n",
    "    \\return {\"item_id\": item_id}\n"
   ]
  },
  {
   "cell_type": "markdown",
   "metadata": {},
   "source": [
    "Additional Path Parameter Options: Path parameters can also have constraints, such as minimum or maximum values.\n",
    "\n",
    "from fastapi import Path\n",
    "\n",
    "@app.get(\"/users/{user_id}\")\\\n",
    "async def read_user(user_id: int = Path(..., ge=1, le=1000)):\\\n",
    "    return {\"user_id\": user_id}\n",
    "\n"
   ]
  },
  {
   "cell_type": "markdown",
   "metadata": {},
   "source": [
    "**Use Case**: path parameters are excellent for accessing specific resources, like retrieving a specific user (/users/{user_id}), or product by ID (/products/{product_id})."
   ]
  },
  {
   "cell_type": "markdown",
   "metadata": {},
   "source": [
    "**Query Parameters**\n",
    "\n",
    "Query parameters allow you to pass additional parameters in the URL after the ? symbol, typically used to filter, sort, or refine data requests.\n",
    "\n",
    "@app.get(\"/items/\")\\\n",
    "async def read_items(skip: int = 0, limit: int = 10):\\\n",
    "    return {\"skip\": skip, \"limit\": limit}\\\n"
   ]
  },
  {
   "cell_type": "markdown",
   "metadata": {},
   "source": [
    "You can use both path and query parameters in the same route.\n",
    "\n",
    "@app.get(\"/users/{user_id}/items/\")\\\n",
    "async def read_user_items(user_id: int, skip: int = 0, limit: int = 10):\\\n",
    "    return {\"user_id\": user_id, \"items\": [{\"item_id\": i} for i in range(skip, skip + limit)]}\n"
   ]
  },
  {
   "cell_type": "markdown",
   "metadata": {},
   "source": [
    "**Optional and Required Query Parameters**: You can make query parameters required by omitting default values.\n",
    "\n",
    "from fastapi import Query\n",
    "\n",
    "@app.get(\"/search/\")\\\n",
    "async def search_items(q: str = Query(..., min_length=3)):\\\n",
    "    return {\"search\": q}\n"
   ]
  },
  {
   "cell_type": "markdown",
   "metadata": {},
   "source": [
    "**Use Case**: Query parameters are ideal for refining data results without altering the URL structure. Common use cases include pagination (e.g., skip and limit), filtering data by specific attributes, or performing searches within a resource."
   ]
  },
  {
   "cell_type": "markdown",
   "metadata": {},
   "source": [
    "**Request Body**\n",
    "A request body is used when you need to send data to the server, typically in a POST or PUT request\n",
    " In FastAPI, you can define a request body by creating a Pydantic model, which will handle data validation, serialization, and documentation automatically."
   ]
  },
  {
   "cell_type": "raw",
   "metadata": {},
   "source": [
    "from fastapi import FastAPI\n",
    "from pydantic import BaseModel\n",
    "\n",
    "app = FastAPI()\n",
    "\n",
    "class Item(BaseModel):\n",
    "    name: str\n",
    "    description: str = None\n",
    "    price: float\n",
    "    tax: float = 0.0\n",
    "\n",
    "@app.post(\"/items/\")\n",
    "async def create_item(item: Item):\n",
    "    return {\"item_name\": item.name, \"item_price\": item.price}\n"
   ]
  },
  {
   "cell_type": "markdown",
   "metadata": {},
   "source": [
    "**Response Models**"
   ]
  },
  {
   "cell_type": "markdown",
   "metadata": {},
   "source": [
    "Response models define the structure of the response data sent back to the client. In FastAPI, you can use Pydantic models to enforce specific response formats, which ensures consistency and clarity in API responses."
   ]
  },
  {
   "cell_type": "raw",
   "metadata": {},
   "source": [
    "from pydantic import BaseModel\n",
    "\n",
    "class ItemResponse(BaseModel):\n",
    "    name: str\n",
    "    price: float\n",
    "\n",
    "@app.post(\"/items/\", response_model=ItemResponse)\n",
    "async def create_item(item: Item):\n",
    "    return item\n"
   ]
  },
  {
   "cell_type": "markdown",
   "metadata": {},
   "source": [
    "**Response Status Codes**\n",
    "\n",
    "HTTP status codes indicate the result of a request. FastAPI allows you to customize the response status code for each endpoint, making it easy to communicate request results."
   ]
  },
  {
   "cell_type": "raw",
   "metadata": {},
   "source": [
    "from fastapi import status\n",
    "\n",
    "@app.post(\"/items/\", status_code=status.HTTP_201_CREATED)\n",
    "async def create_item(item: Item):\n",
    "    return item\n"
   ]
  },
  {
   "cell_type": "markdown",
   "metadata": {},
   "source": [
    "**Using Status Codes in Responses**\n",
    "\n",
    "\n",
    "You can also set custom status codes within the function using Response.\n",
    "\n"
   ]
  },
  {
   "cell_type": "raw",
   "metadata": {},
   "source": [
    "from fastapi import HTTPException\n",
    "\n",
    "@app.get(\"/items/{item_id}\")\n",
    "async def read_item(item_id: int):\n",
    "    if item_id < 1:\n",
    "        raise HTTPException(status_code=status.HTTP_404_NOT_FOUND, detail=\"Item not found\")\n",
    "    return {\"item_id\": item_id}\n"
   ]
  },
  {
   "cell_type": "markdown",
   "metadata": {},
   "source": [
    "**Putting It All Together: Request Body, Response Model, and Status Code**\n",
    "\n",
    "@app.put(\"/items/{item_id}\", response_model=ItemResponse, status_code=status.HTTP_200_OK)\\\n",
    "async def update_item(item_id: int, item: Item):\\\n",
    "    # Logic to update the item\\\n",
    "    return item\\\n"
   ]
  },
  {
   "cell_type": "markdown",
   "metadata": {},
   "source": [
    "**Request Handling**"
   ]
  },
  {
   "cell_type": "markdown",
   "metadata": {},
   "source": [
    "**Request Body**"
   ]
  },
  {
   "cell_type": "markdown",
   "metadata": {},
   "source": [
    "**Defining a Request Body with Pydantic**\n"
   ]
  },
  {
   "cell_type": "markdown",
   "metadata": {},
   "source": [
    "request bodies are often used to send structured data (usually JSON) to the server. \n",
    "In FastAPI, Pydantic models are used to define the structure of the request body, \n",
    "ensuring validation and type safety."
   ]
  },
  {
   "cell_type": "raw",
   "metadata": {},
   "source": [
    "from fastapi import FastAPI\n",
    "from pydantic import BaseModel\n",
    "\n",
    "app = FastAPI()\n",
    "\n",
    "class Item(BaseModel):\n",
    "    name: str\n",
    "    description: str = None\n",
    "    price: float\n",
    "    in_stock: bool = True\n",
    "\n",
    "@app.post(\"/items/\")\n",
    "async def create_item(item: Item):\n",
    "    return {\"item_name\": item.name, \"item_price\": item.price, \"in_stock\": item.in_stock}\n"
   ]
  },
  {
   "cell_type": "markdown",
   "metadata": {},
   "source": [
    "**Form Data**"
   ]
  },
  {
   "cell_type": "markdown",
   "metadata": {},
   "source": [
    "Form data is commonly used in HTML forms and sent using application/x-www-form-urlencoded or multipart/form-data encoding. \n",
    "FastAPI allows handling form data through the Form dependency."
   ]
  },
  {
   "cell_type": "markdown",
   "metadata": {},
   "source": [
    "The Form dependency is used to extract form data from the request.\n",
    "\n",
    "from fastapi import Form\\\n",
    "\n",
    "@app.post(\"/submit/\")\\\n",
    "async def submit_form(username: str = Form(...), password: str = Form(...)):\\\n",
    "    return {\"username\": username}\\\n"
   ]
  },
  {
   "cell_type": "markdown",
   "metadata": {},
   "source": [
    "**File Uploads**"
   ]
  },
  {
   "cell_type": "markdown",
   "metadata": {},
   "source": [
    "Handling file uploads is crucial for many applications, such as profile picture uploads, document submissions, or media content. \n",
    "FastAPI provides built-in support for file uploads using the File dependency."
   ]
  },
  {
   "cell_type": "markdown",
   "metadata": {},
   "source": [
    "Files can be uploaded using the File class. \n",
    "To use it, you’ll also need the UploadFile type, \n",
    "which offers utilities for handling files, such as reading and saving them."
   ]
  },
  {
   "cell_type": "raw",
   "metadata": {},
   "source": [
    "from fastapi import File, UploadFile\n",
    "\n",
    "@app.post(\"/uploadfile/\")\n",
    "async def upload_file(file: UploadFile = File(...)):\n",
    "    return {\"filename\": file.filename}\n"
   ]
  },
  {
   "cell_type": "raw",
   "metadata": {},
   "source": [
    "You can also upload multiple files by using a List[UploadFile].\n",
    "\n",
    "from typing import List\n",
    "\n",
    "@app.post(\"/uploadfiles/\")\n",
    "async def upload_files(files: List[UploadFile] = File(...)):\n",
    "    return {\"filenames\": [file.filename for file in files]}\n"
   ]
  },
  {
   "cell_type": "markdown",
   "metadata": {},
   "source": [
    "**Response Handling in FastAPI**"
   ]
  },
  {
   "cell_type": "markdown",
   "metadata": {},
   "source": [
    "FastAPI provides a versatile approach to managing responses, with built-in support for JSON responses, custom response types, and ways to set headers and cookies"
   ]
  },
  {
   "cell_type": "markdown",
   "metadata": {},
   "source": [
    "**JSON Responses**\n",
    "\n",
    "JSON is the default response format in FastAPI. When you return a dictionary or a Pydantic model from an endpoint, FastAPI automatically converts it to JSON."
   ]
  },
  {
   "cell_type": "raw",
   "metadata": {},
   "source": [
    "from fastapi import FastAPI\n",
    "from pydantic import BaseModel\n",
    "\n",
    "app = FastAPI()\n",
    "\n",
    "class Item(BaseModel):\n",
    "    name: str\n",
    "    price: float\n",
    "    in_stock: bool\n",
    "\n",
    "@app.get(\"/items/{item_id}\", response_model=Item)\n",
    "async def read_item(item_id: int):\n",
    "    # This is a simulated database fetch\n",
    "    item = Item(name=\"Sample Item\", price=9.99, in_stock=True)\n",
    "    return item\n"
   ]
  },
  {
   "cell_type": "markdown",
   "metadata": {},
   "source": [
    "FastAPI supports various response types beyond JSON, such as plain text, HTML, or even raw file responses. The Response class and its subclasses (e.g., PlainTextResponse, HTMLResponse, FileResponse) allow you to return custom response formats"
   ]
  },
  {
   "cell_type": "raw",
   "metadata": {},
   "source": [
    "from fastapi.responses import PlainTextResponse\n",
    "\n",
    "@app.get(\"/text\", response_class=PlainTextResponse)\n",
    "async def get_text():\n",
    "    return \"Hello, FastAPI!\"\n"
   ]
  },
  {
   "cell_type": "raw",
   "metadata": {},
   "source": [
    "HTML Response\n",
    "\n",
    "from fastapi.responses import HTMLResponse\n",
    "\n",
    "@app.get(\"/html\", response_class=HTMLResponse)\n",
    "async def get_html():\n",
    "    html_content = \"<html><body><h1>Hello, FastAPI!</h1></body></html>\"\n",
    "    return html_content\n"
   ]
  },
  {
   "cell_type": "markdown",
   "metadata": {},
   "source": [
    "**Response Headers and Cookies**"
   ]
  },
  {
   "cell_type": "markdown",
   "metadata": {},
   "source": [
    "Headers and cookies are crucial for passing additional information in responses, such as metadata, authentication tokens, and session data."
   ]
  },
  {
   "cell_type": "raw",
   "metadata": {},
   "source": [
    "from fastapi import Response\n",
    "\n",
    "@app.get(\"/headers\")\n",
    "async def get_headers(response: Response):\n",
    "    response.headers[\"X-Custom-Header\"] = \"Custom header value\"\n",
    "    return {\"message\": \"Headers added\"}\n",
    "\n",
    "\n",
    "@app.get(\"/cookie\")\n",
    "async def set_cookie(response: Response):\n",
    "    response.set_cookie(key=\"session_id\", value=\"abc123\", httponly=True)\n",
    "    return {\"message\": \"Cookie set\"}\n"
   ]
  },
  {
   "cell_type": "markdown",
   "metadata": {},
   "source": [
    "**Data Validation with Pydantic in FastAPI**\n",
    "\n",
    "FastAPI uses Pydantic models to validate and serialize incoming request data, ensuring that data adheres to defined structures and types"
   ]
  },
  {
   "cell_type": "markdown",
   "metadata": {},
   "source": [
    "**1. Creating Pydantic Models**\n",
    "\n",
    "Pydantic models are classes that define the expected data structure for requests or responses. Each attribute in the model represents a field with a specified type, making validation and serialization automatic and ensuring type safety."
   ]
  },
  {
   "cell_type": "raw",
   "metadata": {},
   "source": [
    "from pydantic import BaseModel\n",
    "\n",
    "class User(BaseModel):\n",
    "    username: str\n",
    "    email: str\n",
    "    age: int\n",
    "    is_active: bool = True"
   ]
  },
  {
   "cell_type": "markdown",
   "metadata": {},
   "source": [
    "**2. Validating Request Data**\n",
    "Pydantic supports a wide range of field validation options to ensure data consistency, including type checks, regex patterns, constraints, and even custom validations.\n",
    "\n"
   ]
  },
  {
   "cell_type": "raw",
   "metadata": {},
   "source": [
    "from pydantic import BaseModel, Field\n",
    "\n",
    "class Product(BaseModel):\n",
    "    name: str = Field(..., min_length=3, max_length=50)\n",
    "    price: float = Field(..., gt=0)\n",
    "    description: str = Field(None, max_length=300)\n"
   ]
  },
  {
   "cell_type": "markdown",
   "metadata": {},
   "source": [
    "**3. Custom Validators**\n",
    "For more complex validations that cannot be handled by field constraints, Pydantic allows you to define custom validation methods using the @validator decorator.\n"
   ]
  },
  {
   "cell_type": "raw",
   "metadata": {},
   "source": [
    "from pydantic import BaseModel, validator\n",
    "\n",
    "class Item(BaseModel):\n",
    "    name: str\n",
    "    quantity: int\n",
    "\n",
    "    @validator(\"quantity\")\n",
    "    def check_quantity(cls, v):\n",
    "        if v <= 0:\n",
    "            raise ValueError(\"Quantity must be greater than zero\")\n",
    "        return v\n"
   ]
  },
  {
   "cell_type": "markdown",
   "metadata": {},
   "source": [
    "**4. Nested Models**\n",
    "\n",
    "allowing you to create complex data structures by embedding models within other models."
   ]
  },
  {
   "cell_type": "raw",
   "metadata": {},
   "source": [
    "class Address(BaseModel):\n",
    "    street: str\n",
    "    city: str\n",
    "    zipcode: str\n",
    "\n",
    "class User(BaseModel):\n",
    "    username: str\n",
    "    email: str\n",
    "    address: Address\n"
   ]
  },
  {
   "cell_type": "markdown",
   "metadata": {},
   "source": [
    "FastAPI leverages Pydantic to create clear, type-safe request models that automatically validate incoming data. Through field constraints, regex, and custom validators, FastAPI ensures data integrity without the need for custom validation code"
   ]
  },
  {
   "cell_type": "markdown",
   "metadata": {},
   "source": [
    "# Dependency Injection in FastAPI\n"
   ]
  },
  {
   "cell_type": "markdown",
   "metadata": {},
   "source": [
    "Dependency Injection (DI) is a design pattern where objects (dependencies) are provided to a function or class instead of being created or managed by them directly. FastAPI uses DI to handle common logic, like database access, authentication, or configuration sharing, in a clean and reusable way."
   ]
  },
  {
   "cell_type": "markdown",
   "metadata": {},
   "source": [
    "**1. Understanding Dependencies**\n",
    "\n",
    "In FastAPI, dependencies are functions or classes that are \"injected\" into routes or other dependencies. They allow you to:\n",
    "\n",
    "Share common logic across multiple endpoints.\\\n",
    "Ensure cleaner code by avoiding duplication.\\\n",
    "Manage resource initialization and cleanup (e.g., database connections)."
   ]
  },
  {
   "cell_type": "raw",
   "metadata": {},
   "source": [
    "from fastapi import Depends, FastAPI, Query\n",
    "\n",
    "app = FastAPI()\n",
    "\n",
    "# Dependency function with an argument\n",
    "def get_user_by_id(user_id: int = Query(..., description=\"The ID of the user\")):\n",
    "    # Simulate fetching a user from a database using the user_id\n",
    "    return {\"user_id\": user_id, \"username\": f\"user_{user_id}\"}\n",
    "\n",
    "@app.get(\"/user-profile/\")\n",
    "async def user_profile(user: dict = Depends(get_user_by_id)):\n",
    "    return {\"user_details\": user}\n",
    "\n",
    "\n",
    "**GET /user-profile/?user_id=42**\n"
   ]
  },
  {
   "cell_type": "markdown",
   "metadata": {},
   "source": [
    "**2. Using Dependencies in Routes**\\\n",
    "Dependencies can be applied at various levels in FastAPI:\n",
    "\n",
    "Per route: Attach dependencies to specific routes.\\\n",
    "Global: Attach dependencies to the entire application or a router.\n"
   ]
  },
  {
   "cell_type": "raw",
   "metadata": {},
   "source": [
    "from fastapi import Depends, FastAPI\n",
    "\n",
    "app = FastAPI()\n",
    "\n",
    "def is_admin_user():\n",
    "    return True  # In real-world cases, check user roles here\n",
    "\n",
    "@app.get(\"/admin/\")\n",
    "async def admin_dashboard(admin: bool = Depends(is_admin_user)):\n",
    "    if not admin:\n",
    "        return {\"error\": \"Not authorized\"}\n",
    "    return {\"message\": \"Welcome, Admin\"}\n"
   ]
  },
  {
   "cell_type": "markdown",
   "metadata": {},
   "source": [
    "**3. Reusing Dependencies**\n",
    "\n",
    "Dependencies can be reused across multiple routes, reducing redundant code"
   ]
  },
  {
   "cell_type": "raw",
   "metadata": {},
   "source": [
    "def get_db():\n",
    "    return {\"db\": \"connected\"}  # Simulated database connection\n",
    "\n",
    "@app.get(\"/items/\")\n",
    "async def read_items(db=Depends(get_db)):\n",
    "    return {\"db_status\": db}\n",
    "\n",
    "@app.get(\"/users/\")\n",
    "async def read_users(db=Depends(get_db)):\n",
    "    return {\"db_status\": db}"
   ]
  },
  {
   "cell_type": "markdown",
   "metadata": {},
   "source": [
    "**4. Class-Based Dependencies**\n",
    "\n",
    "You can use classes as dependencies for more complex logic. "
   ]
  },
  {
   "cell_type": "raw",
   "metadata": {},
   "source": [
    "class Config:\n",
    "    def __init__(self):\n",
    "        self.setting = \"Production\"\n",
    "\n",
    "def get_config():\n",
    "    return Config()\n",
    "\n",
    "@app.get(\"/config/\")\n",
    "async def read_config(config: Config = Depends(get_config)):\n",
    "    return {\"environment\": config.setting}\n"
   ]
  },
  {
   "cell_type": "markdown",
   "metadata": {},
   "source": [
    "**5. Dependency Lifespan**\n",
    "\n",
    "Dependencies can also handle setup and teardown using yield"
   ]
  },
  {
   "cell_type": "raw",
   "metadata": {},
   "source": [
    "async def get_db():\n",
    "    db = \"Connected to database\"\n",
    "    try:\n",
    "        yield db\n",
    "    finally:\n",
    "        print(\"Closing database connection\")\n",
    "\n",
    "@app.get(\"/data/\")\n",
    "async def get_data(db=Depends(get_db)):\n",
    "    return {\"db_status\": db}\n",
    "    \n",
    " \n",
    "yield allows the dependency to perform actions after the route finishes (e.g., closing the database connection).\n",
    "try-finally ensures cleanup happens regardless of errors.\n"
   ]
  },
  {
   "cell_type": "markdown",
   "metadata": {},
   "source": [
    "**6. Applying Dependencies Globally**\n",
    "\n",
    "You can attach dependencies to a router or the entire application.\n",
    "\n"
   ]
  },
  {
   "cell_type": "raw",
   "metadata": {},
   "source": [
    "def verify_token(token: str):\n",
    "    if token != \"valid-token\":\n",
    "        raise Exception(\"Invalid Token\")\n",
    "    return {\"user\": \"authenticated\"}\n",
    "\n",
    "@app.get(\"/secure/\", dependencies=[Depends(verify_token)])\n",
    "async def secure_route():\n",
    "    return {\"message\": \"Access granted\"}"
   ]
  },
  {
   "cell_type": "markdown",
   "metadata": {},
   "source": [
    "# Handling Errors and Exceptions in FastAPI\n",
    "\n",
    " FastAPI supports both default HTTP exceptions and custom error handling, making it easy to ensure consistent and user-friendly error messages.\n",
    "\n"
   ]
  },
  {
   "cell_type": "markdown",
   "metadata": {},
   "source": [
    "**1. HTTP Exceptions**\n",
    "\n",
    "class for raising standard HTTP errors"
   ]
  },
  {
   "cell_type": "raw",
   "metadata": {},
   "source": [
    "@app.get(\"/items/{item_id}\")\n",
    "async def read_item(item_id: int):\n",
    "    if item_id <= 0:\n",
    "        raise HTTPException(\n",
    "            status_code=400, detail=\"Item ID must be a positive integer\"\n",
    "        )\n",
    "    return {\"item_id\": item_id}"
   ]
  },
  {
   "cell_type": "markdown",
   "metadata": {},
   "source": [
    "**2. Custom Error Handling**\n",
    "\n",
    "FastAPI allows you to define custom exception handlers for specific exception types or all unhandled exceptions.\n",
    "\n"
   ]
  },
  {
   "cell_type": "raw",
   "metadata": {},
   "source": [
    "class CustomException(Exception):\n",
    "    def __init__(self, name: str):\n",
    "        self.name = name\n",
    "\n",
    "# Custom exception handler\n",
    "@app.exception_handler(CustomException)\n",
    "async def custom_exception_handler(request: Request, exc: CustomException):\n",
    "    return JSONResponse(\n",
    "        status_code=418,\n",
    "        content={\"message\": f\"Oops! {exc.name} caused a problem.\"},\n",
    "    )\n",
    "\n",
    "@app.get(\"/cause-error/\")\n",
    "async def cause_error(name: str):\n",
    "    if name == \"error\":\n",
    "        raise CustomException(name)\n",
    "    return {\"name\": name}"
   ]
  },
  {
   "cell_type": "markdown",
   "metadata": {},
   "source": [
    "# Asynchronous Programming in FastAPI"
   ]
  },
  {
   "cell_type": "markdown",
   "metadata": {},
   "source": [
    "Asynchronous programming allows applications to handle multiple tasks concurrently, improving performance and responsiveness, especially for I/O-bound tasks like database queries, HTTP requests, or file operations"
   ]
  },
  {
   "cell_type": "markdown",
   "metadata": {},
   "source": [
    "What are async and await?\\\n",
    "async: Marks a function as asynchronous, allowing it to run concurrently without blocking the execution of other tasks.\\\n",
    "await: Pauses the execution of an async function until the awaited task is completed. It can only be used inside async functions."
   ]
  },
  {
   "cell_type": "markdown",
   "metadata": {},
   "source": [
    "**Real-Life Use Cases for Asynchronous Routes**\n",
    "\n",
    "External API Calls:\\\n",
    "Async routes can fetch data from external APIs without blocking the server.\\\n",
    "Database Queries:\\\n",
    "Asynchronous query execution avoids blocking other requests.\\\n",
    "File Processing:\\\n",
    "Handle large file uploads/downloads without slowing down other tasks.\\\n",
    "Concurrent Operations:\\\n",
    "Parallel execution of tasks like sending multiple emails or processing multiple user requests.\\\n"
   ]
  },
  {
   "cell_type": "raw",
   "metadata": {},
   "source": [
    "import httpx\n",
    "\n",
    "@app.get(\"/external/\")\n",
    "async def call_external_api():\n",
    "    async with httpx.AsyncClient() as client:\n",
    "        response = await client.get(\"https://jsonplaceholder.typicode.com/posts\")\n",
    "    return {\"data\": response.json()}"
   ]
  },
  {
   "cell_type": "markdown",
   "metadata": {},
   "source": [
    "# Database Integration in FastAPI\n"
   ]
  },
  {
   "cell_type": "markdown",
   "metadata": {},
   "source": [
    " supports integration with various databases using ORMs (Object Relational Mappers) like SQLAlchemy, Tortoise-ORM, and others.\n",
    " \n",
    " ORMs simplify database interactions by allowing you to use Python objects to perform CRUD operations."
   ]
  },
  {
   "cell_type": "markdown",
   "metadata": {},
   "source": [
    "**1. Connecting to Databases**\n",
    "\n",
    "SQLAlchemy provides a flexible and powerful ORM for SQL databases. In FastAPI, you can use the SQLAlchemy ORM along with async support (introduced in SQLAlchemy 1.4+)."
   ]
  },
  {
   "cell_type": "raw",
   "metadata": {},
   "source": [
    "from sqlalchemy.ext.asyncio import AsyncSession, create_async_engine\n",
    "from sqlalchemy.orm import sessionmaker, declarative_base\n",
    "\n",
    "DATABASE_URL = \"sqlite+aiosqlite:///./test.db\"\n",
    "\n",
    "# Create the database engine\n",
    "engine = create_async_engine(DATABASE_URL, echo=True)\n",
    "\n",
    "# Define a session factory\n",
    "async_session = sessionmaker(\n",
    "    bind=engine, class_=AsyncSession, expire_on_commit=False\n",
    ")\n",
    "\n",
    "# Define a base class for ORM models\n",
    "Base = declarative_base()\n"
   ]
  },
  {
   "cell_type": "markdown",
   "metadata": {},
   "source": [
    "**2. CRUD Operations**\n",
    "\n",
    "CRUD (Create, Read, Update, Delete) operations are the backbone of database interaction. These operations are seamlessly supported using ORMs.\n",
    "\n"
   ]
  },
  {
   "cell_type": "raw",
   "metadata": {},
   "source": [
    "from sqlalchemy import Column, Integer, String\n",
    "\n",
    "class Item(Base):\n",
    "    __tablename__ = \"items\"\n",
    "    id = Column(Integer, primary_key=True, index=True)\n",
    "    name = Column(String, index=True)\n",
    "    description = Column(String, index=True)\n",
    "\n",
    "    \n",
    "from fastapi import FastAPI, Depends\n",
    "from sqlalchemy.ext.asyncio import AsyncSession\n",
    "\n",
    "app = FastAPI()\n",
    "\n",
    "@app.post(\"/items/\")\n",
    "async def create_item(\n",
    "    name: str, description: str, db: AsyncSession = Depends(async_session)\n",
    "):\n",
    "    new_item = Item(name=name, description=description)\n",
    "    db.add(new_item)\n",
    "    await db.commit()\n",
    "    await db.refresh(new_item)\n",
    "    return new_item\n",
    "\n",
    "@app.get(\"/items/\")\n",
    "async def read_items(db: AsyncSession = Depends(async_session)):\n",
    "    result = await db.execute(\"SELECT * FROM items\")\n",
    "    items = result.fetchall()\n",
    "    return items\n",
    "\n",
    "@app.delete(\"/items/{item_id}\")\n",
    "async def delete_item(item_id: int, db: AsyncSession = Depends(async_session)):\n",
    "    item = await db.get(Item, item_id)  # Fetch the item by ID\n",
    "    if not item:\n",
    "        return {\"error\": \"Item not found\"}\n",
    "    \n",
    "    await db.delete(item)  # Delete the object\n",
    "    await db.commit()  # Commit the transaction\n",
    "    return {\"message\": \"Item deleted successfully\"}"
   ]
  },
  {
   "cell_type": "markdown",
   "metadata": {},
   "source": [
    "# Authentication and Authorization in FastAPI\n",
    "\n",
    " provides built-in support for implementing authentication and authorization using tools like OAuth2, JWT, and custom mechanisms"
   ]
  },
  {
   "cell_type": "markdown",
   "metadata": {},
   "source": [
    "**1. Basic Authentication**\n",
    "\n",
    "Basic Authentication uses a username and password to authenticate a user. It sends these credentials encoded in Base64 with the request header.\\\n",
    "However, it's not secure without HTTPS and is typically replaced by more advanced methods in production"
   ]
  },
  {
   "cell_type": "raw",
   "metadata": {},
   "source": [
    "from fastapi import FastAPI, Depends, HTTPException, status\n",
    "from fastapi.security import HTTPBasic, HTTPBasicCredentials\n",
    "\n",
    "app = FastAPI()\n",
    "security = HTTPBasic()\n",
    "\n",
    "# In-memory \"user database\"\n",
    "users_db = {\"johndoe\": \"password123\"}\n",
    "\n",
    "@app.get(\"/basic-auth/\")\n",
    "async def basic_auth(credentials: HTTPBasicCredentials = Depends(security)):\n",
    "    username = credentials.username\n",
    "    password = credentials.password\n",
    "\n",
    "    # Verify credentials\n",
    "    if users_db.get(username) != password:\n",
    "        raise HTTPException(\n",
    "            status_code=status.HTTP_401_UNAUTHORIZED,\n",
    "            detail=\"Invalid credentials\",\n",
    "            headers={\"WWW-Authenticate\": \"Basic\"},\n",
    "        )\n",
    "    return {\"message\": f\"Welcome, {username}!\"}\n"
   ]
  },
  {
   "cell_type": "markdown",
   "metadata": {},
   "source": [
    "**2. OAuth2 with JWT**\n",
    "\n",
    "OAuth2 is a widely used authorization framework, and JWT (JSON Web Tokens) is a secure way to transmit information between parties.\\\n",
    "FastAPI provides OAuth2PasswordBearer for token-based authentication.\\\n",
    "\n",
    "Workflow:\n",
    "\n",
    "The user provides a username and password.\\\n",
    "A token is generated upon successful authentication.\\\n",
    "The token is used in subsequent requests for authorized access.\\"
   ]
  },
  {
   "cell_type": "raw",
   "metadata": {},
   "source": [
    "from fastapi import FastAPI, Depends, HTTPException, status\n",
    "from fastapi.security import OAuth2PasswordBearer, OAuth2PasswordRequestForm\n",
    "from jose import JWTError, jwt\n",
    "from datetime import datetime, timedelta\n",
    "from typing import Optional\n",
    "\n",
    "# Fake user database\n",
    "users_db = {\"johndoe\": {\"username\": \"johndoe\", \"password\": \"password123\"}}\n",
    "\n",
    "SECRET_KEY = \"secretkey\"  # Use a strong key in production\n",
    "ALGORITHM = \"HS256\"\n",
    "ACCESS_TOKEN_EXPIRE_MINUTES = 30\n",
    "\n",
    "app = FastAPI()\n",
    "oauth2_scheme = OAuth2PasswordBearer(tokenUrl=\"token\")\n",
    "\n",
    "# Utility function to authenticate user\n",
    "def authenticate_user(username: str, password: str):\n",
    "    user = users_db.get(username)\n",
    "    if user and user[\"password\"] == password:\n",
    "        return user\n",
    "    return None\n",
    "\n",
    "# Utility function to create JWT token\n",
    "def create_access_token(data: dict, expires_delta: Optional[timedelta] = None):\n",
    "    to_encode = data.copy()\n",
    "    expire = datetime.utcnow() + (expires_delta or timedelta(minutes=15))\n",
    "    to_encode.update({\"exp\": expire})\n",
    "    return jwt.encode(to_encode, SECRET_KEY, algorithm=ALGORITHM)\n",
    "\n",
    "@app.post(\"/token\")\n",
    "async def login(form_data: OAuth2PasswordRequestForm = Depends()):\n",
    "    user = authenticate_user(form_data.username, form_data.password)\n",
    "    if not user:\n",
    "        raise HTTPException(\n",
    "            status_code=status.HTTP_401_UNAUTHORIZED,\n",
    "            detail=\"Invalid username or password\",\n",
    "            headers={\"WWW-Authenticate\": \"Bearer\"},\n",
    "        )\n",
    "    access_token = create_access_token(data={\"sub\": user[\"username\"]})\n",
    "    return {\"access_token\": access_token, \"token_type\": \"bearer\"}\n",
    "\n",
    "@app.get(\"/protected/\")\n",
    "async def protected_route(token: str = Depends(oauth2_scheme)):\n",
    "    try:\n",
    "        payload = jwt.decode(token, SECRET_KEY, algorithms=[ALGORITHM])\n",
    "        username = payload.get(\"sub\")\n",
    "        if not username:\n",
    "            raise HTTPException(status_code=status.HTTP_401_UNAUTHORIZED)\n",
    "    except JWTError:\n",
    "        raise HTTPException(status_code=status.HTTP_401_UNAUTHORIZED)\n",
    "    return {\"message\": f\"Welcome, {username}!\"}\n"
   ]
  },
  {
   "cell_type": "markdown",
   "metadata": {},
   "source": [
    "**Role-Based Access Control (RBAC)**\n",
    "\n",
    "RBAC ensures users have access to resources based on their roles (e.g., admin, user, manager).\n",
    "\n"
   ]
  },
  {
   "cell_type": "raw",
   "metadata": {},
   "source": [
    "from fastapi import FastAPI, Depends, HTTPException\n",
    "\n",
    "app = FastAPI()\n",
    "\n",
    "# Fake user roles\n",
    "roles_db = {\"johndoe\": \"user\", \"admin\": \"admin\"}\n",
    "\n",
    "# Dependency to get the current user's role\n",
    "def get_current_role(token: str = Depends(oauth2_scheme)):\n",
    "    payload = jwt.decode(token, SECRET_KEY, algorithms=[ALGORITHM])\n",
    "    username = payload.get(\"sub\")\n",
    "    role = roles_db.get(username)\n",
    "    if not role:\n",
    "        raise HTTPException(status_code=403, detail=\"Role not found\")\n",
    "    return role\n",
    "\n",
    "# Protect routes with roles\n",
    "@app.get(\"/admin/\")\n",
    "async def admin_route(role: str = Depends(get_current_role)):\n",
    "    if role != \"admin\":\n",
    "        raise HTTPException(status_code=403, detail=\"Not authorized\")\n",
    "    return {\"message\": \"Welcome, admin!\"}\n"
   ]
  },
  {
   "cell_type": "markdown",
   "metadata": {},
   "source": [
    "# Middleware in FastAPI\n",
    "\n",
    "Middleware in FastAPI is a function that is executed before or after each request is processed. Middleware is used for tasks like request logging, modifying requests or responses, handling CORS (Cross-Origin Resource Sharing), managing authentication, and more."
   ]
  },
  {
   "cell_type": "markdown",
   "metadata": {},
   "source": [
    "**1. Creating and Using Middleware**\n",
    "\n",
    " middleware is implemented by subclassing the BaseHTTPMiddleware from starlette.middleware.base"
   ]
  },
  {
   "cell_type": "raw",
   "metadata": {},
   "source": [
    "from fastapi import FastAPI\n",
    "from starlette.middleware.base import BaseHTTPMiddleware\n",
    "from starlette.responses import JSONResponse\n",
    "import time\n",
    "\n",
    "# Create FastAPI instance\n",
    "app = FastAPI()\n",
    "\n",
    "# Custom Middleware Class\n",
    "class SimpleMiddleware(BaseHTTPMiddleware):\n",
    "    async def dispatch(self, request, call_next):\n",
    "        start_time = time.time()  # Measure request processing time\n",
    "        response = await call_next(request)  # Process the request\n",
    "        process_time = time.time() - start_time  # Calculate elapsed time\n",
    "        response.headers[\"X-Process-Time\"] = str(process_time)  # Add header with processing time\n",
    "        return response\n",
    "\n",
    "# Add middleware to FastAPI application\n",
    "app.add_middleware(SimpleMiddleware)\n",
    "\n",
    "# A sample route\n",
    "@app.get(\"/\")\n",
    "async def read_root():\n",
    "    return {\"message\": \"Hello, World!\"}\n"
   ]
  },
  {
   "cell_type": "markdown",
   "metadata": {},
   "source": [
    "**2. Common Middleware Examples**\n",
    "\n",
    "A common use of middleware is logging the details of each request for debugging, monitoring, or auditing purposes."
   ]
  },
  {
   "cell_type": "raw",
   "metadata": {},
   "source": [
    "from fastapi import FastAPI\n",
    "from starlette.middleware.base import BaseHTTPMiddleware\n",
    "import logging\n",
    "\n",
    "# Configure logging\n",
    "logging.basicConfig(level=logging.INFO)\n",
    "logger = logging.getLogger(\"uvicorn\")\n",
    "\n",
    "# Custom logging middleware\n",
    "class LoggingMiddleware(BaseHTTPMiddleware):\n",
    "    async def dispatch(self, request, call_next):\n",
    "        logger.info(f\"Request URL: {request.url}\")\n",
    "        logger.info(f\"Request Method: {request.method}\")\n",
    "        response = await call_next(request)\n",
    "        return response\n",
    "\n",
    "app = FastAPI()\n",
    "\n",
    "# Add logging middleware\n",
    "app.add_middleware(LoggingMiddleware)\n",
    "\n",
    "@app.get(\"/\")\n",
    "async def read_root():\n",
    "    return {\"message\": \"Logging middleware example\"}\n"
   ]
  },
  {
   "cell_type": "markdown",
   "metadata": {},
   "source": [
    "**Handling CORS (Cross-Origin Resource Sharing)**\n",
    "\n",
    "CORS middleware is often needed to enable cross-origin requests from other domains"
   ]
  },
  {
   "cell_type": "raw",
   "metadata": {},
   "source": [
    "from fastapi import FastAPI\n",
    "from starlette.middleware.cors import CORSMiddleware\n",
    "\n",
    "app = FastAPI()\n",
    "\n",
    "# Allow CORS for all domains\n",
    "app.add_middleware(\n",
    "    CORSMiddleware,\n",
    "    allow_origins=[\"*\"],  # Allows all domains\n",
    "    allow_credentials=True,\n",
    "    allow_methods=[\"*\"],  # Allows all HTTP methods\n",
    "    allow_headers=[\"*\"],  # Allows all headers\n",
    ")\n",
    "\n",
    "@app.get(\"/\")\n",
    "async def get_data():\n",
    "    return {\"message\": \"CORS enabled\"}\n"
   ]
  },
  {
   "cell_type": "markdown",
   "metadata": {},
   "source": [
    "**3. Middleware Stack**\n",
    "\n",
    "You can add multiple middleware to your FastAPI application. Middleware is executed in the order it is added to the app, so it's important to consider the order based on the required logic (e.g., CORS first, then logging)"
   ]
  },
  {
   "cell_type": "raw",
   "metadata": {},
   "source": [
    "from fastapi import FastAPI\n",
    "from starlette.middleware.base import BaseHTTPMiddleware\n",
    "\n",
    "app = FastAPI()\n",
    "\n",
    "# First Middleware (Logging)\n",
    "class LoggingMiddleware(BaseHTTPMiddleware):\n",
    "    async def dispatch(self, request, call_next):\n",
    "        print(f\"Request: {request.method} {request.url}\")\n",
    "        response = await call_next(request)\n",
    "        return response\n",
    "\n",
    "# Second Middleware (Error Handling)\n",
    "class ErrorHandlingMiddleware(BaseHTTPMiddleware):\n",
    "    async def dispatch(self, request, call_next):\n",
    "        try:\n",
    "            response = await call_next(request)\n",
    "            return response\n",
    "        except Exception as e:\n",
    "            return {\"error\": str(e)}\n",
    "\n",
    "# Adding middleware in order\n",
    "app.add_middleware(LoggingMiddleware)\n",
    "app.add_middleware(ErrorHandlingMiddleware)\n",
    "\n",
    "@app.get(\"/\")\n",
    "async def read_root():\n",
    "    return {\"message\": \"Hello, World!\"}\n"
   ]
  },
  {
   "cell_type": "code",
   "execution_count": null,
   "metadata": {},
   "outputs": [],
   "source": []
  }
 ],
 "metadata": {
  "kernelspec": {
   "display_name": "Python 3",
   "language": "python",
   "name": "python3"
  },
  "language_info": {
   "codemirror_mode": {
    "name": "ipython",
    "version": 3
   },
   "file_extension": ".py",
   "mimetype": "text/x-python",
   "name": "python",
   "nbconvert_exporter": "python",
   "pygments_lexer": "ipython3",
   "version": "3.8.10"
  }
 },
 "nbformat": 4,
 "nbformat_minor": 4
}
