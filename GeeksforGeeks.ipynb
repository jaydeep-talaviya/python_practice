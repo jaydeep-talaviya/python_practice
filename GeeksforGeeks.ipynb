{
 "cells": [
  {
   "cell_type": "code",
   "execution_count": 50,
   "metadata": {},
   "outputs": [],
   "source": [
    "# Convert array into Zig-Zag fashion\n"
   ]
  },
  {
   "cell_type": "code",
   "execution_count": 51,
   "metadata": {},
   "outputs": [],
   "source": [
    "a=[4, 3, 7, 8, 6, 2, 1]"
   ]
  },
  {
   "cell_type": "code",
   "execution_count": 54,
   "metadata": {},
   "outputs": [],
   "source": [
    "def zigzag(a,n):\n",
    "    for i in range(0,n-1):\n",
    "        if i%2==0:\n",
    "            if not a[i]<a[i+1]:\n",
    "                a[i+1],a[i]=a[i],a[i+1]\n",
    "        else:\n",
    "            if not a[i]>a[i+1]:\n",
    "                a[i],a[i+1]=a[i+1],a[i]\n",
    "    return a\n"
   ]
  },
  {
   "cell_type": "code",
   "execution_count": 55,
   "metadata": {},
   "outputs": [
    {
     "data": {
      "text/plain": [
       "[3, 7, 4, 8, 2, 6, 1]"
      ]
     },
     "execution_count": 55,
     "metadata": {},
     "output_type": "execute_result"
    }
   ],
   "source": [
    "n=len(a)\n",
    "zigzag(a,n)"
   ]
  },
  {
   "cell_type": "code",
   "execution_count": 56,
   "metadata": {},
   "outputs": [
    {
     "data": {
      "text/plain": [
       "[1, 4, 2, 3]"
      ]
     },
     "execution_count": 56,
     "metadata": {},
     "output_type": "execute_result"
    }
   ],
   "source": [
    "b=[1, 4, 3, 2]\n",
    "n=len(b)\n",
    "zigzag(b,n)"
   ]
  },
  {
   "cell_type": "code",
   "execution_count": 57,
   "metadata": {},
   "outputs": [],
   "source": [
    "# Subarray with given sum\n"
   ]
  },
  {
   "cell_type": "code",
   "execution_count": 281,
   "metadata": {},
   "outputs": [],
   "source": [
    "def subArraySum(a,n,sum1):\n",
    "    start=0\n",
    "    sum2=0\n",
    "    for end in range(0,n):\n",
    "        sum2+=a[end]\n",
    "        print(\"adding\",sum2,\">>\",a[end])\n",
    "        while sum2> sum1 and sum1:\n",
    "            sum2-=a[start]\n",
    "            print(\"removing\",sum2)\n",
    "\n",
    "            start+=1\n",
    "        if sum2==sum1:\n",
    "            return [start+1,end+1]\n",
    "    return [-1]\n",
    "    "
   ]
  },
  {
   "cell_type": "code",
   "execution_count": 282,
   "metadata": {},
   "outputs": [
    {
     "name": "stdout",
     "output_type": "stream",
     "text": [
      "adding 1 >> 1\n",
      "adding 3 >> 2\n",
      "adding 6 >> 3\n",
      "adding 13 >> 7\n",
      "removing 12\n"
     ]
    },
    {
     "data": {
      "text/plain": [
       "[2, 4]"
      ]
     },
     "execution_count": 282,
     "metadata": {},
     "output_type": "execute_result"
    }
   ],
   "source": [
    "a=[1,2,3,7,5]\n",
    "N = 5\n",
    "S = 12\n",
    "\n",
    "subArraySum(a,N,S)"
   ]
  },
  {
   "cell_type": "code",
   "execution_count": 283,
   "metadata": {},
   "outputs": [
    {
     "name": "stdout",
     "output_type": "stream",
     "text": [
      "adding 1 >> 1\n",
      "adding 3 >> 2\n",
      "adding 6 >> 3\n",
      "adding 10 >> 4\n",
      "adding 15 >> 5\n"
     ]
    },
    {
     "data": {
      "text/plain": [
       "[1, 5]"
      ]
     },
     "execution_count": 283,
     "metadata": {},
     "output_type": "execute_result"
    }
   ],
   "source": [
    "a=[1,2,3,4,5,6,7,8,9,10]\n",
    "N = 10\n",
    "S = 15\n",
    "subArraySum(a,N,S)"
   ]
  },
  {
   "cell_type": "code",
   "execution_count": 284,
   "metadata": {},
   "outputs": [],
   "source": [
    "N=42\n",
    "S=468\n",
    "a=[135,101,170,125,79,159,163,65,106,146,82,28,162,92,196,143,28,37,192,5,103,154,93,183,22,117,119,96,48,127,172,139,70,113,68,100,36,95,104,12,123,134]"
   ]
  },
  {
   "cell_type": "code",
   "execution_count": 285,
   "metadata": {},
   "outputs": [
    {
     "name": "stdout",
     "output_type": "stream",
     "text": [
      "adding 135 >> 135\n",
      "adding 236 >> 101\n",
      "adding 406 >> 170\n",
      "adding 531 >> 125\n",
      "removing 396\n",
      "adding 475 >> 79\n",
      "removing 374\n",
      "adding 533 >> 159\n",
      "removing 363\n",
      "adding 526 >> 163\n",
      "removing 401\n",
      "adding 466 >> 65\n",
      "adding 572 >> 106\n",
      "removing 493\n",
      "removing 334\n",
      "adding 480 >> 146\n",
      "removing 317\n",
      "adding 399 >> 82\n",
      "adding 427 >> 28\n",
      "adding 589 >> 162\n",
      "removing 524\n",
      "removing 418\n",
      "adding 510 >> 92\n",
      "removing 364\n",
      "adding 560 >> 196\n",
      "removing 478\n",
      "removing 450\n",
      "adding 593 >> 143\n",
      "removing 431\n",
      "adding 459 >> 28\n",
      "adding 496 >> 37\n",
      "removing 404\n",
      "adding 596 >> 192\n",
      "removing 400\n",
      "adding 405 >> 5\n",
      "adding 508 >> 103\n",
      "removing 365\n",
      "adding 519 >> 154\n",
      "removing 491\n",
      "removing 454\n",
      "adding 547 >> 93\n",
      "removing 355\n",
      "adding 538 >> 183\n",
      "removing 533\n",
      "removing 430\n",
      "adding 452 >> 22\n",
      "adding 569 >> 117\n",
      "removing 415\n",
      "adding 534 >> 119\n",
      "removing 441\n",
      "adding 537 >> 96\n",
      "removing 354\n",
      "adding 402 >> 48\n",
      "adding 529 >> 127\n",
      "removing 507\n",
      "removing 390\n",
      "adding 562 >> 172\n",
      "removing 443\n",
      "adding 582 >> 139\n",
      "removing 486\n",
      "removing 438\n",
      "adding 508 >> 70\n",
      "removing 381\n",
      "adding 494 >> 113\n",
      "removing 322\n",
      "adding 390 >> 68\n",
      "adding 490 >> 100\n",
      "removing 351\n",
      "adding 387 >> 36\n",
      "adding 482 >> 95\n",
      "removing 412\n",
      "adding 516 >> 104\n",
      "removing 403\n",
      "adding 415 >> 12\n",
      "adding 538 >> 123\n",
      "removing 470\n",
      "removing 370\n",
      "adding 504 >> 134\n",
      "removing 468\n"
     ]
    },
    {
     "data": {
      "text/plain": [
       "[38, 42]"
      ]
     },
     "execution_count": 285,
     "metadata": {},
     "output_type": "execute_result"
    }
   ],
   "source": [
    "subArraySum(a,N,S)"
   ]
  },
  {
   "cell_type": "code",
   "execution_count": 286,
   "metadata": {},
   "outputs": [
    {
     "name": "stdout",
     "output_type": "stream",
     "text": [
      "adding 1 >> 1\n",
      "adding 3 >> 2\n",
      "adding 6 >> 3\n",
      "adding 10 >> 4\n"
     ]
    },
    {
     "data": {
      "text/plain": [
       "[-1]"
      ]
     },
     "execution_count": 286,
     "metadata": {},
     "output_type": "execute_result"
    }
   ],
   "source": [
    "a=[1,2,3,4]\n",
    "N=4\n",
    "S=0\n",
    "subArraySum(a,N,S)"
   ]
  },
  {
   "cell_type": "code",
   "execution_count": 341,
   "metadata": {},
   "outputs": [],
   "source": [
    "# Uncommon characters\n",
    "# Given two strings A and B consisting of lowercase english characters. Find the characters that are not common in the two strings. \n",
    "\n",
    "A = 'geeksforgeeks'\n",
    "B = 'geeksquiz'"
   ]
  },
  {
   "cell_type": "code",
   "execution_count": 342,
   "metadata": {},
   "outputs": [],
   "source": [
    "def uncommonstring(A,B):\n",
    "    \n",
    "    strings=''\n",
    "    for i in A:\n",
    "        if i not in B and i not in strings:\n",
    "            strings+=i\n",
    "    print(strings)\n",
    "    for j in B:\n",
    "        if j not in A and j not in strings:\n",
    "            strings+=j\n",
    "    print(strings)\n",
    "    if strings:\n",
    "        return \"\".join(sorted(strings))  \n",
    "    else:\n",
    "        return -1"
   ]
  },
  {
   "cell_type": "code",
   "execution_count": 343,
   "metadata": {},
   "outputs": [
    {
     "name": "stdout",
     "output_type": "stream",
     "text": [
      "for\n",
      "forquiz\n"
     ]
    },
    {
     "data": {
      "text/plain": [
       "'fioqruz'"
      ]
     },
     "execution_count": 343,
     "metadata": {},
     "output_type": "execute_result"
    }
   ],
   "source": [
    "uncommonstring(A,B)"
   ]
  },
  {
   "cell_type": "code",
   "execution_count": 344,
   "metadata": {},
   "outputs": [
    {
     "name": "stdout",
     "output_type": "stream",
     "text": [
      "cr\n",
      "crlpb\n"
     ]
    },
    {
     "data": {
      "text/plain": [
       "'bclpr'"
      ]
     },
     "execution_count": 344,
     "metadata": {},
     "output_type": "execute_result"
    }
   ],
   "source": [
    "A = 'characters'\n",
    "B = 'alphabets'\n",
    "uncommonstring(A,B)"
   ]
  },
  {
   "cell_type": "code",
   "execution_count": 345,
   "metadata": {},
   "outputs": [
    {
     "name": "stdout",
     "output_type": "stream",
     "text": [
      "\n",
      "\n"
     ]
    },
    {
     "data": {
      "text/plain": [
       "-1"
      ]
     },
     "execution_count": 345,
     "metadata": {},
     "output_type": "execute_result"
    }
   ],
   "source": [
    "A=\"abc\"\n",
    "B=\"abc\"\n",
    "uncommonstring(A,B)"
   ]
  },
  {
   "cell_type": "code",
   "execution_count": 346,
   "metadata": {},
   "outputs": [
    {
     "name": "stdout",
     "output_type": "stream",
     "text": [
      "abcd\n",
      "abcdefgh\n"
     ]
    },
    {
     "data": {
      "text/plain": [
       "'abcdefgh'"
      ]
     },
     "execution_count": 346,
     "metadata": {},
     "output_type": "execute_result"
    }
   ],
   "source": [
    "A='abcd'\n",
    "B='efgh'\n",
    "uncommonstring(A,B)"
   ]
  },
  {
   "cell_type": "code",
   "execution_count": 347,
   "metadata": {},
   "outputs": [
    {
     "name": "stdout",
     "output_type": "stream",
     "text": [
      "\n",
      "\n"
     ]
    },
    {
     "data": {
      "text/plain": [
       "-1"
      ]
     },
     "execution_count": 347,
     "metadata": {},
     "output_type": "execute_result"
    }
   ],
   "source": [
    "A=\"aaaabbbb\"\n",
    "B=\"ab\"\n",
    "uncommonstring(A,B)"
   ]
  },
  {
   "cell_type": "code",
   "execution_count": 385,
   "metadata": {},
   "outputs": [],
   "source": [
    "# Implement strstr\n",
    "# Your task is to implement the function strstr. The function takes two strings as arguments (s,x) and  locates the occurrence of the string x in the string s. The function returns and integer denoting the first occurrence of the string x in s (0 based indexing).\n",
    "\n",
    "s = 'GeeksForGeeks'\n",
    "x = 'Fr'\n",
    "def strstr(s,x):\n",
    "    if x in s:\n",
    "        for i in range(len(s)):\n",
    "            if s[i] == x[0]:\n",
    "                temp=''\n",
    "                start = 0\n",
    "                found=True\n",
    "                while start < len(x) :\n",
    "                    temp+=s[i+start]\n",
    "                    start+=1\n",
    "                if temp == x:\n",
    "                    return i\n",
    "    return -1"
   ]
  },
  {
   "cell_type": "code",
   "execution_count": 386,
   "metadata": {},
   "outputs": [
    {
     "data": {
      "text/plain": [
       "-1"
      ]
     },
     "execution_count": 386,
     "metadata": {},
     "output_type": "execute_result"
    }
   ],
   "source": [
    "strstr(s,x)"
   ]
  },
  {
   "cell_type": "code",
   "execution_count": 387,
   "metadata": {},
   "outputs": [
    {
     "data": {
      "text/plain": [
       "5"
      ]
     },
     "execution_count": 387,
     "metadata": {},
     "output_type": "execute_result"
    }
   ],
   "source": [
    "s = 'GeeksForGeeks'\n",
    "x = 'For'\n",
    "strstr(s,x)"
   ]
  },
  {
   "cell_type": "code",
   "execution_count": 569,
   "metadata": {},
   "outputs": [],
   "source": [
    "# Rotate Bits\n",
    "# Given an integer N and an integer D, rotate the binary representation of the integer N by D digits to the left as well as right and print the results in decimal values after each of the rotation.\n",
    "N = 28\n",
    "D = 2\n"
   ]
  },
  {
   "cell_type": "code",
   "execution_count": 570,
   "metadata": {},
   "outputs": [],
   "source": [
    "def rotate(N,D):\n",
    "    binary_val = bin(N)[2:]\n",
    "    binary_val=\"0\"*(16-len(binary_val))+binary_val\n",
    "    print(binary_val)\n",
    "    left_rotate=binary_val[D%16:]+binary_val[0:D%16]\n",
    "    print(left_rotate)\n",
    "    right_rotate = binary_val[-D%16:]+binary_val[:-D%16]\n",
    "    print(int(left_rotate,2),int(right_rotate,2))"
   ]
  },
  {
   "cell_type": "code",
   "execution_count": 571,
   "metadata": {},
   "outputs": [
    {
     "name": "stdout",
     "output_type": "stream",
     "text": [
      "0000000000011100\n",
      "0000000001110000\n",
      "0000000000000111\n",
      "112 7\n"
     ]
    }
   ],
   "source": [
    "rotate(N,D)"
   ]
  },
  {
   "cell_type": "code",
   "execution_count": 572,
   "metadata": {},
   "outputs": [
    {
     "name": "stdout",
     "output_type": "stream",
     "text": [
      "0000000000011101\n",
      "0000000001110100\n",
      "0100000000000111\n",
      "116 16391\n"
     ]
    }
   ],
   "source": [
    "N = 29\n",
    "D = 2\n",
    "rotate(N,D)"
   ]
  },
  {
   "cell_type": "code",
   "execution_count": 573,
   "metadata": {},
   "outputs": [
    {
     "name": "stdout",
     "output_type": "stream",
     "text": [
      "0000000101011111\n",
      "0000010101111100\n",
      "1100000001010111\n",
      "1404 49239\n"
     ]
    }
   ],
   "source": [
    "N=351\n",
    "D=18\n",
    "rotate(N,D)"
   ]
  },
  {
   "cell_type": "code",
   "execution_count": 574,
   "metadata": {},
   "outputs": [
    {
     "data": {
      "text/plain": [
       "'0000000101011111'"
      ]
     },
     "execution_count": 574,
     "metadata": {},
     "output_type": "execute_result"
    }
   ],
   "source": [
    "binary_val = bin(N)[2:]\n",
    "binary_val=\"0\"*(16-len(binary_val))+binary_val\n",
    "binary_val"
   ]
  },
  {
   "cell_type": "code",
   "execution_count": 559,
   "metadata": {},
   "outputs": [
    {
     "name": "stdout",
     "output_type": "stream",
     "text": [
      "1 0\n",
      "000000101011111\n",
      "2 1\n",
      "000001010111110\n",
      "3 2\n",
      "000010101111100\n",
      "4 3\n",
      "000101011111000\n",
      "5 4\n",
      "001010111110000\n",
      "6 5\n",
      "010101111100000\n",
      "7 6\n",
      "101011111000000\n",
      "8 7\n",
      "010111110000000\n",
      "9 8\n",
      "101111100000001\n",
      "10 9\n",
      "011111000000010\n",
      "11 10\n",
      "111110000000101\n",
      "12 11\n",
      "111100000001010\n",
      "13 12\n",
      "111000000010101\n",
      "14 13\n",
      "110000000101011\n",
      "15 14\n",
      "100000001010111\n",
      "16 15\n",
      "000000010101111\n",
      "17 16\n",
      "0000000101011111\n",
      "18 17\n",
      "0000000101011111\n"
     ]
    }
   ],
   "source": [
    "\n",
    "for i in range(0,18):\n",
    "    print(i+1,i)\n",
    "    print(binary_val[i+1:]+binary_val[0:i])"
   ]
  },
  {
   "cell_type": "code",
   "execution_count": 655,
   "metadata": {},
   "outputs": [],
   "source": [
    "N = 1\n",
    "def isPowerofTwo(n):\n",
    "    print(\">>>input \",n)\n",
    "    if n == 1:\n",
    "        return 'YES'\n",
    "    while (n/2)%2==0 and n >=2:\n",
    "        n=n/2\n",
    "        print(n)\n",
    "    else:\n",
    "        if n==2:\n",
    "            print(\">>>\",n)\n",
    "\n",
    "            return 'YES'\n",
    "        else:\n",
    "            return 'NO'\n",
    "            "
   ]
  },
  {
   "cell_type": "code",
   "execution_count": 656,
   "metadata": {},
   "outputs": [
    {
     "name": "stdout",
     "output_type": "stream",
     "text": [
      ">>>input  2\n",
      ">>> 2\n"
     ]
    },
    {
     "data": {
      "text/plain": [
       "'YES'"
      ]
     },
     "execution_count": 656,
     "metadata": {},
     "output_type": "execute_result"
    }
   ],
   "source": [
    "isPowerofTwo(2)"
   ]
  },
  {
   "cell_type": "code",
   "execution_count": 657,
   "metadata": {},
   "outputs": [
    {
     "name": "stdout",
     "output_type": "stream",
     "text": [
      ">>>input  98\n"
     ]
    },
    {
     "data": {
      "text/plain": [
       "'NO'"
      ]
     },
     "execution_count": 657,
     "metadata": {},
     "output_type": "execute_result"
    }
   ],
   "source": [
    "isPowerofTwo(98)"
   ]
  },
  {
   "cell_type": "code",
   "execution_count": 658,
   "metadata": {},
   "outputs": [
    {
     "name": "stdout",
     "output_type": "stream",
     "text": [
      ">>>input  8\n",
      "4.0\n",
      "2.0\n",
      ">>> 2.0\n"
     ]
    },
    {
     "data": {
      "text/plain": [
       "'YES'"
      ]
     },
     "execution_count": 658,
     "metadata": {},
     "output_type": "execute_result"
    }
   ],
   "source": [
    "isPowerofTwo(8)"
   ]
  },
  {
   "cell_type": "code",
   "execution_count": 659,
   "metadata": {},
   "outputs": [
    {
     "name": "stdout",
     "output_type": "stream",
     "text": [
      ">>>input  11\n"
     ]
    },
    {
     "data": {
      "text/plain": [
       "'NO'"
      ]
     },
     "execution_count": 659,
     "metadata": {},
     "output_type": "execute_result"
    }
   ],
   "source": [
    "isPowerofTwo(11)"
   ]
  },
  {
   "cell_type": "code",
   "execution_count": 660,
   "metadata": {},
   "outputs": [
    {
     "name": "stdout",
     "output_type": "stream",
     "text": [
      ">>>input  1002\n"
     ]
    },
    {
     "data": {
      "text/plain": [
       "'NO'"
      ]
     },
     "execution_count": 660,
     "metadata": {},
     "output_type": "execute_result"
    }
   ],
   "source": [
    "isPowerofTwo(1002)"
   ]
  },
  {
   "cell_type": "code",
   "execution_count": 661,
   "metadata": {},
   "outputs": [
    {
     "name": "stdout",
     "output_type": "stream",
     "text": [
      ">>>input  23\n"
     ]
    },
    {
     "data": {
      "text/plain": [
       "'NO'"
      ]
     },
     "execution_count": 661,
     "metadata": {},
     "output_type": "execute_result"
    }
   ],
   "source": [
    "isPowerofTwo(23)"
   ]
  },
  {
   "cell_type": "code",
   "execution_count": 662,
   "metadata": {},
   "outputs": [
    {
     "name": "stdout",
     "output_type": "stream",
     "text": [
      ">>>input  33\n"
     ]
    },
    {
     "data": {
      "text/plain": [
       "'NO'"
      ]
     },
     "execution_count": 662,
     "metadata": {},
     "output_type": "execute_result"
    }
   ],
   "source": [
    "isPowerofTwo(33)"
   ]
  },
  {
   "cell_type": "code",
   "execution_count": 668,
   "metadata": {},
   "outputs": [],
   "source": [
    "# Bit Difference\n",
    "# You are given two numbers A and B. The task is to count the number of bits needed to be flipped to convert A to B.\n"
   ]
  },
  {
   "cell_type": "code",
   "execution_count": 729,
   "metadata": {},
   "outputs": [],
   "source": [
    "def countBitsFlip(A,B):\n",
    "    a_bin=bin(A)[2:]\n",
    "    print(a_bin)\n",
    "\n",
    "    a_bin=\"0\"*(32-len(a_bin))+a_bin\n",
    "    print(a_bin)\n",
    "    b_bin=bin(B)[2:]\n",
    "    b_bin=\"0\"*(32-len(b_bin))+b_bin\n",
    "    print(b_bin)\n",
    "\n",
    "    change=0\n",
    "    for i in range(0,len(b_bin)):\n",
    "        change+=int(a_bin[i]!=b_bin[i])\n",
    "    return change"
   ]
  },
  {
   "cell_type": "code",
   "execution_count": 730,
   "metadata": {},
   "outputs": [
    {
     "name": "stdout",
     "output_type": "stream",
     "text": [
      "1010\n",
      "00000000000000000000000000001010\n",
      "00000000000000000000000000010100\n"
     ]
    },
    {
     "data": {
      "text/plain": [
       "4"
      ]
     },
     "execution_count": 730,
     "metadata": {},
     "output_type": "execute_result"
    }
   ],
   "source": [
    "A=10\n",
    "B=20\n",
    "countBitsFlip(A,B)"
   ]
  },
  {
   "cell_type": "code",
   "execution_count": 731,
   "metadata": {},
   "outputs": [
    {
     "name": "stdout",
     "output_type": "stream",
     "text": [
      "10100\n",
      "00000000000000000000000000010100\n",
      "00000000000000000000000000011001\n"
     ]
    },
    {
     "data": {
      "text/plain": [
       "3"
      ]
     },
     "execution_count": 731,
     "metadata": {},
     "output_type": "execute_result"
    }
   ],
   "source": [
    "A=20\n",
    "B=25\n",
    "countBitsFlip(A,B)"
   ]
  },
  {
   "cell_type": "code",
   "execution_count": 732,
   "metadata": {},
   "outputs": [
    {
     "name": "stdout",
     "output_type": "stream",
     "text": [
      "101010010001111010\n",
      "00000000000000101010010001111010\n",
      "00000000000000000111101010100110\n"
     ]
    },
    {
     "data": {
      "text/plain": [
       "12"
      ]
     },
     "execution_count": 732,
     "metadata": {},
     "output_type": "execute_result"
    }
   ],
   "source": [
    "A=173178\n",
    "B=31398\n",
    "countBitsFlip(A,B)"
   ]
  },
  {
   "cell_type": "code",
   "execution_count": 734,
   "metadata": {},
   "outputs": [],
   "source": [
    "# Number is sparse or not\n",
    "#Given a number N. The task is to check whether it is sparse or not. A number is said to be a sparse number if no two or more consecutive bits are set in the binary representation."
   ]
  },
  {
   "cell_type": "code",
   "execution_count": 757,
   "metadata": {},
   "outputs": [],
   "source": [
    "def isSparse(n):\n",
    "    a_bin=bin(n)[2:]\n",
    "    if not (a_bin.count(\"00\")>=2 or a_bin.count(\"11\") >= 2):\n",
    "        return 1\n",
    "    else:\n",
    "        return 0"
   ]
  },
  {
   "cell_type": "code",
   "execution_count": 758,
   "metadata": {},
   "outputs": [
    {
     "data": {
      "text/plain": [
       "1"
      ]
     },
     "execution_count": 758,
     "metadata": {},
     "output_type": "execute_result"
    }
   ],
   "source": [
    "N = 2\n",
    "isSparse(N)"
   ]
  },
  {
   "cell_type": "code",
   "execution_count": 759,
   "metadata": {},
   "outputs": [
    {
     "data": {
      "text/plain": [
       "1"
      ]
     },
     "execution_count": 759,
     "metadata": {},
     "output_type": "execute_result"
    }
   ],
   "source": [
    "N = 3\n",
    "isSparse(N)"
   ]
  },
  {
   "cell_type": "code",
   "execution_count": 746,
   "metadata": {},
   "outputs": [
    {
     "data": {
      "text/plain": [
       "0"
      ]
     },
     "execution_count": 746,
     "metadata": {},
     "output_type": "execute_result"
    }
   ],
   "source": [
    "N = 4\n",
    "isSparse(N)"
   ]
  },
  {
   "cell_type": "code",
   "execution_count": 747,
   "metadata": {},
   "outputs": [
    {
     "data": {
      "text/plain": [
       "1"
      ]
     },
     "execution_count": 747,
     "metadata": {},
     "output_type": "execute_result"
    }
   ],
   "source": [
    "N = 5\n",
    "isSparse(N)"
   ]
  },
  {
   "cell_type": "code",
   "execution_count": 750,
   "metadata": {},
   "outputs": [
    {
     "data": {
      "text/plain": [
       "'0b101001'"
      ]
     },
     "execution_count": 750,
     "metadata": {},
     "output_type": "execute_result"
    }
   ],
   "source": [
    "bin(41)"
   ]
  },
  {
   "cell_type": "code",
   "execution_count": 751,
   "metadata": {},
   "outputs": [
    {
     "data": {
      "text/plain": [
       "0"
      ]
     },
     "execution_count": 751,
     "metadata": {},
     "output_type": "execute_result"
    }
   ],
   "source": [
    "N = 41\n",
    "isSparse(N)"
   ]
  },
  {
   "cell_type": "code",
   "execution_count": 769,
   "metadata": {},
   "outputs": [],
   "source": [
    "def isSparse(n):\n",
    "    a_bin=bin(n)[2:]\n",
    "    if a_bin.count(\"00\")==0 or a_bin.count(\"11\")==0:\n",
    "        print(a_bin.count(\"00\"),a_bin.count(\"11\"))\n",
    "        return 1\n",
    "    else:\n",
    "        return 0"
   ]
  },
  {
   "cell_type": "code",
   "execution_count": 770,
   "metadata": {},
   "outputs": [
    {
     "name": "stdout",
     "output_type": "stream",
     "text": [
      "1 0\n"
     ]
    },
    {
     "data": {
      "text/plain": [
       "1"
      ]
     },
     "execution_count": 770,
     "metadata": {},
     "output_type": "execute_result"
    }
   ],
   "source": [
    "N = 41\n",
    "isSparse(N)\n"
   ]
  },
  {
   "cell_type": "code",
   "execution_count": 771,
   "metadata": {},
   "outputs": [
    {
     "data": {
      "text/plain": [
       "0"
      ]
     },
     "execution_count": 771,
     "metadata": {},
     "output_type": "execute_result"
    }
   ],
   "source": [
    "N = 2\n",
    "isSparse(N)"
   ]
  },
  {
   "cell_type": "code",
   "execution_count": 772,
   "metadata": {},
   "outputs": [
    {
     "name": "stdout",
     "output_type": "stream",
     "text": [
      "0 1\n"
     ]
    },
    {
     "data": {
      "text/plain": [
       "1"
      ]
     },
     "execution_count": 772,
     "metadata": {},
     "output_type": "execute_result"
    }
   ],
   "source": [
    "N = 3\n",
    "isSparse(N)"
   ]
  },
  {
   "cell_type": "code",
   "execution_count": 806,
   "metadata": {},
   "outputs": [],
   "source": [
    "N = 10 \n",
    "K = 2\n",
    "\n",
    "def setKthBit(N,K):\n",
    "    a_bin=bin(N)[2:]\n",
    "    a_bin=\"0\"*(32-len(a_bin))+a_bin\n",
    "    right_side_index=len(a_bin)-K-1\n",
    "    a_bin = a_bin[0:right_side_index]+\"1\"+a_bin[right_side_index+1:]\n",
    "    return int(a_bin,2)"
   ]
  },
  {
   "cell_type": "code",
   "execution_count": 807,
   "metadata": {},
   "outputs": [
    {
     "name": "stdout",
     "output_type": "stream",
     "text": [
      "1010\n",
      "00000000000000000000000000001010\n",
      "29\n",
      "00000000000000000000000000001110\n"
     ]
    },
    {
     "data": {
      "text/plain": [
       "14"
      ]
     },
     "execution_count": 807,
     "metadata": {},
     "output_type": "execute_result"
    }
   ],
   "source": [
    "setKthBit(N,K)"
   ]
  },
  {
   "cell_type": "code",
   "execution_count": 808,
   "metadata": {},
   "outputs": [
    {
     "name": "stdout",
     "output_type": "stream",
     "text": [
      "1111\n",
      "00000000000000000000000000001111\n",
      "28\n",
      "00000000000000000000000000001111\n"
     ]
    },
    {
     "data": {
      "text/plain": [
       "15"
      ]
     },
     "execution_count": 808,
     "metadata": {},
     "output_type": "execute_result"
    }
   ],
   "source": [
    "N = 15 \n",
    "K = 3\n",
    "setKthBit(N,K)"
   ]
  },
  {
   "cell_type": "code",
   "execution_count": 809,
   "metadata": {},
   "outputs": [],
   "source": [
    "# # Toggle bits given range\n",
    "# Given a non-negative number N and two values L and R. The problem is to toggle the bits in the range L to R in the binary representation of N, i.e, to toggle bits from the rightmost Lth bit to the rightmost Rth bit. A toggle operation flips a bit 0 to 1 and a bit 1 to 0. Print N after the bits are toggled.\n",
    "\n",
    " "
   ]
  },
  {
   "cell_type": "code",
   "execution_count": 874,
   "metadata": {},
   "outputs": [],
   "source": [
    "N = 17\n",
    "L = 2\n",
    "R = 3\n",
    "def toggleBits(N , L , R):\n",
    "    a_bin=bin(N)[2:]\n",
    "    a_bin=\"0\"*(32-len(a_bin))+a_bin\n",
    "    print(a_bin)\n",
    "\n",
    "    left_side_index = len(a_bin)-L-1\n",
    "    print(left_side_index)\n",
    "\n",
    "    right_side_index=len(a_bin)-R\n",
    "    print(right_side_index)\n",
    "    print(a_bin[0:left_side_index],\"\".join([i.replace(\"0\",\"1\") if i =='0' else i.replace(\"1\",\"0\") for i in a_bin[left_side_index:right_side_index+1].replace(\"0\",\"1\")]),a_bin[right_side_index+1:])\n",
    "    a_bin = a_bin[0:left_side_index]+a_bin[left_side_index:right_side_index].replace(\"0\",\"1\")+a_bin[right_side_index:]\n",
    "    return a_bin"
   ]
  },
  {
   "cell_type": "code",
   "execution_count": 875,
   "metadata": {},
   "outputs": [
    {
     "name": "stdout",
     "output_type": "stream",
     "text": [
      "00000000000000000000000000010001\n",
      "29\n",
      "29\n",
      "00000000000000000000000000010 0 01\n"
     ]
    },
    {
     "data": {
      "text/plain": [
       "'00000000000000000000000000010001'"
      ]
     },
     "execution_count": 875,
     "metadata": {},
     "output_type": "execute_result"
    }
   ],
   "source": [
    "toggleBits(N,L,R)"
   ]
  },
  {
   "cell_type": "code",
   "execution_count": 880,
   "metadata": {},
   "outputs": [
    {
     "data": {
      "text/plain": [
       "['0', '1', '0', '1']"
      ]
     },
     "execution_count": 880,
     "metadata": {},
     "output_type": "execute_result"
    }
   ],
   "source": [
    "[i.replace(\"0\",\"1\") if i =='0' else i.replace(\"1\",\"0\") for i in \"1010\"]"
   ]
  },
  {
   "cell_type": "code",
   "execution_count": null,
   "metadata": {},
   "outputs": [],
   "source": []
  },
  {
   "cell_type": "code",
   "execution_count": null,
   "metadata": {},
   "outputs": [],
   "source": []
  }
 ],
 "metadata": {
  "kernelspec": {
   "display_name": "Python 3 (ipykernel)",
   "language": "python",
   "name": "python3"
  },
  "language_info": {
   "codemirror_mode": {
    "name": "ipython",
    "version": 3
   },
   "file_extension": ".py",
   "mimetype": "text/x-python",
   "name": "python",
   "nbconvert_exporter": "python",
   "pygments_lexer": "ipython3",
   "version": "3.8.10"
  }
 },
 "nbformat": 4,
 "nbformat_minor": 4
}
